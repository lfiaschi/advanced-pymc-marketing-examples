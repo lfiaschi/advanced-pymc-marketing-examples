{
 "cells": [
  {
   "cell_type": "markdown",
   "metadata": {},
   "source": [
    "# Minimal Media Mix Model Example\n",
    "\n",
    "This notebook demonstrates fitting a minimal Media Mix Model (MMM) using PyMC-Marketing with default parameters on synthetic marketing data.\n",
    "\n",
    "## Dataset Overview\n",
    "\n",
    "The dataset contains:\n",
    "- **Time period**: 104 weeks (2 years) from 2020-01-05 to 2021-12-26\n",
    "- **Marketing channels**: Search Ads, Social Media, Local Ads, Email\n",
    "- **Control variables**: Event (c1), Sale (c2)\n",
    "- **Target**: Weekly sales (y)\n",
    "\n",
    "See `DATA.md` for complete dataset documentation."
   ]
  },
  {
   "cell_type": "markdown",
   "metadata": {},
   "source": [
    "## Setup"
   ]
  },
  {
   "cell_type": "code",
   "execution_count": null,
   "metadata": {},
   "outputs": [],
   "source": [
    "from pathlib import Path\n",
    "\n",
    "import polars as pl\n",
    "from pymc_marketing.mmm import MMM, GeometricAdstock, LogisticSaturation\n",
    "from rich import print as rprint\n",
    "from rich.console import Console\n",
    "from rich.table import Table"
   ]
  },
  {
   "cell_type": "markdown",
   "metadata": {},
   "source": [
    "## Load Data\n",
    "\n",
    "Load the main MMM dataset using Polars for efficient data handling."
   ]
  },
  {
   "cell_type": "code",
   "execution_count": null,
   "metadata": {},
   "outputs": [],
   "source": "def load_mmm_data(data_path: str | Path) -> pl.DataFrame:\n    \"\"\"Load MMM data from CSV file.\n    \n    Args:\n        data_path: Path to the mmm_data.csv file\n        \n    Returns:\n        Polars DataFrame with parsed date column\n    \"\"\"\n    return pl.read_csv(data_path).with_columns(\n        pl.col(\"date\").str.to_date()\n    )\n\n\n# Load the data\ndata_path = Path(\"../data/mmm-simple/mmm_data.csv\")\ndf = load_mmm_data(data_path)\n\nrprint(f\"[bold green]Data loaded successfully[/bold green]\")\nrprint(f\"Shape: {df.shape[0]} rows × {df.shape[1]} columns\")\nrprint(f\"Date range: {df['date'].min()} to {df['date'].max()}\")"
  },
  {
   "cell_type": "markdown",
   "metadata": {},
   "source": [
    "## Data Preview"
   ]
  },
  {
   "cell_type": "code",
   "execution_count": null,
   "metadata": {},
   "outputs": [],
   "source": [
    "def display_data_preview(df: pl.DataFrame, n_rows: int = 5) -> None:\n",
    "    \"\"\"Display data preview using Rich table.\n",
    "    \n",
    "    Args:\n",
    "        df: Input DataFrame\n",
    "        n_rows: Number of rows to display\n",
    "    \"\"\"\n",
    "    console = Console()\n",
    "    table = Table(title=\"MMM Data Preview\", show_header=True, header_style=\"bold magenta\")\n",
    "    \n",
    "    # Add columns\n",
    "    for col in df.columns:\n",
    "        table.add_column(col)\n",
    "    \n",
    "    # Add rows\n",
    "    for row in df.head(n_rows).iter_rows():\n",
    "        table.add_row(*[str(val) for val in row])\n",
    "    \n",
    "    console.print(table)\n",
    "\n",
    "\n",
    "display_data_preview(df)"
   ]
  },
  {
   "cell_type": "markdown",
   "metadata": {},
   "source": [
    "## Data Summary Statistics"
   ]
  },
  {
   "cell_type": "code",
   "execution_count": null,
   "metadata": {},
   "outputs": [],
   "source": [
    "def display_summary_stats(df: pl.DataFrame) -> None:\n",
    "    \"\"\"Display summary statistics for numeric columns.\n",
    "    \n",
    "    Args:\n",
    "        df: Input DataFrame\n",
    "    \"\"\"\n",
    "    # Select numeric columns (excluding date and geo)\n",
    "    numeric_cols = [col for col in df.columns if col not in [\"date\", \"geo\"]]\n",
    "    \n",
    "    stats = df.select(numeric_cols).describe()\n",
    "    \n",
    "    console = Console()\n",
    "    table = Table(title=\"Summary Statistics\", show_header=True, header_style=\"bold cyan\")\n",
    "    \n",
    "    # Add columns\n",
    "    table.add_column(\"Statistic\")\n",
    "    for col in stats.columns:\n",
    "        table.add_column(col)\n",
    "    \n",
    "    # Add rows\n",
    "    for row in stats.iter_rows():\n",
    "        table.add_row(*[f\"{val:.2f}\" if isinstance(val, float) else str(val) for val in row])\n",
    "    \n",
    "    console.print(table)\n",
    "\n",
    "\n",
    "display_summary_stats(df)"
   ]
  },
  {
   "cell_type": "markdown",
   "metadata": {},
   "source": [
    "## Prepare Data for MMM\n",
    "\n",
    "Convert to pandas DataFrame (required by PyMC-Marketing) and define channel columns."
   ]
  },
  {
   "cell_type": "code",
   "execution_count": null,
   "metadata": {},
   "outputs": [],
   "source": [
    "# Convert to pandas (PyMC-Marketing currently requires pandas)\n",
    "df_pandas = df.to_pandas()\n",
    "\n",
    "# Define model inputs\n",
    "channel_columns = [\n",
    "    \"x1_Search-Ads\",\n",
    "    \"x2_Social-Media\",\n",
    "    \"x3_Local-Ads\",\n",
    "    \"x4_Email\"\n",
    "]\n",
    "\n",
    "control_columns = [\"c1\", \"c2\"]\n",
    "\n",
    "rprint(\"[bold blue]Model Configuration:[/bold blue]\")\n",
    "rprint(f\"Target column: [yellow]y[/yellow]\")\n",
    "rprint(f\"Date column: [yellow]date[/yellow]\")\n",
    "rprint(f\"Channel columns: [yellow]{channel_columns}[/yellow]\")\n",
    "rprint(f\"Control columns: [yellow]{control_columns}[/yellow]\")"
   ]
  },
  {
   "cell_type": "markdown",
   "metadata": {},
   "source": [
    "## Initialize MMM Model\n",
    "\n",
    "Create an `MMM` model with default geometric adstock and logistic saturation."
   ]
  },
  {
   "cell_type": "code",
   "execution_count": null,
   "metadata": {},
   "outputs": [],
   "source": [
    "def create_mmm_model(\n",
    "    date_column: str,\n",
    "    channel_columns: list[str],\n",
    "    control_columns: list[str],\n",
    "    adstock_max_lag: int = 8,\n",
    "    yearly_seasonality: int = 2\n",
    ") -> MMM:\n",
    "    \"\"\"Create an MMM model instance.\n",
    "    \n",
    "    Args:\n",
    "        date_column: Name of date column\n",
    "        channel_columns: List of marketing channel column names\n",
    "        control_columns: List of control variable column names\n",
    "        adstock_max_lag: Maximum lag for adstock transformation\n",
    "        yearly_seasonality: Number of Fourier modes for yearly seasonality\n",
    "        \n",
    "    Returns:\n",
    "        Initialized MMM model instance\n",
    "    \"\"\"\n",
    "    return MMM(\n",
    "        date_column=date_column,\n",
    "        channel_columns=channel_columns,\n",
    "        control_columns=control_columns,\n",
    "        adstock=GeometricAdstock(l_max=adstock_max_lag),\n",
    "        saturation=LogisticSaturation(),\n",
    "        yearly_seasonality=yearly_seasonality\n",
    "    )\n",
    "\n",
    "\n",
    "# Initialize model\n",
    "mmm = create_mmm_model(\n",
    "    date_column=\"date\",\n",
    "    channel_columns=channel_columns,\n",
    "    control_columns=control_columns,\n",
    "    adstock_max_lag=8,\n",
    "    yearly_seasonality=2\n",
    ")\n",
    "\n",
    "rprint(\"[bold green]MMM model initialized successfully[/bold green]\")"
   ]
  },
  {
   "cell_type": "markdown",
   "metadata": {},
   "source": [
    "## Fit the Model\n",
    "\n",
    "Fit the MMM model using MCMC sampling with default parameters.\n",
    "\n",
    "**Note**: This may take several minutes depending on your hardware."
   ]
  },
  {
   "cell_type": "code",
   "execution_count": null,
   "metadata": {},
   "outputs": [],
   "source": [
    "import pandas as pd\n",
    "\n",
    "\n",
    "def fit_mmm(\n",
    "    model: MMM,\n",
    "    X: pd.DataFrame,\n",
    "    y: pd.Series,\n",
    "    draws: int = 1000,\n",
    "    tune: int = 1000,\n",
    "    chains: int = 2,\n",
    "    random_seed: int = 42\n",
    ") -> None:\n",
    "    \"\"\"Fit MMM model to data.\n",
    "    \n",
    "    Args:\n",
    "        model: MMM model instance\n",
    "        X: Input features DataFrame\n",
    "        y: Target variable Series\n",
    "        draws: Number of MCMC draws per chain\n",
    "        tune: Number of tuning steps\n",
    "        chains: Number of MCMC chains\n",
    "        random_seed: Random seed for reproducibility\n",
    "    \"\"\"\n",
    "    rprint(\"[bold yellow]Starting model fitting...[/bold yellow]\")\n",
    "    rprint(f\"Draws: {draws}, Tune: {tune}, Chains: {chains}\")\n",
    "    \n",
    "    model.fit(\n",
    "        X=X,\n",
    "        y=y,\n",
    "        draws=draws,\n",
    "        tune=tune,\n",
    "        chains=chains,\n",
    "        random_seed=random_seed\n",
    "    )\n",
    "    \n",
    "    rprint(\"[bold green]Model fitting completed successfully![/bold green]\")\n",
    "\n",
    "\n",
    "# Prepare X and y\n",
    "X = df_pandas.drop(columns=[\"y\"])\n",
    "y = df_pandas[\"y\"]\n",
    "\n",
    "# Fit the model\n",
    "fit_mmm(\n",
    "    model=mmm,\n",
    "    X=X,\n",
    "    y=y,\n",
    "    draws=1000,\n",
    "    tune=1000,\n",
    "    chains=2,\n",
    "    random_seed=42\n",
    ")"
   ]
  },
  {
   "cell_type": "markdown",
   "metadata": {},
   "source": [
    "## Model Summary\n",
    "\n",
    "Display model fit summary statistics."
   ]
  },
  {
   "cell_type": "code",
   "execution_count": null,
   "metadata": {},
   "outputs": [],
   "source": [
    "import arviz as az\n",
    "\n",
    "\n",
    "def display_fit_summary(model: MMM) -> None:\n",
    "    \"\"\"Display model fit summary.\n",
    "    \n",
    "    Args:\n",
    "        model: Fitted MMM model\n",
    "    \"\"\"\n",
    "    summary = az.summary(model.idata)\n",
    "    rprint(\"[bold magenta]Model Fit Summary:[/bold magenta]\")\n",
    "    rprint(summary)\n",
    "\n",
    "\n",
    "display_fit_summary(mmm)"
   ]
  },
  {
   "cell_type": "markdown",
   "metadata": {},
   "source": [
    "## Channel Contributions\n",
    "\n",
    "Compute channel contributions over time."
   ]
  },
  {
   "cell_type": "code",
   "execution_count": null,
   "metadata": {},
   "outputs": [],
   "source": [
    "def compute_channel_contributions(model: MMM) -> pd.DataFrame:\n",
    "    \"\"\"Compute mean channel contributions over time in original scale.\n",
    "    \n",
    "    Args:\n",
    "        model: Fitted MMM model\n",
    "        \n",
    "    Returns:\n",
    "        DataFrame with channel contributions in original scale\n",
    "    \"\"\"\n",
    "    contributions = model.compute_mean_contributions_over_time(original_scale=True)\n",
    "    rprint(\"[bold green]Channel contributions computed (original scale)[/bold green]\")\n",
    "    return contributions\n",
    "\n",
    "\n",
    "contributions = compute_channel_contributions(mmm)\n",
    "rprint(contributions.head())"
   ]
  },
  {
   "cell_type": "markdown",
   "metadata": {},
   "source": [
    "## Compute ROAS\n",
    "\n",
    "Calculate Return on Ad Spend (ROAS) for each channel and compare with ground truth."
   ]
  },
  {
   "cell_type": "code",
   "execution_count": null,
   "metadata": {},
   "outputs": [],
   "source": "import json\n\n\ndef compute_and_compare_roas(\n    contributions: pd.DataFrame,\n    channel_spend: pd.DataFrame,\n    channel_columns: list[str],\n    ground_truth_path: str | Path\n) -> None:\n    \"\"\"Compute ROAS and compare with ground truth.\n    \n    Args:\n        contributions: DataFrame with channel contributions\n        channel_spend: DataFrame with channel spend data\n        channel_columns: List of channel column names\n        ground_truth_path: Path to ground truth parameters JSON\n    \"\"\"\n    # Compute ROAS: total contribution / total spend\n    total_contributions = contributions[channel_columns].sum()\n    total_spend = channel_spend[channel_columns].sum()\n    roas = total_contributions / total_spend\n    \n    # Load ground truth\n    with open(ground_truth_path) as f:\n        ground_truth = json.load(f)\n    \n    true_roas = ground_truth[\"roas_values\"][\"Local\"]\n    \n    # Create comparison table\n    console = Console()\n    table = Table(\n        title=\"ROAS Comparison: Estimated vs Ground Truth\",\n        show_header=True,\n        header_style=\"bold green\"\n    )\n    \n    table.add_column(\"Channel\", style=\"cyan\")\n    table.add_column(\"Estimated ROAS\", justify=\"right\")\n    table.add_column(\"True ROAS\", justify=\"right\")\n    table.add_column(\"Error %\", justify=\"right\")\n    \n    for channel in channel_columns:\n        # Extract base channel name (remove x1_, x2_, etc. prefix)\n        channel_name = channel.split('_', 1)[1] if '_' in channel else channel\n        \n        est_val = roas[channel]\n        true_val = true_roas.get(channel_name, 0.0)\n        error_pct = ((est_val - true_val) / true_val * 100) if true_val != 0 else 0.0\n        \n        table.add_row(\n            channel_name,\n            f\"{est_val:.2f}\",\n            f\"{true_val:.2f}\",\n            f\"{error_pct:+.1f}%\"\n        )\n    \n    console.print(table)\n\n\n# Compute and compare ROAS\nground_truth_path = Path(\"../data/mmm-simple/ground_truth_parameters.json\")\ncompute_and_compare_roas(\n    contributions=contributions,\n    channel_spend=df_pandas,\n    channel_columns=channel_columns,\n    ground_truth_path=ground_truth_path\n)"
  },
  {
   "cell_type": "markdown",
   "metadata": {},
   "source": [
    "## Model Diagnostics\n",
    "\n",
    "Plot trace plots and posterior distributions for key parameters."
   ]
  },
  {
   "cell_type": "code",
   "execution_count": null,
   "metadata": {},
   "outputs": [],
   "source": [
    "import arviz as az\n",
    "import matplotlib.pyplot as plt\n",
    "\n",
    "\n",
    "def plot_trace_diagnostics(model: MMM) -> None:\n",
    "    \"\"\"Plot MCMC trace diagnostics.\n",
    "    \n",
    "    Args:\n",
    "        model: Fitted MMM model\n",
    "    \"\"\"\n",
    "    rprint(\"[bold blue]Plotting trace diagnostics...[/bold blue]\")\n",
    "    \n",
    "    # Plot trace for key parameters\n",
    "    az.plot_trace(\n",
    "        model.idata,\n",
    "        var_names=[\"intercept\", \"beta_channel\", \"likelihood_sigma\"],\n",
    "        compact=True,\n",
    "        figsize=(12, 8)\n",
    "    )\n",
    "    plt.tight_layout()\n",
    "    plt.show()\n",
    "\n",
    "\n",
    "plot_trace_diagnostics(mmm)"
   ]
  },
  {
   "cell_type": "markdown",
   "metadata": {},
   "source": [
    "## Save Model\n",
    "\n",
    "Save the fitted model for later use."
   ]
  },
  {
   "cell_type": "code",
   "execution_count": null,
   "metadata": {},
   "outputs": [],
   "source": [
    "def save_model(model: MMM, output_path: str | Path) -> None:\n",
    "    \"\"\"Save fitted model to disk.\n",
    "    \n",
    "    Args:\n",
    "        model: Fitted MMM model\n",
    "        output_path: Path to save model\n",
    "    \"\"\"\n",
    "    output_path = Path(output_path)\n",
    "    output_path.parent.mkdir(parents=True, exist_ok=True)\n",
    "    \n",
    "    model.save(str(output_path))\n",
    "    rprint(f\"[bold green]Model saved to {output_path}[/bold green]\")\n",
    "\n",
    "\n",
    "# Save model\n",
    "model_output_path = Path(\"../models/mmm_minimal_default.nc\")\n",
    "save_model(mmm, model_output_path)"
   ]
  },
  {
   "cell_type": "markdown",
   "metadata": {},
   "source": [
    "## Summary\n",
    "\n",
    "This notebook demonstrated:\n",
    "\n",
    "1. Loading synthetic MMM data with Polars\n",
    "2. Initializing an `MMM` model with GeometricAdstock and LogisticSaturation\n",
    "3. Fitting the model using MCMC sampling\n",
    "4. Computing channel contributions and ROAS\n",
    "5. Comparing estimated ROAS with ground truth values\n",
    "6. Visualizing model diagnostics\n",
    "7. Saving the fitted model\n",
    "\n",
    "### Next Steps\n",
    "\n",
    "- Experiment with different priors and model configurations\n",
    "- Optimize hyperparameters using Optuna\n",
    "- Analyze adstock and saturation parameters\n",
    "- Perform out-of-sample validation"
   ]
  }
 ],
 "metadata": {
  "kernelspec": {
   "display_name": "Python 3",
   "language": "python",
   "name": "python3"
  },
  "language_info": {
   "codemirror_mode": {
    "name": "ipython",
    "version": 3
   },
   "file_extension": ".py",
   "mimetype": "text/x-python",
   "name": "python",
   "nbconvert_exporter": "python",
   "pygments_lexer": "ipython3",
   "version": "3.12.0"
  }
 },
 "nbformat": 4,
 "nbformat_minor": 4
}
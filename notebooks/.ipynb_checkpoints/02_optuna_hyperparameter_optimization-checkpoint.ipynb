{
 "cells": [
  {
   "cell_type": "markdown",
   "metadata": {},
   "source": [
    "# Hyperparameter Optimization with Optuna\n",
    "\n",
    "This notebook demonstrates optimizing MMM hyperparameters using Optuna:\n",
    "- `yearly_seasonality`: Number of Fourier modes for seasonal patterns (1-10)\n",
    "- `adstock_max_lag`: Maximum lag for adstock transformation (4-12 weeks)\n",
    "\n",
    "We use **WAIC (Widely Applicable Information Criterion)** as the objective function to minimize.\n",
    "WAIC balances model fit and complexity, making it ideal for Bayesian model selection.\n",
    "\n",
    "## Optimization Strategy\n",
    "\n",
    "1. **Sequential trials** (no parallel optimization to avoid PyMC parallelism conflicts)\n",
    "2. **NumPyro sampler** for significantly faster MCMC sampling (2-10x speedup)\n",
    "3. **Convergence checks** to ensure WAIC is only computed from valid posterior samples\n",
    "4. **Reduced MCMC sampling** during optimization (500 draws/tune for speed)\n",
    "5. **Final refit** with optimal parameters using full sampling (2000 draws/tune)\n",
    "6. **Optuna pruning** to skip trials that fail convergence checks\n",
    "\n",
    "## NumPyro Sampler\n",
    "\n",
    "[NumPyro](https://num.pyro.ai/) is a JAX-based probabilistic programming library that provides:\n",
    "- **2-10x faster sampling** compared to PyMC's default sampler\n",
    "- GPU acceleration support (if JAX is configured for GPU)\n",
    "- Identical posterior results to PyMC's sampler\n",
    "\n",
    "To switch between samplers, change `USE_NUMPYRO` in the configuration cell.\n",
    "\n",
    "### Available Samplers:\n",
    "- `\"numpyro\"` - JAX-based, fastest (recommended)\n",
    "- `\"pymc\"` - PyMC default sampler\n",
    "- `\"blackjax\"` - Alternative JAX-based sampler\n",
    "- `\"nutpie\"` - Rust-based implementation"
   ]
  },
  {
   "cell_type": "markdown",
   "metadata": {},
   "source": [
    "## Setup"
   ]
  },
  {
   "cell_type": "code",
   "execution_count": 1,
   "metadata": {},
   "outputs": [],
   "source": [
    "from pathlib import Path\n",
    "from typing import Any\n",
    "\n",
    "import optuna\n",
    "import pandas as pd\n",
    "import polars as pl\n",
    "from pymc_marketing.mmm import MMM, GeometricAdstock, LogisticSaturation\n",
    "from rich import print as rprint\n",
    "from rich.console import Console\n",
    "from rich.table import Table\n",
    "from rich.progress import Progress, SpinnerColumn, TextColumn"
   ]
  },
  {
   "cell_type": "markdown",
   "metadata": {},
   "source": [
    "## Configuration"
   ]
  },
  {
   "cell_type": "code",
   "execution_count": 32,
   "metadata": {},
   "outputs": [
    {
     "data": {
      "text/html": [
       "<pre style=\"white-space:pre;overflow-x:auto;line-height:normal;font-family:Menlo,'DejaVu Sans Mono',consolas,'Courier New',monospace\"><span style=\"color: #000080; text-decoration-color: #000080; font-weight: bold\">Configuration:</span>\n",
       "</pre>\n"
      ],
      "text/plain": [
       "\u001b[1;34mConfiguration:\u001b[0m\n"
      ]
     },
     "metadata": {},
     "output_type": "display_data"
    },
    {
     "data": {
      "text/html": [
       "<pre style=\"white-space:pre;overflow-x:auto;line-height:normal;font-family:Menlo,'DejaVu Sans Mono',consolas,'Courier New',monospace\">Number of trials: <span style=\"color: #008080; text-decoration-color: #008080; font-weight: bold\">20</span>\n",
       "</pre>\n"
      ],
      "text/plain": [
       "Number of trials: \u001b[1;36m20\u001b[0m\n"
      ]
     },
     "metadata": {},
     "output_type": "display_data"
    },
    {
     "data": {
      "text/html": [
       "<pre style=\"white-space:pre;overflow-x:auto;line-height:normal;font-family:Menlo,'DejaVu Sans Mono',consolas,'Courier New',monospace\">NUTS sampler: <span style=\"color: #808000; text-decoration-color: #808000\">numpyro</span> <span style=\"font-weight: bold\">(</span>NumPyro - faster!<span style=\"font-weight: bold\">)</span>\n",
       "</pre>\n"
      ],
      "text/plain": [
       "NUTS sampler: \u001b[33mnumpyro\u001b[0m \u001b[1m(\u001b[0mNumPyro - faster!\u001b[1m)\u001b[0m\n"
      ]
     },
     "metadata": {},
     "output_type": "display_data"
    },
    {
     "data": {
      "text/html": [
       "<pre style=\"white-space:pre;overflow-x:auto;line-height:normal;font-family:Menlo,'DejaVu Sans Mono',consolas,'Courier New',monospace\">Optimization MCMC: <span style=\"color: #008080; text-decoration-color: #008080; font-weight: bold\">500</span> draws, <span style=\"color: #008080; text-decoration-color: #008080; font-weight: bold\">500</span> tune, <span style=\"color: #008080; text-decoration-color: #008080; font-weight: bold\">2</span> chains\n",
       "</pre>\n"
      ],
      "text/plain": [
       "Optimization MCMC: \u001b[1;36m500\u001b[0m draws, \u001b[1;36m500\u001b[0m tune, \u001b[1;36m2\u001b[0m chains\n"
      ]
     },
     "metadata": {},
     "output_type": "display_data"
    },
    {
     "data": {
      "text/html": [
       "<pre style=\"white-space:pre;overflow-x:auto;line-height:normal;font-family:Menlo,'DejaVu Sans Mono',consolas,'Courier New',monospace\">Final model MCMC: <span style=\"color: #008080; text-decoration-color: #008080; font-weight: bold\">2000</span> draws, <span style=\"color: #008080; text-decoration-color: #008080; font-weight: bold\">2000</span> tune, <span style=\"color: #008080; text-decoration-color: #008080; font-weight: bold\">4</span> chains\n",
       "</pre>\n"
      ],
      "text/plain": [
       "Final model MCMC: \u001b[1;36m2000\u001b[0m draws, \u001b[1;36m2000\u001b[0m tune, \u001b[1;36m4\u001b[0m chains\n"
      ]
     },
     "metadata": {},
     "output_type": "display_data"
    },
    {
     "data": {
      "text/html": [
       "<pre style=\"white-space:pre;overflow-x:auto;line-height:normal;font-family:Menlo,'DejaVu Sans Mono',consolas,'Courier New',monospace\">\n",
       "<span style=\"color: #808000; text-decoration-color: #808000; font-weight: bold\">Convergence Thresholds:</span>\n",
       "</pre>\n"
      ],
      "text/plain": [
       "\n",
       "\u001b[1;33mConvergence Thresholds:\u001b[0m\n"
      ]
     },
     "metadata": {},
     "output_type": "display_data"
    },
    {
     "data": {
      "text/html": [
       "<pre style=\"white-space:pre;overflow-x:auto;line-height:normal;font-family:Menlo,'DejaVu Sans Mono',consolas,'Courier New',monospace\">Optimization - Divergences: <span style=\"font-weight: bold\">&lt;</span><span style=\"color: #008080; text-decoration-color: #008080; font-weight: bold\">10</span><span style=\"color: #000000; text-decoration-color: #000000\">%, R-hat: &lt;</span><span style=\"color: #008080; text-decoration-color: #008080; font-weight: bold\">1.1</span><span style=\"color: #000000; text-decoration-color: #000000\">, ESS: </span><span style=\"font-weight: bold\">&gt;</span><span style=\"color: #008080; text-decoration-color: #008080; font-weight: bold\">50</span>\n",
       "</pre>\n"
      ],
      "text/plain": [
       "Optimization - Divergences: \u001b[1m<\u001b[0m\u001b[1;36m10\u001b[0m\u001b[39m%, R-hat: <\u001b[0m\u001b[1;36m1.1\u001b[0m\u001b[39m, ESS: \u001b[0m\u001b[1m>\u001b[0m\u001b[1;36m50\u001b[0m\n"
      ]
     },
     "metadata": {},
     "output_type": "display_data"
    },
    {
     "data": {
      "text/html": [
       "<pre style=\"white-space:pre;overflow-x:auto;line-height:normal;font-family:Menlo,'DejaVu Sans Mono',consolas,'Courier New',monospace\">Final model  - Divergences: <span style=\"font-weight: bold\">&lt;</span><span style=\"color: #008080; text-decoration-color: #008080; font-weight: bold\">1</span><span style=\"color: #000000; text-decoration-color: #000000\">%, R-hat: &lt;</span><span style=\"color: #008080; text-decoration-color: #008080; font-weight: bold\">1.01</span><span style=\"color: #000000; text-decoration-color: #000000\">, ESS: </span><span style=\"font-weight: bold\">&gt;</span><span style=\"color: #008080; text-decoration-color: #008080; font-weight: bold\">400</span>\n",
       "</pre>\n"
      ],
      "text/plain": [
       "Final model  - Divergences: \u001b[1m<\u001b[0m\u001b[1;36m1\u001b[0m\u001b[39m%, R-hat: <\u001b[0m\u001b[1;36m1.01\u001b[0m\u001b[39m, ESS: \u001b[0m\u001b[1m>\u001b[0m\u001b[1;36m400\u001b[0m\n"
      ]
     },
     "metadata": {},
     "output_type": "display_data"
    }
   ],
   "source": [
    "# Optimization settings\n",
    "N_TRIALS = 20\n",
    "OPTUNA_DRAWS = 500\n",
    "OPTUNA_TUNE = 500\n",
    "OPTUNA_CHAINS = 2\n",
    "\n",
    "# Final model settings\n",
    "FINAL_DRAWS = 2000\n",
    "FINAL_TUNE = 2000\n",
    "FINAL_CHAINS = 4\n",
    "\n",
    "# Sampler selection (use NumPyro for significant speedup)\n",
    "USE_NUMPYRO = True  # Set to False to use default PyMC sampler\n",
    "NUTS_SAMPLER = \"numpyro\" if USE_NUMPYRO else \"pymc\"\n",
    "\n",
    "# Convergence thresholds for optimization (lenient to explore more)\n",
    "OPTUNA_DIVERGENCE_THRESHOLD = 0.10  # Allow up to 10% divergences\n",
    "OPTUNA_RHAT_THRESHOLD = 1.10        # Allow R-hat up to 1.10\n",
    "OPTUNA_ESS_THRESHOLD = 50           # Require at least 50 effective samples\n",
    "\n",
    "# Convergence thresholds for final model (strict for production)\n",
    "FINAL_DIVERGENCE_THRESHOLD = 0.01   # Less than 1% divergences\n",
    "FINAL_RHAT_THRESHOLD = 1.01         # R-hat < 1.01\n",
    "FINAL_ESS_THRESHOLD = 400           # At least 400 effective samples\n",
    "\n",
    "# Random seed for reproducibility\n",
    "RANDOM_SEED = 42\n",
    "\n",
    "rprint(f\"[bold blue]Configuration:[/bold blue]\")\n",
    "rprint(f\"Number of trials: {N_TRIALS}\")\n",
    "rprint(f\"NUTS sampler: [yellow]{NUTS_SAMPLER}[/yellow] {'(NumPyro - faster!)' if USE_NUMPYRO else '(PyMC default)'}\")\n",
    "rprint(f\"Optimization MCMC: {OPTUNA_DRAWS} draws, {OPTUNA_TUNE} tune, {OPTUNA_CHAINS} chains\")\n",
    "rprint(f\"Final model MCMC: {FINAL_DRAWS} draws, {FINAL_TUNE} tune, {FINAL_CHAINS} chains\")\n",
    "rprint(f\"\\n[bold yellow]Convergence Thresholds:[/bold yellow]\")\n",
    "rprint(f\"Optimization - Divergences: <{OPTUNA_DIVERGENCE_THRESHOLD*100:.0f}%, R-hat: <{OPTUNA_RHAT_THRESHOLD}, ESS: >{OPTUNA_ESS_THRESHOLD}\")\n",
    "rprint(f\"Final model  - Divergences: <{FINAL_DIVERGENCE_THRESHOLD*100:.0f}%, R-hat: <{FINAL_RHAT_THRESHOLD}, ESS: >{FINAL_ESS_THRESHOLD}\")"
   ]
  },
  {
   "cell_type": "markdown",
   "metadata": {},
   "source": [
    "## Load Data"
   ]
  },
  {
   "cell_type": "code",
   "execution_count": 19,
   "metadata": {},
   "outputs": [
    {
     "data": {
      "text/html": [
       "<pre style=\"white-space:pre;overflow-x:auto;line-height:normal;font-family:Menlo,'DejaVu Sans Mono',consolas,'Courier New',monospace\"><span style=\"color: #008000; text-decoration-color: #008000; font-weight: bold\">Data loaded successfully</span>\n",
       "</pre>\n"
      ],
      "text/plain": [
       "\u001b[1;32mData loaded successfully\u001b[0m\n"
      ]
     },
     "metadata": {},
     "output_type": "display_data"
    },
    {
     "data": {
      "text/html": [
       "<pre style=\"white-space:pre;overflow-x:auto;line-height:normal;font-family:Menlo,'DejaVu Sans Mono',consolas,'Courier New',monospace\">Shape: <span style=\"color: #008080; text-decoration-color: #008080; font-weight: bold\">104</span> rows × <span style=\"color: #008080; text-decoration-color: #008080; font-weight: bold\">11</span> columns\n",
       "</pre>\n"
      ],
      "text/plain": [
       "Shape: \u001b[1;36m104\u001b[0m rows × \u001b[1;36m11\u001b[0m columns\n"
      ]
     },
     "metadata": {},
     "output_type": "display_data"
    },
    {
     "data": {
      "text/html": [
       "<pre style=\"white-space:pre;overflow-x:auto;line-height:normal;font-family:Menlo,'DejaVu Sans Mono',consolas,'Courier New',monospace\">Date range: <span style=\"color: #008080; text-decoration-color: #008080; font-weight: bold\">2020</span>-<span style=\"color: #008080; text-decoration-color: #008080; font-weight: bold\">01</span>-<span style=\"color: #008080; text-decoration-color: #008080; font-weight: bold\">05</span> to <span style=\"color: #008080; text-decoration-color: #008080; font-weight: bold\">2021</span>-<span style=\"color: #008080; text-decoration-color: #008080; font-weight: bold\">12</span>-<span style=\"color: #008080; text-decoration-color: #008080; font-weight: bold\">26</span>\n",
       "</pre>\n"
      ],
      "text/plain": [
       "Date range: \u001b[1;36m2020\u001b[0m-\u001b[1;36m01\u001b[0m-\u001b[1;36m05\u001b[0m to \u001b[1;36m2021\u001b[0m-\u001b[1;36m12\u001b[0m-\u001b[1;36m26\u001b[0m\n"
      ]
     },
     "metadata": {},
     "output_type": "display_data"
    }
   ],
   "source": [
    "def load_mmm_data(data_path: str | Path) -> pl.DataFrame:\n",
    "    \"\"\"Load MMM data from CSV file.\n",
    "    \n",
    "    Args:\n",
    "        data_path: Path to the mmm_data.csv file\n",
    "        \n",
    "    Returns:\n",
    "        Polars DataFrame with parsed date column\n",
    "    \"\"\"\n",
    "    return pl.read_csv(data_path).with_columns(\n",
    "        pl.col(\"date\").str.to_date()\n",
    "    )\n",
    "\n",
    "\n",
    "# Load the data\n",
    "data_path = Path(\"../data/mmm_data.csv\")\n",
    "df = load_mmm_data(data_path)\n",
    "\n",
    "rprint(f\"[bold green]Data loaded successfully[/bold green]\")\n",
    "rprint(f\"Shape: {df.shape[0]} rows × {df.shape[1]} columns\")\n",
    "rprint(f\"Date range: {df['date'].min()} to {df['date'].max()}\")"
   ]
  },
  {
   "cell_type": "markdown",
   "metadata": {},
   "source": [
    "## Prepare Data for Optimization"
   ]
  },
  {
   "cell_type": "code",
   "execution_count": 20,
   "metadata": {},
   "outputs": [
    {
     "data": {
      "text/html": [
       "<pre style=\"white-space:pre;overflow-x:auto;line-height:normal;font-family:Menlo,'DejaVu Sans Mono',consolas,'Courier New',monospace\"><span style=\"color: #000080; text-decoration-color: #000080; font-weight: bold\">Model Configuration:</span>\n",
       "</pre>\n"
      ],
      "text/plain": [
       "\u001b[1;34mModel Configuration:\u001b[0m\n"
      ]
     },
     "metadata": {},
     "output_type": "display_data"
    },
    {
     "data": {
      "text/html": [
       "<pre style=\"white-space:pre;overflow-x:auto;line-height:normal;font-family:Menlo,'DejaVu Sans Mono',consolas,'Courier New',monospace\">Target column: <span style=\"color: #808000; text-decoration-color: #808000\">y</span>\n",
       "</pre>\n"
      ],
      "text/plain": [
       "Target column: \u001b[33my\u001b[0m\n"
      ]
     },
     "metadata": {},
     "output_type": "display_data"
    },
    {
     "data": {
      "text/html": [
       "<pre style=\"white-space:pre;overflow-x:auto;line-height:normal;font-family:Menlo,'DejaVu Sans Mono',consolas,'Courier New',monospace\">Date column: <span style=\"color: #808000; text-decoration-color: #808000\">date</span>\n",
       "</pre>\n"
      ],
      "text/plain": [
       "Date column: \u001b[33mdate\u001b[0m\n"
      ]
     },
     "metadata": {},
     "output_type": "display_data"
    },
    {
     "data": {
      "text/html": [
       "<pre style=\"white-space:pre;overflow-x:auto;line-height:normal;font-family:Menlo,'DejaVu Sans Mono',consolas,'Courier New',monospace\">Channel columns: <span style=\"color: #808000; text-decoration-color: #808000; font-weight: bold\">[</span><span style=\"color: #808000; text-decoration-color: #808000\">'x1_Search-Ads'</span><span style=\"color: #808000; text-decoration-color: #808000\">, </span><span style=\"color: #808000; text-decoration-color: #808000\">'x2_Social-Media'</span><span style=\"color: #808000; text-decoration-color: #808000\">, </span><span style=\"color: #808000; text-decoration-color: #808000\">'x3_Local-Ads'</span><span style=\"color: #808000; text-decoration-color: #808000\">, </span><span style=\"color: #808000; text-decoration-color: #808000\">'x4_Email'</span><span style=\"color: #808000; text-decoration-color: #808000; font-weight: bold\">]</span>\n",
       "</pre>\n"
      ],
      "text/plain": [
       "Channel columns: \u001b[1;33m[\u001b[0m\u001b[33m'x1_Search-Ads'\u001b[0m\u001b[33m, \u001b[0m\u001b[33m'x2_Social-Media'\u001b[0m\u001b[33m, \u001b[0m\u001b[33m'x3_Local-Ads'\u001b[0m\u001b[33m, \u001b[0m\u001b[33m'x4_Email'\u001b[0m\u001b[1;33m]\u001b[0m\n"
      ]
     },
     "metadata": {},
     "output_type": "display_data"
    },
    {
     "data": {
      "text/html": [
       "<pre style=\"white-space:pre;overflow-x:auto;line-height:normal;font-family:Menlo,'DejaVu Sans Mono',consolas,'Courier New',monospace\">Control columns: <span style=\"color: #808000; text-decoration-color: #808000; font-weight: bold\">[</span><span style=\"color: #808000; text-decoration-color: #808000\">'c1'</span><span style=\"color: #808000; text-decoration-color: #808000\">, </span><span style=\"color: #808000; text-decoration-color: #808000\">'c2'</span><span style=\"color: #808000; text-decoration-color: #808000; font-weight: bold\">]</span>\n",
       "</pre>\n"
      ],
      "text/plain": [
       "Control columns: \u001b[1;33m[\u001b[0m\u001b[33m'c1'\u001b[0m\u001b[33m, \u001b[0m\u001b[33m'c2'\u001b[0m\u001b[1;33m]\u001b[0m\n"
      ]
     },
     "metadata": {},
     "output_type": "display_data"
    }
   ],
   "source": [
    "# Convert to pandas\n",
    "df_pandas = df.to_pandas()\n",
    "\n",
    "# Define model inputs\n",
    "channel_columns = [\n",
    "    \"x1_Search-Ads\",\n",
    "    \"x2_Social-Media\",\n",
    "    \"x3_Local-Ads\",\n",
    "    \"x4_Email\"\n",
    "]\n",
    "\n",
    "control_columns = [\"c1\", \"c2\"]\n",
    "\n",
    "# Prepare X and y\n",
    "X = df_pandas.drop(columns=[\"y\"])\n",
    "y = df_pandas[\"y\"]\n",
    "\n",
    "rprint(\"[bold blue]Model Configuration:[/bold blue]\")\n",
    "rprint(f\"Target column: [yellow]y[/yellow]\")\n",
    "rprint(f\"Date column: [yellow]date[/yellow]\")\n",
    "rprint(f\"Channel columns: [yellow]{channel_columns}[/yellow]\")\n",
    "rprint(f\"Control columns: [yellow]{control_columns}[/yellow]\")"
   ]
  },
  {
   "cell_type": "markdown",
   "metadata": {},
   "source": [
    "## Convergence Diagnostics\n",
    "\n",
    "Helper function to check MCMC convergence quality."
   ]
  },
  {
   "cell_type": "code",
   "execution_count": 21,
   "metadata": {},
   "outputs": [
    {
     "data": {
      "text/html": [
       "<pre style=\"white-space:pre;overflow-x:auto;line-height:normal;font-family:Menlo,'DejaVu Sans Mono',consolas,'Courier New',monospace\"><span style=\"color: #008000; text-decoration-color: #008000; font-weight: bold\">Convergence check function defined</span>\n",
       "</pre>\n"
      ],
      "text/plain": [
       "\u001b[1;32mConvergence check function defined\u001b[0m\n"
      ]
     },
     "metadata": {},
     "output_type": "display_data"
    }
   ],
   "source": [
    "import arviz as az\n",
    "import numpy as np\n",
    "import warnings\n",
    "\n",
    "\n",
    "def check_convergence(\n",
    "    mmm: MMM,\n",
    "    divergence_threshold: float,\n",
    "    rhat_threshold: float,\n",
    "    ess_threshold: float,\n",
    "    trial_number: int | None = None\n",
    ") -> tuple[bool, dict[str, float]]:\n",
    "    \"\"\"Check MCMC convergence diagnostics.\n",
    "    \n",
    "    Args:\n",
    "        mmm: Fitted MMM model\n",
    "        divergence_threshold: Maximum allowed divergence rate (0-1)\n",
    "        rhat_threshold: Maximum allowed R-hat value\n",
    "        ess_threshold: Minimum required effective sample size\n",
    "        trial_number: Optional trial number for logging\n",
    "        \n",
    "    Returns:\n",
    "        Tuple of (converged: bool, diagnostics: dict)\n",
    "    \"\"\"\n",
    "    # 1. Check divergences\n",
    "    n_divergences = int(mmm.idata.sample_stats.diverging.sum().item())\n",
    "    n_draws = mmm.idata.posterior.sizes[\"draw\"]\n",
    "    n_chains = mmm.idata.posterior.sizes[\"chain\"]\n",
    "    total_samples = n_draws * n_chains\n",
    "    divergence_rate = n_divergences / total_samples\n",
    "    \n",
    "    # 2. Check R-hat (suppress warnings - we handle low ESS ourselves)\n",
    "    with warnings.catch_warnings():\n",
    "        warnings.filterwarnings(\"ignore\", category=RuntimeWarning, message=\".*invalid value encountered.*\")\n",
    "        rhat = az.rhat(mmm.idata)\n",
    "        max_rhat = float(rhat.to_array().max())\n",
    "    \n",
    "    # 3. Check ESS (effective sample size) - suppress warnings for poor convergence\n",
    "    with warnings.catch_warnings():\n",
    "        warnings.filterwarnings(\"ignore\", category=RuntimeWarning, message=\".*invalid value encountered.*\")\n",
    "        ess = az.ess(mmm.idata)\n",
    "        min_ess = float(ess.to_array().min())\n",
    "    \n",
    "    # Convergence checks\n",
    "    divergence_ok = divergence_rate <= divergence_threshold\n",
    "    rhat_ok = max_rhat <= rhat_threshold\n",
    "    ess_ok = min_ess >= ess_threshold\n",
    "    \n",
    "    converged = divergence_ok and rhat_ok and ess_ok\n",
    "    \n",
    "    # Diagnostics dictionary\n",
    "    diagnostics = {\n",
    "        \"n_divergences\": n_divergences,\n",
    "        \"divergence_rate\": divergence_rate,\n",
    "        \"max_rhat\": max_rhat,\n",
    "        \"min_ess\": min_ess,\n",
    "    }\n",
    "    \n",
    "    # Logging\n",
    "    trial_str = f\"Trial {trial_number}\" if trial_number is not None else \"Model\"\n",
    "    \n",
    "    if converged:\n",
    "        rprint(\n",
    "            f\"[green]✓ {trial_str} CONVERGED:[/green] \"\n",
    "            f\"divergences={divergence_rate*100:.1f}%, \"\n",
    "            f\"max_rhat={max_rhat:.3f}, \"\n",
    "            f\"min_ess={min_ess:.0f}\"\n",
    "        )\n",
    "    else:\n",
    "        reasons = []\n",
    "        if not divergence_ok:\n",
    "            reasons.append(f\"divergences={divergence_rate*100:.1f}% (>{divergence_threshold*100:.0f}%)\")\n",
    "        if not rhat_ok:\n",
    "            reasons.append(f\"max_rhat={max_rhat:.3f} (>{rhat_threshold})\")\n",
    "        if not ess_ok:\n",
    "            reasons.append(f\"min_ess={min_ess:.0f} (<{ess_threshold})\")\n",
    "        \n",
    "        rprint(\n",
    "            f\"[red]✗ {trial_str} FAILED:[/red] \"\n",
    "            f\"{', '.join(reasons)}\"\n",
    "        )\n",
    "    \n",
    "    return converged, diagnostics\n",
    "\n",
    "\n",
    "rprint(\"[bold green]Convergence check function defined[/bold green]\")"
   ]
  },
  {
   "cell_type": "markdown",
   "metadata": {},
   "source": [
    "## Define Optuna Objective Function\n",
    "\n",
    "The objective function:\n",
    "1. Suggests hyperparameters from search space\n",
    "2. Creates and fits an MMM model\n",
    "3. Computes WAIC (lower is better)\n",
    "4. Returns WAIC for Optuna to minimize"
   ]
  },
  {
   "cell_type": "code",
   "execution_count": 22,
   "metadata": {},
   "outputs": [
    {
     "data": {
      "text/html": [
       "<pre style=\"white-space:pre;overflow-x:auto;line-height:normal;font-family:Menlo,'DejaVu Sans Mono',consolas,'Courier New',monospace\"><span style=\"color: #008000; text-decoration-color: #008000; font-weight: bold\">Objective function created with convergence checks</span>\n",
       "</pre>\n"
      ],
      "text/plain": [
       "\u001b[1;32mObjective function created with convergence checks\u001b[0m\n"
      ]
     },
     "metadata": {},
     "output_type": "display_data"
    }
   ],
   "source": [
    "def create_objective(\n",
    "    X: pd.DataFrame,\n",
    "    y: pd.Series,\n",
    "    channel_columns: list[str],\n",
    "    control_columns: list[str],\n",
    "    draws: int,\n",
    "    tune: int,\n",
    "    chains: int,\n",
    "    divergence_threshold: float,\n",
    "    rhat_threshold: float,\n",
    "    ess_threshold: float,\n",
    "    nuts_sampler: str = \"pymc\"\n",
    ") -> callable:\n",
    "    \"\"\"Create Optuna objective function for MMM hyperparameter optimization.\n",
    "    \n",
    "    Args:\n",
    "        X: Input features DataFrame\n",
    "        y: Target variable Series\n",
    "        channel_columns: List of channel column names\n",
    "        control_columns: List of control column names\n",
    "        draws: Number of MCMC draws\n",
    "        tune: Number of tuning steps\n",
    "        chains: Number of MCMC chains\n",
    "        divergence_threshold: Maximum allowed divergence rate\n",
    "        rhat_threshold: Maximum allowed R-hat value\n",
    "        ess_threshold: Minimum required effective sample size\n",
    "        nuts_sampler: NUTS sampler to use (\"pymc\", \"numpyro\", \"blackjax\", \"nutpie\")\n",
    "        \n",
    "    Returns:\n",
    "        Objective function that takes an Optuna trial and returns WAIC\n",
    "    \"\"\"\n",
    "    def objective(trial: optuna.Trial) -> float:\n",
    "        \"\"\"Optuna objective function with convergence checks.\n",
    "        \n",
    "        Args:\n",
    "            trial: Optuna trial object\n",
    "            \n",
    "        Returns:\n",
    "            WAIC value (lower is better)\n",
    "            \n",
    "        Raises:\n",
    "            optuna.TrialPruned: If model fails to converge\n",
    "        \"\"\"\n",
    "        # Suggest hyperparameters\n",
    "        yearly_seasonality = trial.suggest_int(\"yearly_seasonality\", 1, 10)\n",
    "        adstock_max_lag = trial.suggest_int(\"adstock_max_lag\", 4, 12)\n",
    "        \n",
    "        rprint(\n",
    "            f\"\\n[bold cyan]Trial {trial.number}:[/bold cyan] \"\n",
    "            f\"yearly_seasonality={yearly_seasonality}, \"\n",
    "            f\"adstock_max_lag={adstock_max_lag}\"\n",
    "        )\n",
    "        \n",
    "        # Create MMM model\n",
    "        mmm = MMM(\n",
    "            date_column=\"date\",\n",
    "            channel_columns=channel_columns,\n",
    "            control_columns=control_columns,\n",
    "            adstock=GeometricAdstock(l_max=adstock_max_lag),\n",
    "            saturation=LogisticSaturation(),\n",
    "            yearly_seasonality=yearly_seasonality\n",
    "        )\n",
    "        \n",
    "        # Fit model with log_likelihood computation for WAIC\n",
    "        mmm.fit(\n",
    "            X=X,\n",
    "            y=y,\n",
    "            draws=draws,\n",
    "            tune=tune,\n",
    "            chains=chains,\n",
    "            nuts_sampler=nuts_sampler,  # Use specified sampler (numpyro for speed)\n",
    "            random_seed=RANDOM_SEED + trial.number,  # Different seed per trial\n",
    "            progressbar=False,  # Suppress PyMC progress bar for cleaner output\n",
    "            idata_kwargs={\"log_likelihood\": True}  # Required for WAIC computation\n",
    "        )\n",
    "        \n",
    "        # Check convergence before computing WAIC\n",
    "        converged, diagnostics = check_convergence(\n",
    "            mmm=mmm,\n",
    "            divergence_threshold=divergence_threshold,\n",
    "            rhat_threshold=rhat_threshold,\n",
    "            ess_threshold=ess_threshold,\n",
    "            trial_number=trial.number\n",
    "        )\n",
    "        \n",
    "        # Store diagnostics as user attributes\n",
    "        trial.set_user_attr(\"n_divergences\", diagnostics[\"n_divergences\"])\n",
    "        trial.set_user_attr(\"divergence_rate\", diagnostics[\"divergence_rate\"])\n",
    "        trial.set_user_attr(\"max_rhat\", diagnostics[\"max_rhat\"])\n",
    "        trial.set_user_attr(\"min_ess\", diagnostics[\"min_ess\"])\n",
    "        trial.set_user_attr(\"converged\", converged)\n",
    "        \n",
    "        # Prune trial if not converged\n",
    "        if not converged:\n",
    "            rprint(f\"[red]Trial {trial.number} pruned due to convergence failure[/red]\")\n",
    "            raise optuna.TrialPruned()\n",
    "        \n",
    "        # Compute WAIC (use -elpd_waic for minimization)\n",
    "        import arviz as az\n",
    "        waic_result = az.waic(mmm.idata)\n",
    "        # elpd_waic is higher = better, so negate for minimization\n",
    "        waic_value = -waic_result.elpd_waic\n",
    "        \n",
    "        rprint(f\"[yellow]WAIC (negative ELPD): {waic_value:.2f}[/yellow]\")\n",
    "        \n",
    "        # Store WAIC as user attribute for later analysis\n",
    "        trial.set_user_attr(\"waic\", float(waic_value))\n",
    "        \n",
    "        return float(waic_value)\n",
    "    \n",
    "    return objective\n",
    "\n",
    "\n",
    "# Create objective function with convergence thresholds\n",
    "objective = create_objective(\n",
    "    X=X,\n",
    "    y=y,\n",
    "    channel_columns=channel_columns,\n",
    "    control_columns=control_columns,\n",
    "    draws=OPTUNA_DRAWS,\n",
    "    tune=OPTUNA_TUNE,\n",
    "    chains=OPTUNA_CHAINS,\n",
    "    divergence_threshold=OPTUNA_DIVERGENCE_THRESHOLD,\n",
    "    rhat_threshold=OPTUNA_RHAT_THRESHOLD,\n",
    "    ess_threshold=OPTUNA_ESS_THRESHOLD,\n",
    "    nuts_sampler=NUTS_SAMPLER  # Use NumPyro for speed\n",
    ")\n",
    "\n",
    "rprint(\"[bold green]Objective function created with convergence checks[/bold green]\")"
   ]
  },
  {
   "cell_type": "markdown",
   "metadata": {},
   "source": [
    "## Run Optuna Optimization\n",
    "\n",
    "This will run multiple trials to find the optimal hyperparameters.\n",
    "**Note**: This may take 15-30 minutes depending on `N_TRIALS` and hardware."
   ]
  },
  {
   "cell_type": "code",
   "execution_count": 23,
   "metadata": {},
   "outputs": [
    {
     "data": {
      "text/html": [
       "<pre style=\"white-space:pre;overflow-x:auto;line-height:normal;font-family:Menlo,'DejaVu Sans Mono',consolas,'Courier New',monospace\">\n",
       "<span style=\"color: #800080; text-decoration-color: #800080; font-weight: bold\">Starting optimization with </span><span style=\"color: #800080; text-decoration-color: #800080; font-weight: bold\">20</span><span style=\"color: #800080; text-decoration-color: #800080; font-weight: bold\"> trials...</span>\n",
       "\n",
       "</pre>\n"
      ],
      "text/plain": [
       "\n",
       "\u001b[1;35mStarting optimization with \u001b[0m\u001b[1;35m20\u001b[0m\u001b[1;35m trials\u001b[0m\u001b[1;35m...\u001b[0m\n",
       "\n"
      ]
     },
     "metadata": {},
     "output_type": "display_data"
    },
    {
     "name": "stderr",
     "output_type": "stream",
     "text": [
      "[I 2025-10-18 21:54:19,186] A new study created in memory with name: mmm_hyperparameter_optimization\n"
     ]
    },
    {
     "data": {
      "application/vnd.jupyter.widget-view+json": {
       "model_id": "d121c574d4f54109a41848abb89884a0",
       "version_major": 2,
       "version_minor": 0
      },
      "text/plain": [
       "  0%|          | 0/20 [00:00<?, ?it/s]"
      ]
     },
     "metadata": {},
     "output_type": "display_data"
    },
    {
     "data": {
      "text/html": [
       "<pre style=\"white-space:pre;overflow-x:auto;line-height:normal;font-family:Menlo,'DejaVu Sans Mono',consolas,'Courier New',monospace\">\n",
       "<span style=\"color: #008080; text-decoration-color: #008080; font-weight: bold\">Trial </span><span style=\"color: #008080; text-decoration-color: #008080; font-weight: bold\">0</span><span style=\"color: #008080; text-decoration-color: #008080; font-weight: bold\">:</span> <span style=\"color: #808000; text-decoration-color: #808000\">yearly_seasonality</span>=<span style=\"color: #008080; text-decoration-color: #008080; font-weight: bold\">4</span>, <span style=\"color: #808000; text-decoration-color: #808000\">adstock_max_lag</span>=<span style=\"color: #008080; text-decoration-color: #008080; font-weight: bold\">12</span>\n",
       "</pre>\n"
      ],
      "text/plain": [
       "\n",
       "\u001b[1;36mTrial \u001b[0m\u001b[1;36m0\u001b[0m\u001b[1;36m:\u001b[0m \u001b[33myearly_seasonality\u001b[0m=\u001b[1;36m4\u001b[0m, \u001b[33madstock_max_lag\u001b[0m=\u001b[1;36m12\u001b[0m\n"
      ]
     },
     "metadata": {},
     "output_type": "display_data"
    },
    {
     "name": "stderr",
     "output_type": "stream",
     "text": [
      "We recommend running at least 4 chains for robust computation of convergence diagnostics\n",
      "The rhat statistic is larger than 1.01 for some parameters. This indicates problems during sampling. See https://arxiv.org/abs/1903.08008 for details\n"
     ]
    },
    {
     "data": {
      "application/vnd.jupyter.widget-view+json": {
       "model_id": "90b0c14f36654a8992f300f0b6648491",
       "version_major": 2,
       "version_minor": 0
      },
      "text/plain": [
       "Output()"
      ]
     },
     "metadata": {},
     "output_type": "display_data"
    },
    {
     "data": {
      "text/html": [
       "<pre style=\"white-space:pre;overflow-x:auto;line-height:normal;font-family:Menlo,'DejaVu Sans Mono',consolas,'Courier New',monospace\"></pre>\n"
      ],
      "text/plain": []
     },
     "metadata": {},
     "output_type": "display_data"
    },
    {
     "data": {
      "text/html": [
       "<pre style=\"white-space:pre;overflow-x:auto;line-height:normal;font-family:Menlo,'DejaVu Sans Mono',consolas,'Courier New',monospace\"><span style=\"color: #008000; text-decoration-color: #008000\">✓ Trial </span><span style=\"color: #008000; text-decoration-color: #008000; font-weight: bold\">0</span><span style=\"color: #008000; text-decoration-color: #008000\"> CONVERGED:</span> <span style=\"color: #808000; text-decoration-color: #808000\">divergences</span>=<span style=\"color: #008080; text-decoration-color: #008080; font-weight: bold\">0.0</span>%, <span style=\"color: #808000; text-decoration-color: #808000\">max_rhat</span>=<span style=\"color: #008080; text-decoration-color: #008080; font-weight: bold\">1.019</span>, <span style=\"color: #808000; text-decoration-color: #808000\">min_ess</span>=<span style=\"color: #008080; text-decoration-color: #008080; font-weight: bold\">342</span>\n",
       "</pre>\n"
      ],
      "text/plain": [
       "\u001b[32m✓ Trial \u001b[0m\u001b[1;32m0\u001b[0m\u001b[32m CONVERGED:\u001b[0m \u001b[33mdivergences\u001b[0m=\u001b[1;36m0\u001b[0m\u001b[1;36m.0\u001b[0m%, \u001b[33mmax_rhat\u001b[0m=\u001b[1;36m1\u001b[0m\u001b[1;36m.019\u001b[0m, \u001b[33mmin_ess\u001b[0m=\u001b[1;36m342\u001b[0m\n"
      ]
     },
     "metadata": {},
     "output_type": "display_data"
    },
    {
     "name": "stderr",
     "output_type": "stream",
     "text": [
      "/Users/lfiaschi/Documents/workspace/blog-optuna-pymc-marketing/.venv/lib/python3.12/site-packages/arviz/stats/stats.py:1667: UserWarning: For one or more samples the posterior variance of the log predictive densities exceeds 0.4. This could be indication of WAIC starting to fail. \n",
      "See http://arxiv.org/abs/1507.04544 for details\n",
      "  warnings.warn(\n"
     ]
    },
    {
     "data": {
      "text/html": [
       "<pre style=\"white-space:pre;overflow-x:auto;line-height:normal;font-family:Menlo,'DejaVu Sans Mono',consolas,'Courier New',monospace\"><span style=\"color: #808000; text-decoration-color: #808000\">WAIC </span><span style=\"color: #808000; text-decoration-color: #808000; font-weight: bold\">(</span><span style=\"color: #808000; text-decoration-color: #808000\">negative ELPD</span><span style=\"color: #808000; text-decoration-color: #808000; font-weight: bold\">)</span><span style=\"color: #808000; text-decoration-color: #808000\">: </span><span style=\"color: #808000; text-decoration-color: #808000; font-weight: bold\">-189.11</span>\n",
       "</pre>\n"
      ],
      "text/plain": [
       "\u001b[33mWAIC \u001b[0m\u001b[1;33m(\u001b[0m\u001b[33mnegative ELPD\u001b[0m\u001b[1;33m)\u001b[0m\u001b[33m: \u001b[0m\u001b[1;33m-189.11\u001b[0m\n"
      ]
     },
     "metadata": {},
     "output_type": "display_data"
    },
    {
     "name": "stdout",
     "output_type": "stream",
     "text": [
      "[I 2025-10-18 21:54:28,369] Trial 0 finished with value: -189.10788432138898 and parameters: {'yearly_seasonality': 4, 'adstock_max_lag': 12}. Best is trial 0 with value: -189.10788432138898.\n"
     ]
    },
    {
     "data": {
      "text/html": [
       "<pre style=\"white-space:pre;overflow-x:auto;line-height:normal;font-family:Menlo,'DejaVu Sans Mono',consolas,'Courier New',monospace\">\n",
       "<span style=\"color: #008080; text-decoration-color: #008080; font-weight: bold\">Trial </span><span style=\"color: #008080; text-decoration-color: #008080; font-weight: bold\">1</span><span style=\"color: #008080; text-decoration-color: #008080; font-weight: bold\">:</span> <span style=\"color: #808000; text-decoration-color: #808000\">yearly_seasonality</span>=<span style=\"color: #008080; text-decoration-color: #008080; font-weight: bold\">8</span>, <span style=\"color: #808000; text-decoration-color: #808000\">adstock_max_lag</span>=<span style=\"color: #008080; text-decoration-color: #008080; font-weight: bold\">9</span>\n",
       "</pre>\n"
      ],
      "text/plain": [
       "\n",
       "\u001b[1;36mTrial \u001b[0m\u001b[1;36m1\u001b[0m\u001b[1;36m:\u001b[0m \u001b[33myearly_seasonality\u001b[0m=\u001b[1;36m8\u001b[0m, \u001b[33madstock_max_lag\u001b[0m=\u001b[1;36m9\u001b[0m\n"
      ]
     },
     "metadata": {},
     "output_type": "display_data"
    },
    {
     "name": "stderr",
     "output_type": "stream",
     "text": [
      "We recommend running at least 4 chains for robust computation of convergence diagnostics\n"
     ]
    },
    {
     "data": {
      "application/vnd.jupyter.widget-view+json": {
       "model_id": "af72a478cd4f46b58d276b7eecf1e206",
       "version_major": 2,
       "version_minor": 0
      },
      "text/plain": [
       "Output()"
      ]
     },
     "metadata": {},
     "output_type": "display_data"
    },
    {
     "data": {
      "text/html": [
       "<pre style=\"white-space:pre;overflow-x:auto;line-height:normal;font-family:Menlo,'DejaVu Sans Mono',consolas,'Courier New',monospace\"></pre>\n"
      ],
      "text/plain": []
     },
     "metadata": {},
     "output_type": "display_data"
    },
    {
     "data": {
      "text/html": [
       "<pre style=\"white-space:pre;overflow-x:auto;line-height:normal;font-family:Menlo,'DejaVu Sans Mono',consolas,'Courier New',monospace\"><span style=\"color: #008000; text-decoration-color: #008000\">✓ Trial </span><span style=\"color: #008000; text-decoration-color: #008000; font-weight: bold\">1</span><span style=\"color: #008000; text-decoration-color: #008000\"> CONVERGED:</span> <span style=\"color: #808000; text-decoration-color: #808000\">divergences</span>=<span style=\"color: #008080; text-decoration-color: #008080; font-weight: bold\">0.0</span>%, <span style=\"color: #808000; text-decoration-color: #808000\">max_rhat</span>=<span style=\"color: #008080; text-decoration-color: #008080; font-weight: bold\">1.018</span>, <span style=\"color: #808000; text-decoration-color: #808000\">min_ess</span>=<span style=\"color: #008080; text-decoration-color: #008080; font-weight: bold\">344</span>\n",
       "</pre>\n"
      ],
      "text/plain": [
       "\u001b[32m✓ Trial \u001b[0m\u001b[1;32m1\u001b[0m\u001b[32m CONVERGED:\u001b[0m \u001b[33mdivergences\u001b[0m=\u001b[1;36m0\u001b[0m\u001b[1;36m.0\u001b[0m%, \u001b[33mmax_rhat\u001b[0m=\u001b[1;36m1\u001b[0m\u001b[1;36m.018\u001b[0m, \u001b[33mmin_ess\u001b[0m=\u001b[1;36m344\u001b[0m\n"
      ]
     },
     "metadata": {},
     "output_type": "display_data"
    },
    {
     "name": "stderr",
     "output_type": "stream",
     "text": [
      "/Users/lfiaschi/Documents/workspace/blog-optuna-pymc-marketing/.venv/lib/python3.12/site-packages/arviz/stats/stats.py:1667: UserWarning: For one or more samples the posterior variance of the log predictive densities exceeds 0.4. This could be indication of WAIC starting to fail. \n",
      "See http://arxiv.org/abs/1507.04544 for details\n",
      "  warnings.warn(\n"
     ]
    },
    {
     "data": {
      "text/html": [
       "<pre style=\"white-space:pre;overflow-x:auto;line-height:normal;font-family:Menlo,'DejaVu Sans Mono',consolas,'Courier New',monospace\"><span style=\"color: #808000; text-decoration-color: #808000\">WAIC </span><span style=\"color: #808000; text-decoration-color: #808000; font-weight: bold\">(</span><span style=\"color: #808000; text-decoration-color: #808000\">negative ELPD</span><span style=\"color: #808000; text-decoration-color: #808000; font-weight: bold\">)</span><span style=\"color: #808000; text-decoration-color: #808000\">: </span><span style=\"color: #808000; text-decoration-color: #808000; font-weight: bold\">-187.79</span>\n",
       "</pre>\n"
      ],
      "text/plain": [
       "\u001b[33mWAIC \u001b[0m\u001b[1;33m(\u001b[0m\u001b[33mnegative ELPD\u001b[0m\u001b[1;33m)\u001b[0m\u001b[33m: \u001b[0m\u001b[1;33m-187.79\u001b[0m\n"
      ]
     },
     "metadata": {},
     "output_type": "display_data"
    },
    {
     "name": "stdout",
     "output_type": "stream",
     "text": [
      "[I 2025-10-18 21:54:41,416] Trial 1 finished with value: -187.79280318770918 and parameters: {'yearly_seasonality': 8, 'adstock_max_lag': 9}. Best is trial 0 with value: -189.10788432138898.\n"
     ]
    },
    {
     "data": {
      "text/html": [
       "<pre style=\"white-space:pre;overflow-x:auto;line-height:normal;font-family:Menlo,'DejaVu Sans Mono',consolas,'Courier New',monospace\">\n",
       "<span style=\"color: #008080; text-decoration-color: #008080; font-weight: bold\">Trial </span><span style=\"color: #008080; text-decoration-color: #008080; font-weight: bold\">2</span><span style=\"color: #008080; text-decoration-color: #008080; font-weight: bold\">:</span> <span style=\"color: #808000; text-decoration-color: #808000\">yearly_seasonality</span>=<span style=\"color: #008080; text-decoration-color: #008080; font-weight: bold\">2</span>, <span style=\"color: #808000; text-decoration-color: #808000\">adstock_max_lag</span>=<span style=\"color: #008080; text-decoration-color: #008080; font-weight: bold\">5</span>\n",
       "</pre>\n"
      ],
      "text/plain": [
       "\n",
       "\u001b[1;36mTrial \u001b[0m\u001b[1;36m2\u001b[0m\u001b[1;36m:\u001b[0m \u001b[33myearly_seasonality\u001b[0m=\u001b[1;36m2\u001b[0m, \u001b[33madstock_max_lag\u001b[0m=\u001b[1;36m5\u001b[0m\n"
      ]
     },
     "metadata": {},
     "output_type": "display_data"
    },
    {
     "name": "stderr",
     "output_type": "stream",
     "text": [
      "We recommend running at least 4 chains for robust computation of convergence diagnostics\n",
      "The effective sample size per chain is smaller than 100 for some parameters.  A higher number is needed for reliable rhat and ess computation. See https://arxiv.org/abs/1903.08008 for details\n"
     ]
    },
    {
     "data": {
      "application/vnd.jupyter.widget-view+json": {
       "model_id": "ff910dd156f544439be3ec9b23aac10a",
       "version_major": 2,
       "version_minor": 0
      },
      "text/plain": [
       "Output()"
      ]
     },
     "metadata": {},
     "output_type": "display_data"
    },
    {
     "data": {
      "text/html": [
       "<pre style=\"white-space:pre;overflow-x:auto;line-height:normal;font-family:Menlo,'DejaVu Sans Mono',consolas,'Courier New',monospace\"></pre>\n"
      ],
      "text/plain": []
     },
     "metadata": {},
     "output_type": "display_data"
    },
    {
     "data": {
      "text/html": [
       "<pre style=\"white-space:pre;overflow-x:auto;line-height:normal;font-family:Menlo,'DejaVu Sans Mono',consolas,'Courier New',monospace\"><span style=\"color: #008000; text-decoration-color: #008000\">✓ Trial </span><span style=\"color: #008000; text-decoration-color: #008000; font-weight: bold\">2</span><span style=\"color: #008000; text-decoration-color: #008000\"> CONVERGED:</span> <span style=\"color: #808000; text-decoration-color: #808000\">divergences</span>=<span style=\"color: #008080; text-decoration-color: #008080; font-weight: bold\">0.0</span>%, <span style=\"color: #808000; text-decoration-color: #808000\">max_rhat</span>=<span style=\"color: #008080; text-decoration-color: #008080; font-weight: bold\">1.007</span>, <span style=\"color: #808000; text-decoration-color: #808000\">min_ess</span>=<span style=\"color: #008080; text-decoration-color: #008080; font-weight: bold\">180</span>\n",
       "</pre>\n"
      ],
      "text/plain": [
       "\u001b[32m✓ Trial \u001b[0m\u001b[1;32m2\u001b[0m\u001b[32m CONVERGED:\u001b[0m \u001b[33mdivergences\u001b[0m=\u001b[1;36m0\u001b[0m\u001b[1;36m.0\u001b[0m%, \u001b[33mmax_rhat\u001b[0m=\u001b[1;36m1\u001b[0m\u001b[1;36m.007\u001b[0m, \u001b[33mmin_ess\u001b[0m=\u001b[1;36m180\u001b[0m\n"
      ]
     },
     "metadata": {},
     "output_type": "display_data"
    },
    {
     "name": "stderr",
     "output_type": "stream",
     "text": [
      "/Users/lfiaschi/Documents/workspace/blog-optuna-pymc-marketing/.venv/lib/python3.12/site-packages/arviz/stats/stats.py:1667: UserWarning: For one or more samples the posterior variance of the log predictive densities exceeds 0.4. This could be indication of WAIC starting to fail. \n",
      "See http://arxiv.org/abs/1507.04544 for details\n",
      "  warnings.warn(\n"
     ]
    },
    {
     "data": {
      "text/html": [
       "<pre style=\"white-space:pre;overflow-x:auto;line-height:normal;font-family:Menlo,'DejaVu Sans Mono',consolas,'Courier New',monospace\"><span style=\"color: #808000; text-decoration-color: #808000\">WAIC </span><span style=\"color: #808000; text-decoration-color: #808000; font-weight: bold\">(</span><span style=\"color: #808000; text-decoration-color: #808000\">negative ELPD</span><span style=\"color: #808000; text-decoration-color: #808000; font-weight: bold\">)</span><span style=\"color: #808000; text-decoration-color: #808000\">: </span><span style=\"color: #808000; text-decoration-color: #808000; font-weight: bold\">-188.25</span>\n",
       "</pre>\n"
      ],
      "text/plain": [
       "\u001b[33mWAIC \u001b[0m\u001b[1;33m(\u001b[0m\u001b[33mnegative ELPD\u001b[0m\u001b[1;33m)\u001b[0m\u001b[33m: \u001b[0m\u001b[1;33m-188.25\u001b[0m\n"
      ]
     },
     "metadata": {},
     "output_type": "display_data"
    },
    {
     "name": "stdout",
     "output_type": "stream",
     "text": [
      "[I 2025-10-18 21:54:48,805] Trial 2 finished with value: -188.24510983068188 and parameters: {'yearly_seasonality': 2, 'adstock_max_lag': 5}. Best is trial 0 with value: -189.10788432138898.\n"
     ]
    },
    {
     "data": {
      "text/html": [
       "<pre style=\"white-space:pre;overflow-x:auto;line-height:normal;font-family:Menlo,'DejaVu Sans Mono',consolas,'Courier New',monospace\">\n",
       "<span style=\"color: #008080; text-decoration-color: #008080; font-weight: bold\">Trial </span><span style=\"color: #008080; text-decoration-color: #008080; font-weight: bold\">3</span><span style=\"color: #008080; text-decoration-color: #008080; font-weight: bold\">:</span> <span style=\"color: #808000; text-decoration-color: #808000\">yearly_seasonality</span>=<span style=\"color: #008080; text-decoration-color: #008080; font-weight: bold\">1</span>, <span style=\"color: #808000; text-decoration-color: #808000\">adstock_max_lag</span>=<span style=\"color: #008080; text-decoration-color: #008080; font-weight: bold\">11</span>\n",
       "</pre>\n"
      ],
      "text/plain": [
       "\n",
       "\u001b[1;36mTrial \u001b[0m\u001b[1;36m3\u001b[0m\u001b[1;36m:\u001b[0m \u001b[33myearly_seasonality\u001b[0m=\u001b[1;36m1\u001b[0m, \u001b[33madstock_max_lag\u001b[0m=\u001b[1;36m11\u001b[0m\n"
      ]
     },
     "metadata": {},
     "output_type": "display_data"
    },
    {
     "name": "stderr",
     "output_type": "stream",
     "text": [
      "We recommend running at least 4 chains for robust computation of convergence diagnostics\n"
     ]
    },
    {
     "data": {
      "application/vnd.jupyter.widget-view+json": {
       "model_id": "2362c1dbfa394b18aa5604421cd552c9",
       "version_major": 2,
       "version_minor": 0
      },
      "text/plain": [
       "Output()"
      ]
     },
     "metadata": {},
     "output_type": "display_data"
    },
    {
     "data": {
      "text/html": [
       "<pre style=\"white-space:pre;overflow-x:auto;line-height:normal;font-family:Menlo,'DejaVu Sans Mono',consolas,'Courier New',monospace\"></pre>\n"
      ],
      "text/plain": []
     },
     "metadata": {},
     "output_type": "display_data"
    },
    {
     "data": {
      "text/html": [
       "<pre style=\"white-space:pre;overflow-x:auto;line-height:normal;font-family:Menlo,'DejaVu Sans Mono',consolas,'Courier New',monospace\"><span style=\"color: #008000; text-decoration-color: #008000\">✓ Trial </span><span style=\"color: #008000; text-decoration-color: #008000; font-weight: bold\">3</span><span style=\"color: #008000; text-decoration-color: #008000\"> CONVERGED:</span> <span style=\"color: #808000; text-decoration-color: #808000\">divergences</span>=<span style=\"color: #008080; text-decoration-color: #008080; font-weight: bold\">0.0</span>%, <span style=\"color: #808000; text-decoration-color: #808000\">max_rhat</span>=<span style=\"color: #008080; text-decoration-color: #008080; font-weight: bold\">1.010</span>, <span style=\"color: #808000; text-decoration-color: #808000\">min_ess</span>=<span style=\"color: #008080; text-decoration-color: #008080; font-weight: bold\">297</span>\n",
       "</pre>\n"
      ],
      "text/plain": [
       "\u001b[32m✓ Trial \u001b[0m\u001b[1;32m3\u001b[0m\u001b[32m CONVERGED:\u001b[0m \u001b[33mdivergences\u001b[0m=\u001b[1;36m0\u001b[0m\u001b[1;36m.0\u001b[0m%, \u001b[33mmax_rhat\u001b[0m=\u001b[1;36m1\u001b[0m\u001b[1;36m.010\u001b[0m, \u001b[33mmin_ess\u001b[0m=\u001b[1;36m297\u001b[0m\n"
      ]
     },
     "metadata": {},
     "output_type": "display_data"
    },
    {
     "name": "stderr",
     "output_type": "stream",
     "text": [
      "/Users/lfiaschi/Documents/workspace/blog-optuna-pymc-marketing/.venv/lib/python3.12/site-packages/arviz/stats/stats.py:1667: UserWarning: For one or more samples the posterior variance of the log predictive densities exceeds 0.4. This could be indication of WAIC starting to fail. \n",
      "See http://arxiv.org/abs/1507.04544 for details\n",
      "  warnings.warn(\n"
     ]
    },
    {
     "data": {
      "text/html": [
       "<pre style=\"white-space:pre;overflow-x:auto;line-height:normal;font-family:Menlo,'DejaVu Sans Mono',consolas,'Courier New',monospace\"><span style=\"color: #808000; text-decoration-color: #808000\">WAIC </span><span style=\"color: #808000; text-decoration-color: #808000; font-weight: bold\">(</span><span style=\"color: #808000; text-decoration-color: #808000\">negative ELPD</span><span style=\"color: #808000; text-decoration-color: #808000; font-weight: bold\">)</span><span style=\"color: #808000; text-decoration-color: #808000\">: </span><span style=\"color: #808000; text-decoration-color: #808000; font-weight: bold\">-189.38</span>\n",
       "</pre>\n"
      ],
      "text/plain": [
       "\u001b[33mWAIC \u001b[0m\u001b[1;33m(\u001b[0m\u001b[33mnegative ELPD\u001b[0m\u001b[1;33m)\u001b[0m\u001b[33m: \u001b[0m\u001b[1;33m-189.38\u001b[0m\n"
      ]
     },
     "metadata": {},
     "output_type": "display_data"
    },
    {
     "name": "stdout",
     "output_type": "stream",
     "text": [
      "[I 2025-10-18 21:54:58,415] Trial 3 finished with value: -189.37708684679 and parameters: {'yearly_seasonality': 1, 'adstock_max_lag': 11}. Best is trial 3 with value: -189.37708684679.\n"
     ]
    },
    {
     "data": {
      "text/html": [
       "<pre style=\"white-space:pre;overflow-x:auto;line-height:normal;font-family:Menlo,'DejaVu Sans Mono',consolas,'Courier New',monospace\">\n",
       "<span style=\"color: #008080; text-decoration-color: #008080; font-weight: bold\">Trial </span><span style=\"color: #008080; text-decoration-color: #008080; font-weight: bold\">4</span><span style=\"color: #008080; text-decoration-color: #008080; font-weight: bold\">:</span> <span style=\"color: #808000; text-decoration-color: #808000\">yearly_seasonality</span>=<span style=\"color: #008080; text-decoration-color: #008080; font-weight: bold\">7</span>, <span style=\"color: #808000; text-decoration-color: #808000\">adstock_max_lag</span>=<span style=\"color: #008080; text-decoration-color: #008080; font-weight: bold\">10</span>\n",
       "</pre>\n"
      ],
      "text/plain": [
       "\n",
       "\u001b[1;36mTrial \u001b[0m\u001b[1;36m4\u001b[0m\u001b[1;36m:\u001b[0m \u001b[33myearly_seasonality\u001b[0m=\u001b[1;36m7\u001b[0m, \u001b[33madstock_max_lag\u001b[0m=\u001b[1;36m10\u001b[0m\n"
      ]
     },
     "metadata": {},
     "output_type": "display_data"
    },
    {
     "name": "stderr",
     "output_type": "stream",
     "text": [
      "We recommend running at least 4 chains for robust computation of convergence diagnostics\n",
      "The rhat statistic is larger than 1.01 for some parameters. This indicates problems during sampling. See https://arxiv.org/abs/1903.08008 for details\n"
     ]
    },
    {
     "data": {
      "application/vnd.jupyter.widget-view+json": {
       "model_id": "bca05eb2dfbe4178b13d7177e510c674",
       "version_major": 2,
       "version_minor": 0
      },
      "text/plain": [
       "Output()"
      ]
     },
     "metadata": {},
     "output_type": "display_data"
    },
    {
     "data": {
      "text/html": [
       "<pre style=\"white-space:pre;overflow-x:auto;line-height:normal;font-family:Menlo,'DejaVu Sans Mono',consolas,'Courier New',monospace\"></pre>\n"
      ],
      "text/plain": []
     },
     "metadata": {},
     "output_type": "display_data"
    },
    {
     "data": {
      "text/html": [
       "<pre style=\"white-space:pre;overflow-x:auto;line-height:normal;font-family:Menlo,'DejaVu Sans Mono',consolas,'Courier New',monospace\"><span style=\"color: #008000; text-decoration-color: #008000\">✓ Trial </span><span style=\"color: #008000; text-decoration-color: #008000; font-weight: bold\">4</span><span style=\"color: #008000; text-decoration-color: #008000\"> CONVERGED:</span> <span style=\"color: #808000; text-decoration-color: #808000\">divergences</span>=<span style=\"color: #008080; text-decoration-color: #008080; font-weight: bold\">0.0</span>%, <span style=\"color: #808000; text-decoration-color: #808000\">max_rhat</span>=<span style=\"color: #008080; text-decoration-color: #008080; font-weight: bold\">1.022</span>, <span style=\"color: #808000; text-decoration-color: #808000\">min_ess</span>=<span style=\"color: #008080; text-decoration-color: #008080; font-weight: bold\">228</span>\n",
       "</pre>\n"
      ],
      "text/plain": [
       "\u001b[32m✓ Trial \u001b[0m\u001b[1;32m4\u001b[0m\u001b[32m CONVERGED:\u001b[0m \u001b[33mdivergences\u001b[0m=\u001b[1;36m0\u001b[0m\u001b[1;36m.0\u001b[0m%, \u001b[33mmax_rhat\u001b[0m=\u001b[1;36m1\u001b[0m\u001b[1;36m.022\u001b[0m, \u001b[33mmin_ess\u001b[0m=\u001b[1;36m228\u001b[0m\n"
      ]
     },
     "metadata": {},
     "output_type": "display_data"
    },
    {
     "name": "stderr",
     "output_type": "stream",
     "text": [
      "/Users/lfiaschi/Documents/workspace/blog-optuna-pymc-marketing/.venv/lib/python3.12/site-packages/arviz/stats/stats.py:1667: UserWarning: For one or more samples the posterior variance of the log predictive densities exceeds 0.4. This could be indication of WAIC starting to fail. \n",
      "See http://arxiv.org/abs/1507.04544 for details\n",
      "  warnings.warn(\n"
     ]
    },
    {
     "data": {
      "text/html": [
       "<pre style=\"white-space:pre;overflow-x:auto;line-height:normal;font-family:Menlo,'DejaVu Sans Mono',consolas,'Courier New',monospace\"><span style=\"color: #808000; text-decoration-color: #808000\">WAIC </span><span style=\"color: #808000; text-decoration-color: #808000; font-weight: bold\">(</span><span style=\"color: #808000; text-decoration-color: #808000\">negative ELPD</span><span style=\"color: #808000; text-decoration-color: #808000; font-weight: bold\">)</span><span style=\"color: #808000; text-decoration-color: #808000\">: </span><span style=\"color: #808000; text-decoration-color: #808000; font-weight: bold\">-185.82</span>\n",
       "</pre>\n"
      ],
      "text/plain": [
       "\u001b[33mWAIC \u001b[0m\u001b[1;33m(\u001b[0m\u001b[33mnegative ELPD\u001b[0m\u001b[1;33m)\u001b[0m\u001b[33m: \u001b[0m\u001b[1;33m-185.82\u001b[0m\n"
      ]
     },
     "metadata": {},
     "output_type": "display_data"
    },
    {
     "name": "stdout",
     "output_type": "stream",
     "text": [
      "[I 2025-10-18 21:55:08,579] Trial 4 finished with value: -185.82101084164083 and parameters: {'yearly_seasonality': 7, 'adstock_max_lag': 10}. Best is trial 3 with value: -189.37708684679.\n"
     ]
    },
    {
     "data": {
      "text/html": [
       "<pre style=\"white-space:pre;overflow-x:auto;line-height:normal;font-family:Menlo,'DejaVu Sans Mono',consolas,'Courier New',monospace\">\n",
       "<span style=\"color: #008080; text-decoration-color: #008080; font-weight: bold\">Trial </span><span style=\"color: #008080; text-decoration-color: #008080; font-weight: bold\">5</span><span style=\"color: #008080; text-decoration-color: #008080; font-weight: bold\">:</span> <span style=\"color: #808000; text-decoration-color: #808000\">yearly_seasonality</span>=<span style=\"color: #008080; text-decoration-color: #008080; font-weight: bold\">1</span>, <span style=\"color: #808000; text-decoration-color: #808000\">adstock_max_lag</span>=<span style=\"color: #008080; text-decoration-color: #008080; font-weight: bold\">12</span>\n",
       "</pre>\n"
      ],
      "text/plain": [
       "\n",
       "\u001b[1;36mTrial \u001b[0m\u001b[1;36m5\u001b[0m\u001b[1;36m:\u001b[0m \u001b[33myearly_seasonality\u001b[0m=\u001b[1;36m1\u001b[0m, \u001b[33madstock_max_lag\u001b[0m=\u001b[1;36m12\u001b[0m\n"
      ]
     },
     "metadata": {},
     "output_type": "display_data"
    },
    {
     "name": "stderr",
     "output_type": "stream",
     "text": [
      "We recommend running at least 4 chains for robust computation of convergence diagnostics\n"
     ]
    },
    {
     "data": {
      "application/vnd.jupyter.widget-view+json": {
       "model_id": "ae06befe7feb401f9b75e38ccca3aee5",
       "version_major": 2,
       "version_minor": 0
      },
      "text/plain": [
       "Output()"
      ]
     },
     "metadata": {},
     "output_type": "display_data"
    },
    {
     "data": {
      "text/html": [
       "<pre style=\"white-space:pre;overflow-x:auto;line-height:normal;font-family:Menlo,'DejaVu Sans Mono',consolas,'Courier New',monospace\"></pre>\n"
      ],
      "text/plain": []
     },
     "metadata": {},
     "output_type": "display_data"
    },
    {
     "data": {
      "text/html": [
       "<pre style=\"white-space:pre;overflow-x:auto;line-height:normal;font-family:Menlo,'DejaVu Sans Mono',consolas,'Courier New',monospace\"><span style=\"color: #008000; text-decoration-color: #008000\">✓ Trial </span><span style=\"color: #008000; text-decoration-color: #008000; font-weight: bold\">5</span><span style=\"color: #008000; text-decoration-color: #008000\"> CONVERGED:</span> <span style=\"color: #808000; text-decoration-color: #808000\">divergences</span>=<span style=\"color: #008080; text-decoration-color: #008080; font-weight: bold\">0.0</span>%, <span style=\"color: #808000; text-decoration-color: #808000\">max_rhat</span>=<span style=\"color: #008080; text-decoration-color: #008080; font-weight: bold\">1.010</span>, <span style=\"color: #808000; text-decoration-color: #808000\">min_ess</span>=<span style=\"color: #008080; text-decoration-color: #008080; font-weight: bold\">283</span>\n",
       "</pre>\n"
      ],
      "text/plain": [
       "\u001b[32m✓ Trial \u001b[0m\u001b[1;32m5\u001b[0m\u001b[32m CONVERGED:\u001b[0m \u001b[33mdivergences\u001b[0m=\u001b[1;36m0\u001b[0m\u001b[1;36m.0\u001b[0m%, \u001b[33mmax_rhat\u001b[0m=\u001b[1;36m1\u001b[0m\u001b[1;36m.010\u001b[0m, \u001b[33mmin_ess\u001b[0m=\u001b[1;36m283\u001b[0m\n"
      ]
     },
     "metadata": {},
     "output_type": "display_data"
    },
    {
     "name": "stderr",
     "output_type": "stream",
     "text": [
      "/Users/lfiaschi/Documents/workspace/blog-optuna-pymc-marketing/.venv/lib/python3.12/site-packages/arviz/stats/stats.py:1667: UserWarning: For one or more samples the posterior variance of the log predictive densities exceeds 0.4. This could be indication of WAIC starting to fail. \n",
      "See http://arxiv.org/abs/1507.04544 for details\n",
      "  warnings.warn(\n"
     ]
    },
    {
     "data": {
      "text/html": [
       "<pre style=\"white-space:pre;overflow-x:auto;line-height:normal;font-family:Menlo,'DejaVu Sans Mono',consolas,'Courier New',monospace\"><span style=\"color: #808000; text-decoration-color: #808000\">WAIC </span><span style=\"color: #808000; text-decoration-color: #808000; font-weight: bold\">(</span><span style=\"color: #808000; text-decoration-color: #808000\">negative ELPD</span><span style=\"color: #808000; text-decoration-color: #808000; font-weight: bold\">)</span><span style=\"color: #808000; text-decoration-color: #808000\">: </span><span style=\"color: #808000; text-decoration-color: #808000; font-weight: bold\">-189.47</span>\n",
       "</pre>\n"
      ],
      "text/plain": [
       "\u001b[33mWAIC \u001b[0m\u001b[1;33m(\u001b[0m\u001b[33mnegative ELPD\u001b[0m\u001b[1;33m)\u001b[0m\u001b[33m: \u001b[0m\u001b[1;33m-189.47\u001b[0m\n"
      ]
     },
     "metadata": {},
     "output_type": "display_data"
    },
    {
     "name": "stdout",
     "output_type": "stream",
     "text": [
      "[I 2025-10-18 21:55:17,851] Trial 5 finished with value: -189.47066925417167 and parameters: {'yearly_seasonality': 1, 'adstock_max_lag': 12}. Best is trial 5 with value: -189.47066925417167.\n"
     ]
    },
    {
     "data": {
      "text/html": [
       "<pre style=\"white-space:pre;overflow-x:auto;line-height:normal;font-family:Menlo,'DejaVu Sans Mono',consolas,'Courier New',monospace\">\n",
       "<span style=\"color: #008080; text-decoration-color: #008080; font-weight: bold\">Trial </span><span style=\"color: #008080; text-decoration-color: #008080; font-weight: bold\">6</span><span style=\"color: #008080; text-decoration-color: #008080; font-weight: bold\">:</span> <span style=\"color: #808000; text-decoration-color: #808000\">yearly_seasonality</span>=<span style=\"color: #008080; text-decoration-color: #008080; font-weight: bold\">9</span>, <span style=\"color: #808000; text-decoration-color: #808000\">adstock_max_lag</span>=<span style=\"color: #008080; text-decoration-color: #008080; font-weight: bold\">5</span>\n",
       "</pre>\n"
      ],
      "text/plain": [
       "\n",
       "\u001b[1;36mTrial \u001b[0m\u001b[1;36m6\u001b[0m\u001b[1;36m:\u001b[0m \u001b[33myearly_seasonality\u001b[0m=\u001b[1;36m9\u001b[0m, \u001b[33madstock_max_lag\u001b[0m=\u001b[1;36m5\u001b[0m\n"
      ]
     },
     "metadata": {},
     "output_type": "display_data"
    },
    {
     "name": "stderr",
     "output_type": "stream",
     "text": [
      "We recommend running at least 4 chains for robust computation of convergence diagnostics\n",
      "The rhat statistic is larger than 1.01 for some parameters. This indicates problems during sampling. See https://arxiv.org/abs/1903.08008 for details\n"
     ]
    },
    {
     "data": {
      "application/vnd.jupyter.widget-view+json": {
       "model_id": "d97f827cf9ba42718efe7ea95ede72dc",
       "version_major": 2,
       "version_minor": 0
      },
      "text/plain": [
       "Output()"
      ]
     },
     "metadata": {},
     "output_type": "display_data"
    },
    {
     "data": {
      "text/html": [
       "<pre style=\"white-space:pre;overflow-x:auto;line-height:normal;font-family:Menlo,'DejaVu Sans Mono',consolas,'Courier New',monospace\"></pre>\n"
      ],
      "text/plain": []
     },
     "metadata": {},
     "output_type": "display_data"
    },
    {
     "data": {
      "text/html": [
       "<pre style=\"white-space:pre;overflow-x:auto;line-height:normal;font-family:Menlo,'DejaVu Sans Mono',consolas,'Courier New',monospace\"><span style=\"color: #008000; text-decoration-color: #008000\">✓ Trial </span><span style=\"color: #008000; text-decoration-color: #008000; font-weight: bold\">6</span><span style=\"color: #008000; text-decoration-color: #008000\"> CONVERGED:</span> <span style=\"color: #808000; text-decoration-color: #808000\">divergences</span>=<span style=\"color: #008080; text-decoration-color: #008080; font-weight: bold\">0.0</span>%, <span style=\"color: #808000; text-decoration-color: #808000\">max_rhat</span>=<span style=\"color: #008080; text-decoration-color: #008080; font-weight: bold\">1.019</span>, <span style=\"color: #808000; text-decoration-color: #808000\">min_ess</span>=<span style=\"color: #008080; text-decoration-color: #008080; font-weight: bold\">285</span>\n",
       "</pre>\n"
      ],
      "text/plain": [
       "\u001b[32m✓ Trial \u001b[0m\u001b[1;32m6\u001b[0m\u001b[32m CONVERGED:\u001b[0m \u001b[33mdivergences\u001b[0m=\u001b[1;36m0\u001b[0m\u001b[1;36m.0\u001b[0m%, \u001b[33mmax_rhat\u001b[0m=\u001b[1;36m1\u001b[0m\u001b[1;36m.019\u001b[0m, \u001b[33mmin_ess\u001b[0m=\u001b[1;36m285\u001b[0m\n"
      ]
     },
     "metadata": {},
     "output_type": "display_data"
    },
    {
     "name": "stderr",
     "output_type": "stream",
     "text": [
      "/Users/lfiaschi/Documents/workspace/blog-optuna-pymc-marketing/.venv/lib/python3.12/site-packages/arviz/stats/stats.py:1667: UserWarning: For one or more samples the posterior variance of the log predictive densities exceeds 0.4. This could be indication of WAIC starting to fail. \n",
      "See http://arxiv.org/abs/1507.04544 for details\n",
      "  warnings.warn(\n"
     ]
    },
    {
     "data": {
      "text/html": [
       "<pre style=\"white-space:pre;overflow-x:auto;line-height:normal;font-family:Menlo,'DejaVu Sans Mono',consolas,'Courier New',monospace\"><span style=\"color: #808000; text-decoration-color: #808000\">WAIC </span><span style=\"color: #808000; text-decoration-color: #808000; font-weight: bold\">(</span><span style=\"color: #808000; text-decoration-color: #808000\">negative ELPD</span><span style=\"color: #808000; text-decoration-color: #808000; font-weight: bold\">)</span><span style=\"color: #808000; text-decoration-color: #808000\">: </span><span style=\"color: #808000; text-decoration-color: #808000; font-weight: bold\">-185.96</span>\n",
       "</pre>\n"
      ],
      "text/plain": [
       "\u001b[33mWAIC \u001b[0m\u001b[1;33m(\u001b[0m\u001b[33mnegative ELPD\u001b[0m\u001b[1;33m)\u001b[0m\u001b[33m: \u001b[0m\u001b[1;33m-185.96\u001b[0m\n"
      ]
     },
     "metadata": {},
     "output_type": "display_data"
    },
    {
     "name": "stdout",
     "output_type": "stream",
     "text": [
      "[I 2025-10-18 21:55:26,969] Trial 6 finished with value: -185.958480771038 and parameters: {'yearly_seasonality': 9, 'adstock_max_lag': 5}. Best is trial 5 with value: -189.47066925417167.\n"
     ]
    },
    {
     "data": {
      "text/html": [
       "<pre style=\"white-space:pre;overflow-x:auto;line-height:normal;font-family:Menlo,'DejaVu Sans Mono',consolas,'Courier New',monospace\">\n",
       "<span style=\"color: #008080; text-decoration-color: #008080; font-weight: bold\">Trial </span><span style=\"color: #008080; text-decoration-color: #008080; font-weight: bold\">7</span><span style=\"color: #008080; text-decoration-color: #008080; font-weight: bold\">:</span> <span style=\"color: #808000; text-decoration-color: #808000\">yearly_seasonality</span>=<span style=\"color: #008080; text-decoration-color: #008080; font-weight: bold\">2</span>, <span style=\"color: #808000; text-decoration-color: #808000\">adstock_max_lag</span>=<span style=\"color: #008080; text-decoration-color: #008080; font-weight: bold\">5</span>\n",
       "</pre>\n"
      ],
      "text/plain": [
       "\n",
       "\u001b[1;36mTrial \u001b[0m\u001b[1;36m7\u001b[0m\u001b[1;36m:\u001b[0m \u001b[33myearly_seasonality\u001b[0m=\u001b[1;36m2\u001b[0m, \u001b[33madstock_max_lag\u001b[0m=\u001b[1;36m5\u001b[0m\n"
      ]
     },
     "metadata": {},
     "output_type": "display_data"
    },
    {
     "name": "stderr",
     "output_type": "stream",
     "text": [
      "We recommend running at least 4 chains for robust computation of convergence diagnostics\n"
     ]
    },
    {
     "data": {
      "application/vnd.jupyter.widget-view+json": {
       "model_id": "b43bb8b453e84510b399efbe80ce1f70",
       "version_major": 2,
       "version_minor": 0
      },
      "text/plain": [
       "Output()"
      ]
     },
     "metadata": {},
     "output_type": "display_data"
    },
    {
     "data": {
      "text/html": [
       "<pre style=\"white-space:pre;overflow-x:auto;line-height:normal;font-family:Menlo,'DejaVu Sans Mono',consolas,'Courier New',monospace\"></pre>\n"
      ],
      "text/plain": []
     },
     "metadata": {},
     "output_type": "display_data"
    },
    {
     "data": {
      "text/html": [
       "<pre style=\"white-space:pre;overflow-x:auto;line-height:normal;font-family:Menlo,'DejaVu Sans Mono',consolas,'Courier New',monospace\"><span style=\"color: #008000; text-decoration-color: #008000\">✓ Trial </span><span style=\"color: #008000; text-decoration-color: #008000; font-weight: bold\">7</span><span style=\"color: #008000; text-decoration-color: #008000\"> CONVERGED:</span> <span style=\"color: #808000; text-decoration-color: #808000\">divergences</span>=<span style=\"color: #008080; text-decoration-color: #008080; font-weight: bold\">0.0</span>%, <span style=\"color: #808000; text-decoration-color: #808000\">max_rhat</span>=<span style=\"color: #008080; text-decoration-color: #008080; font-weight: bold\">1.010</span>, <span style=\"color: #808000; text-decoration-color: #808000\">min_ess</span>=<span style=\"color: #008080; text-decoration-color: #008080; font-weight: bold\">331</span>\n",
       "</pre>\n"
      ],
      "text/plain": [
       "\u001b[32m✓ Trial \u001b[0m\u001b[1;32m7\u001b[0m\u001b[32m CONVERGED:\u001b[0m \u001b[33mdivergences\u001b[0m=\u001b[1;36m0\u001b[0m\u001b[1;36m.0\u001b[0m%, \u001b[33mmax_rhat\u001b[0m=\u001b[1;36m1\u001b[0m\u001b[1;36m.010\u001b[0m, \u001b[33mmin_ess\u001b[0m=\u001b[1;36m331\u001b[0m\n"
      ]
     },
     "metadata": {},
     "output_type": "display_data"
    },
    {
     "name": "stderr",
     "output_type": "stream",
     "text": [
      "/Users/lfiaschi/Documents/workspace/blog-optuna-pymc-marketing/.venv/lib/python3.12/site-packages/arviz/stats/stats.py:1667: UserWarning: For one or more samples the posterior variance of the log predictive densities exceeds 0.4. This could be indication of WAIC starting to fail. \n",
      "See http://arxiv.org/abs/1507.04544 for details\n",
      "  warnings.warn(\n"
     ]
    },
    {
     "data": {
      "text/html": [
       "<pre style=\"white-space:pre;overflow-x:auto;line-height:normal;font-family:Menlo,'DejaVu Sans Mono',consolas,'Courier New',monospace\"><span style=\"color: #808000; text-decoration-color: #808000\">WAIC </span><span style=\"color: #808000; text-decoration-color: #808000; font-weight: bold\">(</span><span style=\"color: #808000; text-decoration-color: #808000\">negative ELPD</span><span style=\"color: #808000; text-decoration-color: #808000; font-weight: bold\">)</span><span style=\"color: #808000; text-decoration-color: #808000\">: </span><span style=\"color: #808000; text-decoration-color: #808000; font-weight: bold\">-188.70</span>\n",
       "</pre>\n"
      ],
      "text/plain": [
       "\u001b[33mWAIC \u001b[0m\u001b[1;33m(\u001b[0m\u001b[33mnegative ELPD\u001b[0m\u001b[1;33m)\u001b[0m\u001b[33m: \u001b[0m\u001b[1;33m-188.70\u001b[0m\n"
      ]
     },
     "metadata": {},
     "output_type": "display_data"
    },
    {
     "name": "stdout",
     "output_type": "stream",
     "text": [
      "[I 2025-10-18 21:55:34,792] Trial 7 finished with value: -188.70439979020915 and parameters: {'yearly_seasonality': 2, 'adstock_max_lag': 5}. Best is trial 5 with value: -189.47066925417167.\n"
     ]
    },
    {
     "data": {
      "text/html": [
       "<pre style=\"white-space:pre;overflow-x:auto;line-height:normal;font-family:Menlo,'DejaVu Sans Mono',consolas,'Courier New',monospace\">\n",
       "<span style=\"color: #008080; text-decoration-color: #008080; font-weight: bold\">Trial </span><span style=\"color: #008080; text-decoration-color: #008080; font-weight: bold\">8</span><span style=\"color: #008080; text-decoration-color: #008080; font-weight: bold\">:</span> <span style=\"color: #808000; text-decoration-color: #808000\">yearly_seasonality</span>=<span style=\"color: #008080; text-decoration-color: #008080; font-weight: bold\">4</span>, <span style=\"color: #808000; text-decoration-color: #808000\">adstock_max_lag</span>=<span style=\"color: #008080; text-decoration-color: #008080; font-weight: bold\">8</span>\n",
       "</pre>\n"
      ],
      "text/plain": [
       "\n",
       "\u001b[1;36mTrial \u001b[0m\u001b[1;36m8\u001b[0m\u001b[1;36m:\u001b[0m \u001b[33myearly_seasonality\u001b[0m=\u001b[1;36m4\u001b[0m, \u001b[33madstock_max_lag\u001b[0m=\u001b[1;36m8\u001b[0m\n"
      ]
     },
     "metadata": {},
     "output_type": "display_data"
    },
    {
     "name": "stderr",
     "output_type": "stream",
     "text": [
      "We recommend running at least 4 chains for robust computation of convergence diagnostics\n",
      "The rhat statistic is larger than 1.01 for some parameters. This indicates problems during sampling. See https://arxiv.org/abs/1903.08008 for details\n"
     ]
    },
    {
     "data": {
      "application/vnd.jupyter.widget-view+json": {
       "model_id": "fced1d393f88457b8d9ee9ca023f762c",
       "version_major": 2,
       "version_minor": 0
      },
      "text/plain": [
       "Output()"
      ]
     },
     "metadata": {},
     "output_type": "display_data"
    },
    {
     "data": {
      "text/html": [
       "<pre style=\"white-space:pre;overflow-x:auto;line-height:normal;font-family:Menlo,'DejaVu Sans Mono',consolas,'Courier New',monospace\"></pre>\n"
      ],
      "text/plain": []
     },
     "metadata": {},
     "output_type": "display_data"
    },
    {
     "data": {
      "text/html": [
       "<pre style=\"white-space:pre;overflow-x:auto;line-height:normal;font-family:Menlo,'DejaVu Sans Mono',consolas,'Courier New',monospace\"><span style=\"color: #008000; text-decoration-color: #008000\">✓ Trial </span><span style=\"color: #008000; text-decoration-color: #008000; font-weight: bold\">8</span><span style=\"color: #008000; text-decoration-color: #008000\"> CONVERGED:</span> <span style=\"color: #808000; text-decoration-color: #808000\">divergences</span>=<span style=\"color: #008080; text-decoration-color: #008080; font-weight: bold\">0.0</span>%, <span style=\"color: #808000; text-decoration-color: #808000\">max_rhat</span>=<span style=\"color: #008080; text-decoration-color: #008080; font-weight: bold\">1.016</span>, <span style=\"color: #808000; text-decoration-color: #808000\">min_ess</span>=<span style=\"color: #008080; text-decoration-color: #008080; font-weight: bold\">332</span>\n",
       "</pre>\n"
      ],
      "text/plain": [
       "\u001b[32m✓ Trial \u001b[0m\u001b[1;32m8\u001b[0m\u001b[32m CONVERGED:\u001b[0m \u001b[33mdivergences\u001b[0m=\u001b[1;36m0\u001b[0m\u001b[1;36m.0\u001b[0m%, \u001b[33mmax_rhat\u001b[0m=\u001b[1;36m1\u001b[0m\u001b[1;36m.016\u001b[0m, \u001b[33mmin_ess\u001b[0m=\u001b[1;36m332\u001b[0m\n"
      ]
     },
     "metadata": {},
     "output_type": "display_data"
    },
    {
     "name": "stderr",
     "output_type": "stream",
     "text": [
      "/Users/lfiaschi/Documents/workspace/blog-optuna-pymc-marketing/.venv/lib/python3.12/site-packages/arviz/stats/stats.py:1667: UserWarning: For one or more samples the posterior variance of the log predictive densities exceeds 0.4. This could be indication of WAIC starting to fail. \n",
      "See http://arxiv.org/abs/1507.04544 for details\n",
      "  warnings.warn(\n"
     ]
    },
    {
     "data": {
      "text/html": [
       "<pre style=\"white-space:pre;overflow-x:auto;line-height:normal;font-family:Menlo,'DejaVu Sans Mono',consolas,'Courier New',monospace\"><span style=\"color: #808000; text-decoration-color: #808000\">WAIC </span><span style=\"color: #808000; text-decoration-color: #808000; font-weight: bold\">(</span><span style=\"color: #808000; text-decoration-color: #808000\">negative ELPD</span><span style=\"color: #808000; text-decoration-color: #808000; font-weight: bold\">)</span><span style=\"color: #808000; text-decoration-color: #808000\">: </span><span style=\"color: #808000; text-decoration-color: #808000; font-weight: bold\">-188.60</span>\n",
       "</pre>\n"
      ],
      "text/plain": [
       "\u001b[33mWAIC \u001b[0m\u001b[1;33m(\u001b[0m\u001b[33mnegative ELPD\u001b[0m\u001b[1;33m)\u001b[0m\u001b[33m: \u001b[0m\u001b[1;33m-188.60\u001b[0m\n"
      ]
     },
     "metadata": {},
     "output_type": "display_data"
    },
    {
     "name": "stdout",
     "output_type": "stream",
     "text": [
      "[I 2025-10-18 21:55:46,181] Trial 8 finished with value: -188.6043606889142 and parameters: {'yearly_seasonality': 4, 'adstock_max_lag': 8}. Best is trial 5 with value: -189.47066925417167.\n"
     ]
    },
    {
     "data": {
      "text/html": [
       "<pre style=\"white-space:pre;overflow-x:auto;line-height:normal;font-family:Menlo,'DejaVu Sans Mono',consolas,'Courier New',monospace\">\n",
       "<span style=\"color: #008080; text-decoration-color: #008080; font-weight: bold\">Trial </span><span style=\"color: #008080; text-decoration-color: #008080; font-weight: bold\">9</span><span style=\"color: #008080; text-decoration-color: #008080; font-weight: bold\">:</span> <span style=\"color: #808000; text-decoration-color: #808000\">yearly_seasonality</span>=<span style=\"color: #008080; text-decoration-color: #008080; font-weight: bold\">5</span>, <span style=\"color: #808000; text-decoration-color: #808000\">adstock_max_lag</span>=<span style=\"color: #008080; text-decoration-color: #008080; font-weight: bold\">6</span>\n",
       "</pre>\n"
      ],
      "text/plain": [
       "\n",
       "\u001b[1;36mTrial \u001b[0m\u001b[1;36m9\u001b[0m\u001b[1;36m:\u001b[0m \u001b[33myearly_seasonality\u001b[0m=\u001b[1;36m5\u001b[0m, \u001b[33madstock_max_lag\u001b[0m=\u001b[1;36m6\u001b[0m\n"
      ]
     },
     "metadata": {},
     "output_type": "display_data"
    },
    {
     "name": "stderr",
     "output_type": "stream",
     "text": [
      "We recommend running at least 4 chains for robust computation of convergence diagnostics\n",
      "The rhat statistic is larger than 1.01 for some parameters. This indicates problems during sampling. See https://arxiv.org/abs/1903.08008 for details\n"
     ]
    },
    {
     "data": {
      "application/vnd.jupyter.widget-view+json": {
       "model_id": "7059ee7a8f674929bc98644773ad021b",
       "version_major": 2,
       "version_minor": 0
      },
      "text/plain": [
       "Output()"
      ]
     },
     "metadata": {},
     "output_type": "display_data"
    },
    {
     "data": {
      "text/html": [
       "<pre style=\"white-space:pre;overflow-x:auto;line-height:normal;font-family:Menlo,'DejaVu Sans Mono',consolas,'Courier New',monospace\"></pre>\n"
      ],
      "text/plain": []
     },
     "metadata": {},
     "output_type": "display_data"
    },
    {
     "data": {
      "text/html": [
       "<pre style=\"white-space:pre;overflow-x:auto;line-height:normal;font-family:Menlo,'DejaVu Sans Mono',consolas,'Courier New',monospace\"><span style=\"color: #008000; text-decoration-color: #008000\">✓ Trial </span><span style=\"color: #008000; text-decoration-color: #008000; font-weight: bold\">9</span><span style=\"color: #008000; text-decoration-color: #008000\"> CONVERGED:</span> <span style=\"color: #808000; text-decoration-color: #808000\">divergences</span>=<span style=\"color: #008080; text-decoration-color: #008080; font-weight: bold\">0.0</span>%, <span style=\"color: #808000; text-decoration-color: #808000\">max_rhat</span>=<span style=\"color: #008080; text-decoration-color: #008080; font-weight: bold\">1.012</span>, <span style=\"color: #808000; text-decoration-color: #808000\">min_ess</span>=<span style=\"color: #008080; text-decoration-color: #008080; font-weight: bold\">253</span>\n",
       "</pre>\n"
      ],
      "text/plain": [
       "\u001b[32m✓ Trial \u001b[0m\u001b[1;32m9\u001b[0m\u001b[32m CONVERGED:\u001b[0m \u001b[33mdivergences\u001b[0m=\u001b[1;36m0\u001b[0m\u001b[1;36m.0\u001b[0m%, \u001b[33mmax_rhat\u001b[0m=\u001b[1;36m1\u001b[0m\u001b[1;36m.012\u001b[0m, \u001b[33mmin_ess\u001b[0m=\u001b[1;36m253\u001b[0m\n"
      ]
     },
     "metadata": {},
     "output_type": "display_data"
    },
    {
     "name": "stderr",
     "output_type": "stream",
     "text": [
      "/Users/lfiaschi/Documents/workspace/blog-optuna-pymc-marketing/.venv/lib/python3.12/site-packages/arviz/stats/stats.py:1667: UserWarning: For one or more samples the posterior variance of the log predictive densities exceeds 0.4. This could be indication of WAIC starting to fail. \n",
      "See http://arxiv.org/abs/1507.04544 for details\n",
      "  warnings.warn(\n"
     ]
    },
    {
     "data": {
      "text/html": [
       "<pre style=\"white-space:pre;overflow-x:auto;line-height:normal;font-family:Menlo,'DejaVu Sans Mono',consolas,'Courier New',monospace\"><span style=\"color: #808000; text-decoration-color: #808000\">WAIC </span><span style=\"color: #808000; text-decoration-color: #808000; font-weight: bold\">(</span><span style=\"color: #808000; text-decoration-color: #808000\">negative ELPD</span><span style=\"color: #808000; text-decoration-color: #808000; font-weight: bold\">)</span><span style=\"color: #808000; text-decoration-color: #808000\">: </span><span style=\"color: #808000; text-decoration-color: #808000; font-weight: bold\">-187.94</span>\n",
       "</pre>\n"
      ],
      "text/plain": [
       "\u001b[33mWAIC \u001b[0m\u001b[1;33m(\u001b[0m\u001b[33mnegative ELPD\u001b[0m\u001b[1;33m)\u001b[0m\u001b[33m: \u001b[0m\u001b[1;33m-187.94\u001b[0m\n"
      ]
     },
     "metadata": {},
     "output_type": "display_data"
    },
    {
     "name": "stdout",
     "output_type": "stream",
     "text": [
      "[I 2025-10-18 21:55:55,126] Trial 9 finished with value: -187.94160658473317 and parameters: {'yearly_seasonality': 5, 'adstock_max_lag': 6}. Best is trial 5 with value: -189.47066925417167.\n"
     ]
    },
    {
     "data": {
      "text/html": [
       "<pre style=\"white-space:pre;overflow-x:auto;line-height:normal;font-family:Menlo,'DejaVu Sans Mono',consolas,'Courier New',monospace\">\n",
       "<span style=\"color: #008080; text-decoration-color: #008080; font-weight: bold\">Trial </span><span style=\"color: #008080; text-decoration-color: #008080; font-weight: bold\">10</span><span style=\"color: #008080; text-decoration-color: #008080; font-weight: bold\">:</span> <span style=\"color: #808000; text-decoration-color: #808000\">yearly_seasonality</span>=<span style=\"color: #008080; text-decoration-color: #008080; font-weight: bold\">10</span>, <span style=\"color: #808000; text-decoration-color: #808000\">adstock_max_lag</span>=<span style=\"color: #008080; text-decoration-color: #008080; font-weight: bold\">8</span>\n",
       "</pre>\n"
      ],
      "text/plain": [
       "\n",
       "\u001b[1;36mTrial \u001b[0m\u001b[1;36m10\u001b[0m\u001b[1;36m:\u001b[0m \u001b[33myearly_seasonality\u001b[0m=\u001b[1;36m10\u001b[0m, \u001b[33madstock_max_lag\u001b[0m=\u001b[1;36m8\u001b[0m\n"
      ]
     },
     "metadata": {},
     "output_type": "display_data"
    },
    {
     "name": "stderr",
     "output_type": "stream",
     "text": [
      "We recommend running at least 4 chains for robust computation of convergence diagnostics\n",
      "The rhat statistic is larger than 1.01 for some parameters. This indicates problems during sampling. See https://arxiv.org/abs/1903.08008 for details\n",
      "The effective sample size per chain is smaller than 100 for some parameters.  A higher number is needed for reliable rhat and ess computation. See https://arxiv.org/abs/1903.08008 for details\n"
     ]
    },
    {
     "data": {
      "application/vnd.jupyter.widget-view+json": {
       "model_id": "a55635207e55490aa1354d89c7b8a980",
       "version_major": 2,
       "version_minor": 0
      },
      "text/plain": [
       "Output()"
      ]
     },
     "metadata": {},
     "output_type": "display_data"
    },
    {
     "data": {
      "text/html": [
       "<pre style=\"white-space:pre;overflow-x:auto;line-height:normal;font-family:Menlo,'DejaVu Sans Mono',consolas,'Courier New',monospace\"></pre>\n"
      ],
      "text/plain": []
     },
     "metadata": {},
     "output_type": "display_data"
    },
    {
     "data": {
      "text/html": [
       "<pre style=\"white-space:pre;overflow-x:auto;line-height:normal;font-family:Menlo,'DejaVu Sans Mono',consolas,'Courier New',monospace\"><span style=\"color: #008000; text-decoration-color: #008000\">✓ Trial </span><span style=\"color: #008000; text-decoration-color: #008000; font-weight: bold\">10</span><span style=\"color: #008000; text-decoration-color: #008000\"> CONVERGED:</span> <span style=\"color: #808000; text-decoration-color: #808000\">divergences</span>=<span style=\"color: #008080; text-decoration-color: #008080; font-weight: bold\">0.0</span>%, <span style=\"color: #808000; text-decoration-color: #808000\">max_rhat</span>=<span style=\"color: #008080; text-decoration-color: #008080; font-weight: bold\">1.019</span>, <span style=\"color: #808000; text-decoration-color: #808000\">min_ess</span>=<span style=\"color: #008080; text-decoration-color: #008080; font-weight: bold\">172</span>\n",
       "</pre>\n"
      ],
      "text/plain": [
       "\u001b[32m✓ Trial \u001b[0m\u001b[1;32m10\u001b[0m\u001b[32m CONVERGED:\u001b[0m \u001b[33mdivergences\u001b[0m=\u001b[1;36m0\u001b[0m\u001b[1;36m.0\u001b[0m%, \u001b[33mmax_rhat\u001b[0m=\u001b[1;36m1\u001b[0m\u001b[1;36m.019\u001b[0m, \u001b[33mmin_ess\u001b[0m=\u001b[1;36m172\u001b[0m\n"
      ]
     },
     "metadata": {},
     "output_type": "display_data"
    },
    {
     "name": "stderr",
     "output_type": "stream",
     "text": [
      "/Users/lfiaschi/Documents/workspace/blog-optuna-pymc-marketing/.venv/lib/python3.12/site-packages/arviz/stats/stats.py:1667: UserWarning: For one or more samples the posterior variance of the log predictive densities exceeds 0.4. This could be indication of WAIC starting to fail. \n",
      "See http://arxiv.org/abs/1507.04544 for details\n",
      "  warnings.warn(\n"
     ]
    },
    {
     "data": {
      "text/html": [
       "<pre style=\"white-space:pre;overflow-x:auto;line-height:normal;font-family:Menlo,'DejaVu Sans Mono',consolas,'Courier New',monospace\"><span style=\"color: #808000; text-decoration-color: #808000\">WAIC </span><span style=\"color: #808000; text-decoration-color: #808000; font-weight: bold\">(</span><span style=\"color: #808000; text-decoration-color: #808000\">negative ELPD</span><span style=\"color: #808000; text-decoration-color: #808000; font-weight: bold\">)</span><span style=\"color: #808000; text-decoration-color: #808000\">: </span><span style=\"color: #808000; text-decoration-color: #808000; font-weight: bold\">-183.43</span>\n",
       "</pre>\n"
      ],
      "text/plain": [
       "\u001b[33mWAIC \u001b[0m\u001b[1;33m(\u001b[0m\u001b[33mnegative ELPD\u001b[0m\u001b[1;33m)\u001b[0m\u001b[33m: \u001b[0m\u001b[1;33m-183.43\u001b[0m\n"
      ]
     },
     "metadata": {},
     "output_type": "display_data"
    },
    {
     "name": "stdout",
     "output_type": "stream",
     "text": [
      "[I 2025-10-18 21:56:06,241] Trial 10 finished with value: -183.42656035226628 and parameters: {'yearly_seasonality': 10, 'adstock_max_lag': 8}. Best is trial 5 with value: -189.47066925417167.\n"
     ]
    },
    {
     "data": {
      "text/html": [
       "<pre style=\"white-space:pre;overflow-x:auto;line-height:normal;font-family:Menlo,'DejaVu Sans Mono',consolas,'Courier New',monospace\">\n",
       "<span style=\"color: #008080; text-decoration-color: #008080; font-weight: bold\">Trial </span><span style=\"color: #008080; text-decoration-color: #008080; font-weight: bold\">11</span><span style=\"color: #008080; text-decoration-color: #008080; font-weight: bold\">:</span> <span style=\"color: #808000; text-decoration-color: #808000\">yearly_seasonality</span>=<span style=\"color: #008080; text-decoration-color: #008080; font-weight: bold\">1</span>, <span style=\"color: #808000; text-decoration-color: #808000\">adstock_max_lag</span>=<span style=\"color: #008080; text-decoration-color: #008080; font-weight: bold\">12</span>\n",
       "</pre>\n"
      ],
      "text/plain": [
       "\n",
       "\u001b[1;36mTrial \u001b[0m\u001b[1;36m11\u001b[0m\u001b[1;36m:\u001b[0m \u001b[33myearly_seasonality\u001b[0m=\u001b[1;36m1\u001b[0m, \u001b[33madstock_max_lag\u001b[0m=\u001b[1;36m12\u001b[0m\n"
      ]
     },
     "metadata": {},
     "output_type": "display_data"
    },
    {
     "name": "stderr",
     "output_type": "stream",
     "text": [
      "We recommend running at least 4 chains for robust computation of convergence diagnostics\n",
      "The rhat statistic is larger than 1.01 for some parameters. This indicates problems during sampling. See https://arxiv.org/abs/1903.08008 for details\n"
     ]
    },
    {
     "data": {
      "application/vnd.jupyter.widget-view+json": {
       "model_id": "246bef8dcb0a4adbaf91687696c10685",
       "version_major": 2,
       "version_minor": 0
      },
      "text/plain": [
       "Output()"
      ]
     },
     "metadata": {},
     "output_type": "display_data"
    },
    {
     "data": {
      "text/html": [
       "<pre style=\"white-space:pre;overflow-x:auto;line-height:normal;font-family:Menlo,'DejaVu Sans Mono',consolas,'Courier New',monospace\"></pre>\n"
      ],
      "text/plain": []
     },
     "metadata": {},
     "output_type": "display_data"
    },
    {
     "data": {
      "text/html": [
       "<pre style=\"white-space:pre;overflow-x:auto;line-height:normal;font-family:Menlo,'DejaVu Sans Mono',consolas,'Courier New',monospace\"><span style=\"color: #008000; text-decoration-color: #008000\">✓ Trial </span><span style=\"color: #008000; text-decoration-color: #008000; font-weight: bold\">11</span><span style=\"color: #008000; text-decoration-color: #008000\"> CONVERGED:</span> <span style=\"color: #808000; text-decoration-color: #808000\">divergences</span>=<span style=\"color: #008080; text-decoration-color: #008080; font-weight: bold\">0.0</span>%, <span style=\"color: #808000; text-decoration-color: #808000\">max_rhat</span>=<span style=\"color: #008080; text-decoration-color: #008080; font-weight: bold\">1.012</span>, <span style=\"color: #808000; text-decoration-color: #808000\">min_ess</span>=<span style=\"color: #008080; text-decoration-color: #008080; font-weight: bold\">439</span>\n",
       "</pre>\n"
      ],
      "text/plain": [
       "\u001b[32m✓ Trial \u001b[0m\u001b[1;32m11\u001b[0m\u001b[32m CONVERGED:\u001b[0m \u001b[33mdivergences\u001b[0m=\u001b[1;36m0\u001b[0m\u001b[1;36m.0\u001b[0m%, \u001b[33mmax_rhat\u001b[0m=\u001b[1;36m1\u001b[0m\u001b[1;36m.012\u001b[0m, \u001b[33mmin_ess\u001b[0m=\u001b[1;36m439\u001b[0m\n"
      ]
     },
     "metadata": {},
     "output_type": "display_data"
    },
    {
     "name": "stderr",
     "output_type": "stream",
     "text": [
      "/Users/lfiaschi/Documents/workspace/blog-optuna-pymc-marketing/.venv/lib/python3.12/site-packages/arviz/stats/stats.py:1667: UserWarning: For one or more samples the posterior variance of the log predictive densities exceeds 0.4. This could be indication of WAIC starting to fail. \n",
      "See http://arxiv.org/abs/1507.04544 for details\n",
      "  warnings.warn(\n"
     ]
    },
    {
     "data": {
      "text/html": [
       "<pre style=\"white-space:pre;overflow-x:auto;line-height:normal;font-family:Menlo,'DejaVu Sans Mono',consolas,'Courier New',monospace\"><span style=\"color: #808000; text-decoration-color: #808000\">WAIC </span><span style=\"color: #808000; text-decoration-color: #808000; font-weight: bold\">(</span><span style=\"color: #808000; text-decoration-color: #808000\">negative ELPD</span><span style=\"color: #808000; text-decoration-color: #808000; font-weight: bold\">)</span><span style=\"color: #808000; text-decoration-color: #808000\">: </span><span style=\"color: #808000; text-decoration-color: #808000; font-weight: bold\">-189.07</span>\n",
       "</pre>\n"
      ],
      "text/plain": [
       "\u001b[33mWAIC \u001b[0m\u001b[1;33m(\u001b[0m\u001b[33mnegative ELPD\u001b[0m\u001b[1;33m)\u001b[0m\u001b[33m: \u001b[0m\u001b[1;33m-189.07\u001b[0m\n"
      ]
     },
     "metadata": {},
     "output_type": "display_data"
    },
    {
     "name": "stdout",
     "output_type": "stream",
     "text": [
      "[I 2025-10-18 21:56:18,493] Trial 11 finished with value: -189.06847454207656 and parameters: {'yearly_seasonality': 1, 'adstock_max_lag': 12}. Best is trial 5 with value: -189.47066925417167.\n"
     ]
    },
    {
     "data": {
      "text/html": [
       "<pre style=\"white-space:pre;overflow-x:auto;line-height:normal;font-family:Menlo,'DejaVu Sans Mono',consolas,'Courier New',monospace\">\n",
       "<span style=\"color: #008080; text-decoration-color: #008080; font-weight: bold\">Trial </span><span style=\"color: #008080; text-decoration-color: #008080; font-weight: bold\">12</span><span style=\"color: #008080; text-decoration-color: #008080; font-weight: bold\">:</span> <span style=\"color: #808000; text-decoration-color: #808000\">yearly_seasonality</span>=<span style=\"color: #008080; text-decoration-color: #008080; font-weight: bold\">1</span>, <span style=\"color: #808000; text-decoration-color: #808000\">adstock_max_lag</span>=<span style=\"color: #008080; text-decoration-color: #008080; font-weight: bold\">11</span>\n",
       "</pre>\n"
      ],
      "text/plain": [
       "\n",
       "\u001b[1;36mTrial \u001b[0m\u001b[1;36m12\u001b[0m\u001b[1;36m:\u001b[0m \u001b[33myearly_seasonality\u001b[0m=\u001b[1;36m1\u001b[0m, \u001b[33madstock_max_lag\u001b[0m=\u001b[1;36m11\u001b[0m\n"
      ]
     },
     "metadata": {},
     "output_type": "display_data"
    },
    {
     "name": "stderr",
     "output_type": "stream",
     "text": [
      "We recommend running at least 4 chains for robust computation of convergence diagnostics\n",
      "The rhat statistic is larger than 1.01 for some parameters. This indicates problems during sampling. See https://arxiv.org/abs/1903.08008 for details\n"
     ]
    },
    {
     "data": {
      "application/vnd.jupyter.widget-view+json": {
       "model_id": "8a3b9cc5784548b9a80f0975c8c9ce86",
       "version_major": 2,
       "version_minor": 0
      },
      "text/plain": [
       "Output()"
      ]
     },
     "metadata": {},
     "output_type": "display_data"
    },
    {
     "data": {
      "text/html": [
       "<pre style=\"white-space:pre;overflow-x:auto;line-height:normal;font-family:Menlo,'DejaVu Sans Mono',consolas,'Courier New',monospace\"></pre>\n"
      ],
      "text/plain": []
     },
     "metadata": {},
     "output_type": "display_data"
    },
    {
     "data": {
      "text/html": [
       "<pre style=\"white-space:pre;overflow-x:auto;line-height:normal;font-family:Menlo,'DejaVu Sans Mono',consolas,'Courier New',monospace\"><span style=\"color: #008000; text-decoration-color: #008000\">✓ Trial </span><span style=\"color: #008000; text-decoration-color: #008000; font-weight: bold\">12</span><span style=\"color: #008000; text-decoration-color: #008000\"> CONVERGED:</span> <span style=\"color: #808000; text-decoration-color: #808000\">divergences</span>=<span style=\"color: #008080; text-decoration-color: #008080; font-weight: bold\">0.0</span>%, <span style=\"color: #808000; text-decoration-color: #808000\">max_rhat</span>=<span style=\"color: #008080; text-decoration-color: #008080; font-weight: bold\">1.020</span>, <span style=\"color: #808000; text-decoration-color: #808000\">min_ess</span>=<span style=\"color: #008080; text-decoration-color: #008080; font-weight: bold\">352</span>\n",
       "</pre>\n"
      ],
      "text/plain": [
       "\u001b[32m✓ Trial \u001b[0m\u001b[1;32m12\u001b[0m\u001b[32m CONVERGED:\u001b[0m \u001b[33mdivergences\u001b[0m=\u001b[1;36m0\u001b[0m\u001b[1;36m.0\u001b[0m%, \u001b[33mmax_rhat\u001b[0m=\u001b[1;36m1\u001b[0m\u001b[1;36m.020\u001b[0m, \u001b[33mmin_ess\u001b[0m=\u001b[1;36m352\u001b[0m\n"
      ]
     },
     "metadata": {},
     "output_type": "display_data"
    },
    {
     "name": "stderr",
     "output_type": "stream",
     "text": [
      "/Users/lfiaschi/Documents/workspace/blog-optuna-pymc-marketing/.venv/lib/python3.12/site-packages/arviz/stats/stats.py:1667: UserWarning: For one or more samples the posterior variance of the log predictive densities exceeds 0.4. This could be indication of WAIC starting to fail. \n",
      "See http://arxiv.org/abs/1507.04544 for details\n",
      "  warnings.warn(\n"
     ]
    },
    {
     "data": {
      "text/html": [
       "<pre style=\"white-space:pre;overflow-x:auto;line-height:normal;font-family:Menlo,'DejaVu Sans Mono',consolas,'Courier New',monospace\"><span style=\"color: #808000; text-decoration-color: #808000\">WAIC </span><span style=\"color: #808000; text-decoration-color: #808000; font-weight: bold\">(</span><span style=\"color: #808000; text-decoration-color: #808000\">negative ELPD</span><span style=\"color: #808000; text-decoration-color: #808000; font-weight: bold\">)</span><span style=\"color: #808000; text-decoration-color: #808000\">: </span><span style=\"color: #808000; text-decoration-color: #808000; font-weight: bold\">-189.40</span>\n",
       "</pre>\n"
      ],
      "text/plain": [
       "\u001b[33mWAIC \u001b[0m\u001b[1;33m(\u001b[0m\u001b[33mnegative ELPD\u001b[0m\u001b[1;33m)\u001b[0m\u001b[33m: \u001b[0m\u001b[1;33m-189.40\u001b[0m\n"
      ]
     },
     "metadata": {},
     "output_type": "display_data"
    },
    {
     "name": "stdout",
     "output_type": "stream",
     "text": [
      "[I 2025-10-18 21:56:28,183] Trial 12 finished with value: -189.40037142871506 and parameters: {'yearly_seasonality': 1, 'adstock_max_lag': 11}. Best is trial 5 with value: -189.47066925417167.\n"
     ]
    },
    {
     "data": {
      "text/html": [
       "<pre style=\"white-space:pre;overflow-x:auto;line-height:normal;font-family:Menlo,'DejaVu Sans Mono',consolas,'Courier New',monospace\">\n",
       "<span style=\"color: #008080; text-decoration-color: #008080; font-weight: bold\">Trial </span><span style=\"color: #008080; text-decoration-color: #008080; font-weight: bold\">13</span><span style=\"color: #008080; text-decoration-color: #008080; font-weight: bold\">:</span> <span style=\"color: #808000; text-decoration-color: #808000\">yearly_seasonality</span>=<span style=\"color: #008080; text-decoration-color: #008080; font-weight: bold\">3</span>, <span style=\"color: #808000; text-decoration-color: #808000\">adstock_max_lag</span>=<span style=\"color: #008080; text-decoration-color: #008080; font-weight: bold\">10</span>\n",
       "</pre>\n"
      ],
      "text/plain": [
       "\n",
       "\u001b[1;36mTrial \u001b[0m\u001b[1;36m13\u001b[0m\u001b[1;36m:\u001b[0m \u001b[33myearly_seasonality\u001b[0m=\u001b[1;36m3\u001b[0m, \u001b[33madstock_max_lag\u001b[0m=\u001b[1;36m10\u001b[0m\n"
      ]
     },
     "metadata": {},
     "output_type": "display_data"
    },
    {
     "name": "stderr",
     "output_type": "stream",
     "text": [
      "We recommend running at least 4 chains for robust computation of convergence diagnostics\n",
      "The rhat statistic is larger than 1.01 for some parameters. This indicates problems during sampling. See https://arxiv.org/abs/1903.08008 for details\n"
     ]
    },
    {
     "data": {
      "application/vnd.jupyter.widget-view+json": {
       "model_id": "b4c17c1a7cf049ab9c69ad8eb702ebaa",
       "version_major": 2,
       "version_minor": 0
      },
      "text/plain": [
       "Output()"
      ]
     },
     "metadata": {},
     "output_type": "display_data"
    },
    {
     "data": {
      "text/html": [
       "<pre style=\"white-space:pre;overflow-x:auto;line-height:normal;font-family:Menlo,'DejaVu Sans Mono',consolas,'Courier New',monospace\"></pre>\n"
      ],
      "text/plain": []
     },
     "metadata": {},
     "output_type": "display_data"
    },
    {
     "data": {
      "text/html": [
       "<pre style=\"white-space:pre;overflow-x:auto;line-height:normal;font-family:Menlo,'DejaVu Sans Mono',consolas,'Courier New',monospace\"><span style=\"color: #008000; text-decoration-color: #008000\">✓ Trial </span><span style=\"color: #008000; text-decoration-color: #008000; font-weight: bold\">13</span><span style=\"color: #008000; text-decoration-color: #008000\"> CONVERGED:</span> <span style=\"color: #808000; text-decoration-color: #808000\">divergences</span>=<span style=\"color: #008080; text-decoration-color: #008080; font-weight: bold\">0.0</span>%, <span style=\"color: #808000; text-decoration-color: #808000\">max_rhat</span>=<span style=\"color: #008080; text-decoration-color: #008080; font-weight: bold\">1.015</span>, <span style=\"color: #808000; text-decoration-color: #808000\">min_ess</span>=<span style=\"color: #008080; text-decoration-color: #008080; font-weight: bold\">297</span>\n",
       "</pre>\n"
      ],
      "text/plain": [
       "\u001b[32m✓ Trial \u001b[0m\u001b[1;32m13\u001b[0m\u001b[32m CONVERGED:\u001b[0m \u001b[33mdivergences\u001b[0m=\u001b[1;36m0\u001b[0m\u001b[1;36m.0\u001b[0m%, \u001b[33mmax_rhat\u001b[0m=\u001b[1;36m1\u001b[0m\u001b[1;36m.015\u001b[0m, \u001b[33mmin_ess\u001b[0m=\u001b[1;36m297\u001b[0m\n"
      ]
     },
     "metadata": {},
     "output_type": "display_data"
    },
    {
     "name": "stderr",
     "output_type": "stream",
     "text": [
      "/Users/lfiaschi/Documents/workspace/blog-optuna-pymc-marketing/.venv/lib/python3.12/site-packages/arviz/stats/stats.py:1667: UserWarning: For one or more samples the posterior variance of the log predictive densities exceeds 0.4. This could be indication of WAIC starting to fail. \n",
      "See http://arxiv.org/abs/1507.04544 for details\n",
      "  warnings.warn(\n"
     ]
    },
    {
     "data": {
      "text/html": [
       "<pre style=\"white-space:pre;overflow-x:auto;line-height:normal;font-family:Menlo,'DejaVu Sans Mono',consolas,'Courier New',monospace\"><span style=\"color: #808000; text-decoration-color: #808000\">WAIC </span><span style=\"color: #808000; text-decoration-color: #808000; font-weight: bold\">(</span><span style=\"color: #808000; text-decoration-color: #808000\">negative ELPD</span><span style=\"color: #808000; text-decoration-color: #808000; font-weight: bold\">)</span><span style=\"color: #808000; text-decoration-color: #808000\">: </span><span style=\"color: #808000; text-decoration-color: #808000; font-weight: bold\">-187.98</span>\n",
       "</pre>\n"
      ],
      "text/plain": [
       "\u001b[33mWAIC \u001b[0m\u001b[1;33m(\u001b[0m\u001b[33mnegative ELPD\u001b[0m\u001b[1;33m)\u001b[0m\u001b[33m: \u001b[0m\u001b[1;33m-187.98\u001b[0m\n"
      ]
     },
     "metadata": {},
     "output_type": "display_data"
    },
    {
     "name": "stdout",
     "output_type": "stream",
     "text": [
      "[I 2025-10-18 21:56:37,662] Trial 13 finished with value: -187.9834485521369 and parameters: {'yearly_seasonality': 3, 'adstock_max_lag': 10}. Best is trial 5 with value: -189.47066925417167.\n"
     ]
    },
    {
     "data": {
      "text/html": [
       "<pre style=\"white-space:pre;overflow-x:auto;line-height:normal;font-family:Menlo,'DejaVu Sans Mono',consolas,'Courier New',monospace\">\n",
       "<span style=\"color: #008080; text-decoration-color: #008080; font-weight: bold\">Trial </span><span style=\"color: #008080; text-decoration-color: #008080; font-weight: bold\">14</span><span style=\"color: #008080; text-decoration-color: #008080; font-weight: bold\">:</span> <span style=\"color: #808000; text-decoration-color: #808000\">yearly_seasonality</span>=<span style=\"color: #008080; text-decoration-color: #008080; font-weight: bold\">6</span>, <span style=\"color: #808000; text-decoration-color: #808000\">adstock_max_lag</span>=<span style=\"color: #008080; text-decoration-color: #008080; font-weight: bold\">12</span>\n",
       "</pre>\n"
      ],
      "text/plain": [
       "\n",
       "\u001b[1;36mTrial \u001b[0m\u001b[1;36m14\u001b[0m\u001b[1;36m:\u001b[0m \u001b[33myearly_seasonality\u001b[0m=\u001b[1;36m6\u001b[0m, \u001b[33madstock_max_lag\u001b[0m=\u001b[1;36m12\u001b[0m\n"
      ]
     },
     "metadata": {},
     "output_type": "display_data"
    },
    {
     "name": "stderr",
     "output_type": "stream",
     "text": [
      "We recommend running at least 4 chains for robust computation of convergence diagnostics\n",
      "The rhat statistic is larger than 1.01 for some parameters. This indicates problems during sampling. See https://arxiv.org/abs/1903.08008 for details\n"
     ]
    },
    {
     "data": {
      "application/vnd.jupyter.widget-view+json": {
       "model_id": "71714af8f402452f8878275aab750886",
       "version_major": 2,
       "version_minor": 0
      },
      "text/plain": [
       "Output()"
      ]
     },
     "metadata": {},
     "output_type": "display_data"
    },
    {
     "data": {
      "text/html": [
       "<pre style=\"white-space:pre;overflow-x:auto;line-height:normal;font-family:Menlo,'DejaVu Sans Mono',consolas,'Courier New',monospace\"></pre>\n"
      ],
      "text/plain": []
     },
     "metadata": {},
     "output_type": "display_data"
    },
    {
     "data": {
      "text/html": [
       "<pre style=\"white-space:pre;overflow-x:auto;line-height:normal;font-family:Menlo,'DejaVu Sans Mono',consolas,'Courier New',monospace\"><span style=\"color: #008000; text-decoration-color: #008000\">✓ Trial </span><span style=\"color: #008000; text-decoration-color: #008000; font-weight: bold\">14</span><span style=\"color: #008000; text-decoration-color: #008000\"> CONVERGED:</span> <span style=\"color: #808000; text-decoration-color: #808000\">divergences</span>=<span style=\"color: #008080; text-decoration-color: #008080; font-weight: bold\">0.0</span>%, <span style=\"color: #808000; text-decoration-color: #808000\">max_rhat</span>=<span style=\"color: #008080; text-decoration-color: #008080; font-weight: bold\">1.011</span>, <span style=\"color: #808000; text-decoration-color: #808000\">min_ess</span>=<span style=\"color: #008080; text-decoration-color: #008080; font-weight: bold\">284</span>\n",
       "</pre>\n"
      ],
      "text/plain": [
       "\u001b[32m✓ Trial \u001b[0m\u001b[1;32m14\u001b[0m\u001b[32m CONVERGED:\u001b[0m \u001b[33mdivergences\u001b[0m=\u001b[1;36m0\u001b[0m\u001b[1;36m.0\u001b[0m%, \u001b[33mmax_rhat\u001b[0m=\u001b[1;36m1\u001b[0m\u001b[1;36m.011\u001b[0m, \u001b[33mmin_ess\u001b[0m=\u001b[1;36m284\u001b[0m\n"
      ]
     },
     "metadata": {},
     "output_type": "display_data"
    },
    {
     "name": "stderr",
     "output_type": "stream",
     "text": [
      "/Users/lfiaschi/Documents/workspace/blog-optuna-pymc-marketing/.venv/lib/python3.12/site-packages/arviz/stats/stats.py:1667: UserWarning: For one or more samples the posterior variance of the log predictive densities exceeds 0.4. This could be indication of WAIC starting to fail. \n",
      "See http://arxiv.org/abs/1507.04544 for details\n",
      "  warnings.warn(\n"
     ]
    },
    {
     "data": {
      "text/html": [
       "<pre style=\"white-space:pre;overflow-x:auto;line-height:normal;font-family:Menlo,'DejaVu Sans Mono',consolas,'Courier New',monospace\"><span style=\"color: #808000; text-decoration-color: #808000\">WAIC </span><span style=\"color: #808000; text-decoration-color: #808000; font-weight: bold\">(</span><span style=\"color: #808000; text-decoration-color: #808000\">negative ELPD</span><span style=\"color: #808000; text-decoration-color: #808000; font-weight: bold\">)</span><span style=\"color: #808000; text-decoration-color: #808000\">: </span><span style=\"color: #808000; text-decoration-color: #808000; font-weight: bold\">-188.75</span>\n",
       "</pre>\n"
      ],
      "text/plain": [
       "\u001b[33mWAIC \u001b[0m\u001b[1;33m(\u001b[0m\u001b[33mnegative ELPD\u001b[0m\u001b[1;33m)\u001b[0m\u001b[33m: \u001b[0m\u001b[1;33m-188.75\u001b[0m\n"
      ]
     },
     "metadata": {},
     "output_type": "display_data"
    },
    {
     "name": "stdout",
     "output_type": "stream",
     "text": [
      "[I 2025-10-18 21:56:48,778] Trial 14 finished with value: -188.7502178570051 and parameters: {'yearly_seasonality': 6, 'adstock_max_lag': 12}. Best is trial 5 with value: -189.47066925417167.\n"
     ]
    },
    {
     "data": {
      "text/html": [
       "<pre style=\"white-space:pre;overflow-x:auto;line-height:normal;font-family:Menlo,'DejaVu Sans Mono',consolas,'Courier New',monospace\">\n",
       "<span style=\"color: #008080; text-decoration-color: #008080; font-weight: bold\">Trial </span><span style=\"color: #008080; text-decoration-color: #008080; font-weight: bold\">15</span><span style=\"color: #008080; text-decoration-color: #008080; font-weight: bold\">:</span> <span style=\"color: #808000; text-decoration-color: #808000\">yearly_seasonality</span>=<span style=\"color: #008080; text-decoration-color: #008080; font-weight: bold\">1</span>, <span style=\"color: #808000; text-decoration-color: #808000\">adstock_max_lag</span>=<span style=\"color: #008080; text-decoration-color: #008080; font-weight: bold\">10</span>\n",
       "</pre>\n"
      ],
      "text/plain": [
       "\n",
       "\u001b[1;36mTrial \u001b[0m\u001b[1;36m15\u001b[0m\u001b[1;36m:\u001b[0m \u001b[33myearly_seasonality\u001b[0m=\u001b[1;36m1\u001b[0m, \u001b[33madstock_max_lag\u001b[0m=\u001b[1;36m10\u001b[0m\n"
      ]
     },
     "metadata": {},
     "output_type": "display_data"
    },
    {
     "name": "stderr",
     "output_type": "stream",
     "text": [
      "We recommend running at least 4 chains for robust computation of convergence diagnostics\n",
      "The rhat statistic is larger than 1.01 for some parameters. This indicates problems during sampling. See https://arxiv.org/abs/1903.08008 for details\n"
     ]
    },
    {
     "data": {
      "application/vnd.jupyter.widget-view+json": {
       "model_id": "30290a350c2b42d3ab7f1c1139543679",
       "version_major": 2,
       "version_minor": 0
      },
      "text/plain": [
       "Output()"
      ]
     },
     "metadata": {},
     "output_type": "display_data"
    },
    {
     "data": {
      "text/html": [
       "<pre style=\"white-space:pre;overflow-x:auto;line-height:normal;font-family:Menlo,'DejaVu Sans Mono',consolas,'Courier New',monospace\"></pre>\n"
      ],
      "text/plain": []
     },
     "metadata": {},
     "output_type": "display_data"
    },
    {
     "data": {
      "text/html": [
       "<pre style=\"white-space:pre;overflow-x:auto;line-height:normal;font-family:Menlo,'DejaVu Sans Mono',consolas,'Courier New',monospace\"><span style=\"color: #008000; text-decoration-color: #008000\">✓ Trial </span><span style=\"color: #008000; text-decoration-color: #008000; font-weight: bold\">15</span><span style=\"color: #008000; text-decoration-color: #008000\"> CONVERGED:</span> <span style=\"color: #808000; text-decoration-color: #808000\">divergences</span>=<span style=\"color: #008080; text-decoration-color: #008080; font-weight: bold\">0.0</span>%, <span style=\"color: #808000; text-decoration-color: #808000\">max_rhat</span>=<span style=\"color: #008080; text-decoration-color: #008080; font-weight: bold\">1.039</span>, <span style=\"color: #808000; text-decoration-color: #808000\">min_ess</span>=<span style=\"color: #008080; text-decoration-color: #008080; font-weight: bold\">295</span>\n",
       "</pre>\n"
      ],
      "text/plain": [
       "\u001b[32m✓ Trial \u001b[0m\u001b[1;32m15\u001b[0m\u001b[32m CONVERGED:\u001b[0m \u001b[33mdivergences\u001b[0m=\u001b[1;36m0\u001b[0m\u001b[1;36m.0\u001b[0m%, \u001b[33mmax_rhat\u001b[0m=\u001b[1;36m1\u001b[0m\u001b[1;36m.039\u001b[0m, \u001b[33mmin_ess\u001b[0m=\u001b[1;36m295\u001b[0m\n"
      ]
     },
     "metadata": {},
     "output_type": "display_data"
    },
    {
     "name": "stderr",
     "output_type": "stream",
     "text": [
      "/Users/lfiaschi/Documents/workspace/blog-optuna-pymc-marketing/.venv/lib/python3.12/site-packages/arviz/stats/stats.py:1667: UserWarning: For one or more samples the posterior variance of the log predictive densities exceeds 0.4. This could be indication of WAIC starting to fail. \n",
      "See http://arxiv.org/abs/1507.04544 for details\n",
      "  warnings.warn(\n"
     ]
    },
    {
     "data": {
      "text/html": [
       "<pre style=\"white-space:pre;overflow-x:auto;line-height:normal;font-family:Menlo,'DejaVu Sans Mono',consolas,'Courier New',monospace\"><span style=\"color: #808000; text-decoration-color: #808000\">WAIC </span><span style=\"color: #808000; text-decoration-color: #808000; font-weight: bold\">(</span><span style=\"color: #808000; text-decoration-color: #808000\">negative ELPD</span><span style=\"color: #808000; text-decoration-color: #808000; font-weight: bold\">)</span><span style=\"color: #808000; text-decoration-color: #808000\">: </span><span style=\"color: #808000; text-decoration-color: #808000; font-weight: bold\">-189.58</span>\n",
       "</pre>\n"
      ],
      "text/plain": [
       "\u001b[33mWAIC \u001b[0m\u001b[1;33m(\u001b[0m\u001b[33mnegative ELPD\u001b[0m\u001b[1;33m)\u001b[0m\u001b[33m: \u001b[0m\u001b[1;33m-189.58\u001b[0m\n"
      ]
     },
     "metadata": {},
     "output_type": "display_data"
    },
    {
     "name": "stdout",
     "output_type": "stream",
     "text": [
      "[I 2025-10-18 21:57:01,718] Trial 15 finished with value: -189.5773094799376 and parameters: {'yearly_seasonality': 1, 'adstock_max_lag': 10}. Best is trial 15 with value: -189.5773094799376.\n"
     ]
    },
    {
     "data": {
      "text/html": [
       "<pre style=\"white-space:pre;overflow-x:auto;line-height:normal;font-family:Menlo,'DejaVu Sans Mono',consolas,'Courier New',monospace\">\n",
       "<span style=\"color: #008080; text-decoration-color: #008080; font-weight: bold\">Trial </span><span style=\"color: #008080; text-decoration-color: #008080; font-weight: bold\">16</span><span style=\"color: #008080; text-decoration-color: #008080; font-weight: bold\">:</span> <span style=\"color: #808000; text-decoration-color: #808000\">yearly_seasonality</span>=<span style=\"color: #008080; text-decoration-color: #008080; font-weight: bold\">3</span>, <span style=\"color: #808000; text-decoration-color: #808000\">adstock_max_lag</span>=<span style=\"color: #008080; text-decoration-color: #008080; font-weight: bold\">7</span>\n",
       "</pre>\n"
      ],
      "text/plain": [
       "\n",
       "\u001b[1;36mTrial \u001b[0m\u001b[1;36m16\u001b[0m\u001b[1;36m:\u001b[0m \u001b[33myearly_seasonality\u001b[0m=\u001b[1;36m3\u001b[0m, \u001b[33madstock_max_lag\u001b[0m=\u001b[1;36m7\u001b[0m\n"
      ]
     },
     "metadata": {},
     "output_type": "display_data"
    },
    {
     "name": "stderr",
     "output_type": "stream",
     "text": [
      "We recommend running at least 4 chains for robust computation of convergence diagnostics\n",
      "The rhat statistic is larger than 1.01 for some parameters. This indicates problems during sampling. See https://arxiv.org/abs/1903.08008 for details\n"
     ]
    },
    {
     "data": {
      "application/vnd.jupyter.widget-view+json": {
       "model_id": "9bd8c219634b442283fe382ee3b94d27",
       "version_major": 2,
       "version_minor": 0
      },
      "text/plain": [
       "Output()"
      ]
     },
     "metadata": {},
     "output_type": "display_data"
    },
    {
     "data": {
      "text/html": [
       "<pre style=\"white-space:pre;overflow-x:auto;line-height:normal;font-family:Menlo,'DejaVu Sans Mono',consolas,'Courier New',monospace\"></pre>\n"
      ],
      "text/plain": []
     },
     "metadata": {},
     "output_type": "display_data"
    },
    {
     "data": {
      "text/html": [
       "<pre style=\"white-space:pre;overflow-x:auto;line-height:normal;font-family:Menlo,'DejaVu Sans Mono',consolas,'Courier New',monospace\"><span style=\"color: #008000; text-decoration-color: #008000\">✓ Trial </span><span style=\"color: #008000; text-decoration-color: #008000; font-weight: bold\">16</span><span style=\"color: #008000; text-decoration-color: #008000\"> CONVERGED:</span> <span style=\"color: #808000; text-decoration-color: #808000\">divergences</span>=<span style=\"color: #008080; text-decoration-color: #008080; font-weight: bold\">0.0</span>%, <span style=\"color: #808000; text-decoration-color: #808000\">max_rhat</span>=<span style=\"color: #008080; text-decoration-color: #008080; font-weight: bold\">1.015</span>, <span style=\"color: #808000; text-decoration-color: #808000\">min_ess</span>=<span style=\"color: #008080; text-decoration-color: #008080; font-weight: bold\">211</span>\n",
       "</pre>\n"
      ],
      "text/plain": [
       "\u001b[32m✓ Trial \u001b[0m\u001b[1;32m16\u001b[0m\u001b[32m CONVERGED:\u001b[0m \u001b[33mdivergences\u001b[0m=\u001b[1;36m0\u001b[0m\u001b[1;36m.0\u001b[0m%, \u001b[33mmax_rhat\u001b[0m=\u001b[1;36m1\u001b[0m\u001b[1;36m.015\u001b[0m, \u001b[33mmin_ess\u001b[0m=\u001b[1;36m211\u001b[0m\n"
      ]
     },
     "metadata": {},
     "output_type": "display_data"
    },
    {
     "name": "stderr",
     "output_type": "stream",
     "text": [
      "/Users/lfiaschi/Documents/workspace/blog-optuna-pymc-marketing/.venv/lib/python3.12/site-packages/arviz/stats/stats.py:1667: UserWarning: For one or more samples the posterior variance of the log predictive densities exceeds 0.4. This could be indication of WAIC starting to fail. \n",
      "See http://arxiv.org/abs/1507.04544 for details\n",
      "  warnings.warn(\n"
     ]
    },
    {
     "data": {
      "text/html": [
       "<pre style=\"white-space:pre;overflow-x:auto;line-height:normal;font-family:Menlo,'DejaVu Sans Mono',consolas,'Courier New',monospace\"><span style=\"color: #808000; text-decoration-color: #808000\">WAIC </span><span style=\"color: #808000; text-decoration-color: #808000; font-weight: bold\">(</span><span style=\"color: #808000; text-decoration-color: #808000\">negative ELPD</span><span style=\"color: #808000; text-decoration-color: #808000; font-weight: bold\">)</span><span style=\"color: #808000; text-decoration-color: #808000\">: </span><span style=\"color: #808000; text-decoration-color: #808000; font-weight: bold\">-188.07</span>\n",
       "</pre>\n"
      ],
      "text/plain": [
       "\u001b[33mWAIC \u001b[0m\u001b[1;33m(\u001b[0m\u001b[33mnegative ELPD\u001b[0m\u001b[1;33m)\u001b[0m\u001b[33m: \u001b[0m\u001b[1;33m-188.07\u001b[0m\n"
      ]
     },
     "metadata": {},
     "output_type": "display_data"
    },
    {
     "name": "stdout",
     "output_type": "stream",
     "text": [
      "[I 2025-10-18 21:57:11,062] Trial 16 finished with value: -188.07360849339898 and parameters: {'yearly_seasonality': 3, 'adstock_max_lag': 7}. Best is trial 15 with value: -189.5773094799376.\n"
     ]
    },
    {
     "data": {
      "text/html": [
       "<pre style=\"white-space:pre;overflow-x:auto;line-height:normal;font-family:Menlo,'DejaVu Sans Mono',consolas,'Courier New',monospace\">\n",
       "<span style=\"color: #008080; text-decoration-color: #008080; font-weight: bold\">Trial </span><span style=\"color: #008080; text-decoration-color: #008080; font-weight: bold\">17</span><span style=\"color: #008080; text-decoration-color: #008080; font-weight: bold\">:</span> <span style=\"color: #808000; text-decoration-color: #808000\">yearly_seasonality</span>=<span style=\"color: #008080; text-decoration-color: #008080; font-weight: bold\">3</span>, <span style=\"color: #808000; text-decoration-color: #808000\">adstock_max_lag</span>=<span style=\"color: #008080; text-decoration-color: #008080; font-weight: bold\">10</span>\n",
       "</pre>\n"
      ],
      "text/plain": [
       "\n",
       "\u001b[1;36mTrial \u001b[0m\u001b[1;36m17\u001b[0m\u001b[1;36m:\u001b[0m \u001b[33myearly_seasonality\u001b[0m=\u001b[1;36m3\u001b[0m, \u001b[33madstock_max_lag\u001b[0m=\u001b[1;36m10\u001b[0m\n"
      ]
     },
     "metadata": {},
     "output_type": "display_data"
    },
    {
     "name": "stderr",
     "output_type": "stream",
     "text": [
      "We recommend running at least 4 chains for robust computation of convergence diagnostics\n",
      "The rhat statistic is larger than 1.01 for some parameters. This indicates problems during sampling. See https://arxiv.org/abs/1903.08008 for details\n"
     ]
    },
    {
     "data": {
      "application/vnd.jupyter.widget-view+json": {
       "model_id": "80a2b231730b42e19d283fd3bea41e59",
       "version_major": 2,
       "version_minor": 0
      },
      "text/plain": [
       "Output()"
      ]
     },
     "metadata": {},
     "output_type": "display_data"
    },
    {
     "data": {
      "text/html": [
       "<pre style=\"white-space:pre;overflow-x:auto;line-height:normal;font-family:Menlo,'DejaVu Sans Mono',consolas,'Courier New',monospace\"></pre>\n"
      ],
      "text/plain": []
     },
     "metadata": {},
     "output_type": "display_data"
    },
    {
     "data": {
      "text/html": [
       "<pre style=\"white-space:pre;overflow-x:auto;line-height:normal;font-family:Menlo,'DejaVu Sans Mono',consolas,'Courier New',monospace\"><span style=\"color: #008000; text-decoration-color: #008000\">✓ Trial </span><span style=\"color: #008000; text-decoration-color: #008000; font-weight: bold\">17</span><span style=\"color: #008000; text-decoration-color: #008000\"> CONVERGED:</span> <span style=\"color: #808000; text-decoration-color: #808000\">divergences</span>=<span style=\"color: #008080; text-decoration-color: #008080; font-weight: bold\">0.0</span>%, <span style=\"color: #808000; text-decoration-color: #808000\">max_rhat</span>=<span style=\"color: #008080; text-decoration-color: #008080; font-weight: bold\">1.024</span>, <span style=\"color: #808000; text-decoration-color: #808000\">min_ess</span>=<span style=\"color: #008080; text-decoration-color: #008080; font-weight: bold\">281</span>\n",
       "</pre>\n"
      ],
      "text/plain": [
       "\u001b[32m✓ Trial \u001b[0m\u001b[1;32m17\u001b[0m\u001b[32m CONVERGED:\u001b[0m \u001b[33mdivergences\u001b[0m=\u001b[1;36m0\u001b[0m\u001b[1;36m.0\u001b[0m%, \u001b[33mmax_rhat\u001b[0m=\u001b[1;36m1\u001b[0m\u001b[1;36m.024\u001b[0m, \u001b[33mmin_ess\u001b[0m=\u001b[1;36m281\u001b[0m\n"
      ]
     },
     "metadata": {},
     "output_type": "display_data"
    },
    {
     "name": "stderr",
     "output_type": "stream",
     "text": [
      "/Users/lfiaschi/Documents/workspace/blog-optuna-pymc-marketing/.venv/lib/python3.12/site-packages/arviz/stats/stats.py:1667: UserWarning: For one or more samples the posterior variance of the log predictive densities exceeds 0.4. This could be indication of WAIC starting to fail. \n",
      "See http://arxiv.org/abs/1507.04544 for details\n",
      "  warnings.warn(\n"
     ]
    },
    {
     "data": {
      "text/html": [
       "<pre style=\"white-space:pre;overflow-x:auto;line-height:normal;font-family:Menlo,'DejaVu Sans Mono',consolas,'Courier New',monospace\"><span style=\"color: #808000; text-decoration-color: #808000\">WAIC </span><span style=\"color: #808000; text-decoration-color: #808000; font-weight: bold\">(</span><span style=\"color: #808000; text-decoration-color: #808000\">negative ELPD</span><span style=\"color: #808000; text-decoration-color: #808000; font-weight: bold\">)</span><span style=\"color: #808000; text-decoration-color: #808000\">: </span><span style=\"color: #808000; text-decoration-color: #808000; font-weight: bold\">-188.02</span>\n",
       "</pre>\n"
      ],
      "text/plain": [
       "\u001b[33mWAIC \u001b[0m\u001b[1;33m(\u001b[0m\u001b[33mnegative ELPD\u001b[0m\u001b[1;33m)\u001b[0m\u001b[33m: \u001b[0m\u001b[1;33m-188.02\u001b[0m\n"
      ]
     },
     "metadata": {},
     "output_type": "display_data"
    },
    {
     "name": "stdout",
     "output_type": "stream",
     "text": [
      "[I 2025-10-18 21:57:21,670] Trial 17 finished with value: -188.02248471990458 and parameters: {'yearly_seasonality': 3, 'adstock_max_lag': 10}. Best is trial 15 with value: -189.5773094799376.\n"
     ]
    },
    {
     "data": {
      "text/html": [
       "<pre style=\"white-space:pre;overflow-x:auto;line-height:normal;font-family:Menlo,'DejaVu Sans Mono',consolas,'Courier New',monospace\">\n",
       "<span style=\"color: #008080; text-decoration-color: #008080; font-weight: bold\">Trial </span><span style=\"color: #008080; text-decoration-color: #008080; font-weight: bold\">18</span><span style=\"color: #008080; text-decoration-color: #008080; font-weight: bold\">:</span> <span style=\"color: #808000; text-decoration-color: #808000\">yearly_seasonality</span>=<span style=\"color: #008080; text-decoration-color: #008080; font-weight: bold\">5</span>, <span style=\"color: #808000; text-decoration-color: #808000\">adstock_max_lag</span>=<span style=\"color: #008080; text-decoration-color: #008080; font-weight: bold\">9</span>\n",
       "</pre>\n"
      ],
      "text/plain": [
       "\n",
       "\u001b[1;36mTrial \u001b[0m\u001b[1;36m18\u001b[0m\u001b[1;36m:\u001b[0m \u001b[33myearly_seasonality\u001b[0m=\u001b[1;36m5\u001b[0m, \u001b[33madstock_max_lag\u001b[0m=\u001b[1;36m9\u001b[0m\n"
      ]
     },
     "metadata": {},
     "output_type": "display_data"
    },
    {
     "name": "stderr",
     "output_type": "stream",
     "text": [
      "We recommend running at least 4 chains for robust computation of convergence diagnostics\n"
     ]
    },
    {
     "data": {
      "application/vnd.jupyter.widget-view+json": {
       "model_id": "ffed947facaa41ea95fa5a4cb9d463da",
       "version_major": 2,
       "version_minor": 0
      },
      "text/plain": [
       "Output()"
      ]
     },
     "metadata": {},
     "output_type": "display_data"
    },
    {
     "data": {
      "text/html": [
       "<pre style=\"white-space:pre;overflow-x:auto;line-height:normal;font-family:Menlo,'DejaVu Sans Mono',consolas,'Courier New',monospace\"></pre>\n"
      ],
      "text/plain": []
     },
     "metadata": {},
     "output_type": "display_data"
    },
    {
     "data": {
      "text/html": [
       "<pre style=\"white-space:pre;overflow-x:auto;line-height:normal;font-family:Menlo,'DejaVu Sans Mono',consolas,'Courier New',monospace\"><span style=\"color: #008000; text-decoration-color: #008000\">✓ Trial </span><span style=\"color: #008000; text-decoration-color: #008000; font-weight: bold\">18</span><span style=\"color: #008000; text-decoration-color: #008000\"> CONVERGED:</span> <span style=\"color: #808000; text-decoration-color: #808000\">divergences</span>=<span style=\"color: #008080; text-decoration-color: #008080; font-weight: bold\">0.0</span>%, <span style=\"color: #808000; text-decoration-color: #808000\">max_rhat</span>=<span style=\"color: #008080; text-decoration-color: #008080; font-weight: bold\">1.010</span>, <span style=\"color: #808000; text-decoration-color: #808000\">min_ess</span>=<span style=\"color: #008080; text-decoration-color: #008080; font-weight: bold\">252</span>\n",
       "</pre>\n"
      ],
      "text/plain": [
       "\u001b[32m✓ Trial \u001b[0m\u001b[1;32m18\u001b[0m\u001b[32m CONVERGED:\u001b[0m \u001b[33mdivergences\u001b[0m=\u001b[1;36m0\u001b[0m\u001b[1;36m.0\u001b[0m%, \u001b[33mmax_rhat\u001b[0m=\u001b[1;36m1\u001b[0m\u001b[1;36m.010\u001b[0m, \u001b[33mmin_ess\u001b[0m=\u001b[1;36m252\u001b[0m\n"
      ]
     },
     "metadata": {},
     "output_type": "display_data"
    },
    {
     "name": "stderr",
     "output_type": "stream",
     "text": [
      "/Users/lfiaschi/Documents/workspace/blog-optuna-pymc-marketing/.venv/lib/python3.12/site-packages/arviz/stats/stats.py:1667: UserWarning: For one or more samples the posterior variance of the log predictive densities exceeds 0.4. This could be indication of WAIC starting to fail. \n",
      "See http://arxiv.org/abs/1507.04544 for details\n",
      "  warnings.warn(\n"
     ]
    },
    {
     "data": {
      "text/html": [
       "<pre style=\"white-space:pre;overflow-x:auto;line-height:normal;font-family:Menlo,'DejaVu Sans Mono',consolas,'Courier New',monospace\"><span style=\"color: #808000; text-decoration-color: #808000\">WAIC </span><span style=\"color: #808000; text-decoration-color: #808000; font-weight: bold\">(</span><span style=\"color: #808000; text-decoration-color: #808000\">negative ELPD</span><span style=\"color: #808000; text-decoration-color: #808000; font-weight: bold\">)</span><span style=\"color: #808000; text-decoration-color: #808000\">: </span><span style=\"color: #808000; text-decoration-color: #808000; font-weight: bold\">-189.29</span>\n",
       "</pre>\n"
      ],
      "text/plain": [
       "\u001b[33mWAIC \u001b[0m\u001b[1;33m(\u001b[0m\u001b[33mnegative ELPD\u001b[0m\u001b[1;33m)\u001b[0m\u001b[33m: \u001b[0m\u001b[1;33m-189.29\u001b[0m\n"
      ]
     },
     "metadata": {},
     "output_type": "display_data"
    },
    {
     "name": "stdout",
     "output_type": "stream",
     "text": [
      "[I 2025-10-18 21:57:32,009] Trial 18 finished with value: -189.29062825508475 and parameters: {'yearly_seasonality': 5, 'adstock_max_lag': 9}. Best is trial 15 with value: -189.5773094799376.\n"
     ]
    },
    {
     "data": {
      "text/html": [
       "<pre style=\"white-space:pre;overflow-x:auto;line-height:normal;font-family:Menlo,'DejaVu Sans Mono',consolas,'Courier New',monospace\">\n",
       "<span style=\"color: #008080; text-decoration-color: #008080; font-weight: bold\">Trial </span><span style=\"color: #008080; text-decoration-color: #008080; font-weight: bold\">19</span><span style=\"color: #008080; text-decoration-color: #008080; font-weight: bold\">:</span> <span style=\"color: #808000; text-decoration-color: #808000\">yearly_seasonality</span>=<span style=\"color: #008080; text-decoration-color: #008080; font-weight: bold\">2</span>, <span style=\"color: #808000; text-decoration-color: #808000\">adstock_max_lag</span>=<span style=\"color: #008080; text-decoration-color: #008080; font-weight: bold\">11</span>\n",
       "</pre>\n"
      ],
      "text/plain": [
       "\n",
       "\u001b[1;36mTrial \u001b[0m\u001b[1;36m19\u001b[0m\u001b[1;36m:\u001b[0m \u001b[33myearly_seasonality\u001b[0m=\u001b[1;36m2\u001b[0m, \u001b[33madstock_max_lag\u001b[0m=\u001b[1;36m11\u001b[0m\n"
      ]
     },
     "metadata": {},
     "output_type": "display_data"
    },
    {
     "name": "stderr",
     "output_type": "stream",
     "text": [
      "We recommend running at least 4 chains for robust computation of convergence diagnostics\n",
      "The rhat statistic is larger than 1.01 for some parameters. This indicates problems during sampling. See https://arxiv.org/abs/1903.08008 for details\n",
      "The effective sample size per chain is smaller than 100 for some parameters.  A higher number is needed for reliable rhat and ess computation. See https://arxiv.org/abs/1903.08008 for details\n"
     ]
    },
    {
     "data": {
      "application/vnd.jupyter.widget-view+json": {
       "model_id": "eb95dd8bfd2e40aebbc704a983791733",
       "version_major": 2,
       "version_minor": 0
      },
      "text/plain": [
       "Output()"
      ]
     },
     "metadata": {},
     "output_type": "display_data"
    },
    {
     "data": {
      "text/html": [
       "<pre style=\"white-space:pre;overflow-x:auto;line-height:normal;font-family:Menlo,'DejaVu Sans Mono',consolas,'Courier New',monospace\"></pre>\n"
      ],
      "text/plain": []
     },
     "metadata": {},
     "output_type": "display_data"
    },
    {
     "data": {
      "text/html": [
       "<pre style=\"white-space:pre;overflow-x:auto;line-height:normal;font-family:Menlo,'DejaVu Sans Mono',consolas,'Courier New',monospace\"><span style=\"color: #008000; text-decoration-color: #008000\">✓ Trial </span><span style=\"color: #008000; text-decoration-color: #008000; font-weight: bold\">19</span><span style=\"color: #008000; text-decoration-color: #008000\"> CONVERGED:</span> <span style=\"color: #808000; text-decoration-color: #808000\">divergences</span>=<span style=\"color: #008080; text-decoration-color: #008080; font-weight: bold\">0.0</span>%, <span style=\"color: #808000; text-decoration-color: #808000\">max_rhat</span>=<span style=\"color: #008080; text-decoration-color: #008080; font-weight: bold\">1.058</span>, <span style=\"color: #808000; text-decoration-color: #808000\">min_ess</span>=<span style=\"color: #008080; text-decoration-color: #008080; font-weight: bold\">51</span>\n",
       "</pre>\n"
      ],
      "text/plain": [
       "\u001b[32m✓ Trial \u001b[0m\u001b[1;32m19\u001b[0m\u001b[32m CONVERGED:\u001b[0m \u001b[33mdivergences\u001b[0m=\u001b[1;36m0\u001b[0m\u001b[1;36m.0\u001b[0m%, \u001b[33mmax_rhat\u001b[0m=\u001b[1;36m1\u001b[0m\u001b[1;36m.058\u001b[0m, \u001b[33mmin_ess\u001b[0m=\u001b[1;36m51\u001b[0m\n"
      ]
     },
     "metadata": {},
     "output_type": "display_data"
    },
    {
     "name": "stderr",
     "output_type": "stream",
     "text": [
      "/Users/lfiaschi/Documents/workspace/blog-optuna-pymc-marketing/.venv/lib/python3.12/site-packages/arviz/stats/stats.py:1667: UserWarning: For one or more samples the posterior variance of the log predictive densities exceeds 0.4. This could be indication of WAIC starting to fail. \n",
      "See http://arxiv.org/abs/1507.04544 for details\n",
      "  warnings.warn(\n"
     ]
    },
    {
     "data": {
      "text/html": [
       "<pre style=\"white-space:pre;overflow-x:auto;line-height:normal;font-family:Menlo,'DejaVu Sans Mono',consolas,'Courier New',monospace\"><span style=\"color: #808000; text-decoration-color: #808000\">WAIC </span><span style=\"color: #808000; text-decoration-color: #808000; font-weight: bold\">(</span><span style=\"color: #808000; text-decoration-color: #808000\">negative ELPD</span><span style=\"color: #808000; text-decoration-color: #808000; font-weight: bold\">)</span><span style=\"color: #808000; text-decoration-color: #808000\">: </span><span style=\"color: #808000; text-decoration-color: #808000; font-weight: bold\">-188.96</span>\n",
       "</pre>\n"
      ],
      "text/plain": [
       "\u001b[33mWAIC \u001b[0m\u001b[1;33m(\u001b[0m\u001b[33mnegative ELPD\u001b[0m\u001b[1;33m)\u001b[0m\u001b[33m: \u001b[0m\u001b[1;33m-188.96\u001b[0m\n"
      ]
     },
     "metadata": {},
     "output_type": "display_data"
    },
    {
     "name": "stdout",
     "output_type": "stream",
     "text": [
      "[I 2025-10-18 21:57:42,742] Trial 19 finished with value: -188.95925850369986 and parameters: {'yearly_seasonality': 2, 'adstock_max_lag': 11}. Best is trial 15 with value: -189.5773094799376.\n"
     ]
    },
    {
     "data": {
      "text/html": [
       "<pre style=\"white-space:pre;overflow-x:auto;line-height:normal;font-family:Menlo,'DejaVu Sans Mono',consolas,'Courier New',monospace\">\n",
       "<span style=\"color: #008000; text-decoration-color: #008000; font-weight: bold\">Optimization completed!</span>\n",
       "</pre>\n"
      ],
      "text/plain": [
       "\n",
       "\u001b[1;32mOptimization completed!\u001b[0m\n"
      ]
     },
     "metadata": {},
     "output_type": "display_data"
    }
   ],
   "source": [
    "def run_optimization(\n",
    "    objective: callable,\n",
    "    n_trials: int,\n",
    "    study_name: str = \"mmm_hyperparameter_optimization\"\n",
    ") -> optuna.Study:\n",
    "    \"\"\"Run Optuna hyperparameter optimization.\n",
    "    \n",
    "    Args:\n",
    "        objective: Objective function to minimize\n",
    "        n_trials: Number of optimization trials\n",
    "        study_name: Name for the Optuna study\n",
    "        \n",
    "    Returns:\n",
    "        Completed Optuna study object\n",
    "    \"\"\"\n",
    "    rprint(f\"\\n[bold magenta]Starting optimization with {n_trials} trials...[/bold magenta]\\n\")\n",
    "    \n",
    "    # Create study\n",
    "    study = optuna.create_study(\n",
    "        study_name=study_name,\n",
    "        direction=\"minimize\",  # Minimize WAIC\n",
    "        sampler=optuna.samplers.TPESampler(seed=RANDOM_SEED),  # Tree-structured Parzen Estimator\n",
    "        pruner=optuna.pruners.MedianPruner(  # Prune unpromising trials\n",
    "            n_startup_trials=5,\n",
    "            n_warmup_steps=0\n",
    "        )\n",
    "    )\n",
    "    \n",
    "    # Run optimization\n",
    "    study.optimize(\n",
    "        objective,\n",
    "        n_trials=n_trials,\n",
    "        show_progress_bar=True\n",
    "    )\n",
    "    \n",
    "    rprint(\"\\n[bold green]Optimization completed![/bold green]\")\n",
    "    \n",
    "    return study\n",
    "\n",
    "\n",
    "# Run optimization\n",
    "study = run_optimization(\n",
    "    objective=objective,\n",
    "    n_trials=N_TRIALS\n",
    ")"
   ]
  },
  {
   "cell_type": "markdown",
   "metadata": {},
   "source": [
    "## Optimization Results"
   ]
  },
  {
   "cell_type": "code",
   "execution_count": 24,
   "metadata": {},
   "outputs": [
    {
     "data": {
      "text/html": [
       "<pre style=\"white-space:pre;overflow-x:auto;line-height:normal;font-family:Menlo,'DejaVu Sans Mono',consolas,'Courier New',monospace\">\n",
       "<span style=\"color: #800080; text-decoration-color: #800080; font-weight: bold\">Best Trial:</span>\n",
       "</pre>\n"
      ],
      "text/plain": [
       "\n",
       "\u001b[1;35mBest Trial:\u001b[0m\n"
      ]
     },
     "metadata": {},
     "output_type": "display_data"
    },
    {
     "data": {
      "text/html": [
       "<pre style=\"white-space:pre;overflow-x:auto;line-height:normal;font-family:Menlo,'DejaVu Sans Mono',consolas,'Courier New',monospace\">Trial number: <span style=\"color: #008080; text-decoration-color: #008080; font-weight: bold\">15</span>\n",
       "</pre>\n"
      ],
      "text/plain": [
       "Trial number: \u001b[1;36m15\u001b[0m\n"
      ]
     },
     "metadata": {},
     "output_type": "display_data"
    },
    {
     "data": {
      "text/html": [
       "<pre style=\"white-space:pre;overflow-x:auto;line-height:normal;font-family:Menlo,'DejaVu Sans Mono',consolas,'Courier New',monospace\">WAIC: <span style=\"color: #808000; text-decoration-color: #808000; font-weight: bold\">-189.58</span>\n",
       "</pre>\n"
      ],
      "text/plain": [
       "WAIC: \u001b[1;33m-189.58\u001b[0m\n"
      ]
     },
     "metadata": {},
     "output_type": "display_data"
    },
    {
     "data": {
      "text/html": [
       "<pre style=\"white-space:pre;overflow-x:auto;line-height:normal;font-family:Menlo,'DejaVu Sans Mono',consolas,'Courier New',monospace\">Parameters:\n",
       "</pre>\n"
      ],
      "text/plain": [
       "Parameters:\n"
      ]
     },
     "metadata": {},
     "output_type": "display_data"
    },
    {
     "data": {
      "text/html": [
       "<pre style=\"white-space:pre;overflow-x:auto;line-height:normal;font-family:Menlo,'DejaVu Sans Mono',consolas,'Courier New',monospace\">  - yearly_seasonality: <span style=\"color: #008000; text-decoration-color: #008000; font-weight: bold\">1</span>\n",
       "</pre>\n"
      ],
      "text/plain": [
       "  - yearly_seasonality: \u001b[1;32m1\u001b[0m\n"
      ]
     },
     "metadata": {},
     "output_type": "display_data"
    },
    {
     "data": {
      "text/html": [
       "<pre style=\"white-space:pre;overflow-x:auto;line-height:normal;font-family:Menlo,'DejaVu Sans Mono',consolas,'Courier New',monospace\">  - adstock_max_lag: <span style=\"color: #008000; text-decoration-color: #008000; font-weight: bold\">10</span>\n",
       "</pre>\n"
      ],
      "text/plain": [
       "  - adstock_max_lag: \u001b[1;32m10\u001b[0m\n"
      ]
     },
     "metadata": {},
     "output_type": "display_data"
    },
    {
     "data": {
      "text/html": [
       "<pre style=\"white-space:pre;overflow-x:auto;line-height:normal;font-family:Menlo,'DejaVu Sans Mono',consolas,'Courier New',monospace\">\n",
       "<span style=\"color: #000080; text-decoration-color: #000080; font-weight: bold\">All Trials:</span>\n",
       "</pre>\n"
      ],
      "text/plain": [
       "\n",
       "\u001b[1;34mAll Trials:\u001b[0m\n"
      ]
     },
     "metadata": {},
     "output_type": "display_data"
    },
    {
     "data": {
      "text/html": [
       "<pre style=\"white-space:pre;overflow-x:auto;line-height:normal;font-family:Menlo,'DejaVu Sans Mono',consolas,'Courier New',monospace\"><span style=\"font-style: italic\">                         Optimization Trials                         </span>\n",
       "┏━━━━━━━┳━━━━━━━━━━━━━━━━━━━━┳━━━━━━━━━━━━━━━━━┳━━━━━━━━━┳━━━━━━━━━━┓\n",
       "┃<span style=\"color: #008080; text-decoration-color: #008080; font-weight: bold\"> Trial </span>┃<span style=\"color: #008080; text-decoration-color: #008080; font-weight: bold\"> Yearly Seasonality </span>┃<span style=\"color: #008080; text-decoration-color: #008080; font-weight: bold\"> Adstock Max Lag </span>┃<span style=\"color: #008080; text-decoration-color: #008080; font-weight: bold\">    WAIC </span>┃<span style=\"color: #008080; text-decoration-color: #008080; font-weight: bold\"> Status   </span>┃\n",
       "┡━━━━━━━╇━━━━━━━━━━━━━━━━━━━━╇━━━━━━━━━━━━━━━━━╇━━━━━━━━━╇━━━━━━━━━━┩\n",
       "│     0 │                  4 │              12 │ -189.11 │ <span style=\"color: #008000; text-decoration-color: #008000\">COMPLETE</span> │\n",
       "│     1 │                  8 │               9 │ -187.79 │ <span style=\"color: #008000; text-decoration-color: #008000\">COMPLETE</span> │\n",
       "│     2 │                  2 │               5 │ -188.25 │ <span style=\"color: #008000; text-decoration-color: #008000\">COMPLETE</span> │\n",
       "│     3 │                  1 │              11 │ -189.38 │ <span style=\"color: #008000; text-decoration-color: #008000\">COMPLETE</span> │\n",
       "│     4 │                  7 │              10 │ -185.82 │ <span style=\"color: #008000; text-decoration-color: #008000\">COMPLETE</span> │\n",
       "│     5 │                  1 │              12 │ -189.47 │ <span style=\"color: #008000; text-decoration-color: #008000\">COMPLETE</span> │\n",
       "│     6 │                  9 │               5 │ -185.96 │ <span style=\"color: #008000; text-decoration-color: #008000\">COMPLETE</span> │\n",
       "│     7 │                  2 │               5 │ -188.70 │ <span style=\"color: #008000; text-decoration-color: #008000\">COMPLETE</span> │\n",
       "│     8 │                  4 │               8 │ -188.60 │ <span style=\"color: #008000; text-decoration-color: #008000\">COMPLETE</span> │\n",
       "│     9 │                  5 │               6 │ -187.94 │ <span style=\"color: #008000; text-decoration-color: #008000\">COMPLETE</span> │\n",
       "│    10 │                 10 │               8 │ -183.43 │ <span style=\"color: #008000; text-decoration-color: #008000\">COMPLETE</span> │\n",
       "│    11 │                  1 │              12 │ -189.07 │ <span style=\"color: #008000; text-decoration-color: #008000\">COMPLETE</span> │\n",
       "│    12 │                  1 │              11 │ -189.40 │ <span style=\"color: #008000; text-decoration-color: #008000\">COMPLETE</span> │\n",
       "│    13 │                  3 │              10 │ -187.98 │ <span style=\"color: #008000; text-decoration-color: #008000\">COMPLETE</span> │\n",
       "│    14 │                  6 │              12 │ -188.75 │ <span style=\"color: #008000; text-decoration-color: #008000\">COMPLETE</span> │\n",
       "│    15 │                  1 │              10 │ -189.58 │ <span style=\"color: #008000; text-decoration-color: #008000\">COMPLETE</span> │\n",
       "│    16 │                  3 │               7 │ -188.07 │ <span style=\"color: #008000; text-decoration-color: #008000\">COMPLETE</span> │\n",
       "│    17 │                  3 │              10 │ -188.02 │ <span style=\"color: #008000; text-decoration-color: #008000\">COMPLETE</span> │\n",
       "│    18 │                  5 │               9 │ -189.29 │ <span style=\"color: #008000; text-decoration-color: #008000\">COMPLETE</span> │\n",
       "│    19 │                  2 │              11 │ -188.96 │ <span style=\"color: #008000; text-decoration-color: #008000\">COMPLETE</span> │\n",
       "└───────┴────────────────────┴─────────────────┴─────────┴──────────┘\n",
       "</pre>\n"
      ],
      "text/plain": [
       "\u001b[3m                         Optimization Trials                         \u001b[0m\n",
       "┏━━━━━━━┳━━━━━━━━━━━━━━━━━━━━┳━━━━━━━━━━━━━━━━━┳━━━━━━━━━┳━━━━━━━━━━┓\n",
       "┃\u001b[1;36m \u001b[0m\u001b[1;36mTrial\u001b[0m\u001b[1;36m \u001b[0m┃\u001b[1;36m \u001b[0m\u001b[1;36mYearly Seasonality\u001b[0m\u001b[1;36m \u001b[0m┃\u001b[1;36m \u001b[0m\u001b[1;36mAdstock Max Lag\u001b[0m\u001b[1;36m \u001b[0m┃\u001b[1;36m \u001b[0m\u001b[1;36m   WAIC\u001b[0m\u001b[1;36m \u001b[0m┃\u001b[1;36m \u001b[0m\u001b[1;36mStatus  \u001b[0m\u001b[1;36m \u001b[0m┃\n",
       "┡━━━━━━━╇━━━━━━━━━━━━━━━━━━━━╇━━━━━━━━━━━━━━━━━╇━━━━━━━━━╇━━━━━━━━━━┩\n",
       "│     0 │                  4 │              12 │ -189.11 │ \u001b[32mCOMPLETE\u001b[0m │\n",
       "│     1 │                  8 │               9 │ -187.79 │ \u001b[32mCOMPLETE\u001b[0m │\n",
       "│     2 │                  2 │               5 │ -188.25 │ \u001b[32mCOMPLETE\u001b[0m │\n",
       "│     3 │                  1 │              11 │ -189.38 │ \u001b[32mCOMPLETE\u001b[0m │\n",
       "│     4 │                  7 │              10 │ -185.82 │ \u001b[32mCOMPLETE\u001b[0m │\n",
       "│     5 │                  1 │              12 │ -189.47 │ \u001b[32mCOMPLETE\u001b[0m │\n",
       "│     6 │                  9 │               5 │ -185.96 │ \u001b[32mCOMPLETE\u001b[0m │\n",
       "│     7 │                  2 │               5 │ -188.70 │ \u001b[32mCOMPLETE\u001b[0m │\n",
       "│     8 │                  4 │               8 │ -188.60 │ \u001b[32mCOMPLETE\u001b[0m │\n",
       "│     9 │                  5 │               6 │ -187.94 │ \u001b[32mCOMPLETE\u001b[0m │\n",
       "│    10 │                 10 │               8 │ -183.43 │ \u001b[32mCOMPLETE\u001b[0m │\n",
       "│    11 │                  1 │              12 │ -189.07 │ \u001b[32mCOMPLETE\u001b[0m │\n",
       "│    12 │                  1 │              11 │ -189.40 │ \u001b[32mCOMPLETE\u001b[0m │\n",
       "│    13 │                  3 │              10 │ -187.98 │ \u001b[32mCOMPLETE\u001b[0m │\n",
       "│    14 │                  6 │              12 │ -188.75 │ \u001b[32mCOMPLETE\u001b[0m │\n",
       "│    15 │                  1 │              10 │ -189.58 │ \u001b[32mCOMPLETE\u001b[0m │\n",
       "│    16 │                  3 │               7 │ -188.07 │ \u001b[32mCOMPLETE\u001b[0m │\n",
       "│    17 │                  3 │              10 │ -188.02 │ \u001b[32mCOMPLETE\u001b[0m │\n",
       "│    18 │                  5 │               9 │ -189.29 │ \u001b[32mCOMPLETE\u001b[0m │\n",
       "│    19 │                  2 │              11 │ -188.96 │ \u001b[32mCOMPLETE\u001b[0m │\n",
       "└───────┴────────────────────┴─────────────────┴─────────┴──────────┘\n"
      ]
     },
     "metadata": {},
     "output_type": "display_data"
    }
   ],
   "source": [
    "def display_optimization_results(study: optuna.Study) -> None:\n",
    "    \"\"\"Display optimization results in a Rich table.\n",
    "    \n",
    "    Args:\n",
    "        study: Completed Optuna study\n",
    "    \"\"\"\n",
    "    console = Console()\n",
    "    \n",
    "    # Best trial summary\n",
    "    rprint(\"\\n[bold magenta]Best Trial:[/bold magenta]\")\n",
    "    rprint(f\"Trial number: [cyan]{study.best_trial.number}[/cyan]\")\n",
    "    rprint(f\"WAIC: [yellow]{study.best_value:.2f}[/yellow]\")\n",
    "    rprint(f\"Parameters:\")\n",
    "    for key, value in study.best_params.items():\n",
    "        rprint(f\"  - {key}: [green]{value}[/green]\")\n",
    "    \n",
    "    # All trials table\n",
    "    rprint(\"\\n[bold blue]All Trials:[/bold blue]\")\n",
    "    table = Table(\n",
    "        title=\"Optimization Trials\",\n",
    "        show_header=True,\n",
    "        header_style=\"bold cyan\"\n",
    "    )\n",
    "    \n",
    "    table.add_column(\"Trial\", justify=\"right\")\n",
    "    table.add_column(\"Yearly Seasonality\", justify=\"right\")\n",
    "    table.add_column(\"Adstock Max Lag\", justify=\"right\")\n",
    "    table.add_column(\"WAIC\", justify=\"right\")\n",
    "    table.add_column(\"Status\")\n",
    "    \n",
    "    for trial in study.trials:\n",
    "        status_color = \"green\" if trial.state == optuna.trial.TrialState.COMPLETE else \"red\"\n",
    "        waic_str = f\"{trial.value:.2f}\" if trial.value is not None else \"N/A\"\n",
    "        \n",
    "        table.add_row(\n",
    "            str(trial.number),\n",
    "            str(trial.params.get(\"yearly_seasonality\", \"N/A\")),\n",
    "            str(trial.params.get(\"adstock_max_lag\", \"N/A\")),\n",
    "            waic_str,\n",
    "            f\"[{status_color}]{trial.state.name}[/{status_color}]\"\n",
    "        )\n",
    "    \n",
    "    console.print(table)\n",
    "\n",
    "\n",
    "display_optimization_results(study)"
   ]
  },
  {
   "cell_type": "markdown",
   "metadata": {},
   "source": [
    "## Optimization History Visualization"
   ]
  },
  {
   "cell_type": "code",
   "execution_count": 25,
   "metadata": {},
   "outputs": [
    {
     "name": "stderr",
     "output_type": "stream",
     "text": [
      "/var/folders/90/l3_2bhf525jc3pk0d2dkc5_r0000gn/T/ipykernel_88311/1562738509.py:18: ExperimentalWarning: optuna.visualization.matplotlib._optimization_history.plot_optimization_history is experimental (supported from v2.2.0). The interface can change in the future.\n",
      "  plot_optimization_history(study)\n",
      "/var/folders/90/l3_2bhf525jc3pk0d2dkc5_r0000gn/T/ipykernel_88311/1562738509.py:22: ExperimentalWarning: optuna.visualization.matplotlib._param_importances.plot_param_importances is experimental (supported from v2.2.0). The interface can change in the future.\n",
      "  plot_param_importances(study)\n",
      "/var/folders/90/l3_2bhf525jc3pk0d2dkc5_r0000gn/T/ipykernel_88311/1562738509.py:26: ExperimentalWarning: optuna.visualization.matplotlib._contour.plot_contour is experimental (supported from v2.2.0). The interface can change in the future.\n",
      "  plot_contour(study, params=[\"yearly_seasonality\", \"adstock_max_lag\"])\n"
     ]
    },
    {
     "data": {
      "image/png": "[encoded data removed]",
      "text/plain": [
       "<Figure size 640x480 with 1 Axes>"
      ]
     },
     "metadata": {},
     "output_type": "display_data"
    },
    {
     "data": {
      "image/png": "[encoded data removed]",
      "text/plain": [
       "<Figure size 640x480 with 1 Axes>"
      ]
     },
     "metadata": {},
     "output_type": "display_data"
    },
    {
     "data": {
      "image/png": "[encoded data removed]",
      "text/plain": [
       "<Figure size 640x480 with 2 Axes>"
      ]
     },
     "metadata": {},
     "output_type": "display_data"
    },
    {
     "data": {
      "image/png": "[encoded data removed]",
      "text/plain": [
       "<Figure size 1400x1000 with 1 Axes>"
      ]
     },
     "metadata": {},
     "output_type": "display_data"
    }
   ],
   "source": [
    "import matplotlib.pyplot as plt\n",
    "from optuna.visualization.matplotlib import (\n",
    "    plot_optimization_history,\n",
    "    plot_param_importances,\n",
    "    plot_contour\n",
    ")\n",
    "\n",
    "\n",
    "def plot_optimization_results(study: optuna.Study) -> None:\n",
    "    \"\"\"Plot optimization results.\n",
    "    \n",
    "    Args:\n",
    "        study: Completed Optuna study\n",
    "    \"\"\"\n",
    "    \n",
    "    \n",
    "    # Optimization history\n",
    "    plot_optimization_history(study)\n",
    "    # plt.title(\"Optimization History\")\n",
    "    \n",
    "    # Parameter importances\n",
    "    plot_param_importances(study)\n",
    "    # plt.title(\"Parameter Importances\")\n",
    "    \n",
    "    # Contour plot\n",
    "    plot_contour(study, params=[\"yearly_seasonality\", \"adstock_max_lag\"])\n",
    "    # plt.title(\"Parameter Relationship\")\n",
    "    \n",
    "    # # WAIC distribution\n",
    "    fig = plt.figure(figsize=(14, 10))\n",
    "    ax4 = plt.gca()\n",
    "    waic_values = [t.value for t in study.trials if t.value is not None]\n",
    "    plt.hist(waic_values, bins=20, edgecolor='black', alpha=0.7)\n",
    "    ax4.axvline(study.best_value, color='red', linestyle='--', label='Best WAIC')\n",
    "    ax4.set_xlabel('WAIC (negative ELPD)')\n",
    "    ax4.set_ylabel('Frequency')\n",
    "    ax4.set_title('WAIC Distribution')\n",
    "    ax4.legend()\n",
    "    \n",
    "    plt.show()\n",
    "\n",
    "\n",
    "plot_optimization_results(study)"
   ]
  },
  {
   "cell_type": "markdown",
   "metadata": {},
   "source": [
    "## Fit Final Model with Optimal Hyperparameters\n",
    "\n",
    "Now refit the model with optimal parameters using full MCMC sampling for production use.\n",
    "\n",
    "**Note**: Progress bar is disabled for NumPyro to avoid Jupyter kernel context errors. The model will still fit normally, but you won't see the sampling progress bar."
   ]
  },
  {
   "cell_type": "code",
   "execution_count": 33,
   "metadata": {},
   "outputs": [
    {
     "data": {
      "text/html": [
       "<pre style=\"white-space:pre;overflow-x:auto;line-height:normal;font-family:Menlo,'DejaVu Sans Mono',consolas,'Courier New',monospace\">\n",
       "<span style=\"color: #800080; text-decoration-color: #800080; font-weight: bold\">Fitting final model with optimal hyperparameters...</span>\n",
       "</pre>\n"
      ],
      "text/plain": [
       "\n",
       "\u001b[1;35mFitting final model with optimal hyperparameters\u001b[0m\u001b[1;35m...\u001b[0m\n"
      ]
     },
     "metadata": {},
     "output_type": "display_data"
    },
    {
     "data": {
      "text/html": [
       "<pre style=\"white-space:pre;overflow-x:auto;line-height:normal;font-family:Menlo,'DejaVu Sans Mono',consolas,'Courier New',monospace\">yearly_seasonality: <span style=\"color: #008000; text-decoration-color: #008000; font-weight: bold\">1</span>\n",
       "</pre>\n"
      ],
      "text/plain": [
       "yearly_seasonality: \u001b[1;32m1\u001b[0m\n"
      ]
     },
     "metadata": {},
     "output_type": "display_data"
    },
    {
     "data": {
      "text/html": [
       "<pre style=\"white-space:pre;overflow-x:auto;line-height:normal;font-family:Menlo,'DejaVu Sans Mono',consolas,'Courier New',monospace\">adstock_max_lag: <span style=\"color: #008000; text-decoration-color: #008000; font-weight: bold\">10</span>\n",
       "</pre>\n"
      ],
      "text/plain": [
       "adstock_max_lag: \u001b[1;32m10\u001b[0m\n"
      ]
     },
     "metadata": {},
     "output_type": "display_data"
    },
    {
     "data": {
      "text/html": [
       "<pre style=\"white-space:pre;overflow-x:auto;line-height:normal;font-family:Menlo,'DejaVu Sans Mono',consolas,'Courier New',monospace\">MCMC settings: <span style=\"color: #008080; text-decoration-color: #008080; font-weight: bold\">2000</span> draws, <span style=\"color: #008080; text-decoration-color: #008080; font-weight: bold\">2000</span> tune, <span style=\"color: #008080; text-decoration-color: #008080; font-weight: bold\">4</span> chains\n",
       "</pre>\n"
      ],
      "text/plain": [
       "MCMC settings: \u001b[1;36m2000\u001b[0m draws, \u001b[1;36m2000\u001b[0m tune, \u001b[1;36m4\u001b[0m chains\n"
      ]
     },
     "metadata": {},
     "output_type": "display_data"
    },
    {
     "data": {
      "text/html": [
       "<pre style=\"white-space:pre;overflow-x:auto;line-height:normal;font-family:Menlo,'DejaVu Sans Mono',consolas,'Courier New',monospace\">\n",
       "<span style=\"color: #808000; text-decoration-color: #808000; font-weight: bold\">Convergence requirements (strict):</span>\n",
       "</pre>\n"
      ],
      "text/plain": [
       "\n",
       "\u001b[1;33mConvergence requirements \u001b[0m\u001b[1;33m(\u001b[0m\u001b[1;33mstrict\u001b[0m\u001b[1;33m)\u001b[0m\u001b[1;33m:\u001b[0m\n"
      ]
     },
     "metadata": {},
     "output_type": "display_data"
    },
    {
     "data": {
      "text/html": [
       "<pre style=\"white-space:pre;overflow-x:auto;line-height:normal;font-family:Menlo,'DejaVu Sans Mono',consolas,'Courier New',monospace\">Divergences: <span style=\"font-weight: bold\">&lt;</span><span style=\"color: #008080; text-decoration-color: #008080; font-weight: bold\">1</span><span style=\"color: #000000; text-decoration-color: #000000\">%, R-hat: &lt;</span><span style=\"color: #008080; text-decoration-color: #008080; font-weight: bold\">1.01</span><span style=\"color: #000000; text-decoration-color: #000000\">, ESS: </span><span style=\"font-weight: bold\">&gt;</span><span style=\"color: #008080; text-decoration-color: #008080; font-weight: bold\">400</span>\n",
       "\n",
       "</pre>\n"
      ],
      "text/plain": [
       "Divergences: \u001b[1m<\u001b[0m\u001b[1;36m1\u001b[0m\u001b[39m%, R-hat: <\u001b[0m\u001b[1;36m1.01\u001b[0m\u001b[39m, ESS: \u001b[0m\u001b[1m>\u001b[0m\u001b[1;36m400\u001b[0m\n",
       "\n"
      ]
     },
     "metadata": {},
     "output_type": "display_data"
    },
    {
     "data": {
      "application/vnd.jupyter.widget-view+json": {
       "model_id": "b25cc034372c4cc4b4b1f62bb141ea34",
       "version_major": 2,
       "version_minor": 0
      },
      "text/plain": [
       "Output()"
      ]
     },
     "metadata": {},
     "output_type": "display_data"
    },
    {
     "data": {
      "text/html": [
       "<pre style=\"white-space:pre;overflow-x:auto;line-height:normal;font-family:Menlo,'DejaVu Sans Mono',consolas,'Courier New',monospace\"></pre>\n"
      ],
      "text/plain": []
     },
     "metadata": {},
     "output_type": "display_data"
    },
    {
     "data": {
      "text/html": [
       "<pre style=\"white-space:pre;overflow-x:auto;line-height:normal;font-family:Menlo,'DejaVu Sans Mono',consolas,'Courier New',monospace\"><span style=\"color: #008000; text-decoration-color: #008000\">✓ Model CONVERGED:</span> <span style=\"color: #808000; text-decoration-color: #808000\">divergences</span>=<span style=\"color: #008080; text-decoration-color: #008080; font-weight: bold\">0.0</span>%, <span style=\"color: #808000; text-decoration-color: #808000\">max_rhat</span>=<span style=\"color: #008080; text-decoration-color: #008080; font-weight: bold\">1.002</span>, <span style=\"color: #808000; text-decoration-color: #808000\">min_ess</span>=<span style=\"color: #008080; text-decoration-color: #008080; font-weight: bold\">2607</span>\n",
       "</pre>\n"
      ],
      "text/plain": [
       "\u001b[32m✓ Model CONVERGED:\u001b[0m \u001b[33mdivergences\u001b[0m=\u001b[1;36m0\u001b[0m\u001b[1;36m.0\u001b[0m%, \u001b[33mmax_rhat\u001b[0m=\u001b[1;36m1\u001b[0m\u001b[1;36m.002\u001b[0m, \u001b[33mmin_ess\u001b[0m=\u001b[1;36m2607\u001b[0m\n"
      ]
     },
     "metadata": {},
     "output_type": "display_data"
    },
    {
     "data": {
      "text/html": [
       "<pre style=\"white-space:pre;overflow-x:auto;line-height:normal;font-family:Menlo,'DejaVu Sans Mono',consolas,'Courier New',monospace\"><span style=\"color: #008000; text-decoration-color: #008000; font-weight: bold\">Final model fitted and converged successfully!</span>\n",
       "</pre>\n"
      ],
      "text/plain": [
       "\u001b[1;32mFinal model fitted and converged successfully!\u001b[0m\n"
      ]
     },
     "metadata": {},
     "output_type": "display_data"
    }
   ],
   "source": [
    "def fit_final_model(\n",
    "    X: pd.DataFrame,\n",
    "    y: pd.Series,\n",
    "    channel_columns: list[str],\n",
    "    control_columns: list[str],\n",
    "    best_params: dict[str, Any],\n",
    "    draws: int,\n",
    "    tune: int,\n",
    "    chains: int,\n",
    "    random_seed: int,\n",
    "    divergence_threshold: float,\n",
    "    rhat_threshold: float,\n",
    "    ess_threshold: float,\n",
    "    nuts_sampler: str = \"pymc\"\n",
    ") -> MMM:\n",
    "    \"\"\"Fit final MMM model with optimal hyperparameters and strict convergence checks.\n",
    "    \n",
    "    Args:\n",
    "        X: Input features DataFrame\n",
    "        y: Target variable Series\n",
    "        channel_columns: List of channel column names\n",
    "        control_columns: List of control column names\n",
    "        best_params: Dictionary of optimal hyperparameters\n",
    "        draws: Number of MCMC draws\n",
    "        tune: Number of tuning steps\n",
    "        chains: Number of MCMC chains\n",
    "        random_seed: Random seed for reproducibility\n",
    "        divergence_threshold: Maximum allowed divergence rate\n",
    "        rhat_threshold: Maximum allowed R-hat value\n",
    "        ess_threshold: Minimum required effective sample size\n",
    "        nuts_sampler: NUTS sampler to use (\"pymc\", \"numpyro\", \"blackjax\", \"nutpie\")\n",
    "        \n",
    "    Returns:\n",
    "        Fitted MMM model\n",
    "        \n",
    "    Raises:\n",
    "        RuntimeError: If final model fails to converge\n",
    "    \"\"\"\n",
    "    rprint(\"\\n[bold magenta]Fitting final model with optimal hyperparameters...[/bold magenta]\")\n",
    "    rprint(f\"yearly_seasonality: [green]{best_params['yearly_seasonality']}[/green]\")\n",
    "    rprint(f\"adstock_max_lag: [green]{best_params['adstock_max_lag']}[/green]\")\n",
    "    rprint(f\"MCMC settings: {draws} draws, {tune} tune, {chains} chains\")\n",
    "    rprint(f\"\\n[bold yellow]Convergence requirements (strict):[/bold yellow]\")\n",
    "    rprint(f\"Divergences: <{divergence_threshold*100:.0f}%, R-hat: <{rhat_threshold}, ESS: >{ess_threshold}\\n\")\n",
    "    \n",
    "    # Create model\n",
    "    mmm = MMM(\n",
    "        date_column=\"date\",\n",
    "        channel_columns=channel_columns,\n",
    "        control_columns=control_columns,\n",
    "        adstock=GeometricAdstock(l_max=best_params[\"adstock_max_lag\"]),\n",
    "        saturation=LogisticSaturation(),\n",
    "        yearly_seasonality=best_params[\"yearly_seasonality\"]\n",
    "    )\n",
    "    \n",
    "    # Fit model with log_likelihood computation for WAIC\n",
    "    # Note: Disable progressbar for NumPyro to avoid Jupyter kernel context errors\n",
    "    mmm.fit(\n",
    "        X=X,\n",
    "        y=y,\n",
    "        draws=draws,\n",
    "        tune=tune,\n",
    "        chains=chains,\n",
    "        nuts_sampler=nuts_sampler,  # Use specified sampler\n",
    "        random_seed=random_seed,\n",
    "        progressbar=False if nuts_sampler == \"numpyro\" else True,  # NumPyro has issues with Jupyter progress bars\n",
    "        idata_kwargs={\"log_likelihood\": True}  # Required for WAIC computation\n",
    "    )\n",
    "    \n",
    "    # Check convergence with strict thresholds\n",
    "    converged, diagnostics = check_convergence(\n",
    "        mmm=mmm,\n",
    "        divergence_threshold=divergence_threshold,\n",
    "        rhat_threshold=rhat_threshold,\n",
    "        ess_threshold=ess_threshold\n",
    "    )\n",
    "    \n",
    "    if not converged:\n",
    "        error_msg = (\n",
    "            f\"Final model failed to converge:\\n\"\n",
    "            f\"  Divergences: {diagnostics['divergence_rate']*100:.1f}% (threshold: <{divergence_threshold*100:.0f}%)\\n\"\n",
    "            f\"  Max R-hat: {diagnostics['max_rhat']:.3f} (threshold: <{rhat_threshold})\\n\"\n",
    "            f\"  Min ESS: {diagnostics['min_ess']:.0f} (threshold: >{ess_threshold})\\n\"\n",
    "            f\"\\nConsider:\\n\"\n",
    "            f\"  - Increasing FINAL_DRAWS and FINAL_TUNE\\n\"\n",
    "            f\"  - Adjusting target_accept in fit() call\\n\"\n",
    "            f\"  - Reparameterizing the model\"\n",
    "        )\n",
    "        rprint(f\"[bold red]{error_msg}[/bold red]\")\n",
    "        raise RuntimeError(error_msg)\n",
    "    \n",
    "    rprint(\"[bold green]Final model fitted and converged successfully![/bold green]\")\n",
    "    \n",
    "    return mmm\n",
    "\n",
    "\n",
    "# Fit final model with convergence checks\n",
    "final_mmm = fit_final_model(\n",
    "    X=X,\n",
    "    y=y,\n",
    "    channel_columns=channel_columns,\n",
    "    control_columns=control_columns,\n",
    "    best_params=study.best_params,\n",
    "    draws=FINAL_DRAWS,\n",
    "    tune=FINAL_TUNE,\n",
    "    chains=FINAL_CHAINS,\n",
    "    random_seed=RANDOM_SEED,\n",
    "    divergence_threshold=FINAL_DIVERGENCE_THRESHOLD,\n",
    "    rhat_threshold=FINAL_RHAT_THRESHOLD,\n",
    "    ess_threshold=FINAL_ESS_THRESHOLD,\n",
    "    nuts_sampler=NUTS_SAMPLER  # Use same sampler as optimization\n",
    ")"
   ]
  },
  {
   "cell_type": "markdown",
   "metadata": {},
   "source": [
    "## Final Model Summary"
   ]
  },
  {
   "cell_type": "code",
   "execution_count": 38,
   "metadata": {},
   "outputs": [
    {
     "data": {
      "text/html": [
       "<pre style=\"white-space:pre;overflow-x:auto;line-height:normal;font-family:Menlo,'DejaVu Sans Mono',consolas,'Courier New',monospace\"><span style=\"color: #800080; text-decoration-color: #800080; font-weight: bold\">Final Model Fit Summary:</span>\n",
       "</pre>\n"
      ],
      "text/plain": [
       "\u001b[1;35mFinal Model Fit Summary:\u001b[0m\n"
      ]
     },
     "metadata": {},
     "output_type": "display_data"
    },
    {
     "data": {
      "text/html": [
       "<div>\n",
       "<style scoped>\n",
       "    .dataframe tbody tr th:only-of-type {\n",
       "        vertical-align: middle;\n",
       "    }\n",
       "\n",
       "    .dataframe tbody tr th {\n",
       "        vertical-align: top;\n",
       "    }\n",
       "\n",
       "    .dataframe thead th {\n",
       "        text-align: right;\n",
       "    }\n",
       "</style>\n",
       "<table border=\"1\" class=\"dataframe\">\n",
       "  <thead>\n",
       "    <tr style=\"text-align: right;\">\n",
       "      <th></th>\n",
       "      <th>mean</th>\n",
       "      <th>sd</th>\n",
       "      <th>hdi_3%</th>\n",
       "      <th>hdi_97%</th>\n",
       "      <th>mcse_mean</th>\n",
       "      <th>mcse_sd</th>\n",
       "      <th>ess_bulk</th>\n",
       "      <th>ess_tail</th>\n",
       "      <th>r_hat</th>\n",
       "    </tr>\n",
       "  </thead>\n",
       "  <tbody>\n",
       "    <tr>\n",
       "      <th>intercept</th>\n",
       "      <td>0.418</td>\n",
       "      <td>0.012</td>\n",
       "      <td>0.396</td>\n",
       "      <td>0.439</td>\n",
       "      <td>0.000</td>\n",
       "      <td>0.000</td>\n",
       "      <td>4755.0</td>\n",
       "      <td>5282.0</td>\n",
       "      <td>1.0</td>\n",
       "    </tr>\n",
       "    <tr>\n",
       "      <th>gamma_control[c1]</th>\n",
       "      <td>-0.000</td>\n",
       "      <td>0.000</td>\n",
       "      <td>-0.000</td>\n",
       "      <td>0.000</td>\n",
       "      <td>0.000</td>\n",
       "      <td>0.000</td>\n",
       "      <td>7288.0</td>\n",
       "      <td>7176.0</td>\n",
       "      <td>1.0</td>\n",
       "    </tr>\n",
       "    <tr>\n",
       "      <th>gamma_control[c2]</th>\n",
       "      <td>-0.000</td>\n",
       "      <td>0.000</td>\n",
       "      <td>-0.001</td>\n",
       "      <td>0.000</td>\n",
       "      <td>0.000</td>\n",
       "      <td>0.000</td>\n",
       "      <td>7342.0</td>\n",
       "      <td>6004.0</td>\n",
       "      <td>1.0</td>\n",
       "    </tr>\n",
       "    <tr>\n",
       "      <th>gamma_fourier[sin_1]</th>\n",
       "      <td>0.083</td>\n",
       "      <td>0.006</td>\n",
       "      <td>0.072</td>\n",
       "      <td>0.093</td>\n",
       "      <td>0.000</td>\n",
       "      <td>0.000</td>\n",
       "      <td>8062.0</td>\n",
       "      <td>5867.0</td>\n",
       "      <td>1.0</td>\n",
       "    </tr>\n",
       "    <tr>\n",
       "      <th>gamma_fourier[cos_1]</th>\n",
       "      <td>-0.011</td>\n",
       "      <td>0.006</td>\n",
       "      <td>-0.023</td>\n",
       "      <td>-0.000</td>\n",
       "      <td>0.000</td>\n",
       "      <td>0.000</td>\n",
       "      <td>6730.0</td>\n",
       "      <td>5749.0</td>\n",
       "      <td>1.0</td>\n",
       "    </tr>\n",
       "    <tr>\n",
       "      <th>...</th>\n",
       "      <td>...</td>\n",
       "      <td>...</td>\n",
       "      <td>...</td>\n",
       "      <td>...</td>\n",
       "      <td>...</td>\n",
       "      <td>...</td>\n",
       "      <td>...</td>\n",
       "      <td>...</td>\n",
       "      <td>...</td>\n",
       "    </tr>\n",
       "    <tr>\n",
       "      <th>y_original_scale[2021-11-28T00:00:00.000000000]</th>\n",
       "      <td>6582.132</td>\n",
       "      <td>170.803</td>\n",
       "      <td>6251.020</td>\n",
       "      <td>6893.058</td>\n",
       "      <td>2.183</td>\n",
       "      <td>1.792</td>\n",
       "      <td>6139.0</td>\n",
       "      <td>6035.0</td>\n",
       "      <td>1.0</td>\n",
       "    </tr>\n",
       "    <tr>\n",
       "      <th>y_original_scale[2021-12-05T00:00:00.000000000]</th>\n",
       "      <td>10148.575</td>\n",
       "      <td>199.802</td>\n",
       "      <td>9767.564</td>\n",
       "      <td>10512.565</td>\n",
       "      <td>2.402</td>\n",
       "      <td>1.856</td>\n",
       "      <td>6920.0</td>\n",
       "      <td>6738.0</td>\n",
       "      <td>1.0</td>\n",
       "    </tr>\n",
       "    <tr>\n",
       "      <th>y_original_scale[2021-12-12T00:00:00.000000000]</th>\n",
       "      <td>7961.162</td>\n",
       "      <td>184.938</td>\n",
       "      <td>7614.541</td>\n",
       "      <td>8312.841</td>\n",
       "      <td>2.625</td>\n",
       "      <td>1.884</td>\n",
       "      <td>5015.0</td>\n",
       "      <td>5261.0</td>\n",
       "      <td>1.0</td>\n",
       "    </tr>\n",
       "    <tr>\n",
       "      <th>y_original_scale[2021-12-19T00:00:00.000000000]</th>\n",
       "      <td>10473.133</td>\n",
       "      <td>205.517</td>\n",
       "      <td>10083.066</td>\n",
       "      <td>10849.949</td>\n",
       "      <td>2.612</td>\n",
       "      <td>1.915</td>\n",
       "      <td>6178.0</td>\n",
       "      <td>6979.0</td>\n",
       "      <td>1.0</td>\n",
       "    </tr>\n",
       "    <tr>\n",
       "      <th>y_original_scale[2021-12-26T00:00:00.000000000]</th>\n",
       "      <td>10238.573</td>\n",
       "      <td>190.893</td>\n",
       "      <td>9893.411</td>\n",
       "      <td>10607.484</td>\n",
       "      <td>2.462</td>\n",
       "      <td>1.777</td>\n",
       "      <td>6014.0</td>\n",
       "      <td>6734.0</td>\n",
       "      <td>1.0</td>\n",
       "    </tr>\n",
       "  </tbody>\n",
       "</table>\n",
       "<p>1995 rows × 9 columns</p>\n",
       "</div>"
      ],
      "text/plain": [
       "                                                      mean       sd  \\\n",
       "intercept                                            0.418    0.012   \n",
       "gamma_control[c1]                                   -0.000    0.000   \n",
       "gamma_control[c2]                                   -0.000    0.000   \n",
       "gamma_fourier[sin_1]                                 0.083    0.006   \n",
       "gamma_fourier[cos_1]                                -0.011    0.006   \n",
       "...                                                    ...      ...   \n",
       "y_original_scale[2021-11-28T00:00:00.000000000]   6582.132  170.803   \n",
       "y_original_scale[2021-12-05T00:00:00.000000000]  10148.575  199.802   \n",
       "y_original_scale[2021-12-12T00:00:00.000000000]   7961.162  184.938   \n",
       "y_original_scale[2021-12-19T00:00:00.000000000]  10473.133  205.517   \n",
       "y_original_scale[2021-12-26T00:00:00.000000000]  10238.573  190.893   \n",
       "\n",
       "                                                    hdi_3%    hdi_97%  \\\n",
       "intercept                                            0.396      0.439   \n",
       "gamma_control[c1]                                   -0.000      0.000   \n",
       "gamma_control[c2]                                   -0.001      0.000   \n",
       "gamma_fourier[sin_1]                                 0.072      0.093   \n",
       "gamma_fourier[cos_1]                                -0.023     -0.000   \n",
       "...                                                    ...        ...   \n",
       "y_original_scale[2021-11-28T00:00:00.000000000]   6251.020   6893.058   \n",
       "y_original_scale[2021-12-05T00:00:00.000000000]   9767.564  10512.565   \n",
       "y_original_scale[2021-12-12T00:00:00.000000000]   7614.541   8312.841   \n",
       "y_original_scale[2021-12-19T00:00:00.000000000]  10083.066  10849.949   \n",
       "y_original_scale[2021-12-26T00:00:00.000000000]   9893.411  10607.484   \n",
       "\n",
       "                                                 mcse_mean  mcse_sd  ess_bulk  \\\n",
       "intercept                                            0.000    0.000    4755.0   \n",
       "gamma_control[c1]                                    0.000    0.000    7288.0   \n",
       "gamma_control[c2]                                    0.000    0.000    7342.0   \n",
       "gamma_fourier[sin_1]                                 0.000    0.000    8062.0   \n",
       "gamma_fourier[cos_1]                                 0.000    0.000    6730.0   \n",
       "...                                                    ...      ...       ...   \n",
       "y_original_scale[2021-11-28T00:00:00.000000000]      2.183    1.792    6139.0   \n",
       "y_original_scale[2021-12-05T00:00:00.000000000]      2.402    1.856    6920.0   \n",
       "y_original_scale[2021-12-12T00:00:00.000000000]      2.625    1.884    5015.0   \n",
       "y_original_scale[2021-12-19T00:00:00.000000000]      2.612    1.915    6178.0   \n",
       "y_original_scale[2021-12-26T00:00:00.000000000]      2.462    1.777    6014.0   \n",
       "\n",
       "                                                 ess_tail  r_hat  \n",
       "intercept                                          5282.0    1.0  \n",
       "gamma_control[c1]                                  7176.0    1.0  \n",
       "gamma_control[c2]                                  6004.0    1.0  \n",
       "gamma_fourier[sin_1]                               5867.0    1.0  \n",
       "gamma_fourier[cos_1]                               5749.0    1.0  \n",
       "...                                                   ...    ...  \n",
       "y_original_scale[2021-11-28T00:00:00.000000000]    6035.0    1.0  \n",
       "y_original_scale[2021-12-05T00:00:00.000000000]    6738.0    1.0  \n",
       "y_original_scale[2021-12-12T00:00:00.000000000]    5261.0    1.0  \n",
       "y_original_scale[2021-12-19T00:00:00.000000000]    6979.0    1.0  \n",
       "y_original_scale[2021-12-26T00:00:00.000000000]    6734.0    1.0  \n",
       "\n",
       "[1995 rows x 9 columns]"
      ]
     },
     "execution_count": 38,
     "metadata": {},
     "output_type": "execute_result"
    }
   ],
   "source": [
    "# Display fit summary\n",
    "\n",
    "\n",
    "with warnings.catch_warnings():\n",
    "    warnings.filterwarnings(\"ignore\", message=\"invalid value encountered in scalar divide\")\n",
    "    summary = az.summary(final_mmm.idata)\n",
    "rprint(\"[bold magenta]Final Model Fit Summary:[/bold magenta]\")\n",
    "summary"
   ]
  },
  {
   "cell_type": "markdown",
   "metadata": {},
   "source": [
    "## Compute Final Model WAIC"
   ]
  },
  {
   "cell_type": "code",
   "execution_count": 28,
   "metadata": {},
   "outputs": [
    {
     "name": "stderr",
     "output_type": "stream",
     "text": [
      "/Users/lfiaschi/Documents/workspace/blog-optuna-pymc-marketing/.venv/lib/python3.12/site-packages/arviz/stats/stats.py:1667: UserWarning: For one or more samples the posterior variance of the log predictive densities exceeds 0.4. This could be indication of WAIC starting to fail. \n",
      "See http://arxiv.org/abs/1507.04544 for details\n",
      "  warnings.warn(\n"
     ]
    },
    {
     "data": {
      "text/html": [
       "<pre style=\"white-space:pre;overflow-x:auto;line-height:normal;font-family:Menlo,'DejaVu Sans Mono',consolas,'Courier New',monospace\">\n",
       "<span style=\"color: #008080; text-decoration-color: #008080; font-weight: bold\">Final Model WAIC:</span>\n",
       "</pre>\n"
      ],
      "text/plain": [
       "\n",
       "\u001b[1;36mFinal Model WAIC:\u001b[0m\n"
      ]
     },
     "metadata": {},
     "output_type": "display_data"
    },
    {
     "data": {
      "text/html": [
       "<pre style=\"white-space:pre;overflow-x:auto;line-height:normal;font-family:Menlo,'DejaVu Sans Mono',consolas,'Courier New',monospace\">ELPD WAIC: <span style=\"color: #808000; text-decoration-color: #808000; font-weight: bold\">189.25</span>\n",
       "</pre>\n"
      ],
      "text/plain": [
       "ELPD WAIC: \u001b[1;33m189.25\u001b[0m\n"
      ]
     },
     "metadata": {},
     "output_type": "display_data"
    },
    {
     "data": {
      "text/html": [
       "<pre style=\"white-space:pre;overflow-x:auto;line-height:normal;font-family:Menlo,'DejaVu Sans Mono',consolas,'Courier New',monospace\">SE: <span style=\"color: #008080; text-decoration-color: #008080; font-weight: bold\">5.65</span>\n",
       "</pre>\n"
      ],
      "text/plain": [
       "SE: \u001b[1;36m5.65\u001b[0m\n"
      ]
     },
     "metadata": {},
     "output_type": "display_data"
    },
    {
     "data": {
      "text/html": [
       "<pre style=\"white-space:pre;overflow-x:auto;line-height:normal;font-family:Menlo,'DejaVu Sans Mono',consolas,'Courier New',monospace\">Effective parameters <span style=\"font-weight: bold\">(</span>p_waic<span style=\"font-weight: bold\">)</span>: <span style=\"color: #008080; text-decoration-color: #008080; font-weight: bold\">13.06</span>\n",
       "</pre>\n"
      ],
      "text/plain": [
       "Effective parameters \u001b[1m(\u001b[0mp_waic\u001b[1m)\u001b[0m: \u001b[1;36m13.06\u001b[0m\n"
      ]
     },
     "metadata": {},
     "output_type": "display_data"
    },
    {
     "data": {
      "text/html": [
       "<pre style=\"white-space:pre;overflow-x:auto;line-height:normal;font-family:Menlo,'DejaVu Sans Mono',consolas,'Courier New',monospace\">\n",
       "<span style=\"color: #008000; text-decoration-color: #008000; font-weight: bold\">Improvement from optimization:</span>\n",
       "</pre>\n"
      ],
      "text/plain": [
       "\n",
       "\u001b[1;32mImprovement from optimization:\u001b[0m\n"
      ]
     },
     "metadata": {},
     "output_type": "display_data"
    },
    {
     "data": {
      "text/html": [
       "<pre style=\"white-space:pre;overflow-x:auto;line-height:normal;font-family:Menlo,'DejaVu Sans Mono',consolas,'Courier New',monospace\">Best objective value <span style=\"font-weight: bold\">(</span>optimization<span style=\"font-weight: bold\">)</span>: <span style=\"color: #008080; text-decoration-color: #008080; font-weight: bold\">-189.58</span>\n",
       "</pre>\n"
      ],
      "text/plain": [
       "Best objective value \u001b[1m(\u001b[0moptimization\u001b[1m)\u001b[0m: \u001b[1;36m-189.58\u001b[0m\n"
      ]
     },
     "metadata": {},
     "output_type": "display_data"
    },
    {
     "data": {
      "text/html": [
       "<pre style=\"white-space:pre;overflow-x:auto;line-height:normal;font-family:Menlo,'DejaVu Sans Mono',consolas,'Courier New',monospace\">Final ELPD WAIC <span style=\"font-weight: bold\">(</span>full sampling<span style=\"font-weight: bold\">)</span>: <span style=\"color: #008080; text-decoration-color: #008080; font-weight: bold\">189.25</span>\n",
       "</pre>\n"
      ],
      "text/plain": [
       "Final ELPD WAIC \u001b[1m(\u001b[0mfull sampling\u001b[1m)\u001b[0m: \u001b[1;36m189.25\u001b[0m\n"
      ]
     },
     "metadata": {},
     "output_type": "display_data"
    }
   ],
   "source": [
    "import arviz as az\n",
    "\n",
    "# Compute WAIC for final model\n",
    "final_waic = az.waic(final_mmm.idata)\n",
    "\n",
    "rprint(\"\\n[bold cyan]Final Model WAIC:[/bold cyan]\")\n",
    "rprint(f\"ELPD WAIC: [yellow]{final_waic.elpd_waic:.2f}[/yellow]\")\n",
    "rprint(f\"SE: {final_waic.se:.2f}\")\n",
    "rprint(f\"Effective parameters (p_waic): {final_waic.p_waic:.2f}\")\n",
    "rprint(f\"\\n[bold green]Improvement from optimization:[/bold green]\")\n",
    "rprint(f\"Best objective value (optimization): {study.best_value:.2f}\")\n",
    "rprint(f\"Final ELPD WAIC (full sampling): {final_waic.elpd_waic:.2f}\")"
   ]
  },
  {
   "cell_type": "markdown",
   "metadata": {},
   "source": [
    "## Save Results"
   ]
  },
  {
   "cell_type": "code",
   "execution_count": 29,
   "metadata": {},
   "outputs": [
    {
     "data": {
      "text/html": [
       "<pre style=\"white-space:pre;overflow-x:auto;line-height:normal;font-family:Menlo,'DejaVu Sans Mono',consolas,'Courier New',monospace\">\n",
       "<span style=\"color: #008000; text-decoration-color: #008000; font-weight: bold\">Results saved to ../models/optimization_results</span>\n",
       "</pre>\n"
      ],
      "text/plain": [
       "\n",
       "\u001b[1;32mResults saved to ..\u001b[0m\u001b[1;32m/models/\u001b[0m\u001b[1;32moptimization_results\u001b[0m\n"
      ]
     },
     "metadata": {},
     "output_type": "display_data"
    },
    {
     "data": {
      "text/html": [
       "<pre style=\"white-space:pre;overflow-x:auto;line-height:normal;font-family:Menlo,'DejaVu Sans Mono',consolas,'Courier New',monospace\">  - Best parameters: ..<span style=\"color: #800080; text-decoration-color: #800080\">/models/optimization_results/</span><span style=\"color: #ff00ff; text-decoration-color: #ff00ff\">best_hyperparameters.json</span>\n",
       "</pre>\n"
      ],
      "text/plain": [
       "  - Best parameters: ..\u001b[35m/models/optimization_results/\u001b[0m\u001b[95mbest_hyperparameters.json\u001b[0m\n"
      ]
     },
     "metadata": {},
     "output_type": "display_data"
    },
    {
     "data": {
      "text/html": [
       "<pre style=\"white-space:pre;overflow-x:auto;line-height:normal;font-family:Menlo,'DejaVu Sans Mono',consolas,'Courier New',monospace\">  - Trial history: ..<span style=\"color: #800080; text-decoration-color: #800080\">/models/optimization_results/</span><span style=\"color: #ff00ff; text-decoration-color: #ff00ff\">optimization_trials.csv</span>\n",
       "</pre>\n"
      ],
      "text/plain": [
       "  - Trial history: ..\u001b[35m/models/optimization_results/\u001b[0m\u001b[95moptimization_trials.csv\u001b[0m\n"
      ]
     },
     "metadata": {},
     "output_type": "display_data"
    },
    {
     "data": {
      "text/html": [
       "<pre style=\"white-space:pre;overflow-x:auto;line-height:normal;font-family:Menlo,'DejaVu Sans Mono',consolas,'Courier New',monospace\"><span style=\"color: #008000; text-decoration-color: #008000; font-weight: bold\">Final model saved to ../models/mmm_optimized.nc</span>\n",
       "</pre>\n"
      ],
      "text/plain": [
       "\u001b[1;32mFinal model saved to ..\u001b[0m\u001b[1;32m/models/\u001b[0m\u001b[1;32mmmm_optimized.nc\u001b[0m\n"
      ]
     },
     "metadata": {},
     "output_type": "display_data"
    }
   ],
   "source": [
    "import json\n",
    "\n",
    "\n",
    "def save_optimization_results(\n",
    "    study: optuna.Study,\n",
    "    output_dir: str | Path\n",
    ") -> None:\n",
    "    \"\"\"Save optimization results to disk.\n",
    "    \n",
    "    Args:\n",
    "        study: Completed Optuna study\n",
    "        output_dir: Directory to save results\n",
    "    \"\"\"\n",
    "    output_dir = Path(output_dir)\n",
    "    output_dir.mkdir(parents=True, exist_ok=True)\n",
    "    \n",
    "    # Save best parameters\n",
    "    best_params_path = output_dir / \"best_hyperparameters.json\"\n",
    "    with open(best_params_path, \"w\") as f:\n",
    "        json.dump(study.best_params, f, indent=2)\n",
    "    \n",
    "    # Save trials dataframe\n",
    "    trials_df = study.trials_dataframe()\n",
    "    trials_path = output_dir / \"optimization_trials.csv\"\n",
    "    trials_df.to_csv(trials_path, index=False)\n",
    "    \n",
    "    rprint(f\"\\n[bold green]Results saved to {output_dir}[/bold green]\")\n",
    "    rprint(f\"  - Best parameters: {best_params_path}\")\n",
    "    rprint(f\"  - Trial history: {trials_path}\")\n",
    "\n",
    "\n",
    "def save_final_model(model: MMM, output_path: str | Path) -> None:\n",
    "    \"\"\"Save final fitted model to disk.\n",
    "    \n",
    "    Args:\n",
    "        model: Fitted MMM model\n",
    "        output_path: Path to save model\n",
    "    \"\"\"\n",
    "    output_path = Path(output_path)\n",
    "    output_path.parent.mkdir(parents=True, exist_ok=True)\n",
    "    \n",
    "    model.save(str(output_path))\n",
    "    rprint(f\"[bold green]Final model saved to {output_path}[/bold green]\")\n",
    "\n",
    "\n",
    "# Save results\n",
    "save_optimization_results(study, output_dir=Path(\"../models/optimization_results\"))\n",
    "save_final_model(final_mmm, output_path=Path(\"../models/mmm_optimized.nc\"))"
   ]
  },
  {
   "cell_type": "markdown",
   "metadata": {},
   "source": [
    "## Summary\n",
    "\n",
    "This notebook demonstrated:\n",
    "\n",
    "1. **Hyperparameter optimization** using Optuna to find optimal:\n",
    "   - `yearly_seasonality`: Number of Fourier modes for seasonal patterns\n",
    "   - `adstock_max_lag`: Maximum lag for adstock transformation\n",
    "\n",
    "2. **WAIC-based selection**: Used Widely Applicable Information Criterion to balance model fit and complexity\n",
    "\n",
    "3. **Efficient search**: Used reduced MCMC settings during optimization (500 draws/tune) for faster trials\n",
    "\n",
    "4. **Production model**: Refit final model with optimal parameters using full MCMC sampling (2000 draws/tune)\n",
    "\n",
    "5. **Sequential execution**: No parallel trials to avoid conflicts with PyMC's internal parallelism\n",
    "\n",
    "### Key Findings\n",
    "\n",
    "- **Best yearly_seasonality**: {study.best_params['yearly_seasonality']}\n",
    "- **Best adstock_max_lag**: {study.best_params['adstock_max_lag']}\n",
    "- **Best WAIC**: {study.best_value:.2f}\n",
    "\n",
    "### Next Steps\n",
    "\n",
    "- Validate model performance on holdout data\n",
    "- Analyze channel contributions and ROAS with optimized model\n",
    "- Extend optimization to include saturation parameters\n",
    "- Implement cross-validation for more robust hyperparameter selection"
   ]
  },
  {
   "cell_type": "code",
   "execution_count": null,
   "metadata": {},
   "outputs": [],
   "source": []
  },
  {
   "cell_type": "code",
   "execution_count": null,
   "metadata": {},
   "outputs": [],
   "source": []
  },
  {
   "cell_type": "code",
   "execution_count": null,
   "metadata": {},
   "outputs": [],
   "source": []
  },
  {
   "cell_type": "code",
   "execution_count": null,
   "metadata": {},
   "outputs": [],
   "source": []
  },
  {
   "cell_type": "code",
   "execution_count": null,
   "metadata": {},
   "outputs": [],
   "source": []
  },
  {
   "cell_type": "code",
   "execution_count": null,
   "metadata": {},
   "outputs": [],
   "source": []
  }
 ],
 "metadata": {
  "kernelspec": {
   "display_name": "Python 3 (ipykernel)",
   "language": "python",
   "name": "python3"
  },
  "language_info": {
   "codemirror_mode": {
    "name": "ipython",
    "version": 3
   },
   "file_extension": ".py",
   "mimetype": "text/x-python",
   "name": "python",
   "nbconvert_exporter": "python",
   "pygments_lexer": "ipython3",
   "version": "3.12.9"
  }
 },
 "nbformat": 4,
 "nbformat_minor": 4
}

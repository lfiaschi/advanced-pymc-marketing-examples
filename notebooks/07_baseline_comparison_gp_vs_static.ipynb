{
 "cells": [
  {
   "cell_type": "markdown",
   "metadata": {},
   "source": [
    "# Baseline Specification for Causal Identification: Static vs GP Time-Varying Intercepts\n",
    "\n",
    "This notebook investigates how **baseline specification** affects both predictive performance and causal parameter recovery in Media Mix Models (MMM).\n",
    "\n",
    "## The Fundamental Question\n",
    "\n",
    "In MMM, we decompose sales into:\n",
    "```\n",
    "Sales = Baseline + Marketing Effects + Controls + Noise\n",
    "```\n",
    "\n",
    "**The identification problem**: If the baseline is too rigid, seasonal patterns get misattributed to marketing. If too flexible, the baseline absorbs true marketing effects.\n",
    "\n",
    "## Why This Matters for Causality\n",
    "\n",
    "The baseline is a **nuisance function** — we don't make business decisions based on baseline values. However:\n",
    "- **Better baseline modeling → Better marketing effect isolation**\n",
    "- **Over-flexible baseline → Marketing effects absorbed → Poor causal identification**\n",
    "\n",
    "This is fundamentally different from optimizing priors on marketing effects (which would be philosophically problematic).\n",
    "\n",
    "## Four Baseline Strategies\n",
    "\n",
    "We compare:\n",
    "\n",
    "1. **Static intercept only** - Constant baseline, no seasonality\n",
    "2. **Static + Fourier seasonality** - Traditional MMM approach\n",
    "3. **GP flexible baseline** - Gaussian Process captures all temporal variation\n",
    "4. **GP + Fourier hybrid** - Fourier for regular patterns, GP for irregular events\n",
    "\n",
    "## Evaluation Framework\n",
    "\n",
    "We evaluate on **dual objectives**:\n",
    "- **Predictive**: Test set CRPS (out-of-sample accuracy)\n",
    "- **Causal**: ROAS error vs ground truth (parameter recovery)\n",
    "\n",
    "**Key insight**: The best predictive model may not be the best causal model!"
   ]
  },
  {
   "cell_type": "markdown",
   "metadata": {},
   "source": [
    "## Setup"
   ]
  },
  {
   "cell_type": "code",
   "execution_count": 1,
   "metadata": {},
   "outputs": [
    {
     "data": {
      "text/html": [
       "<pre style=\"white-space:pre;overflow-x:auto;line-height:normal;font-family:Menlo,'DejaVu Sans Mono',consolas,'Courier New',monospace\"><span style=\"color: #008000; text-decoration-color: #008000; font-weight: bold\">Setup complete!</span>\n",
       "</pre>\n"
      ],
      "text/plain": [
       "\u001b[1;32mSetup complete!\u001b[0m\n"
      ]
     },
     "metadata": {},
     "output_type": "display_data"
    }
   ],
   "source": [
    "import json\n",
    "import time\n",
    "import warnings\n",
    "from pathlib import Path\n",
    "from typing import Any\n",
    "\n",
    "import arviz as az\n",
    "import matplotlib.pyplot as plt\n",
    "import numpy as np\n",
    "import pandas as pd\n",
    "import polars as pl\n",
    "import seaborn as sns\n",
    "from pymc_marketing.metrics import crps\n",
    "from pymc_marketing.mmm import GeometricAdstock, LogisticSaturation, MMM\n",
    "from rich import print as rprint\n",
    "from rich.console import Console\n",
    "from rich.table import Table\n",
    "\n",
    "# Set random seed\n",
    "RANDOM_SEED = 42\n",
    "np.random.seed(RANDOM_SEED)\n",
    "\n",
    "# Plotting style\n",
    "sns.set_style(\"whitegrid\")\n",
    "plt.rcParams[\"figure.figsize\"] = (14, 6)\n",
    "\n",
    "rprint(\"[bold green]Setup complete![/bold green]\")"
   ]
  },
  {
   "cell_type": "markdown",
   "metadata": {},
   "source": [
    "## Configuration"
   ]
  },
  {
   "cell_type": "code",
   "execution_count": 27,
   "metadata": {},
   "outputs": [
    {
     "data": {
      "text/html": [
       "<pre style=\"white-space:pre;overflow-x:auto;line-height:normal;font-family:Menlo,'DejaVu Sans Mono',consolas,'Courier New',monospace\"><span style=\"color: #000080; text-decoration-color: #000080; font-weight: bold\">Configuration:</span>\n",
       "</pre>\n"
      ],
      "text/plain": [
       "\u001b[1;34mConfiguration:\u001b[0m\n"
      ]
     },
     "metadata": {},
     "output_type": "display_data"
    },
    {
     "data": {
      "text/html": [
       "<pre style=\"white-space:pre;overflow-x:auto;line-height:normal;font-family:Menlo,'DejaVu Sans Mono',consolas,'Courier New',monospace\">Train/test split: <span style=\"color: #008080; text-decoration-color: #008080; font-weight: bold\">24</span> weeks for test\n",
       "</pre>\n"
      ],
      "text/plain": [
       "Train/test split: \u001b[1;36m24\u001b[0m weeks for test\n"
      ]
     },
     "metadata": {},
     "output_type": "display_data"
    },
    {
     "data": {
      "text/html": [
       "<pre style=\"white-space:pre;overflow-x:auto;line-height:normal;font-family:Menlo,'DejaVu Sans Mono',consolas,'Courier New',monospace\">Adstock max lag: <span style=\"color: #008080; text-decoration-color: #008080; font-weight: bold\">10</span> <span style=\"font-weight: bold\">(</span>from notebook <span style=\"color: #008080; text-decoration-color: #008080; font-weight: bold\">03</span><span style=\"font-weight: bold\">)</span>\n",
       "</pre>\n"
      ],
      "text/plain": [
       "Adstock max lag: \u001b[1;36m10\u001b[0m \u001b[1m(\u001b[0mfrom notebook \u001b[1;36m03\u001b[0m\u001b[1m)\u001b[0m\n"
      ]
     },
     "metadata": {},
     "output_type": "display_data"
    },
    {
     "data": {
      "text/html": [
       "<pre style=\"white-space:pre;overflow-x:auto;line-height:normal;font-family:Menlo,'DejaVu Sans Mono',consolas,'Courier New',monospace\">Comparison MCMC: <span style=\"color: #008080; text-decoration-color: #008080; font-weight: bold\">1000</span> draws, <span style=\"color: #008080; text-decoration-color: #008080; font-weight: bold\">4</span> chains\n",
       "</pre>\n"
      ],
      "text/plain": [
       "Comparison MCMC: \u001b[1;36m1000\u001b[0m draws, \u001b[1;36m4\u001b[0m chains\n"
      ]
     },
     "metadata": {},
     "output_type": "display_data"
    },
    {
     "data": {
      "text/html": [
       "<pre style=\"white-space:pre;overflow-x:auto;line-height:normal;font-family:Menlo,'DejaVu Sans Mono',consolas,'Courier New',monospace\">Final MCMC: <span style=\"color: #008080; text-decoration-color: #008080; font-weight: bold\">2000</span> draws, <span style=\"color: #008080; text-decoration-color: #008080; font-weight: bold\">4</span> chains\n",
       "</pre>\n"
      ],
      "text/plain": [
       "Final MCMC: \u001b[1;36m2000\u001b[0m draws, \u001b[1;36m4\u001b[0m chains\n"
      ]
     },
     "metadata": {},
     "output_type": "display_data"
    }
   ],
   "source": [
    "# Train/test split (same as notebook 03)\n",
    "TEST_SIZE_WEEKS = 24\n",
    "\n",
    "# Fixed hyperparameters from notebook 03 CRPS optimization\n",
    "FIXED_HYPERPARAMS = {\n",
    "    \"adstock_max_lag\": 10,\n",
    "}\n",
    "\n",
    "# MCMC settings for comparison phase (faster)\n",
    "COMPARISON_MCMC = {\n",
    "    \"draws\": 1000,\n",
    "    \"tune\": 1000,\n",
    "    \"chains\": 4,\n",
    "    \"nuts_sampler\": \"numpyro\",\n",
    "    \"random_seed\": RANDOM_SEED,\n",
    "    \"progressbar\": False,\n",
    "}\n",
    "\n",
    "# MCMC settings for final model (production quality)\n",
    "FINAL_MCMC = {\n",
    "    \"draws\": 2000,\n",
    "    \"tune\": 2000,\n",
    "    \"chains\": 4,\n",
    "    \"nuts_sampler\": \"numpyro\",\n",
    "    \"random_seed\": RANDOM_SEED,\n",
    "    \"progressbar\": False,\n",
    "}\n",
    "\n",
    "# Convergence thresholds\n",
    "COMPARISON_CONVERGENCE = {\n",
    "    \"divergence_threshold\": 0.10,\n",
    "    \"rhat_threshold\": 1.10,\n",
    "    \"ess_threshold\": 50,\n",
    "}\n",
    "\n",
    "FINAL_CONVERGENCE = {\n",
    "    \"divergence_threshold\": 0.01,\n",
    "    \"rhat_threshold\": 1.01,\n",
    "    \"ess_threshold\": 400,\n",
    "}\n",
    "\n",
    "# Channel and control columns\n",
    "CHANNEL_COLUMNS = [\n",
    "    \"x1_Search-Ads\",\n",
    "    \"x2_Social-Media\",\n",
    "    \"x3_Local-Ads\",\n",
    "    \"x4_Email\",\n",
    "]\n",
    "CONTROL_COLUMNS = [\"c1\", \"c2\"]\n",
    "\n",
    "rprint(\"[bold blue]Configuration:[/bold blue]\")\n",
    "rprint(f\"Train/test split: {TEST_SIZE_WEEKS} weeks for test\")\n",
    "rprint(f\"Adstock max lag: {FIXED_HYPERPARAMS['adstock_max_lag']} (from notebook 03)\")\n",
    "rprint(f\"Comparison MCMC: {COMPARISON_MCMC['draws']} draws, {COMPARISON_MCMC['chains']} chains\")\n",
    "rprint(f\"Final MCMC: {FINAL_MCMC['draws']} draws, {FINAL_MCMC['chains']} chains\")"
   ]
  },
  {
   "cell_type": "markdown",
   "metadata": {},
   "source": [
    "## Baseline Strategy Definitions"
   ]
  },
  {
   "cell_type": "code",
   "execution_count": 28,
   "metadata": {},
   "outputs": [
    {
     "data": {
      "text/html": [
       "<pre style=\"white-space:pre;overflow-x:auto;line-height:normal;font-family:Menlo,'DejaVu Sans Mono',consolas,'Courier New',monospace\"><span style=\"font-style: italic\">                                          Baseline Strategies to Compare                                           </span>\n",
       "┏━━━━━━━━━━━━━━━━━━━━━━━━━━━━┳━━━━━━━━━━━━━━━━━━━━━━━━━━━━━━━━━━┳━━━━━━━━━┳━━━━┳━━━━━━━━━━━━━━━━━━━━━━━━━━━━━━━━━━┓\n",
       "┃<span style=\"color: #800080; text-decoration-color: #800080; font-weight: bold\"> Strategy                   </span>┃<span style=\"color: #800080; text-decoration-color: #800080; font-weight: bold\"> Description                      </span>┃<span style=\"color: #800080; text-decoration-color: #800080; font-weight: bold\"> Fourier </span>┃<span style=\"color: #800080; text-decoration-color: #800080; font-weight: bold\"> GP </span>┃<span style=\"color: #800080; text-decoration-color: #800080; font-weight: bold\"> Hypothesis                       </span>┃\n",
       "┡━━━━━━━━━━━━━━━━━━━━━━━━━━━━╇━━━━━━━━━━━━━━━━━━━━━━━━━━━━━━━━━━╇━━━━━━━━━╇━━━━╇━━━━━━━━━━━━━━━━━━━━━━━━━━━━━━━━━━┩\n",
       "│<span style=\"color: #008080; text-decoration-color: #008080\"> static_intercept_only      </span>│ Constant baseline, no            │    ✗    │ ✗  │ Simplest model - may attribute   │\n",
       "│<span style=\"color: #008080; text-decoration-color: #008080\">                            </span>│ seasonality                      │         │    │ seasonal/trend patterns to       │\n",
       "│<span style=\"color: #008080; text-decoration-color: #008080\">                            </span>│                                  │         │    │ marketing                        │\n",
       "│<span style=\"color: #008080; text-decoration-color: #008080\"> static_fourier_seasonality </span>│ Static baseline with Fourier     │    3    │ ✗  │ Standard MMM approach - handles  │\n",
       "│<span style=\"color: #008080; text-decoration-color: #008080\">                            </span>│ seasonality                      │         │    │ regular seasonal patterns        │\n",
       "│<span style=\"color: #008080; text-decoration-color: #008080\"> gp_flexible_baseline       </span>│ GP baseline without Fourier (GP  │    ✗    │ ✓  │ Maximally flexible - risk of     │\n",
       "│<span style=\"color: #008080; text-decoration-color: #008080\">                            </span>│ handles all temporal variation)  │         │    │ absorbing marketing signal       │\n",
       "│<span style=\"color: #008080; text-decoration-color: #008080\"> gp_plus_fourier            </span>│ GP baseline WITH Fourier         │    3    │ ✓  │ Best of both worlds - Fourier    │\n",
       "│<span style=\"color: #008080; text-decoration-color: #008080\">                            </span>│ seasonality                      │         │    │ for regular patterns, GP for     │\n",
       "│<span style=\"color: #008080; text-decoration-color: #008080\">                            </span>│                                  │         │    │ irregular                        │\n",
       "└────────────────────────────┴──────────────────────────────────┴─────────┴────┴──────────────────────────────────┘\n",
       "</pre>\n"
      ],
      "text/plain": [
       "\u001b[3m                                          Baseline Strategies to Compare                                           \u001b[0m\n",
       "┏━━━━━━━━━━━━━━━━━━━━━━━━━━━━┳━━━━━━━━━━━━━━━━━━━━━━━━━━━━━━━━━━┳━━━━━━━━━┳━━━━┳━━━━━━━━━━━━━━━━━━━━━━━━━━━━━━━━━━┓\n",
       "┃\u001b[1;35m \u001b[0m\u001b[1;35mStrategy                  \u001b[0m\u001b[1;35m \u001b[0m┃\u001b[1;35m \u001b[0m\u001b[1;35mDescription                     \u001b[0m\u001b[1;35m \u001b[0m┃\u001b[1;35m \u001b[0m\u001b[1;35mFourier\u001b[0m\u001b[1;35m \u001b[0m┃\u001b[1;35m \u001b[0m\u001b[1;35mGP\u001b[0m\u001b[1;35m \u001b[0m┃\u001b[1;35m \u001b[0m\u001b[1;35mHypothesis                      \u001b[0m\u001b[1;35m \u001b[0m┃\n",
       "┡━━━━━━━━━━━━━━━━━━━━━━━━━━━━╇━━━━━━━━━━━━━━━━━━━━━━━━━━━━━━━━━━╇━━━━━━━━━╇━━━━╇━━━━━━━━━━━━━━━━━━━━━━━━━━━━━━━━━━┩\n",
       "│\u001b[36m \u001b[0m\u001b[36mstatic_intercept_only     \u001b[0m\u001b[36m \u001b[0m│ Constant baseline, no            │    ✗    │ ✗  │ Simplest model - may attribute   │\n",
       "│\u001b[36m                            \u001b[0m│ seasonality                      │         │    │ seasonal/trend patterns to       │\n",
       "│\u001b[36m                            \u001b[0m│                                  │         │    │ marketing                        │\n",
       "│\u001b[36m \u001b[0m\u001b[36mstatic_fourier_seasonality\u001b[0m\u001b[36m \u001b[0m│ Static baseline with Fourier     │    3    │ ✗  │ Standard MMM approach - handles  │\n",
       "│\u001b[36m                            \u001b[0m│ seasonality                      │         │    │ regular seasonal patterns        │\n",
       "│\u001b[36m \u001b[0m\u001b[36mgp_flexible_baseline      \u001b[0m\u001b[36m \u001b[0m│ GP baseline without Fourier (GP  │    ✗    │ ✓  │ Maximally flexible - risk of     │\n",
       "│\u001b[36m                            \u001b[0m│ handles all temporal variation)  │         │    │ absorbing marketing signal       │\n",
       "│\u001b[36m \u001b[0m\u001b[36mgp_plus_fourier           \u001b[0m\u001b[36m \u001b[0m│ GP baseline WITH Fourier         │    3    │ ✓  │ Best of both worlds - Fourier    │\n",
       "│\u001b[36m                            \u001b[0m│ seasonality                      │         │    │ for regular patterns, GP for     │\n",
       "│\u001b[36m                            \u001b[0m│                                  │         │    │ irregular                        │\n",
       "└────────────────────────────┴──────────────────────────────────┴─────────┴────┴──────────────────────────────────┘\n"
      ]
     },
     "metadata": {},
     "output_type": "display_data"
    }
   ],
   "source": [
    "BASELINE_STRATEGIES = [\n",
    "    {\n",
    "        \"name\": \"static_intercept_only\",\n",
    "        \"description\": \"Constant baseline, no seasonality\",\n",
    "        \"config\": {\n",
    "            \"yearly_seasonality\": None,\n",
    "            \"time_varying_intercept\": False,\n",
    "        },\n",
    "        \"hypothesis\": \"Simplest model - may attribute seasonal/trend patterns to marketing\",\n",
    "    },\n",
    "    {\n",
    "        \"name\": \"static_fourier_seasonality\",\n",
    "        \"description\": \"Static baseline with Fourier seasonality\",\n",
    "        \"config\": {\n",
    "            \"yearly_seasonality\": 3,  # From notebook 03 CRPS optimization\n",
    "            \"time_varying_intercept\": False,\n",
    "        },\n",
    "        \"hypothesis\": \"Standard MMM approach - handles regular seasonal patterns\",\n",
    "    },\n",
    "    {\n",
    "        \"name\": \"gp_flexible_baseline\",\n",
    "        \"description\": \"GP baseline without Fourier (GP handles all temporal variation)\",\n",
    "        \"config\": {\n",
    "            \"yearly_seasonality\": None,\n",
    "            \"time_varying_intercept\": True,\n",
    "        },\n",
    "        \"hypothesis\": \"Maximally flexible - risk of absorbing marketing signal\",\n",
    "    },\n",
    "    {\n",
    "        \"name\": \"gp_plus_fourier\",\n",
    "        \"description\": \"GP baseline WITH Fourier seasonality\",\n",
    "        \"config\": {\n",
    "            \"yearly_seasonality\": 3,\n",
    "            \"time_varying_intercept\": True,\n",
    "        },\n",
    "        \"hypothesis\": \"Best of both worlds - Fourier for regular patterns, GP for irregular\",\n",
    "    },\n",
    "]\n",
    "\n",
    "# Display strategies\n",
    "console = Console()\n",
    "table = Table(title=\"Baseline Strategies to Compare\", show_header=True, header_style=\"bold magenta\")\n",
    "table.add_column(\"Strategy\", style=\"cyan\")\n",
    "table.add_column(\"Description\")\n",
    "table.add_column(\"Fourier\", justify=\"center\")\n",
    "table.add_column(\"GP\", justify=\"center\")\n",
    "table.add_column(\"Hypothesis\")\n",
    "\n",
    "for strategy in BASELINE_STRATEGIES:\n",
    "    fourier = str(strategy[\"config\"][\"yearly_seasonality\"]) if strategy[\"config\"][\"yearly_seasonality\"] else \"✗\"\n",
    "    gp = \"✓\" if strategy[\"config\"][\"time_varying_intercept\"] else \"✗\"\n",
    "    table.add_row(\n",
    "        strategy[\"name\"],\n",
    "        strategy[\"description\"],\n",
    "        fourier,\n",
    "        gp,\n",
    "        strategy[\"hypothesis\"],\n",
    "    )\n",
    "\n",
    "console.print(table)"
   ]
  },
  {
   "cell_type": "markdown",
   "metadata": {},
   "source": [
    "## Load and Prepare Data"
   ]
  },
  {
   "cell_type": "code",
   "execution_count": 29,
   "metadata": {},
   "outputs": [
    {
     "data": {
      "text/html": [
       "<pre style=\"white-space:pre;overflow-x:auto;line-height:normal;font-family:Menlo,'DejaVu Sans Mono',consolas,'Courier New',monospace\"><span style=\"color: #008000; text-decoration-color: #008000; font-weight: bold\">Data loaded successfully</span>\n",
       "</pre>\n"
      ],
      "text/plain": [
       "\u001b[1;32mData loaded successfully\u001b[0m\n"
      ]
     },
     "metadata": {},
     "output_type": "display_data"
    },
    {
     "data": {
      "text/html": [
       "<pre style=\"white-space:pre;overflow-x:auto;line-height:normal;font-family:Menlo,'DejaVu Sans Mono',consolas,'Courier New',monospace\">Shape: <span style=\"color: #008080; text-decoration-color: #008080; font-weight: bold\">104</span> rows × <span style=\"color: #008080; text-decoration-color: #008080; font-weight: bold\">11</span> columns\n",
       "</pre>\n"
      ],
      "text/plain": [
       "Shape: \u001b[1;36m104\u001b[0m rows × \u001b[1;36m11\u001b[0m columns\n"
      ]
     },
     "metadata": {},
     "output_type": "display_data"
    },
    {
     "data": {
      "text/html": [
       "<pre style=\"white-space:pre;overflow-x:auto;line-height:normal;font-family:Menlo,'DejaVu Sans Mono',consolas,'Courier New',monospace\">Date range: <span style=\"color: #008080; text-decoration-color: #008080; font-weight: bold\">2020</span>-<span style=\"color: #008080; text-decoration-color: #008080; font-weight: bold\">01</span>-<span style=\"color: #008080; text-decoration-color: #008080; font-weight: bold\">05</span> to <span style=\"color: #008080; text-decoration-color: #008080; font-weight: bold\">2021</span>-<span style=\"color: #008080; text-decoration-color: #008080; font-weight: bold\">12</span>-<span style=\"color: #008080; text-decoration-color: #008080; font-weight: bold\">26</span>\n",
       "</pre>\n"
      ],
      "text/plain": [
       "Date range: \u001b[1;36m2020\u001b[0m-\u001b[1;36m01\u001b[0m-\u001b[1;36m05\u001b[0m to \u001b[1;36m2021\u001b[0m-\u001b[1;36m12\u001b[0m-\u001b[1;36m26\u001b[0m\n"
      ]
     },
     "metadata": {},
     "output_type": "display_data"
    },
    {
     "data": {
      "text/html": [
       "<pre style=\"white-space:pre;overflow-x:auto;line-height:normal;font-family:Menlo,'DejaVu Sans Mono',consolas,'Courier New',monospace\">\n",
       "<span style=\"color: #000080; text-decoration-color: #000080; font-weight: bold\">Train/Test Split:</span>\n",
       "</pre>\n"
      ],
      "text/plain": [
       "\n",
       "\u001b[1;34mTrain/Test Split:\u001b[0m\n"
      ]
     },
     "metadata": {},
     "output_type": "display_data"
    },
    {
     "data": {
      "text/html": [
       "<pre style=\"white-space:pre;overflow-x:auto;line-height:normal;font-family:Menlo,'DejaVu Sans Mono',consolas,'Courier New',monospace\">Train set: <span style=\"color: #008080; text-decoration-color: #008080; font-weight: bold\">80</span> weeks <span style=\"font-weight: bold\">(</span><span style=\"color: #008080; text-decoration-color: #008080; font-weight: bold\">2020</span>-<span style=\"color: #008080; text-decoration-color: #008080; font-weight: bold\">01</span>-<span style=\"color: #008080; text-decoration-color: #008080; font-weight: bold\">05</span> to <span style=\"color: #008080; text-decoration-color: #008080; font-weight: bold\">2021</span>-<span style=\"color: #008080; text-decoration-color: #008080; font-weight: bold\">07</span>-<span style=\"color: #008080; text-decoration-color: #008080; font-weight: bold\">11</span><span style=\"font-weight: bold\">)</span>\n",
       "</pre>\n"
      ],
      "text/plain": [
       "Train set: \u001b[1;36m80\u001b[0m weeks \u001b[1m(\u001b[0m\u001b[1;36m2020\u001b[0m-\u001b[1;36m01\u001b[0m-\u001b[1;36m05\u001b[0m to \u001b[1;36m2021\u001b[0m-\u001b[1;36m07\u001b[0m-\u001b[1;36m11\u001b[0m\u001b[1m)\u001b[0m\n"
      ]
     },
     "metadata": {},
     "output_type": "display_data"
    },
    {
     "data": {
      "text/html": [
       "<pre style=\"white-space:pre;overflow-x:auto;line-height:normal;font-family:Menlo,'DejaVu Sans Mono',consolas,'Courier New',monospace\">Test set:  <span style=\"color: #008080; text-decoration-color: #008080; font-weight: bold\">24</span> weeks <span style=\"font-weight: bold\">(</span><span style=\"color: #008080; text-decoration-color: #008080; font-weight: bold\">2021</span>-<span style=\"color: #008080; text-decoration-color: #008080; font-weight: bold\">07</span>-<span style=\"color: #008080; text-decoration-color: #008080; font-weight: bold\">18</span> to <span style=\"color: #008080; text-decoration-color: #008080; font-weight: bold\">2021</span>-<span style=\"color: #008080; text-decoration-color: #008080; font-weight: bold\">12</span>-<span style=\"color: #008080; text-decoration-color: #008080; font-weight: bold\">26</span><span style=\"font-weight: bold\">)</span>\n",
       "</pre>\n"
      ],
      "text/plain": [
       "Test set:  \u001b[1;36m24\u001b[0m weeks \u001b[1m(\u001b[0m\u001b[1;36m2021\u001b[0m-\u001b[1;36m07\u001b[0m-\u001b[1;36m18\u001b[0m to \u001b[1;36m2021\u001b[0m-\u001b[1;36m12\u001b[0m-\u001b[1;36m26\u001b[0m\u001b[1m)\u001b[0m\n"
      ]
     },
     "metadata": {},
     "output_type": "display_data"
    },
    {
     "data": {
      "text/html": [
       "<pre style=\"white-space:pre;overflow-x:auto;line-height:normal;font-family:Menlo,'DejaVu Sans Mono',consolas,'Courier New',monospace\"><span style=\"color: #008000; text-decoration-color: #008000; font-weight: bold\">Data preparation complete!</span>\n",
       "</pre>\n"
      ],
      "text/plain": [
       "\u001b[1;32mData preparation complete!\u001b[0m\n"
      ]
     },
     "metadata": {},
     "output_type": "display_data"
    }
   ],
   "source": [
    "def load_mmm_data(data_path: str | Path) -> pl.DataFrame:\n",
    "    \"\"\"Load MMM data from CSV file.\n",
    "    \n",
    "    Args:\n",
    "        data_path: Path to the mmm_data.csv file\n",
    "        \n",
    "    Returns:\n",
    "        Polars DataFrame with parsed date column\n",
    "    \"\"\"\n",
    "    return pl.read_csv(data_path).with_columns(pl.col(\"date\").str.to_date())\n",
    "\n",
    "\n",
    "def split_train_test(\n",
    "    df: pl.DataFrame, test_size_weeks: int\n",
    ") -> tuple[pl.DataFrame, pl.DataFrame]:\n",
    "    \"\"\"Split data into train and test sets chronologically.\n",
    "    \n",
    "    Args:\n",
    "        df: Full dataset\n",
    "        test_size_weeks: Number of weeks to use for test set\n",
    "        \n",
    "    Returns:\n",
    "        Tuple of (train_df, test_df)\n",
    "    \"\"\"\n",
    "    n_total = df.shape[0]\n",
    "    n_train = n_total - test_size_weeks\n",
    "    df_sorted = df.sort(\"date\")\n",
    "    return df_sorted[:n_train], df_sorted[n_train:]\n",
    "\n",
    "\n",
    "# Load data\n",
    "data_path = Path(\"../data/mmm_data.csv\")\n",
    "df = load_mmm_data(data_path)\n",
    "\n",
    "rprint(f\"[bold green]Data loaded successfully[/bold green]\")\n",
    "rprint(f\"Shape: {df.shape[0]} rows × {df.shape[1]} columns\")\n",
    "rprint(f\"Date range: {df['date'].min()} to {df['date'].max()}\")\n",
    "\n",
    "# Split data\n",
    "df_train, df_test = split_train_test(df, TEST_SIZE_WEEKS)\n",
    "\n",
    "rprint(f\"\\n[bold blue]Train/Test Split:[/bold blue]\")\n",
    "rprint(\n",
    "    f\"Train set: {df_train.shape[0]} weeks ({df_train['date'].min()} to {df_train['date'].max()})\"\n",
    ")\n",
    "rprint(\n",
    "    f\"Test set:  {df_test.shape[0]} weeks ({df_test['date'].min()} to {df_test['date'].max()})\"\n",
    ")\n",
    "\n",
    "# Convert to pandas (PyMC-Marketing requires pandas)\n",
    "df_pandas = df.to_pandas()\n",
    "df_train_pandas = df_train.to_pandas()\n",
    "df_test_pandas = df_test.to_pandas()\n",
    "\n",
    "# Prepare train/test splits\n",
    "X_train = df_train_pandas.drop(columns=[\"y\"])\n",
    "y_train = df_train_pandas[\"y\"]\n",
    "X_test = df_test_pandas.drop(columns=[\"y\"])\n",
    "y_test = df_test_pandas[\"y\"]\n",
    "X_full = df_pandas.drop(columns=[\"y\"])\n",
    "y_full = df_pandas[\"y\"]\n",
    "\n",
    "# Load ground truth\n",
    "ground_truth_path = Path(\"../data/ground_truth_parameters.json\")\n",
    "with open(ground_truth_path) as f:\n",
    "    ground_truth = json.load(f)\n",
    "\n",
    "rprint(\"[bold green]Data preparation complete![/bold green]\")"
   ]
  },
  {
   "cell_type": "markdown",
   "metadata": {},
   "source": [
    "## Core Functions: Model Creation and Evaluation"
   ]
  },
  {
   "cell_type": "code",
   "execution_count": 30,
   "metadata": {},
   "outputs": [
    {
     "data": {
      "text/html": [
       "<pre style=\"white-space:pre;overflow-x:auto;line-height:normal;font-family:Menlo,'DejaVu Sans Mono',consolas,'Courier New',monospace\"><span style=\"color: #008000; text-decoration-color: #008000; font-weight: bold\">Core functions defined!</span>\n",
       "</pre>\n"
      ],
      "text/plain": [
       "\u001b[1;32mCore functions defined!\u001b[0m\n"
      ]
     },
     "metadata": {},
     "output_type": "display_data"
    }
   ],
   "source": [
    "def create_mmm_with_baseline(\n",
    "    baseline_config: dict[str, Any],\n",
    "    channel_columns: list[str],\n",
    "    control_columns: list[str],\n",
    "    adstock_max_lag: int,\n",
    ") -> MMM:\n",
    "    \"\"\"Create MMM with specified baseline configuration.\n",
    "    \n",
    "    Args:\n",
    "        baseline_config: Dict with 'yearly_seasonality' and 'time_varying_intercept'\n",
    "        channel_columns: Marketing channel names\n",
    "        control_columns: Control variable names\n",
    "        adstock_max_lag: Maximum lag for adstock transformation\n",
    "        \n",
    "    Returns:\n",
    "        Configured (unfitted) MMM instance\n",
    "    \"\"\"\n",
    "    return MMM(\n",
    "        date_column=\"date\",\n",
    "        channel_columns=channel_columns,\n",
    "        control_columns=control_columns,\n",
    "        adstock=GeometricAdstock(l_max=adstock_max_lag),\n",
    "        saturation=LogisticSaturation(),\n",
    "        yearly_seasonality=baseline_config[\"yearly_seasonality\"],\n",
    "        time_varying_intercept=baseline_config[\"time_varying_intercept\"],\n",
    "    )\n",
    "\n",
    "\n",
    "def check_convergence(\n",
    "    mmm: MMM,\n",
    "    divergence_threshold: float,\n",
    "    rhat_threshold: float,\n",
    "    ess_threshold: float,\n",
    "    strategy_name: str | None = None,\n",
    ") -> tuple[bool, dict[str, float]]:\n",
    "    \"\"\"Check MCMC convergence diagnostics.\n",
    "    \n",
    "    Args:\n",
    "        mmm: Fitted MMM model\n",
    "        divergence_threshold: Maximum allowed divergence rate (0-1)\n",
    "        rhat_threshold: Maximum allowed R-hat value\n",
    "        ess_threshold: Minimum required effective sample size\n",
    "        strategy_name: Optional strategy name for logging\n",
    "        \n",
    "    Returns:\n",
    "        Tuple of (converged: bool, diagnostics: dict)\n",
    "    \"\"\"\n",
    "    # Check divergences\n",
    "    n_divergences = int(mmm.idata.sample_stats.diverging.sum().item())\n",
    "    n_draws = mmm.idata.posterior.sizes[\"draw\"]\n",
    "    n_chains = mmm.idata.posterior.sizes[\"chain\"]\n",
    "    total_samples = n_draws * n_chains\n",
    "    divergence_rate = n_divergences / total_samples\n",
    "\n",
    "    # Check R-hat\n",
    "    with warnings.catch_warnings():\n",
    "        warnings.filterwarnings(\n",
    "            \"ignore\", category=RuntimeWarning, message=\".*invalid value encountered.*\"\n",
    "        )\n",
    "        rhat = az.rhat(mmm.idata)\n",
    "        max_rhat = float(rhat.to_array().max())\n",
    "\n",
    "    # Check ESS\n",
    "    with warnings.catch_warnings():\n",
    "        warnings.filterwarnings(\n",
    "            \"ignore\", category=RuntimeWarning, message=\".*invalid value encountered.*\"\n",
    "        )\n",
    "        ess = az.ess(mmm.idata)\n",
    "        min_ess = float(ess.to_array().min())\n",
    "\n",
    "    # Convergence checks\n",
    "    divergence_ok = divergence_rate <= divergence_threshold\n",
    "    rhat_ok = max_rhat <= rhat_threshold\n",
    "    ess_ok = min_ess >= ess_threshold\n",
    "    converged = divergence_ok and rhat_ok and ess_ok\n",
    "\n",
    "    diagnostics = {\n",
    "        \"n_divergences\": n_divergences,\n",
    "        \"divergence_rate\": divergence_rate,\n",
    "        \"max_rhat\": max_rhat,\n",
    "        \"min_ess\": min_ess,\n",
    "    }\n",
    "\n",
    "    # Logging\n",
    "    name_str = f\"[{strategy_name}]\" if strategy_name else \"Model\"\n",
    "    if converged:\n",
    "        rprint(\n",
    "            f\"[green]✓ {name_str} CONVERGED:[/green] \"\n",
    "            f\"div={divergence_rate*100:.1f}%, rhat={max_rhat:.3f}, ess={min_ess:.0f}\"\n",
    "        )\n",
    "    else:\n",
    "        rprint(\n",
    "            f\"[red]✗ {name_str} FAILED:[/red] \"\n",
    "            f\"div={divergence_rate*100:.1f}%, rhat={max_rhat:.3f}, ess={min_ess:.0f}\"\n",
    "        )\n",
    "\n",
    "    return converged, diagnostics\n",
    "\n",
    "\n",
    "def compute_test_crps(mmm: MMM, X_test: pd.DataFrame, y_test: pd.Series) -> float:\n",
    "    \"\"\"Compute CRPS on test set using posterior predictive.\n",
    "    \n",
    "    Args:\n",
    "        mmm: Fitted MMM model\n",
    "        X_test: Test features\n",
    "        y_test: Test target values\n",
    "        \n",
    "    Returns:\n",
    "        CRPS score (lower is better)\n",
    "    \"\"\"\n",
    "    # Sample posterior predictive\n",
    "    mmm.sample_posterior_predictive(X_test, original_scale=True, extend_idata=True)\n",
    "\n",
    "    # Extract and rescale\n",
    "    y_pred_samples = mmm.idata.posterior_predictive[\"y\"].values\n",
    "    target_scale = float(mmm.idata.constant_data[\"target_scale\"].values)\n",
    "    y_pred_rescaled = y_pred_samples * target_scale\n",
    "\n",
    "    # Reshape for CRPS\n",
    "    n_chains, n_draws, n_obs = y_pred_rescaled.shape\n",
    "    y_pred_reshaped = y_pred_rescaled.reshape(n_chains * n_draws, n_obs)\n",
    "\n",
    "    return float(crps(y_test.values, y_pred_reshaped))\n",
    "\n",
    "\n",
    "rprint(\"[bold green]Core functions defined![/bold green]\")"
   ]
  },
  {
   "cell_type": "markdown",
   "metadata": {},
   "source": [
    "## ROAS and Attribution Metrics"
   ]
  },
  {
   "cell_type": "code",
   "execution_count": 31,
   "metadata": {},
   "outputs": [
    {
     "data": {
      "text/html": [
       "<pre style=\"white-space:pre;overflow-x:auto;line-height:normal;font-family:Menlo,'DejaVu Sans Mono',consolas,'Courier New',monospace\"><span style=\"color: #008000; text-decoration-color: #008000; font-weight: bold\">ROAS and attribution functions defined!</span>\n",
       "</pre>\n"
      ],
      "text/plain": [
       "\u001b[1;32mROAS and attribution functions defined!\u001b[0m\n"
      ]
     },
     "metadata": {},
     "output_type": "display_data"
    }
   ],
   "source": [
    "def compute_roas_metrics(\n",
    "    mmm: MMM,\n",
    "    channel_spend: pd.DataFrame,\n",
    "    channel_columns: list[str],\n",
    "    ground_truth: dict,\n",
    ") -> dict[str, float]:\n",
    "    \"\"\"Compute ROAS and compare with ground truth.\n",
    "    \n",
    "    Args:\n",
    "        mmm: Fitted MMM model\n",
    "        channel_spend: DataFrame with channel spend columns\n",
    "        channel_columns: Channel names\n",
    "        ground_truth: Ground truth parameters\n",
    "        \n",
    "    Returns:\n",
    "        Dictionary with ROAS metrics\n",
    "    \"\"\"\n",
    "    # Compute contributions in original scale\n",
    "    contributions = mmm.compute_mean_contributions_over_time(original_scale=True)\n",
    "\n",
    "    # Compute ROAS\n",
    "    total_contributions = contributions[channel_columns].sum()\n",
    "    total_spend = channel_spend[channel_columns].sum()\n",
    "    estimated_roas = total_contributions / total_spend\n",
    "\n",
    "    # Get true ROAS\n",
    "    true_roas_dict = ground_truth[\"roas_values\"][\"Local\"]\n",
    "\n",
    "    # Compute errors\n",
    "    errors = {}\n",
    "    errors_pct = {}\n",
    "    absolute_errors = []\n",
    "    percentage_errors = []\n",
    "\n",
    "    for channel in channel_columns:\n",
    "        channel_name = channel.split(\"_\", 1)[1] if \"_\" in channel else channel\n",
    "        est = estimated_roas[channel]\n",
    "        true = true_roas_dict.get(channel_name, 0.0)\n",
    "\n",
    "        error = abs(est - true)\n",
    "        error_pct = (abs(est - true) / true * 100) if true != 0 else 0.0\n",
    "\n",
    "        errors[f\"roas_{channel_name.lower().replace('-', '_')}\"] = est\n",
    "        errors_pct[f\"roas_{channel_name.lower().replace('-', '_')}_error_pct\"] = error_pct\n",
    "\n",
    "        absolute_errors.append(error)\n",
    "        percentage_errors.append(error_pct)\n",
    "\n",
    "    metrics = {\n",
    "        \"roas_mae\": float(np.mean(absolute_errors)),\n",
    "        \"roas_mape\": float(np.mean(percentage_errors)),\n",
    "        **errors,\n",
    "        **errors_pct,\n",
    "    }\n",
    "\n",
    "    return metrics\n",
    "\n",
    "\n",
    "def compute_attribution_metrics(\n",
    "    mmm: MMM, X: pd.DataFrame, y: pd.Series, channel_columns: list[str]\n",
    ") -> dict[str, float]:\n",
    "    \"\"\"Compute marketing attribution share.\n",
    "    \n",
    "    Args:\n",
    "        mmm: Fitted MMM model\n",
    "        X: Features\n",
    "        y: Target\n",
    "        channel_columns: Channel names\n",
    "        \n",
    "    Returns:\n",
    "        Dictionary with attribution metrics\n",
    "    \"\"\"\n",
    "    # Get contributions\n",
    "    contributions = mmm.compute_mean_contributions_over_time(original_scale=True)\n",
    "\n",
    "    # Marketing contribution\n",
    "    marketing_contrib = contributions[channel_columns].sum(axis=1).mean()\n",
    "    total_sales = y.mean()\n",
    "    marketing_share = marketing_contrib / total_sales\n",
    "\n",
    "    return {\n",
    "        \"marketing_share\": float(marketing_share),\n",
    "        \"baseline_share\": float(1 - marketing_share),\n",
    "        \"total_sales_mean\": float(total_sales),\n",
    "        \"marketing_sales_mean\": float(marketing_contrib),\n",
    "    }\n",
    "\n",
    "\n",
    "rprint(\"[bold green]ROAS and attribution functions defined![/bold green]\")"
   ]
  },
  {
   "cell_type": "markdown",
   "metadata": {},
   "source": [
    "## Main Evaluation Pipeline"
   ]
  },
  {
   "cell_type": "code",
   "execution_count": 32,
   "metadata": {},
   "outputs": [
    {
     "data": {
      "text/html": [
       "<pre style=\"white-space:pre;overflow-x:auto;line-height:normal;font-family:Menlo,'DejaVu Sans Mono',consolas,'Courier New',monospace\"><span style=\"color: #008000; text-decoration-color: #008000; font-weight: bold\">Evaluation pipeline defined!</span>\n",
       "</pre>\n"
      ],
      "text/plain": [
       "\u001b[1;32mEvaluation pipeline defined!\u001b[0m\n"
      ]
     },
     "metadata": {},
     "output_type": "display_data"
    }
   ],
   "source": [
    "def fit_and_evaluate_strategy(\n",
    "    strategy: dict[str, Any],\n",
    "    X_train: pd.DataFrame,\n",
    "    y_train: pd.Series,\n",
    "    X_test: pd.DataFrame,\n",
    "    y_test: pd.Series,\n",
    "    X_full: pd.DataFrame,\n",
    "    y_full: pd.Series,\n",
    "    ground_truth: dict,\n",
    "    channel_columns: list[str],\n",
    "    control_columns: list[str],\n",
    "    adstock_max_lag: int,\n",
    "    convergence_thresholds: dict,\n",
    "    **fit_kwargs,\n",
    ") -> tuple[dict[str, float], MMM | None]:\n",
    "    \"\"\"Complete evaluation pipeline for one baseline strategy.\n",
    "    \n",
    "    Args:\n",
    "        strategy: Strategy dict with name, config, hypothesis\n",
    "        X_train, y_train: Training data\n",
    "        X_test, y_test: Test data\n",
    "        X_full, y_full: Full dataset (for attribution computation)\n",
    "        ground_truth: Ground truth parameters\n",
    "        channel_columns: Channel names\n",
    "        control_columns: Control variable names\n",
    "        adstock_max_lag: Maximum adstock lag\n",
    "        convergence_thresholds: Dict with convergence criteria\n",
    "        **fit_kwargs: MCMC settings\n",
    "        \n",
    "    Returns:\n",
    "        Tuple of (metrics dict, fitted MMM or None if failed)\n",
    "    \"\"\"\n",
    "    rprint(f\"\\n[bold cyan]Evaluating: {strategy['name']}[/bold cyan]\")\n",
    "    rprint(f\"Description: {strategy['description']}\")\n",
    "    rprint(f\"Hypothesis: {strategy['hypothesis']}\")\n",
    "\n",
    "    try:\n",
    "        # Create model\n",
    "        start_time = time.time()\n",
    "        mmm = create_mmm_with_baseline(\n",
    "            baseline_config=strategy[\"config\"],\n",
    "            channel_columns=channel_columns,\n",
    "            control_columns=control_columns,\n",
    "            adstock_max_lag=adstock_max_lag,\n",
    "        )\n",
    "\n",
    "        # Fit on training set\n",
    "        rprint(\"Fitting model on training set...\")\n",
    "        mmm.fit(X=X_train, y=y_train, **fit_kwargs)\n",
    "        fit_time = time.time() - start_time\n",
    "\n",
    "        # Check convergence\n",
    "        converged, convergence_diagnostics = check_convergence(\n",
    "            mmm=mmm,\n",
    "            strategy_name=strategy[\"name\"],\n",
    "            **convergence_thresholds,\n",
    "        )\n",
    "\n",
    "        if not converged:\n",
    "            rprint(f\"[yellow]Warning: Model did not converge, but continuing...[/yellow]\")\n",
    "\n",
    "        # Compute test CRPS\n",
    "        rprint(\"Computing test CRPS...\")\n",
    "        test_crps = compute_test_crps(mmm, X_test, y_test)\n",
    "        rprint(f\"Test CRPS: {test_crps:.2f}\")\n",
    "\n",
    "        # Compute train CRPS for overfitting check\n",
    "        rprint(\"Computing train CRPS...\")\n",
    "        train_crps = compute_test_crps(mmm, X_train, y_train)\n",
    "        rprint(f\"Train CRPS: {train_crps:.2f}\")\n",
    "\n",
    "        # Compute ROAS metrics\n",
    "        rprint(\"Computing ROAS metrics...\")\n",
    "        roas_metrics = compute_roas_metrics(\n",
    "            mmm, X_full, channel_columns, ground_truth\n",
    "        )\n",
    "        rprint(f\"ROAS MAE: {roas_metrics['roas_mae']:.2f}\")\n",
    "\n",
    "        # Compute attribution metrics\n",
    "        rprint(\"Computing attribution metrics...\")\n",
    "        attribution_metrics = compute_attribution_metrics(\n",
    "            mmm, X_full, y_full, channel_columns\n",
    "        )\n",
    "        rprint(f\"Marketing share: {attribution_metrics['marketing_share']*100:.1f}%\")\n",
    "\n",
    "        # Combine all metrics\n",
    "        metrics = {\n",
    "            \"strategy\": strategy[\"name\"],\n",
    "            \"hypothesis\": strategy[\"hypothesis\"],\n",
    "            \"train_crps\": train_crps,\n",
    "            \"test_crps\": test_crps,\n",
    "            \"crps_overfit_ratio\": test_crps / train_crps if train_crps > 0 else 1.0,\n",
    "            **roas_metrics,\n",
    "            **attribution_metrics,\n",
    "            \"converged\": converged,\n",
    "            **convergence_diagnostics,\n",
    "            \"fit_time_seconds\": fit_time,\n",
    "        }\n",
    "\n",
    "        rprint(f\"[green]✓ {strategy['name']} evaluation complete![/green]\")\n",
    "        return metrics, mmm\n",
    "\n",
    "    except Exception as e:\n",
    "        rprint(f\"[red]✗ {strategy['name']} failed: {e}[/red]\")\n",
    "        return {\n",
    "            \"strategy\": strategy[\"name\"],\n",
    "            \"hypothesis\": strategy[\"hypothesis\"],\n",
    "            \"status\": \"failed\",\n",
    "            \"error\": str(e),\n",
    "        }, None\n",
    "\n",
    "\n",
    "rprint(\"[bold green]Evaluation pipeline defined![/bold green]\")"
   ]
  },
  {
   "cell_type": "markdown",
   "metadata": {},
   "source": [
    "## Run Systematic Comparison\n",
    "\n",
    "This will fit all 4 baseline strategies and evaluate each on train/test sets.\n",
    "\n",
    "**Note**: This takes approximately 15-20 minutes to complete."
   ]
  },
  {
   "cell_type": "code",
   "execution_count": 33,
   "metadata": {},
   "outputs": [
    {
     "data": {
      "text/html": [
       "<pre style=\"white-space:pre;overflow-x:auto;line-height:normal;font-family:Menlo,'DejaVu Sans Mono',consolas,'Courier New',monospace\">\n",
       "<span style=\"color: #800080; text-decoration-color: #800080; font-weight: bold\">Starting systematic baseline comparison...</span>\n",
       "</pre>\n"
      ],
      "text/plain": [
       "\n",
       "\u001b[1;35mStarting systematic baseline comparison\u001b[0m\u001b[1;35m...\u001b[0m\n"
      ]
     },
     "metadata": {},
     "output_type": "display_data"
    },
    {
     "data": {
      "text/html": [
       "<pre style=\"white-space:pre;overflow-x:auto;line-height:normal;font-family:Menlo,'DejaVu Sans Mono',consolas,'Courier New',monospace\">Evaluating <span style=\"color: #008080; text-decoration-color: #008080; font-weight: bold\">4</span> strategies\n",
       "\n",
       "</pre>\n"
      ],
      "text/plain": [
       "Evaluating \u001b[1;36m4\u001b[0m strategies\n",
       "\n"
      ]
     },
     "metadata": {},
     "output_type": "display_data"
    },
    {
     "data": {
      "text/html": [
       "<pre style=\"white-space:pre;overflow-x:auto;line-height:normal;font-family:Menlo,'DejaVu Sans Mono',consolas,'Courier New',monospace\">\n",
       "<span style=\"color: #008080; text-decoration-color: #008080; font-weight: bold\">Evaluating: static_intercept_only</span>\n",
       "</pre>\n"
      ],
      "text/plain": [
       "\n",
       "\u001b[1;36mEvaluating: static_intercept_only\u001b[0m\n"
      ]
     },
     "metadata": {},
     "output_type": "display_data"
    },
    {
     "data": {
      "text/html": [
       "<pre style=\"white-space:pre;overflow-x:auto;line-height:normal;font-family:Menlo,'DejaVu Sans Mono',consolas,'Courier New',monospace\">Description: Constant baseline, no seasonality\n",
       "</pre>\n"
      ],
      "text/plain": [
       "Description: Constant baseline, no seasonality\n"
      ]
     },
     "metadata": {},
     "output_type": "display_data"
    },
    {
     "data": {
      "text/html": [
       "<pre style=\"white-space:pre;overflow-x:auto;line-height:normal;font-family:Menlo,'DejaVu Sans Mono',consolas,'Courier New',monospace\">Hypothesis: Simplest model - may attribute seasonal/trend patterns to marketing\n",
       "</pre>\n"
      ],
      "text/plain": [
       "Hypothesis: Simplest model - may attribute seasonal/trend patterns to marketing\n"
      ]
     },
     "metadata": {},
     "output_type": "display_data"
    },
    {
     "data": {
      "text/html": [
       "<pre style=\"white-space:pre;overflow-x:auto;line-height:normal;font-family:Menlo,'DejaVu Sans Mono',consolas,'Courier New',monospace\">Fitting model on training set<span style=\"color: #808000; text-decoration-color: #808000\">...</span>\n",
       "</pre>\n"
      ],
      "text/plain": [
       "Fitting model on training set\u001b[33m...\u001b[0m\n"
      ]
     },
     "metadata": {},
     "output_type": "display_data"
    },
    {
     "data": {
      "application/vnd.jupyter.widget-view+json": {
       "model_id": "32d19d1868844893b9a18ebc1ebe55c3",
       "version_major": 2,
       "version_minor": 0
      },
      "text/plain": [
       "Output()"
      ]
     },
     "metadata": {},
     "output_type": "display_data"
    },
    {
     "data": {
      "text/html": [
       "<pre style=\"white-space:pre;overflow-x:auto;line-height:normal;font-family:Menlo,'DejaVu Sans Mono',consolas,'Courier New',monospace\"></pre>\n"
      ],
      "text/plain": []
     },
     "metadata": {},
     "output_type": "display_data"
    },
    {
     "data": {
      "text/html": [
       "<pre style=\"white-space:pre;overflow-x:auto;line-height:normal;font-family:Menlo,'DejaVu Sans Mono',consolas,'Courier New',monospace\"><span style=\"color: #008000; text-decoration-color: #008000\">✓  CONVERGED:</span> <span style=\"color: #808000; text-decoration-color: #808000\">div</span>=<span style=\"color: #008080; text-decoration-color: #008080; font-weight: bold\">0.0</span>%, <span style=\"color: #808000; text-decoration-color: #808000\">rhat</span>=<span style=\"color: #008080; text-decoration-color: #008080; font-weight: bold\">1.004</span>, <span style=\"color: #808000; text-decoration-color: #808000\">ess</span>=<span style=\"color: #008080; text-decoration-color: #008080; font-weight: bold\">1868</span>\n",
       "</pre>\n"
      ],
      "text/plain": [
       "\u001b[32m✓ \u001b[0m\u001b[32m CONVERGED:\u001b[0m \u001b[33mdiv\u001b[0m=\u001b[1;36m0\u001b[0m\u001b[1;36m.0\u001b[0m%, \u001b[33mrhat\u001b[0m=\u001b[1;36m1\u001b[0m\u001b[1;36m.004\u001b[0m, \u001b[33mess\u001b[0m=\u001b[1;36m1868\u001b[0m\n"
      ]
     },
     "metadata": {},
     "output_type": "display_data"
    },
    {
     "data": {
      "text/html": [
       "<pre style=\"white-space:pre;overflow-x:auto;line-height:normal;font-family:Menlo,'DejaVu Sans Mono',consolas,'Courier New',monospace\">Computing test CRPS<span style=\"color: #808000; text-decoration-color: #808000\">...</span>\n",
       "</pre>\n"
      ],
      "text/plain": [
       "Computing test CRPS\u001b[33m...\u001b[0m\n"
      ]
     },
     "metadata": {},
     "output_type": "display_data"
    },
    {
     "name": "stderr",
     "output_type": "stream",
     "text": [
      "Sampling: [y]\n"
     ]
    },
    {
     "data": {
      "application/vnd.jupyter.widget-view+json": {
       "model_id": "bc2557e3c18842519bfe73e26dbe249f",
       "version_major": 2,
       "version_minor": 0
      },
      "text/plain": [
       "Output()"
      ]
     },
     "metadata": {},
     "output_type": "display_data"
    },
    {
     "data": {
      "text/html": [
       "<pre style=\"white-space:pre;overflow-x:auto;line-height:normal;font-family:Menlo,'DejaVu Sans Mono',consolas,'Courier New',monospace\"></pre>\n"
      ],
      "text/plain": []
     },
     "metadata": {},
     "output_type": "display_data"
    },
    {
     "data": {
      "text/html": [
       "<pre style=\"white-space:pre;overflow-x:auto;line-height:normal;font-family:Menlo,'DejaVu Sans Mono',consolas,'Courier New',monospace\">Test CRPS: <span style=\"color: #008080; text-decoration-color: #008080; font-weight: bold\">799.80</span>\n",
       "</pre>\n"
      ],
      "text/plain": [
       "Test CRPS: \u001b[1;36m799.80\u001b[0m\n"
      ]
     },
     "metadata": {},
     "output_type": "display_data"
    },
    {
     "data": {
      "text/html": [
       "<pre style=\"white-space:pre;overflow-x:auto;line-height:normal;font-family:Menlo,'DejaVu Sans Mono',consolas,'Courier New',monospace\">Computing train CRPS<span style=\"color: #808000; text-decoration-color: #808000\">...</span>\n",
       "</pre>\n"
      ],
      "text/plain": [
       "Computing train CRPS\u001b[33m...\u001b[0m\n"
      ]
     },
     "metadata": {},
     "output_type": "display_data"
    },
    {
     "name": "stderr",
     "output_type": "stream",
     "text": [
      "Sampling: [y]\n"
     ]
    },
    {
     "data": {
      "application/vnd.jupyter.widget-view+json": {
       "model_id": "5c72d52fbebe465699fc79cdd3949650",
       "version_major": 2,
       "version_minor": 0
      },
      "text/plain": [
       "Output()"
      ]
     },
     "metadata": {},
     "output_type": "display_data"
    },
    {
     "data": {
      "text/html": [
       "<pre style=\"white-space:pre;overflow-x:auto;line-height:normal;font-family:Menlo,'DejaVu Sans Mono',consolas,'Courier New',monospace\"></pre>\n"
      ],
      "text/plain": []
     },
     "metadata": {},
     "output_type": "display_data"
    },
    {
     "data": {
      "text/html": [
       "<pre style=\"white-space:pre;overflow-x:auto;line-height:normal;font-family:Menlo,'DejaVu Sans Mono',consolas,'Courier New',monospace\">Train CRPS: <span style=\"color: #008080; text-decoration-color: #008080; font-weight: bold\">471.47</span>\n",
       "</pre>\n"
      ],
      "text/plain": [
       "Train CRPS: \u001b[1;36m471.47\u001b[0m\n"
      ]
     },
     "metadata": {},
     "output_type": "display_data"
    },
    {
     "data": {
      "text/html": [
       "<pre style=\"white-space:pre;overflow-x:auto;line-height:normal;font-family:Menlo,'DejaVu Sans Mono',consolas,'Courier New',monospace\">Computing ROAS metrics<span style=\"color: #808000; text-decoration-color: #808000\">...</span>\n",
       "</pre>\n"
      ],
      "text/plain": [
       "Computing ROAS metrics\u001b[33m...\u001b[0m\n"
      ]
     },
     "metadata": {},
     "output_type": "display_data"
    },
    {
     "data": {
      "text/html": [
       "<pre style=\"white-space:pre;overflow-x:auto;line-height:normal;font-family:Menlo,'DejaVu Sans Mono',consolas,'Courier New',monospace\">ROAS MAE: <span style=\"color: #008080; text-decoration-color: #008080; font-weight: bold\">2.62</span>\n",
       "</pre>\n"
      ],
      "text/plain": [
       "ROAS MAE: \u001b[1;36m2.62\u001b[0m\n"
      ]
     },
     "metadata": {},
     "output_type": "display_data"
    },
    {
     "data": {
      "text/html": [
       "<pre style=\"white-space:pre;overflow-x:auto;line-height:normal;font-family:Menlo,'DejaVu Sans Mono',consolas,'Courier New',monospace\">Computing attribution metrics<span style=\"color: #808000; text-decoration-color: #808000\">...</span>\n",
       "</pre>\n"
      ],
      "text/plain": [
       "Computing attribution metrics\u001b[33m...\u001b[0m\n"
      ]
     },
     "metadata": {},
     "output_type": "display_data"
    },
    {
     "data": {
      "text/html": [
       "<pre style=\"white-space:pre;overflow-x:auto;line-height:normal;font-family:Menlo,'DejaVu Sans Mono',consolas,'Courier New',monospace\">Marketing share: <span style=\"color: #008080; text-decoration-color: #008080; font-weight: bold\">34.3</span>%\n",
       "</pre>\n"
      ],
      "text/plain": [
       "Marketing share: \u001b[1;36m34.3\u001b[0m%\n"
      ]
     },
     "metadata": {},
     "output_type": "display_data"
    },
    {
     "data": {
      "text/html": [
       "<pre style=\"white-space:pre;overflow-x:auto;line-height:normal;font-family:Menlo,'DejaVu Sans Mono',consolas,'Courier New',monospace\"><span style=\"color: #008000; text-decoration-color: #008000\">✓ static_intercept_only evaluation complete!</span>\n",
       "</pre>\n"
      ],
      "text/plain": [
       "\u001b[32m✓ static_intercept_only evaluation complete!\u001b[0m\n"
      ]
     },
     "metadata": {},
     "output_type": "display_data"
    },
    {
     "data": {
      "text/html": [
       "<pre style=\"white-space:pre;overflow-x:auto;line-height:normal;font-family:Menlo,'DejaVu Sans Mono',consolas,'Courier New',monospace\">\n",
       "<span style=\"color: #008080; text-decoration-color: #008080; font-weight: bold\">Evaluating: static_fourier_seasonality</span>\n",
       "</pre>\n"
      ],
      "text/plain": [
       "\n",
       "\u001b[1;36mEvaluating: static_fourier_seasonality\u001b[0m\n"
      ]
     },
     "metadata": {},
     "output_type": "display_data"
    },
    {
     "data": {
      "text/html": [
       "<pre style=\"white-space:pre;overflow-x:auto;line-height:normal;font-family:Menlo,'DejaVu Sans Mono',consolas,'Courier New',monospace\">Description: Static baseline with Fourier seasonality\n",
       "</pre>\n"
      ],
      "text/plain": [
       "Description: Static baseline with Fourier seasonality\n"
      ]
     },
     "metadata": {},
     "output_type": "display_data"
    },
    {
     "data": {
      "text/html": [
       "<pre style=\"white-space:pre;overflow-x:auto;line-height:normal;font-family:Menlo,'DejaVu Sans Mono',consolas,'Courier New',monospace\">Hypothesis: Standard MMM approach - handles regular seasonal patterns\n",
       "</pre>\n"
      ],
      "text/plain": [
       "Hypothesis: Standard MMM approach - handles regular seasonal patterns\n"
      ]
     },
     "metadata": {},
     "output_type": "display_data"
    },
    {
     "data": {
      "text/html": [
       "<pre style=\"white-space:pre;overflow-x:auto;line-height:normal;font-family:Menlo,'DejaVu Sans Mono',consolas,'Courier New',monospace\">Fitting model on training set<span style=\"color: #808000; text-decoration-color: #808000\">...</span>\n",
       "</pre>\n"
      ],
      "text/plain": [
       "Fitting model on training set\u001b[33m...\u001b[0m\n"
      ]
     },
     "metadata": {},
     "output_type": "display_data"
    },
    {
     "data": {
      "application/vnd.jupyter.widget-view+json": {
       "model_id": "bc4bd113d6554148ab9332d31b40a538",
       "version_major": 2,
       "version_minor": 0
      },
      "text/plain": [
       "Output()"
      ]
     },
     "metadata": {},
     "output_type": "display_data"
    },
    {
     "data": {
      "text/html": [
       "<pre style=\"white-space:pre;overflow-x:auto;line-height:normal;font-family:Menlo,'DejaVu Sans Mono',consolas,'Courier New',monospace\"></pre>\n"
      ],
      "text/plain": []
     },
     "metadata": {},
     "output_type": "display_data"
    },
    {
     "data": {
      "text/html": [
       "<pre style=\"white-space:pre;overflow-x:auto;line-height:normal;font-family:Menlo,'DejaVu Sans Mono',consolas,'Courier New',monospace\"><span style=\"color: #008000; text-decoration-color: #008000\">✓  CONVERGED:</span> <span style=\"color: #808000; text-decoration-color: #808000\">div</span>=<span style=\"color: #008080; text-decoration-color: #008080; font-weight: bold\">0.0</span>%, <span style=\"color: #808000; text-decoration-color: #808000\">rhat</span>=<span style=\"color: #008080; text-decoration-color: #008080; font-weight: bold\">1.003</span>, <span style=\"color: #808000; text-decoration-color: #808000\">ess</span>=<span style=\"color: #008080; text-decoration-color: #008080; font-weight: bold\">1276</span>\n",
       "</pre>\n"
      ],
      "text/plain": [
       "\u001b[32m✓ \u001b[0m\u001b[32m CONVERGED:\u001b[0m \u001b[33mdiv\u001b[0m=\u001b[1;36m0\u001b[0m\u001b[1;36m.0\u001b[0m%, \u001b[33mrhat\u001b[0m=\u001b[1;36m1\u001b[0m\u001b[1;36m.003\u001b[0m, \u001b[33mess\u001b[0m=\u001b[1;36m1276\u001b[0m\n"
      ]
     },
     "metadata": {},
     "output_type": "display_data"
    },
    {
     "data": {
      "text/html": [
       "<pre style=\"white-space:pre;overflow-x:auto;line-height:normal;font-family:Menlo,'DejaVu Sans Mono',consolas,'Courier New',monospace\">Computing test CRPS<span style=\"color: #808000; text-decoration-color: #808000\">...</span>\n",
       "</pre>\n"
      ],
      "text/plain": [
       "Computing test CRPS\u001b[33m...\u001b[0m\n"
      ]
     },
     "metadata": {},
     "output_type": "display_data"
    },
    {
     "name": "stderr",
     "output_type": "stream",
     "text": [
      "Sampling: [y]\n"
     ]
    },
    {
     "data": {
      "application/vnd.jupyter.widget-view+json": {
       "model_id": "4d4380837ea54787a5c6c02fe59544da",
       "version_major": 2,
       "version_minor": 0
      },
      "text/plain": [
       "Output()"
      ]
     },
     "metadata": {},
     "output_type": "display_data"
    },
    {
     "data": {
      "text/html": [
       "<pre style=\"white-space:pre;overflow-x:auto;line-height:normal;font-family:Menlo,'DejaVu Sans Mono',consolas,'Courier New',monospace\"></pre>\n"
      ],
      "text/plain": []
     },
     "metadata": {},
     "output_type": "display_data"
    },
    {
     "data": {
      "text/html": [
       "<pre style=\"white-space:pre;overflow-x:auto;line-height:normal;font-family:Menlo,'DejaVu Sans Mono',consolas,'Courier New',monospace\">Test CRPS: <span style=\"color: #008080; text-decoration-color: #008080; font-weight: bold\">301.35</span>\n",
       "</pre>\n"
      ],
      "text/plain": [
       "Test CRPS: \u001b[1;36m301.35\u001b[0m\n"
      ]
     },
     "metadata": {},
     "output_type": "display_data"
    },
    {
     "data": {
      "text/html": [
       "<pre style=\"white-space:pre;overflow-x:auto;line-height:normal;font-family:Menlo,'DejaVu Sans Mono',consolas,'Courier New',monospace\">Computing train CRPS<span style=\"color: #808000; text-decoration-color: #808000\">...</span>\n",
       "</pre>\n"
      ],
      "text/plain": [
       "Computing train CRPS\u001b[33m...\u001b[0m\n"
      ]
     },
     "metadata": {},
     "output_type": "display_data"
    },
    {
     "name": "stderr",
     "output_type": "stream",
     "text": [
      "Sampling: [y]\n"
     ]
    },
    {
     "data": {
      "application/vnd.jupyter.widget-view+json": {
       "model_id": "a0dbb58471a448d38fc15f843b6b52ab",
       "version_major": 2,
       "version_minor": 0
      },
      "text/plain": [
       "Output()"
      ]
     },
     "metadata": {},
     "output_type": "display_data"
    },
    {
     "data": {
      "text/html": [
       "<pre style=\"white-space:pre;overflow-x:auto;line-height:normal;font-family:Menlo,'DejaVu Sans Mono',consolas,'Courier New',monospace\"></pre>\n"
      ],
      "text/plain": []
     },
     "metadata": {},
     "output_type": "display_data"
    },
    {
     "data": {
      "text/html": [
       "<pre style=\"white-space:pre;overflow-x:auto;line-height:normal;font-family:Menlo,'DejaVu Sans Mono',consolas,'Courier New',monospace\">Train CRPS: <span style=\"color: #008080; text-decoration-color: #008080; font-weight: bold\">266.36</span>\n",
       "</pre>\n"
      ],
      "text/plain": [
       "Train CRPS: \u001b[1;36m266.36\u001b[0m\n"
      ]
     },
     "metadata": {},
     "output_type": "display_data"
    },
    {
     "data": {
      "text/html": [
       "<pre style=\"white-space:pre;overflow-x:auto;line-height:normal;font-family:Menlo,'DejaVu Sans Mono',consolas,'Courier New',monospace\">Computing ROAS metrics<span style=\"color: #808000; text-decoration-color: #808000\">...</span>\n",
       "</pre>\n"
      ],
      "text/plain": [
       "Computing ROAS metrics\u001b[33m...\u001b[0m\n"
      ]
     },
     "metadata": {},
     "output_type": "display_data"
    },
    {
     "data": {
      "text/html": [
       "<pre style=\"white-space:pre;overflow-x:auto;line-height:normal;font-family:Menlo,'DejaVu Sans Mono',consolas,'Courier New',monospace\">ROAS MAE: <span style=\"color: #008080; text-decoration-color: #008080; font-weight: bold\">1.62</span>\n",
       "</pre>\n"
      ],
      "text/plain": [
       "ROAS MAE: \u001b[1;36m1.62\u001b[0m\n"
      ]
     },
     "metadata": {},
     "output_type": "display_data"
    },
    {
     "data": {
      "text/html": [
       "<pre style=\"white-space:pre;overflow-x:auto;line-height:normal;font-family:Menlo,'DejaVu Sans Mono',consolas,'Courier New',monospace\">Computing attribution metrics<span style=\"color: #808000; text-decoration-color: #808000\">...</span>\n",
       "</pre>\n"
      ],
      "text/plain": [
       "Computing attribution metrics\u001b[33m...\u001b[0m\n"
      ]
     },
     "metadata": {},
     "output_type": "display_data"
    },
    {
     "data": {
      "text/html": [
       "<pre style=\"white-space:pre;overflow-x:auto;line-height:normal;font-family:Menlo,'DejaVu Sans Mono',consolas,'Courier New',monospace\">Marketing share: <span style=\"color: #008080; text-decoration-color: #008080; font-weight: bold\">34.5</span>%\n",
       "</pre>\n"
      ],
      "text/plain": [
       "Marketing share: \u001b[1;36m34.5\u001b[0m%\n"
      ]
     },
     "metadata": {},
     "output_type": "display_data"
    },
    {
     "data": {
      "text/html": [
       "<pre style=\"white-space:pre;overflow-x:auto;line-height:normal;font-family:Menlo,'DejaVu Sans Mono',consolas,'Courier New',monospace\"><span style=\"color: #008000; text-decoration-color: #008000\">✓ static_fourier_seasonality evaluation complete!</span>\n",
       "</pre>\n"
      ],
      "text/plain": [
       "\u001b[32m✓ static_fourier_seasonality evaluation complete!\u001b[0m\n"
      ]
     },
     "metadata": {},
     "output_type": "display_data"
    },
    {
     "data": {
      "text/html": [
       "<pre style=\"white-space:pre;overflow-x:auto;line-height:normal;font-family:Menlo,'DejaVu Sans Mono',consolas,'Courier New',monospace\">\n",
       "<span style=\"color: #008080; text-decoration-color: #008080; font-weight: bold\">Evaluating: gp_flexible_baseline</span>\n",
       "</pre>\n"
      ],
      "text/plain": [
       "\n",
       "\u001b[1;36mEvaluating: gp_flexible_baseline\u001b[0m\n"
      ]
     },
     "metadata": {},
     "output_type": "display_data"
    },
    {
     "data": {
      "text/html": [
       "<pre style=\"white-space:pre;overflow-x:auto;line-height:normal;font-family:Menlo,'DejaVu Sans Mono',consolas,'Courier New',monospace\">Description: GP baseline without Fourier <span style=\"font-weight: bold\">(</span>GP handles all temporal variation<span style=\"font-weight: bold\">)</span>\n",
       "</pre>\n"
      ],
      "text/plain": [
       "Description: GP baseline without Fourier \u001b[1m(\u001b[0mGP handles all temporal variation\u001b[1m)\u001b[0m\n"
      ]
     },
     "metadata": {},
     "output_type": "display_data"
    },
    {
     "data": {
      "text/html": [
       "<pre style=\"white-space:pre;overflow-x:auto;line-height:normal;font-family:Menlo,'DejaVu Sans Mono',consolas,'Courier New',monospace\">Hypothesis: Maximally flexible - risk of absorbing marketing signal\n",
       "</pre>\n"
      ],
      "text/plain": [
       "Hypothesis: Maximally flexible - risk of absorbing marketing signal\n"
      ]
     },
     "metadata": {},
     "output_type": "display_data"
    },
    {
     "data": {
      "text/html": [
       "<pre style=\"white-space:pre;overflow-x:auto;line-height:normal;font-family:Menlo,'DejaVu Sans Mono',consolas,'Courier New',monospace\">Fitting model on training set<span style=\"color: #808000; text-decoration-color: #808000\">...</span>\n",
       "</pre>\n"
      ],
      "text/plain": [
       "Fitting model on training set\u001b[33m...\u001b[0m\n"
      ]
     },
     "metadata": {},
     "output_type": "display_data"
    },
    {
     "data": {
      "application/vnd.jupyter.widget-view+json": {
       "model_id": "ea8edd3421274a0cbb9edc68c2646a35",
       "version_major": 2,
       "version_minor": 0
      },
      "text/plain": [
       "Output()"
      ]
     },
     "metadata": {},
     "output_type": "display_data"
    },
    {
     "data": {
      "text/html": [
       "<pre style=\"white-space:pre;overflow-x:auto;line-height:normal;font-family:Menlo,'DejaVu Sans Mono',consolas,'Courier New',monospace\"></pre>\n"
      ],
      "text/plain": []
     },
     "metadata": {},
     "output_type": "display_data"
    },
    {
     "data": {
      "text/html": [
       "<pre style=\"white-space:pre;overflow-x:auto;line-height:normal;font-family:Menlo,'DejaVu Sans Mono',consolas,'Courier New',monospace\"><span style=\"color: #008000; text-decoration-color: #008000\">✓  CONVERGED:</span> <span style=\"color: #808000; text-decoration-color: #808000\">div</span>=<span style=\"color: #008080; text-decoration-color: #008080; font-weight: bold\">0.0</span>%, <span style=\"color: #808000; text-decoration-color: #808000\">rhat</span>=<span style=\"color: #008080; text-decoration-color: #008080; font-weight: bold\">1.011</span>, <span style=\"color: #808000; text-decoration-color: #808000\">ess</span>=<span style=\"color: #008080; text-decoration-color: #008080; font-weight: bold\">1270</span>\n",
       "</pre>\n"
      ],
      "text/plain": [
       "\u001b[32m✓ \u001b[0m\u001b[32m CONVERGED:\u001b[0m \u001b[33mdiv\u001b[0m=\u001b[1;36m0\u001b[0m\u001b[1;36m.0\u001b[0m%, \u001b[33mrhat\u001b[0m=\u001b[1;36m1\u001b[0m\u001b[1;36m.011\u001b[0m, \u001b[33mess\u001b[0m=\u001b[1;36m1270\u001b[0m\n"
      ]
     },
     "metadata": {},
     "output_type": "display_data"
    },
    {
     "data": {
      "text/html": [
       "<pre style=\"white-space:pre;overflow-x:auto;line-height:normal;font-family:Menlo,'DejaVu Sans Mono',consolas,'Courier New',monospace\">Computing test CRPS<span style=\"color: #808000; text-decoration-color: #808000\">...</span>\n",
       "</pre>\n"
      ],
      "text/plain": [
       "Computing test CRPS\u001b[33m...\u001b[0m\n"
      ]
     },
     "metadata": {},
     "output_type": "display_data"
    },
    {
     "name": "stderr",
     "output_type": "stream",
     "text": [
      "Sampling: [y]\n"
     ]
    },
    {
     "data": {
      "application/vnd.jupyter.widget-view+json": {
       "model_id": "0416839becc2468dbfeb89bd97fc9852",
       "version_major": 2,
       "version_minor": 0
      },
      "text/plain": [
       "Output()"
      ]
     },
     "metadata": {},
     "output_type": "display_data"
    },
    {
     "data": {
      "text/html": [
       "<pre style=\"white-space:pre;overflow-x:auto;line-height:normal;font-family:Menlo,'DejaVu Sans Mono',consolas,'Courier New',monospace\"></pre>\n"
      ],
      "text/plain": []
     },
     "metadata": {},
     "output_type": "display_data"
    },
    {
     "data": {
      "text/html": [
       "<pre style=\"white-space:pre;overflow-x:auto;line-height:normal;font-family:Menlo,'DejaVu Sans Mono',consolas,'Courier New',monospace\">Test CRPS: <span style=\"color: #008080; text-decoration-color: #008080; font-weight: bold\">711.59</span>\n",
       "</pre>\n"
      ],
      "text/plain": [
       "Test CRPS: \u001b[1;36m711.59\u001b[0m\n"
      ]
     },
     "metadata": {},
     "output_type": "display_data"
    },
    {
     "data": {
      "text/html": [
       "<pre style=\"white-space:pre;overflow-x:auto;line-height:normal;font-family:Menlo,'DejaVu Sans Mono',consolas,'Courier New',monospace\">Computing train CRPS<span style=\"color: #808000; text-decoration-color: #808000\">...</span>\n",
       "</pre>\n"
      ],
      "text/plain": [
       "Computing train CRPS\u001b[33m...\u001b[0m\n"
      ]
     },
     "metadata": {},
     "output_type": "display_data"
    },
    {
     "name": "stderr",
     "output_type": "stream",
     "text": [
      "Sampling: [y]\n"
     ]
    },
    {
     "data": {
      "application/vnd.jupyter.widget-view+json": {
       "model_id": "7c83ba1ed1fe4ab585f38cd918b0a2b8",
       "version_major": 2,
       "version_minor": 0
      },
      "text/plain": [
       "Output()"
      ]
     },
     "metadata": {},
     "output_type": "display_data"
    },
    {
     "data": {
      "text/html": [
       "<pre style=\"white-space:pre;overflow-x:auto;line-height:normal;font-family:Menlo,'DejaVu Sans Mono',consolas,'Courier New',monospace\"></pre>\n"
      ],
      "text/plain": []
     },
     "metadata": {},
     "output_type": "display_data"
    },
    {
     "data": {
      "text/html": [
       "<pre style=\"white-space:pre;overflow-x:auto;line-height:normal;font-family:Menlo,'DejaVu Sans Mono',consolas,'Courier New',monospace\">Train CRPS: <span style=\"color: #008080; text-decoration-color: #008080; font-weight: bold\">249.86</span>\n",
       "</pre>\n"
      ],
      "text/plain": [
       "Train CRPS: \u001b[1;36m249.86\u001b[0m\n"
      ]
     },
     "metadata": {},
     "output_type": "display_data"
    },
    {
     "data": {
      "text/html": [
       "<pre style=\"white-space:pre;overflow-x:auto;line-height:normal;font-family:Menlo,'DejaVu Sans Mono',consolas,'Courier New',monospace\">Computing ROAS metrics<span style=\"color: #808000; text-decoration-color: #808000\">...</span>\n",
       "</pre>\n"
      ],
      "text/plain": [
       "Computing ROAS metrics\u001b[33m...\u001b[0m\n"
      ]
     },
     "metadata": {},
     "output_type": "display_data"
    },
    {
     "data": {
      "text/html": [
       "<pre style=\"white-space:pre;overflow-x:auto;line-height:normal;font-family:Menlo,'DejaVu Sans Mono',consolas,'Courier New',monospace\">ROAS MAE: <span style=\"color: #008080; text-decoration-color: #008080; font-weight: bold\">2.22</span>\n",
       "</pre>\n"
      ],
      "text/plain": [
       "ROAS MAE: \u001b[1;36m2.22\u001b[0m\n"
      ]
     },
     "metadata": {},
     "output_type": "display_data"
    },
    {
     "data": {
      "text/html": [
       "<pre style=\"white-space:pre;overflow-x:auto;line-height:normal;font-family:Menlo,'DejaVu Sans Mono',consolas,'Courier New',monospace\">Computing attribution metrics<span style=\"color: #808000; text-decoration-color: #808000\">...</span>\n",
       "</pre>\n"
      ],
      "text/plain": [
       "Computing attribution metrics\u001b[33m...\u001b[0m\n"
      ]
     },
     "metadata": {},
     "output_type": "display_data"
    },
    {
     "data": {
      "text/html": [
       "<pre style=\"white-space:pre;overflow-x:auto;line-height:normal;font-family:Menlo,'DejaVu Sans Mono',consolas,'Courier New',monospace\">Marketing share: <span style=\"color: #008080; text-decoration-color: #008080; font-weight: bold\">33.0</span>%\n",
       "</pre>\n"
      ],
      "text/plain": [
       "Marketing share: \u001b[1;36m33.0\u001b[0m%\n"
      ]
     },
     "metadata": {},
     "output_type": "display_data"
    },
    {
     "data": {
      "text/html": [
       "<pre style=\"white-space:pre;overflow-x:auto;line-height:normal;font-family:Menlo,'DejaVu Sans Mono',consolas,'Courier New',monospace\"><span style=\"color: #008000; text-decoration-color: #008000\">✓ gp_flexible_baseline evaluation complete!</span>\n",
       "</pre>\n"
      ],
      "text/plain": [
       "\u001b[32m✓ gp_flexible_baseline evaluation complete!\u001b[0m\n"
      ]
     },
     "metadata": {},
     "output_type": "display_data"
    },
    {
     "data": {
      "text/html": [
       "<pre style=\"white-space:pre;overflow-x:auto;line-height:normal;font-family:Menlo,'DejaVu Sans Mono',consolas,'Courier New',monospace\">\n",
       "<span style=\"color: #008080; text-decoration-color: #008080; font-weight: bold\">Evaluating: gp_plus_fourier</span>\n",
       "</pre>\n"
      ],
      "text/plain": [
       "\n",
       "\u001b[1;36mEvaluating: gp_plus_fourier\u001b[0m\n"
      ]
     },
     "metadata": {},
     "output_type": "display_data"
    },
    {
     "data": {
      "text/html": [
       "<pre style=\"white-space:pre;overflow-x:auto;line-height:normal;font-family:Menlo,'DejaVu Sans Mono',consolas,'Courier New',monospace\">Description: GP baseline WITH Fourier seasonality\n",
       "</pre>\n"
      ],
      "text/plain": [
       "Description: GP baseline WITH Fourier seasonality\n"
      ]
     },
     "metadata": {},
     "output_type": "display_data"
    },
    {
     "data": {
      "text/html": [
       "<pre style=\"white-space:pre;overflow-x:auto;line-height:normal;font-family:Menlo,'DejaVu Sans Mono',consolas,'Courier New',monospace\">Hypothesis: Best of both worlds - Fourier for regular patterns, GP for irregular\n",
       "</pre>\n"
      ],
      "text/plain": [
       "Hypothesis: Best of both worlds - Fourier for regular patterns, GP for irregular\n"
      ]
     },
     "metadata": {},
     "output_type": "display_data"
    },
    {
     "data": {
      "text/html": [
       "<pre style=\"white-space:pre;overflow-x:auto;line-height:normal;font-family:Menlo,'DejaVu Sans Mono',consolas,'Courier New',monospace\">Fitting model on training set<span style=\"color: #808000; text-decoration-color: #808000\">...</span>\n",
       "</pre>\n"
      ],
      "text/plain": [
       "Fitting model on training set\u001b[33m...\u001b[0m\n"
      ]
     },
     "metadata": {},
     "output_type": "display_data"
    },
    {
     "name": "stderr",
     "output_type": "stream",
     "text": [
      "The rhat statistic is larger than 1.01 for some parameters. This indicates problems during sampling. See https://arxiv.org/abs/1903.08008 for details\n",
      "The effective sample size per chain is smaller than 100 for some parameters.  A higher number is needed for reliable rhat and ess computation. See https://arxiv.org/abs/1903.08008 for details\n"
     ]
    },
    {
     "data": {
      "application/vnd.jupyter.widget-view+json": {
       "model_id": "88934c973d084aa9b8e1b6e2dd6eb138",
       "version_major": 2,
       "version_minor": 0
      },
      "text/plain": [
       "Output()"
      ]
     },
     "metadata": {},
     "output_type": "display_data"
    },
    {
     "data": {
      "text/html": [
       "<pre style=\"white-space:pre;overflow-x:auto;line-height:normal;font-family:Menlo,'DejaVu Sans Mono',consolas,'Courier New',monospace\"></pre>\n"
      ],
      "text/plain": []
     },
     "metadata": {},
     "output_type": "display_data"
    },
    {
     "data": {
      "text/html": [
       "<pre style=\"white-space:pre;overflow-x:auto;line-height:normal;font-family:Menlo,'DejaVu Sans Mono',consolas,'Courier New',monospace\"><span style=\"color: #800000; text-decoration-color: #800000\">✗  FAILED:</span> <span style=\"color: #808000; text-decoration-color: #808000\">div</span>=<span style=\"color: #008080; text-decoration-color: #008080; font-weight: bold\">0.0</span>%, <span style=\"color: #808000; text-decoration-color: #808000\">rhat</span>=<span style=\"color: #008080; text-decoration-color: #008080; font-weight: bold\">1.533</span>, <span style=\"color: #808000; text-decoration-color: #808000\">ess</span>=<span style=\"color: #008080; text-decoration-color: #008080; font-weight: bold\">7</span>\n",
       "</pre>\n"
      ],
      "text/plain": [
       "\u001b[31m✗ \u001b[0m\u001b[31m FAILED:\u001b[0m \u001b[33mdiv\u001b[0m=\u001b[1;36m0\u001b[0m\u001b[1;36m.0\u001b[0m%, \u001b[33mrhat\u001b[0m=\u001b[1;36m1\u001b[0m\u001b[1;36m.533\u001b[0m, \u001b[33mess\u001b[0m=\u001b[1;36m7\u001b[0m\n"
      ]
     },
     "metadata": {},
     "output_type": "display_data"
    },
    {
     "data": {
      "text/html": [
       "<pre style=\"white-space:pre;overflow-x:auto;line-height:normal;font-family:Menlo,'DejaVu Sans Mono',consolas,'Courier New',monospace\"><span style=\"color: #808000; text-decoration-color: #808000\">Warning: Model did not converge, but continuing...</span>\n",
       "</pre>\n"
      ],
      "text/plain": [
       "\u001b[33mWarning: Model did not converge, but continuing\u001b[0m\u001b[33m...\u001b[0m\n"
      ]
     },
     "metadata": {},
     "output_type": "display_data"
    },
    {
     "data": {
      "text/html": [
       "<pre style=\"white-space:pre;overflow-x:auto;line-height:normal;font-family:Menlo,'DejaVu Sans Mono',consolas,'Courier New',monospace\">Computing test CRPS<span style=\"color: #808000; text-decoration-color: #808000\">...</span>\n",
       "</pre>\n"
      ],
      "text/plain": [
       "Computing test CRPS\u001b[33m...\u001b[0m\n"
      ]
     },
     "metadata": {},
     "output_type": "display_data"
    },
    {
     "name": "stderr",
     "output_type": "stream",
     "text": [
      "Sampling: [y]\n"
     ]
    },
    {
     "data": {
      "application/vnd.jupyter.widget-view+json": {
       "model_id": "fb6f74beabb246beacfbc6b3e6fbb882",
       "version_major": 2,
       "version_minor": 0
      },
      "text/plain": [
       "Output()"
      ]
     },
     "metadata": {},
     "output_type": "display_data"
    },
    {
     "data": {
      "text/html": [
       "<pre style=\"white-space:pre;overflow-x:auto;line-height:normal;font-family:Menlo,'DejaVu Sans Mono',consolas,'Courier New',monospace\"></pre>\n"
      ],
      "text/plain": []
     },
     "metadata": {},
     "output_type": "display_data"
    },
    {
     "data": {
      "text/html": [
       "<pre style=\"white-space:pre;overflow-x:auto;line-height:normal;font-family:Menlo,'DejaVu Sans Mono',consolas,'Courier New',monospace\">Test CRPS: <span style=\"color: #008080; text-decoration-color: #008080; font-weight: bold\">736.29</span>\n",
       "</pre>\n"
      ],
      "text/plain": [
       "Test CRPS: \u001b[1;36m736.29\u001b[0m\n"
      ]
     },
     "metadata": {},
     "output_type": "display_data"
    },
    {
     "data": {
      "text/html": [
       "<pre style=\"white-space:pre;overflow-x:auto;line-height:normal;font-family:Menlo,'DejaVu Sans Mono',consolas,'Courier New',monospace\">Computing train CRPS<span style=\"color: #808000; text-decoration-color: #808000\">...</span>\n",
       "</pre>\n"
      ],
      "text/plain": [
       "Computing train CRPS\u001b[33m...\u001b[0m\n"
      ]
     },
     "metadata": {},
     "output_type": "display_data"
    },
    {
     "name": "stderr",
     "output_type": "stream",
     "text": [
      "Sampling: [y]\n"
     ]
    },
    {
     "data": {
      "application/vnd.jupyter.widget-view+json": {
       "model_id": "dcd6c62df2f1419c88bc516174caad2c",
       "version_major": 2,
       "version_minor": 0
      },
      "text/plain": [
       "Output()"
      ]
     },
     "metadata": {},
     "output_type": "display_data"
    },
    {
     "data": {
      "text/html": [
       "<pre style=\"white-space:pre;overflow-x:auto;line-height:normal;font-family:Menlo,'DejaVu Sans Mono',consolas,'Courier New',monospace\"></pre>\n"
      ],
      "text/plain": []
     },
     "metadata": {},
     "output_type": "display_data"
    },
    {
     "data": {
      "text/html": [
       "<pre style=\"white-space:pre;overflow-x:auto;line-height:normal;font-family:Menlo,'DejaVu Sans Mono',consolas,'Courier New',monospace\">Train CRPS: <span style=\"color: #008080; text-decoration-color: #008080; font-weight: bold\">250.38</span>\n",
       "</pre>\n"
      ],
      "text/plain": [
       "Train CRPS: \u001b[1;36m250.38\u001b[0m\n"
      ]
     },
     "metadata": {},
     "output_type": "display_data"
    },
    {
     "data": {
      "text/html": [
       "<pre style=\"white-space:pre;overflow-x:auto;line-height:normal;font-family:Menlo,'DejaVu Sans Mono',consolas,'Courier New',monospace\">Computing ROAS metrics<span style=\"color: #808000; text-decoration-color: #808000\">...</span>\n",
       "</pre>\n"
      ],
      "text/plain": [
       "Computing ROAS metrics\u001b[33m...\u001b[0m\n"
      ]
     },
     "metadata": {},
     "output_type": "display_data"
    },
    {
     "data": {
      "text/html": [
       "<pre style=\"white-space:pre;overflow-x:auto;line-height:normal;font-family:Menlo,'DejaVu Sans Mono',consolas,'Courier New',monospace\">ROAS MAE: <span style=\"color: #008080; text-decoration-color: #008080; font-weight: bold\">4.22</span>\n",
       "</pre>\n"
      ],
      "text/plain": [
       "ROAS MAE: \u001b[1;36m4.22\u001b[0m\n"
      ]
     },
     "metadata": {},
     "output_type": "display_data"
    },
    {
     "data": {
      "text/html": [
       "<pre style=\"white-space:pre;overflow-x:auto;line-height:normal;font-family:Menlo,'DejaVu Sans Mono',consolas,'Courier New',monospace\">Computing attribution metrics<span style=\"color: #808000; text-decoration-color: #808000\">...</span>\n",
       "</pre>\n"
      ],
      "text/plain": [
       "Computing attribution metrics\u001b[33m...\u001b[0m\n"
      ]
     },
     "metadata": {},
     "output_type": "display_data"
    },
    {
     "data": {
      "text/html": [
       "<pre style=\"white-space:pre;overflow-x:auto;line-height:normal;font-family:Menlo,'DejaVu Sans Mono',consolas,'Courier New',monospace\">Marketing share: <span style=\"color: #008080; text-decoration-color: #008080; font-weight: bold\">62.3</span>%\n",
       "</pre>\n"
      ],
      "text/plain": [
       "Marketing share: \u001b[1;36m62.3\u001b[0m%\n"
      ]
     },
     "metadata": {},
     "output_type": "display_data"
    },
    {
     "data": {
      "text/html": [
       "<pre style=\"white-space:pre;overflow-x:auto;line-height:normal;font-family:Menlo,'DejaVu Sans Mono',consolas,'Courier New',monospace\"><span style=\"color: #008000; text-decoration-color: #008000\">✓ gp_plus_fourier evaluation complete!</span>\n",
       "</pre>\n"
      ],
      "text/plain": [
       "\u001b[32m✓ gp_plus_fourier evaluation complete!\u001b[0m\n"
      ]
     },
     "metadata": {},
     "output_type": "display_data"
    },
    {
     "data": {
      "text/html": [
       "<pre style=\"white-space:pre;overflow-x:auto;line-height:normal;font-family:Menlo,'DejaVu Sans Mono',consolas,'Courier New',monospace\">\n",
       "<span style=\"color: #008000; text-decoration-color: #008000; font-weight: bold\">Comparison complete!</span>\n",
       "</pre>\n"
      ],
      "text/plain": [
       "\n",
       "\u001b[1;32mComparison complete!\u001b[0m\n"
      ]
     },
     "metadata": {},
     "output_type": "display_data"
    },
    {
     "data": {
      "text/html": [
       "<pre style=\"white-space:pre;overflow-x:auto;line-height:normal;font-family:Menlo,'DejaVu Sans Mono',consolas,'Courier New',monospace\">Successfully evaluated <span style=\"color: #008080; text-decoration-color: #008080; font-weight: bold\">4</span>/<span style=\"color: #008080; text-decoration-color: #008080; font-weight: bold\">4</span> strategies\n",
       "</pre>\n"
      ],
      "text/plain": [
       "Successfully evaluated \u001b[1;36m4\u001b[0m/\u001b[1;36m4\u001b[0m strategies\n"
      ]
     },
     "metadata": {},
     "output_type": "display_data"
    }
   ],
   "source": [
    "# Run comparison\n",
    "results = []\n",
    "models = {}\n",
    "\n",
    "rprint(\"\\n[bold magenta]Starting systematic baseline comparison...[/bold magenta]\")\n",
    "rprint(f\"Evaluating {len(BASELINE_STRATEGIES)} strategies\\n\")\n",
    "\n",
    "for strategy in BASELINE_STRATEGIES:\n",
    "    metrics, mmm = fit_and_evaluate_strategy(\n",
    "        strategy=strategy,\n",
    "        X_train=X_train,\n",
    "        y_train=y_train,\n",
    "        X_test=X_test,\n",
    "        y_test=y_test,\n",
    "        X_full=X_full,\n",
    "        y_full=y_full,\n",
    "        ground_truth=ground_truth,\n",
    "        channel_columns=CHANNEL_COLUMNS,\n",
    "        control_columns=CONTROL_COLUMNS,\n",
    "        adstock_max_lag=FIXED_HYPERPARAMS[\"adstock_max_lag\"],\n",
    "        convergence_thresholds=COMPARISON_CONVERGENCE,\n",
    "        **COMPARISON_MCMC,\n",
    "    )\n",
    "    results.append(metrics)\n",
    "    if mmm is not None:\n",
    "        models[strategy[\"name\"]] = mmm\n",
    "\n",
    "# Convert to DataFrame\n",
    "results_df = pl.DataFrame(results)\n",
    "\n",
    "rprint(\"\\n[bold green]Comparison complete![/bold green]\")\n",
    "rprint(f\"Successfully evaluated {len(models)}/{len(BASELINE_STRATEGIES)} strategies\")"
   ]
  },
  {
   "cell_type": "markdown",
   "metadata": {},
   "source": [
    "## Results Table"
   ]
  },
  {
   "cell_type": "code",
   "execution_count": 34,
   "metadata": {},
   "outputs": [
    {
     "data": {
      "text/html": [
       "<pre style=\"white-space:pre;overflow-x:auto;line-height:normal;font-family:Menlo,'DejaVu Sans Mono',consolas,'Courier New',monospace\">\n",
       "\n",
       "</pre>\n"
      ],
      "text/plain": [
       "\n",
       "\n"
      ]
     },
     "metadata": {},
     "output_type": "display_data"
    },
    {
     "data": {
      "text/html": [
       "<pre style=\"white-space:pre;overflow-x:auto;line-height:normal;font-family:Menlo,'DejaVu Sans Mono',consolas,'Courier New',monospace\"><span style=\"font-style: italic\">                                 Baseline Strategy Comparison Results                                 </span>\n",
       "┏━━━━━━━━━━━━━━━━━━━━━━━━━━━━┳━━━━━━━━━━━┳━━━━━━━━━━┳━━━━━━━━━━━┳━━━━━━━━━━━━━┳━━━━━━━━━━━┳━━━━━━━━━━┓\n",
       "┃<span style=\"color: #008080; text-decoration-color: #008080; font-weight: bold\"> Strategy                   </span>┃<span style=\"color: #008080; text-decoration-color: #008080; font-weight: bold\"> Test CRPS </span>┃<span style=\"color: #008080; text-decoration-color: #008080; font-weight: bold\"> ROAS MAE </span>┃<span style=\"color: #008080; text-decoration-color: #008080; font-weight: bold\"> ROAS MAPE </span>┃<span style=\"color: #008080; text-decoration-color: #008080; font-weight: bold\"> Marketing % </span>┃<span style=\"color: #008080; text-decoration-color: #008080; font-weight: bold\"> Converged </span>┃<span style=\"color: #008080; text-decoration-color: #008080; font-weight: bold\"> Time (s) </span>┃\n",
       "┡━━━━━━━━━━━━━━━━━━━━━━━━━━━━╇━━━━━━━━━━━╇━━━━━━━━━━╇━━━━━━━━━━━╇━━━━━━━━━━━━━╇━━━━━━━━━━━╇━━━━━━━━━━┩\n",
       "│<span style=\"color: #008080; text-decoration-color: #008080\"> static_intercept_only      </span>│    799.80 │     2.62 │     21.8% │       34.3% │     <span style=\"color: #008000; text-decoration-color: #008000\">✓</span>     │        7 │\n",
       "│<span style=\"color: #008080; text-decoration-color: #008080\"> static_fourier_seasonality </span>│    301.35 │     1.62 │     24.5% │       34.5% │     <span style=\"color: #008000; text-decoration-color: #008000\">✓</span>     │       10 │\n",
       "│<span style=\"color: #008080; text-decoration-color: #008080\"> gp_flexible_baseline       </span>│    711.59 │     2.22 │     28.6% │       33.0% │     <span style=\"color: #008000; text-decoration-color: #008000\">✓</span>     │       20 │\n",
       "│<span style=\"color: #008080; text-decoration-color: #008080\"> gp_plus_fourier            </span>│    736.29 │     4.22 │     50.8% │       62.3% │     <span style=\"color: #800000; text-decoration-color: #800000\">✗</span>     │       24 │\n",
       "└────────────────────────────┴───────────┴──────────┴───────────┴─────────────┴───────────┴──────────┘\n",
       "</pre>\n"
      ],
      "text/plain": [
       "\u001b[3m                                 Baseline Strategy Comparison Results                                 \u001b[0m\n",
       "┏━━━━━━━━━━━━━━━━━━━━━━━━━━━━┳━━━━━━━━━━━┳━━━━━━━━━━┳━━━━━━━━━━━┳━━━━━━━━━━━━━┳━━━━━━━━━━━┳━━━━━━━━━━┓\n",
       "┃\u001b[1;36m \u001b[0m\u001b[1;36mStrategy                  \u001b[0m\u001b[1;36m \u001b[0m┃\u001b[1;36m \u001b[0m\u001b[1;36mTest CRPS\u001b[0m\u001b[1;36m \u001b[0m┃\u001b[1;36m \u001b[0m\u001b[1;36mROAS MAE\u001b[0m\u001b[1;36m \u001b[0m┃\u001b[1;36m \u001b[0m\u001b[1;36mROAS MAPE\u001b[0m\u001b[1;36m \u001b[0m┃\u001b[1;36m \u001b[0m\u001b[1;36mMarketing %\u001b[0m\u001b[1;36m \u001b[0m┃\u001b[1;36m \u001b[0m\u001b[1;36mConverged\u001b[0m\u001b[1;36m \u001b[0m┃\u001b[1;36m \u001b[0m\u001b[1;36mTime (s)\u001b[0m\u001b[1;36m \u001b[0m┃\n",
       "┡━━━━━━━━━━━━━━━━━━━━━━━━━━━━╇━━━━━━━━━━━╇━━━━━━━━━━╇━━━━━━━━━━━╇━━━━━━━━━━━━━╇━━━━━━━━━━━╇━━━━━━━━━━┩\n",
       "│\u001b[36m \u001b[0m\u001b[36mstatic_intercept_only     \u001b[0m\u001b[36m \u001b[0m│    799.80 │     2.62 │     21.8% │       34.3% │     \u001b[32m✓\u001b[0m     │        7 │\n",
       "│\u001b[36m \u001b[0m\u001b[36mstatic_fourier_seasonality\u001b[0m\u001b[36m \u001b[0m│    301.35 │     1.62 │     24.5% │       34.5% │     \u001b[32m✓\u001b[0m     │       10 │\n",
       "│\u001b[36m \u001b[0m\u001b[36mgp_flexible_baseline      \u001b[0m\u001b[36m \u001b[0m│    711.59 │     2.22 │     28.6% │       33.0% │     \u001b[32m✓\u001b[0m     │       20 │\n",
       "│\u001b[36m \u001b[0m\u001b[36mgp_plus_fourier           \u001b[0m\u001b[36m \u001b[0m│    736.29 │     4.22 │     50.8% │       62.3% │     \u001b[31m✗\u001b[0m     │       24 │\n",
       "└────────────────────────────┴───────────┴──────────┴───────────┴─────────────┴───────────┴──────────┘\n"
      ]
     },
     "metadata": {},
     "output_type": "display_data"
    },
    {
     "data": {
      "text/html": [
       "<pre style=\"white-space:pre;overflow-x:auto;line-height:normal;font-family:Menlo,'DejaVu Sans Mono',consolas,'Courier New',monospace\">\n",
       "<span style=\"font-weight: bold\">Ground Truth Reference:</span>\n",
       "</pre>\n"
      ],
      "text/plain": [
       "\n",
       "\u001b[1mGround Truth Reference:\u001b[0m\n"
      ]
     },
     "metadata": {},
     "output_type": "display_data"
    },
    {
     "data": {
      "text/html": [
       "<pre style=\"white-space:pre;overflow-x:auto;line-height:normal;font-family:Menlo,'DejaVu Sans Mono',consolas,'Courier New',monospace\"><span style=\"color: #00ff00; text-decoration-color: #00ff00; font-style: italic\">True</span> marketing share: <span style=\"color: #008080; text-decoration-color: #008080; font-weight: bold\">100.0</span>%\n",
       "</pre>\n"
      ],
      "text/plain": [
       "\u001b[3;92mTrue\u001b[0m marketing share: \u001b[1;36m100.0\u001b[0m%\n"
      ]
     },
     "metadata": {},
     "output_type": "display_data"
    }
   ],
   "source": [
    "# Create comprehensive results table\n",
    "console = Console()\n",
    "table = Table(\n",
    "    title=\"Baseline Strategy Comparison Results\",\n",
    "    show_header=True,\n",
    "    header_style=\"bold cyan\",\n",
    ")\n",
    "\n",
    "table.add_column(\"Strategy\", style=\"cyan\")\n",
    "table.add_column(\"Test CRPS\", justify=\"right\")\n",
    "table.add_column(\"ROAS MAE\", justify=\"right\")\n",
    "table.add_column(\"ROAS MAPE\", justify=\"right\")\n",
    "table.add_column(\"Marketing %\", justify=\"right\")\n",
    "table.add_column(\"Converged\", justify=\"center\")\n",
    "table.add_column(\"Time (s)\", justify=\"right\")\n",
    "\n",
    "for row in results_df.iter_rows(named=True):\n",
    "    if \"error\" not in row:\n",
    "        converged_symbol = \"✓\" if row[\"converged\"] else \"✗\"\n",
    "        converged_color = \"green\" if row[\"converged\"] else \"red\"\n",
    "\n",
    "        table.add_row(\n",
    "            row[\"strategy\"],\n",
    "            f\"{row['test_crps']:.2f}\",\n",
    "            f\"{row['roas_mae']:.2f}\",\n",
    "            f\"{row['roas_mape']:.1f}%\",\n",
    "            f\"{row['marketing_share']*100:.1f}%\",\n",
    "            f\"[{converged_color}]{converged_symbol}[/{converged_color}]\",\n",
    "            f\"{row['fit_time_seconds']:.0f}\",\n",
    "        )\n",
    "    else:\n",
    "        table.add_row(\n",
    "            row[\"strategy\"],\n",
    "            \"[red]FAILED[/red]\",\n",
    "            \"-\",\n",
    "            \"-\",\n",
    "            \"-\",\n",
    "            \"[red]✗[/red]\",\n",
    "            \"-\",\n",
    "        )\n",
    "\n",
    "console.print(\"\\n\")\n",
    "console.print(table)\n",
    "\n",
    "# Ground truth reference\n",
    "true_marketing_share = (\n",
    "    sum(ground_truth[\"attribution_percentages\"][\"Local\"].values()) / 100\n",
    ")\n",
    "rprint(f\"\\n[bold]Ground Truth Reference:[/bold]\")\n",
    "rprint(f\"True marketing share: {true_marketing_share*100:.1f}%\")"
   ]
  },
  {
   "cell_type": "markdown",
   "metadata": {},
   "source": [
    "## Detailed ROAS Comparison\n",
    "\n",
    "Let's examine per-channel ROAS accuracy for each strategy."
   ]
  },
  {
   "cell_type": "code",
   "execution_count": 35,
   "metadata": {},
   "outputs": [
    {
     "data": {
      "text/html": [
       "<pre style=\"white-space:pre;overflow-x:auto;line-height:normal;font-family:Menlo,'DejaVu Sans Mono',consolas,'Courier New',monospace\">\n",
       "\n",
       "</pre>\n"
      ],
      "text/plain": [
       "\n",
       "\n"
      ]
     },
     "metadata": {},
     "output_type": "display_data"
    },
    {
     "data": {
      "text/html": [
       "<pre style=\"white-space:pre;overflow-x:auto;line-height:normal;font-family:Menlo,'DejaVu Sans Mono',consolas,'Courier New',monospace\"><span style=\"font-style: italic\">                                            Per-Channel ROAS Comparison                                            </span>\n",
       "┏━━━━━━━━━━━━━━━━━━━━━━━━━┳━━━━━━━━━━━━┳━━━━━━━━━┳━━━━━━━━━━━━━━┳━━━━━━━━━┳━━━━━━━━━━━┳━━━━━━━━━┳━━━━━━━┳━━━━━━━━━┓\n",
       "┃<span style=\"color: #008000; text-decoration-color: #008000; font-weight: bold\"> Strategy                </span>┃<span style=\"color: #008000; text-decoration-color: #008000; font-weight: bold\"> Search-Ads </span>┃<span style=\"color: #008000; text-decoration-color: #008000; font-weight: bold\"> Error % </span>┃<span style=\"color: #008000; text-decoration-color: #008000; font-weight: bold\"> Social-Media </span>┃<span style=\"color: #008000; text-decoration-color: #008000; font-weight: bold\"> Error % </span>┃<span style=\"color: #008000; text-decoration-color: #008000; font-weight: bold\"> Local-Ads </span>┃<span style=\"color: #008000; text-decoration-color: #008000; font-weight: bold\"> Error % </span>┃<span style=\"color: #008000; text-decoration-color: #008000; font-weight: bold\"> Email </span>┃<span style=\"color: #008000; text-decoration-color: #008000; font-weight: bold\"> Error % </span>┃\n",
       "┡━━━━━━━━━━━━━━━━━━━━━━━━━╇━━━━━━━━━━━━╇━━━━━━━━━╇━━━━━━━━━━━━━━╇━━━━━━━━━╇━━━━━━━━━━━╇━━━━━━━━━╇━━━━━━━╇━━━━━━━━━┩\n",
       "│<span style=\"color: #008080; text-decoration-color: #008080\"> </span><span style=\"color: #008080; text-decoration-color: #008080; font-weight: bold\">Ground Truth</span><span style=\"color: #008080; text-decoration-color: #008080\">            </span>│       <span style=\"font-weight: bold\">8.19</span> │       - │        <span style=\"font-weight: bold\">21.95</span> │       - │      <span style=\"font-weight: bold\">3.32</span> │       - │ <span style=\"font-weight: bold\">32.13</span> │       - │\n",
       "│<span style=\"color: #008080; text-decoration-color: #008080\"> static_intercept_only   </span>│       4.43 │  +45.9% │        16.72 │  +23.8% │      2.84 │  +14.4% │ 31.13 │   +3.1% │\n",
       "│<span style=\"color: #008080; text-decoration-color: #008080\"> static_fourier_seasona… </span>│       5.90 │  +28.0% │        23.93 │   +9.0% │      1.32 │  +60.4% │ 32.35 │   +0.7% │\n",
       "│<span style=\"color: #008080; text-decoration-color: #008080\"> gp_flexible_baseline    </span>│       5.55 │  +32.2% │        24.88 │  +13.4% │      1.15 │  +65.5% │ 30.99 │   +3.5% │\n",
       "│<span style=\"color: #008080; text-decoration-color: #008080\"> gp_plus_fourier         </span>│      17.69 │ +116.0% │        26.75 │  +21.9% │      1.20 │  +63.8% │ 32.59 │   +1.4% │\n",
       "└─────────────────────────┴────────────┴─────────┴──────────────┴─────────┴───────────┴─────────┴───────┴─────────┘\n",
       "</pre>\n"
      ],
      "text/plain": [
       "\u001b[3m                                            Per-Channel ROAS Comparison                                            \u001b[0m\n",
       "┏━━━━━━━━━━━━━━━━━━━━━━━━━┳━━━━━━━━━━━━┳━━━━━━━━━┳━━━━━━━━━━━━━━┳━━━━━━━━━┳━━━━━━━━━━━┳━━━━━━━━━┳━━━━━━━┳━━━━━━━━━┓\n",
       "┃\u001b[1;32m \u001b[0m\u001b[1;32mStrategy               \u001b[0m\u001b[1;32m \u001b[0m┃\u001b[1;32m \u001b[0m\u001b[1;32mSearch-Ads\u001b[0m\u001b[1;32m \u001b[0m┃\u001b[1;32m \u001b[0m\u001b[1;32mError %\u001b[0m\u001b[1;32m \u001b[0m┃\u001b[1;32m \u001b[0m\u001b[1;32mSocial-Media\u001b[0m\u001b[1;32m \u001b[0m┃\u001b[1;32m \u001b[0m\u001b[1;32mError %\u001b[0m\u001b[1;32m \u001b[0m┃\u001b[1;32m \u001b[0m\u001b[1;32mLocal-Ads\u001b[0m\u001b[1;32m \u001b[0m┃\u001b[1;32m \u001b[0m\u001b[1;32mError %\u001b[0m\u001b[1;32m \u001b[0m┃\u001b[1;32m \u001b[0m\u001b[1;32mEmail\u001b[0m\u001b[1;32m \u001b[0m┃\u001b[1;32m \u001b[0m\u001b[1;32mError %\u001b[0m\u001b[1;32m \u001b[0m┃\n",
       "┡━━━━━━━━━━━━━━━━━━━━━━━━━╇━━━━━━━━━━━━╇━━━━━━━━━╇━━━━━━━━━━━━━━╇━━━━━━━━━╇━━━━━━━━━━━╇━━━━━━━━━╇━━━━━━━╇━━━━━━━━━┩\n",
       "│\u001b[36m \u001b[0m\u001b[1;36mGround Truth\u001b[0m\u001b[36m           \u001b[0m\u001b[36m \u001b[0m│       \u001b[1m8.19\u001b[0m │       - │        \u001b[1m21.95\u001b[0m │       - │      \u001b[1m3.32\u001b[0m │       - │ \u001b[1m32.13\u001b[0m │       - │\n",
       "│\u001b[36m \u001b[0m\u001b[36mstatic_intercept_only  \u001b[0m\u001b[36m \u001b[0m│       4.43 │  +45.9% │        16.72 │  +23.8% │      2.84 │  +14.4% │ 31.13 │   +3.1% │\n",
       "│\u001b[36m \u001b[0m\u001b[36mstatic_fourier_seasona…\u001b[0m\u001b[36m \u001b[0m│       5.90 │  +28.0% │        23.93 │   +9.0% │      1.32 │  +60.4% │ 32.35 │   +0.7% │\n",
       "│\u001b[36m \u001b[0m\u001b[36mgp_flexible_baseline   \u001b[0m\u001b[36m \u001b[0m│       5.55 │  +32.2% │        24.88 │  +13.4% │      1.15 │  +65.5% │ 30.99 │   +3.5% │\n",
       "│\u001b[36m \u001b[0m\u001b[36mgp_plus_fourier        \u001b[0m\u001b[36m \u001b[0m│      17.69 │ +116.0% │        26.75 │  +21.9% │      1.20 │  +63.8% │ 32.59 │   +1.4% │\n",
       "└─────────────────────────┴────────────┴─────────┴──────────────┴─────────┴───────────┴─────────┴───────┴─────────┘\n"
      ]
     },
     "metadata": {},
     "output_type": "display_data"
    }
   ],
   "source": [
    "# Per-channel ROAS table\n",
    "console = Console()\n",
    "table = Table(\n",
    "    title=\"Per-Channel ROAS Comparison\", show_header=True, header_style=\"bold green\"\n",
    ")\n",
    "\n",
    "table.add_column(\"Strategy\", style=\"cyan\")\n",
    "table.add_column(\"Search-Ads\", justify=\"right\")\n",
    "table.add_column(\"Error %\", justify=\"right\")\n",
    "table.add_column(\"Social-Media\", justify=\"right\")\n",
    "table.add_column(\"Error %\", justify=\"right\")\n",
    "table.add_column(\"Local-Ads\", justify=\"right\")\n",
    "table.add_column(\"Error %\", justify=\"right\")\n",
    "table.add_column(\"Email\", justify=\"right\")\n",
    "table.add_column(\"Error %\", justify=\"right\")\n",
    "\n",
    "# Ground truth row\n",
    "true_roas = ground_truth[\"roas_values\"][\"Local\"]\n",
    "table.add_row(\n",
    "    \"[bold]Ground Truth[/bold]\",\n",
    "    f\"[bold]{true_roas['Search-Ads']:.2f}[/bold]\",\n",
    "    \"-\",\n",
    "    f\"[bold]{true_roas['Social-Media']:.2f}[/bold]\",\n",
    "    \"-\",\n",
    "    f\"[bold]{true_roas['Local-Ads']:.2f}[/bold]\",\n",
    "    \"-\",\n",
    "    f\"[bold]{true_roas['Email']:.2f}[/bold]\",\n",
    "    \"-\",\n",
    ")\n",
    "\n",
    "# Strategy rows\n",
    "for row in results_df.iter_rows(named=True):\n",
    "    if \"error\" not in row:\n",
    "        table.add_row(\n",
    "            row[\"strategy\"],\n",
    "            f\"{row['roas_search_ads']:.2f}\",\n",
    "            f\"{row['roas_search_ads_error_pct']:+.1f}%\",\n",
    "            f\"{row['roas_social_media']:.2f}\",\n",
    "            f\"{row['roas_social_media_error_pct']:+.1f}%\",\n",
    "            f\"{row['roas_local_ads']:.2f}\",\n",
    "            f\"{row['roas_local_ads_error_pct']:+.1f}%\",\n",
    "            f\"{row['roas_email']:.2f}\",\n",
    "            f\"{row['roas_email_error_pct']:+.1f}%\",\n",
    "        )\n",
    "\n",
    "console.print(\"\\n\")\n",
    "console.print(table)"
   ]
  },
  {
   "cell_type": "markdown",
   "metadata": {},
   "source": [
    "## Save Results"
   ]
  },
  {
   "cell_type": "code",
   "execution_count": 36,
   "metadata": {},
   "outputs": [
    {
     "data": {
      "text/html": [
       "<pre style=\"white-space:pre;overflow-x:auto;line-height:normal;font-family:Menlo,'DejaVu Sans Mono',consolas,'Courier New',monospace\">\n",
       "<span style=\"color: #008000; text-decoration-color: #008000; font-weight: bold\">Results saved to ../models/baseline_comparison</span>\n",
       "</pre>\n"
      ],
      "text/plain": [
       "\n",
       "\u001b[1;32mResults saved to ..\u001b[0m\u001b[1;32m/models/\u001b[0m\u001b[1;32mbaseline_comparison\u001b[0m\n"
      ]
     },
     "metadata": {},
     "output_type": "display_data"
    }
   ],
   "source": [
    "# Save comparison results\n",
    "output_dir = Path(\"../models/baseline_comparison\")\n",
    "output_dir.mkdir(parents=True, exist_ok=True)\n",
    "\n",
    "# Save as CSV\n",
    "results_df.write_csv(output_dir / \"baseline_comparison_results.csv\")\n",
    "\n",
    "rprint(f\"\\n[bold green]Results saved to {output_dir}[/bold green]\")"
   ]
  },
  {
   "cell_type": "markdown",
   "metadata": {},
   "source": [
    "## Summary\n",
    "\n",
    "This notebook compared 4 baseline strategies for MMM:\n",
    "\n",
    "1. **Static intercept only** - Constant baseline\n",
    "2. **Static + Fourier seasonality** - Traditional approach\n",
    "3. **GP flexible baseline** - Gaussian Process captures all variation\n",
    "4. **GP + Fourier hybrid** - Combined approach\n",
    "\n",
    "### Key Findings\n",
    "\n",
    "Examine the results table above to identify:\n",
    "- Which strategy has the **best test CRPS** (predictive performance)?\n",
    "- Which strategy has the **best ROAS MAE** (causal accuracy)?\n",
    "- Are they the same? If not, what's the trade-off?\n",
    "- Does any strategy have suspiciously low marketing attribution share?\n",
    "\n",
    "### Guidelines for Practitioners\n",
    "\n",
    "Based on this analysis:\n",
    "\n",
    "1. **Start with static + Fourier** for regular seasonal patterns\n",
    "2. **Add GP** if you expect irregular events that can't be captured by Fourier\n",
    "3. **Always validate** marketing attribution share (should be reasonable, ~30-50%)\n",
    "4. **Check ROAS** against business intuition or prior studies\n",
    "5. **Prefer interpretability** over small CRPS improvements if causal recovery suffers\n",
    "\n",
    "### Next Steps\n",
    "\n",
    "- Visualize baseline decompositions (see which strategies confound baseline with marketing)\n",
    "- Fit final model with winner strategy on full dataset\n",
    "- Extend to optimize saturation function parameters\n",
    "- Implement budget allocation optimization"
   ]
  },
  {
   "cell_type": "code",
   "execution_count": null,
   "metadata": {},
   "outputs": [],
   "source": []
  },
  {
   "cell_type": "code",
   "execution_count": null,
   "metadata": {},
   "outputs": [],
   "source": []
  },
  {
   "cell_type": "code",
   "execution_count": null,
   "metadata": {},
   "outputs": [],
   "source": []
  }
 ],
 "metadata": {
  "kernelspec": {
   "display_name": "Python 3 (ipykernel)",
   "language": "python",
   "name": "python3"
  },
  "language_info": {
   "codemirror_mode": {
    "name": "ipython",
    "version": 3
   },
   "file_extension": ".py",
   "mimetype": "text/x-python",
   "name": "python",
   "nbconvert_exporter": "python",
   "pygments_lexer": "ipython3",
   "version": "3.12.9"
  }
 },
 "nbformat": 4,
 "nbformat_minor": 4
}

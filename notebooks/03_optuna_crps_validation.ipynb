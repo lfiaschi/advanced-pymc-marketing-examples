{
 "cells": [
  {
   "cell_type": "markdown",
   "metadata": {},
   "source": [
    "# Hyperparameter Optimization with CRPS and Train/Test Validation\n",
    "\n",
    "This notebook demonstrates optimizing MMM hyperparameters using Optuna with **CRPS (Continuous Ranked Probability Score)** on a train/test split:\n",
    "- **Training set**: First 80 weeks (weeks 1-80)\n",
    "- **Test set**: Last 24 weeks (weeks 81-104)\n",
    "- **Hyperparameters**: `yearly_seasonality` (1-10) and `adstock_max_lag` (4-12 weeks)\n",
    "\n",
    "## Why CRPS?\n",
    "\n",
    "Unlike WAIC (which evaluates in-sample fit), CRPS evaluates out-of-sample predictive performance:\n",
    "- **WAIC**: Measures model fit on training data (penalized for complexity)\n",
    "- **CRPS**: Measures prediction accuracy on held-out test data\n",
    "- **Advantage**: Direct assessment of generalization performance\n",
    "\n",
    "CRPS is a proper scoring rule that evaluates the entire predictive distribution, not just point estimates. Lower CRPS = better predictions.\n",
    "\n",
    "## Optimization Strategy\n",
    "\n",
    "1. **Train/test split**: 80 weeks train, 24 weeks test (no data leakage)\n",
    "2. **Sequential trials** (no parallel optimization)\n",
    "3. **NumPyro sampler** for 2-10x speedup\n",
    "4. **Convergence checks** on training set\n",
    "5. **CRPS evaluation** on test set using posterior predictive\n",
    "6. **Reduced MCMC** during optimization (500 draws/tune)\n",
    "7. **Final refit** on full data with optimal parameters (2000 draws/tune)\n",
    "8. **Optuna pruning** for failed convergence\n",
    "\n",
    "## Implementation Notes\n",
    "\n",
    "- `pymc_marketing.metrics.crps()` expects `y_pred` with shape (n_samples, n_observations)\n",
    "- Posterior predictive samples provide the probabilistic predictions\n",
    "- NumPyro progress bar disabled in Jupyter to avoid kernel issues"
   ]
  },
  {
   "cell_type": "markdown",
   "metadata": {},
   "source": [
    "## Setup"
   ]
  },
  {
   "cell_type": "code",
   "execution_count": 18,
   "metadata": {},
   "outputs": [],
   "source": [
    "from pathlib import Path\n",
    "from typing import Any\n",
    "\n",
    "import optuna\n",
    "import pandas as pd\n",
    "import polars as pl\n",
    "from pymc_marketing.mmm import MMM, GeometricAdstock, LogisticSaturation\n",
    "from pymc_marketing.metrics import crps\n",
    "from rich import print as rprint\n",
    "from rich.console import Console\n",
    "from rich.table import Table"
   ]
  },
  {
   "cell_type": "markdown",
   "metadata": {},
   "source": [
    "## Configuration"
   ]
  },
  {
   "cell_type": "code",
   "execution_count": 19,
   "metadata": {},
   "outputs": [
    {
     "data": {
      "text/html": [
       "<pre style=\"white-space:pre;overflow-x:auto;line-height:normal;font-family:Menlo,'DejaVu Sans Mono',consolas,'Courier New',monospace\"><span style=\"color: #000080; text-decoration-color: #000080; font-weight: bold\">Configuration:</span>\n",
       "</pre>\n"
      ],
      "text/plain": [
       "\u001b[1;34mConfiguration:\u001b[0m\n"
      ]
     },
     "metadata": {},
     "output_type": "display_data"
    },
    {
     "data": {
      "text/html": [
       "<pre style=\"white-space:pre;overflow-x:auto;line-height:normal;font-family:Menlo,'DejaVu Sans Mono',consolas,'Courier New',monospace\">Train/test split: <span style=\"color: #008080; text-decoration-color: #008080; font-weight: bold\">24</span> weeks for test\n",
       "</pre>\n"
      ],
      "text/plain": [
       "Train/test split: \u001b[1;36m24\u001b[0m weeks for test\n"
      ]
     },
     "metadata": {},
     "output_type": "display_data"
    },
    {
     "data": {
      "text/html": [
       "<pre style=\"white-space:pre;overflow-x:auto;line-height:normal;font-family:Menlo,'DejaVu Sans Mono',consolas,'Courier New',monospace\">Number of trials: <span style=\"color: #008080; text-decoration-color: #008080; font-weight: bold\">20</span>\n",
       "</pre>\n"
      ],
      "text/plain": [
       "Number of trials: \u001b[1;36m20\u001b[0m\n"
      ]
     },
     "metadata": {},
     "output_type": "display_data"
    },
    {
     "data": {
      "text/html": [
       "<pre style=\"white-space:pre;overflow-x:auto;line-height:normal;font-family:Menlo,'DejaVu Sans Mono',consolas,'Courier New',monospace\">NUTS sampler: <span style=\"color: #808000; text-decoration-color: #808000\">numpyro</span> <span style=\"font-weight: bold\">(</span>NumPyro - faster!<span style=\"font-weight: bold\">)</span>\n",
       "</pre>\n"
      ],
      "text/plain": [
       "NUTS sampler: \u001b[33mnumpyro\u001b[0m \u001b[1m(\u001b[0mNumPyro - faster!\u001b[1m)\u001b[0m\n"
      ]
     },
     "metadata": {},
     "output_type": "display_data"
    },
    {
     "data": {
      "text/html": [
       "<pre style=\"white-space:pre;overflow-x:auto;line-height:normal;font-family:Menlo,'DejaVu Sans Mono',consolas,'Courier New',monospace\">Optimization MCMC: <span style=\"color: #008080; text-decoration-color: #008080; font-weight: bold\">500</span> draws, <span style=\"color: #008080; text-decoration-color: #008080; font-weight: bold\">500</span> tune, <span style=\"color: #008080; text-decoration-color: #008080; font-weight: bold\">2</span> chains\n",
       "</pre>\n"
      ],
      "text/plain": [
       "Optimization MCMC: \u001b[1;36m500\u001b[0m draws, \u001b[1;36m500\u001b[0m tune, \u001b[1;36m2\u001b[0m chains\n"
      ]
     },
     "metadata": {},
     "output_type": "display_data"
    },
    {
     "data": {
      "text/html": [
       "<pre style=\"white-space:pre;overflow-x:auto;line-height:normal;font-family:Menlo,'DejaVu Sans Mono',consolas,'Courier New',monospace\">Final model MCMC: <span style=\"color: #008080; text-decoration-color: #008080; font-weight: bold\">2000</span> draws, <span style=\"color: #008080; text-decoration-color: #008080; font-weight: bold\">2000</span> tune, <span style=\"color: #008080; text-decoration-color: #008080; font-weight: bold\">4</span> chains\n",
       "</pre>\n"
      ],
      "text/plain": [
       "Final model MCMC: \u001b[1;36m2000\u001b[0m draws, \u001b[1;36m2000\u001b[0m tune, \u001b[1;36m4\u001b[0m chains\n"
      ]
     },
     "metadata": {},
     "output_type": "display_data"
    },
    {
     "data": {
      "text/html": [
       "<pre style=\"white-space:pre;overflow-x:auto;line-height:normal;font-family:Menlo,'DejaVu Sans Mono',consolas,'Courier New',monospace\">\n",
       "<span style=\"color: #808000; text-decoration-color: #808000; font-weight: bold\">Convergence Thresholds:</span>\n",
       "</pre>\n"
      ],
      "text/plain": [
       "\n",
       "\u001b[1;33mConvergence Thresholds:\u001b[0m\n"
      ]
     },
     "metadata": {},
     "output_type": "display_data"
    },
    {
     "data": {
      "text/html": [
       "<pre style=\"white-space:pre;overflow-x:auto;line-height:normal;font-family:Menlo,'DejaVu Sans Mono',consolas,'Courier New',monospace\">Optimization - Divergences: <span style=\"font-weight: bold\">&lt;</span><span style=\"color: #008080; text-decoration-color: #008080; font-weight: bold\">10</span><span style=\"color: #000000; text-decoration-color: #000000\">%, R-hat: &lt;</span><span style=\"color: #008080; text-decoration-color: #008080; font-weight: bold\">1.1</span><span style=\"color: #000000; text-decoration-color: #000000\">, ESS: </span><span style=\"font-weight: bold\">&gt;</span><span style=\"color: #008080; text-decoration-color: #008080; font-weight: bold\">50</span>\n",
       "</pre>\n"
      ],
      "text/plain": [
       "Optimization - Divergences: \u001b[1m<\u001b[0m\u001b[1;36m10\u001b[0m\u001b[39m%, R-hat: <\u001b[0m\u001b[1;36m1.1\u001b[0m\u001b[39m, ESS: \u001b[0m\u001b[1m>\u001b[0m\u001b[1;36m50\u001b[0m\n"
      ]
     },
     "metadata": {},
     "output_type": "display_data"
    },
    {
     "data": {
      "text/html": [
       "<pre style=\"white-space:pre;overflow-x:auto;line-height:normal;font-family:Menlo,'DejaVu Sans Mono',consolas,'Courier New',monospace\">Final model  - Divergences: <span style=\"font-weight: bold\">&lt;</span><span style=\"color: #008080; text-decoration-color: #008080; font-weight: bold\">1</span><span style=\"color: #000000; text-decoration-color: #000000\">%, R-hat: &lt;</span><span style=\"color: #008080; text-decoration-color: #008080; font-weight: bold\">1.01</span><span style=\"color: #000000; text-decoration-color: #000000\">, ESS: </span><span style=\"font-weight: bold\">&gt;</span><span style=\"color: #008080; text-decoration-color: #008080; font-weight: bold\">400</span>\n",
       "</pre>\n"
      ],
      "text/plain": [
       "Final model  - Divergences: \u001b[1m<\u001b[0m\u001b[1;36m1\u001b[0m\u001b[39m%, R-hat: <\u001b[0m\u001b[1;36m1.01\u001b[0m\u001b[39m, ESS: \u001b[0m\u001b[1m>\u001b[0m\u001b[1;36m400\u001b[0m\n"
      ]
     },
     "metadata": {},
     "output_type": "display_data"
    }
   ],
   "source": [
    "# Train/test split\n",
    "TEST_SIZE_WEEKS = 24  # Last 24 weeks for testing\n",
    "\n",
    "# Optimization settings\n",
    "N_TRIALS = 20\n",
    "OPTUNA_DRAWS = 500\n",
    "OPTUNA_TUNE = 500\n",
    "OPTUNA_CHAINS = 2\n",
    "\n",
    "# Final model settings\n",
    "FINAL_DRAWS = 2000\n",
    "FINAL_TUNE = 2000\n",
    "FINAL_CHAINS = 4\n",
    "\n",
    "# Sampler selection\n",
    "USE_NUMPYRO = True\n",
    "NUTS_SAMPLER = \"numpyro\" if USE_NUMPYRO else \"pymc\"\n",
    "\n",
    "# Convergence thresholds for optimization (lenient)\n",
    "OPTUNA_DIVERGENCE_THRESHOLD = 0.10\n",
    "OPTUNA_RHAT_THRESHOLD = 1.10\n",
    "OPTUNA_ESS_THRESHOLD = 50\n",
    "\n",
    "# Convergence thresholds for final model (strict)\n",
    "FINAL_DIVERGENCE_THRESHOLD = 0.01\n",
    "FINAL_RHAT_THRESHOLD = 1.01\n",
    "FINAL_ESS_THRESHOLD = 400\n",
    "\n",
    "# Random seed\n",
    "RANDOM_SEED = 42\n",
    "\n",
    "rprint(f\"[bold blue]Configuration:[/bold blue]\")\n",
    "rprint(f\"Train/test split: {TEST_SIZE_WEEKS} weeks for test\")\n",
    "rprint(f\"Number of trials: {N_TRIALS}\")\n",
    "rprint(f\"NUTS sampler: [yellow]{NUTS_SAMPLER}[/yellow] {'(NumPyro - faster!)' if USE_NUMPYRO else '(PyMC default)'}\")\n",
    "rprint(f\"Optimization MCMC: {OPTUNA_DRAWS} draws, {OPTUNA_TUNE} tune, {OPTUNA_CHAINS} chains\")\n",
    "rprint(f\"Final model MCMC: {FINAL_DRAWS} draws, {FINAL_TUNE} tune, {FINAL_CHAINS} chains\")\n",
    "rprint(f\"\\n[bold yellow]Convergence Thresholds:[/bold yellow]\")\n",
    "rprint(f\"Optimization - Divergences: <{OPTUNA_DIVERGENCE_THRESHOLD*100:.0f}%, R-hat: <{OPTUNA_RHAT_THRESHOLD}, ESS: >{OPTUNA_ESS_THRESHOLD}\")\n",
    "rprint(f\"Final model  - Divergences: <{FINAL_DIVERGENCE_THRESHOLD*100:.0f}%, R-hat: <{FINAL_RHAT_THRESHOLD}, ESS: >{FINAL_ESS_THRESHOLD}\")"
   ]
  },
  {
   "cell_type": "markdown",
   "metadata": {},
   "source": [
    "## Load Data"
   ]
  },
  {
   "cell_type": "code",
   "execution_count": null,
   "metadata": {},
   "outputs": [],
   "source": "def load_mmm_data(data_path: str | Path) -> pl.DataFrame:\n    \"\"\"Load MMM data from CSV file.\n    \n    Args:\n        data_path: Path to the mmm_data.csv file\n        \n    Returns:\n        Polars DataFrame with parsed date column\n    \"\"\"\n    return pl.read_csv(data_path).with_columns(\n        pl.col(\"date\").str.to_date()\n    )\n\n\n# Load the data\ndata_path = Path(\"../data/mmm-simple/mmm_data.csv\")\ndf = load_mmm_data(data_path)\n\nrprint(f\"[bold green]Data loaded successfully[/bold green]\")\nrprint(f\"Shape: {df.shape[0]} rows × {df.shape[1]} columns\")\nrprint(f\"Date range: {df['date'].min()} to {df['date'].max()}\")"
  },
  {
   "cell_type": "markdown",
   "metadata": {},
   "source": [
    "## Train/Test Split\n",
    "\n",
    "Split data chronologically: first 80 weeks for training, last 24 weeks for testing."
   ]
  },
  {
   "cell_type": "code",
   "execution_count": 21,
   "metadata": {},
   "outputs": [
    {
     "data": {
      "text/html": [
       "<pre style=\"white-space:pre;overflow-x:auto;line-height:normal;font-family:Menlo,'DejaVu Sans Mono',consolas,'Courier New',monospace\">\n",
       "<span style=\"color: #000080; text-decoration-color: #000080; font-weight: bold\">Train/Test Split:</span>\n",
       "</pre>\n"
      ],
      "text/plain": [
       "\n",
       "\u001b[1;34mTrain/Test Split:\u001b[0m\n"
      ]
     },
     "metadata": {},
     "output_type": "display_data"
    },
    {
     "data": {
      "text/html": [
       "<pre style=\"white-space:pre;overflow-x:auto;line-height:normal;font-family:Menlo,'DejaVu Sans Mono',consolas,'Courier New',monospace\">Train set: <span style=\"color: #008080; text-decoration-color: #008080; font-weight: bold\">80</span> weeks <span style=\"font-weight: bold\">(</span><span style=\"color: #008080; text-decoration-color: #008080; font-weight: bold\">2020</span>-<span style=\"color: #008080; text-decoration-color: #008080; font-weight: bold\">01</span>-<span style=\"color: #008080; text-decoration-color: #008080; font-weight: bold\">05</span> to <span style=\"color: #008080; text-decoration-color: #008080; font-weight: bold\">2021</span>-<span style=\"color: #008080; text-decoration-color: #008080; font-weight: bold\">07</span>-<span style=\"color: #008080; text-decoration-color: #008080; font-weight: bold\">11</span><span style=\"font-weight: bold\">)</span>\n",
       "</pre>\n"
      ],
      "text/plain": [
       "Train set: \u001b[1;36m80\u001b[0m weeks \u001b[1m(\u001b[0m\u001b[1;36m2020\u001b[0m-\u001b[1;36m01\u001b[0m-\u001b[1;36m05\u001b[0m to \u001b[1;36m2021\u001b[0m-\u001b[1;36m07\u001b[0m-\u001b[1;36m11\u001b[0m\u001b[1m)\u001b[0m\n"
      ]
     },
     "metadata": {},
     "output_type": "display_data"
    },
    {
     "data": {
      "text/html": [
       "<pre style=\"white-space:pre;overflow-x:auto;line-height:normal;font-family:Menlo,'DejaVu Sans Mono',consolas,'Courier New',monospace\">Test set:  <span style=\"color: #008080; text-decoration-color: #008080; font-weight: bold\">24</span> weeks <span style=\"font-weight: bold\">(</span><span style=\"color: #008080; text-decoration-color: #008080; font-weight: bold\">2021</span>-<span style=\"color: #008080; text-decoration-color: #008080; font-weight: bold\">07</span>-<span style=\"color: #008080; text-decoration-color: #008080; font-weight: bold\">18</span> to <span style=\"color: #008080; text-decoration-color: #008080; font-weight: bold\">2021</span>-<span style=\"color: #008080; text-decoration-color: #008080; font-weight: bold\">12</span>-<span style=\"color: #008080; text-decoration-color: #008080; font-weight: bold\">26</span><span style=\"font-weight: bold\">)</span>\n",
       "</pre>\n"
      ],
      "text/plain": [
       "Test set:  \u001b[1;36m24\u001b[0m weeks \u001b[1m(\u001b[0m\u001b[1;36m2021\u001b[0m-\u001b[1;36m07\u001b[0m-\u001b[1;36m18\u001b[0m to \u001b[1;36m2021\u001b[0m-\u001b[1;36m12\u001b[0m-\u001b[1;36m26\u001b[0m\u001b[1m)\u001b[0m\n"
      ]
     },
     "metadata": {},
     "output_type": "display_data"
    },
    {
     "data": {
      "text/html": [
       "<pre style=\"white-space:pre;overflow-x:auto;line-height:normal;font-family:Menlo,'DejaVu Sans Mono',consolas,'Courier New',monospace\">\n",
       "<span style=\"color: #000080; text-decoration-color: #000080; font-weight: bold\">Model Configuration:</span>\n",
       "</pre>\n"
      ],
      "text/plain": [
       "\n",
       "\u001b[1;34mModel Configuration:\u001b[0m\n"
      ]
     },
     "metadata": {},
     "output_type": "display_data"
    },
    {
     "data": {
      "text/html": [
       "<pre style=\"white-space:pre;overflow-x:auto;line-height:normal;font-family:Menlo,'DejaVu Sans Mono',consolas,'Courier New',monospace\">Target column: <span style=\"color: #808000; text-decoration-color: #808000\">y</span>\n",
       "</pre>\n"
      ],
      "text/plain": [
       "Target column: \u001b[33my\u001b[0m\n"
      ]
     },
     "metadata": {},
     "output_type": "display_data"
    },
    {
     "data": {
      "text/html": [
       "<pre style=\"white-space:pre;overflow-x:auto;line-height:normal;font-family:Menlo,'DejaVu Sans Mono',consolas,'Courier New',monospace\">Date column: <span style=\"color: #808000; text-decoration-color: #808000\">date</span>\n",
       "</pre>\n"
      ],
      "text/plain": [
       "Date column: \u001b[33mdate\u001b[0m\n"
      ]
     },
     "metadata": {},
     "output_type": "display_data"
    },
    {
     "data": {
      "text/html": [
       "<pre style=\"white-space:pre;overflow-x:auto;line-height:normal;font-family:Menlo,'DejaVu Sans Mono',consolas,'Courier New',monospace\">Channel columns: <span style=\"color: #808000; text-decoration-color: #808000; font-weight: bold\">[</span><span style=\"color: #808000; text-decoration-color: #808000\">'x1_Search-Ads'</span><span style=\"color: #808000; text-decoration-color: #808000\">, </span><span style=\"color: #808000; text-decoration-color: #808000\">'x2_Social-Media'</span><span style=\"color: #808000; text-decoration-color: #808000\">, </span><span style=\"color: #808000; text-decoration-color: #808000\">'x3_Local-Ads'</span><span style=\"color: #808000; text-decoration-color: #808000\">, </span><span style=\"color: #808000; text-decoration-color: #808000\">'x4_Email'</span><span style=\"color: #808000; text-decoration-color: #808000; font-weight: bold\">]</span>\n",
       "</pre>\n"
      ],
      "text/plain": [
       "Channel columns: \u001b[1;33m[\u001b[0m\u001b[33m'x1_Search-Ads'\u001b[0m\u001b[33m, \u001b[0m\u001b[33m'x2_Social-Media'\u001b[0m\u001b[33m, \u001b[0m\u001b[33m'x3_Local-Ads'\u001b[0m\u001b[33m, \u001b[0m\u001b[33m'x4_Email'\u001b[0m\u001b[1;33m]\u001b[0m\n"
      ]
     },
     "metadata": {},
     "output_type": "display_data"
    },
    {
     "data": {
      "text/html": [
       "<pre style=\"white-space:pre;overflow-x:auto;line-height:normal;font-family:Menlo,'DejaVu Sans Mono',consolas,'Courier New',monospace\">Control columns: <span style=\"color: #808000; text-decoration-color: #808000; font-weight: bold\">[</span><span style=\"color: #808000; text-decoration-color: #808000\">'c1'</span><span style=\"color: #808000; text-decoration-color: #808000\">, </span><span style=\"color: #808000; text-decoration-color: #808000\">'c2'</span><span style=\"color: #808000; text-decoration-color: #808000; font-weight: bold\">]</span>\n",
       "</pre>\n"
      ],
      "text/plain": [
       "Control columns: \u001b[1;33m[\u001b[0m\u001b[33m'c1'\u001b[0m\u001b[33m, \u001b[0m\u001b[33m'c2'\u001b[0m\u001b[1;33m]\u001b[0m\n"
      ]
     },
     "metadata": {},
     "output_type": "display_data"
    }
   ],
   "source": [
    "def split_train_test(\n",
    "    df: pl.DataFrame,\n",
    "    test_size_weeks: int\n",
    ") -> tuple[pl.DataFrame, pl.DataFrame]:\n",
    "    \"\"\"Split data into train and test sets chronologically.\n",
    "    \n",
    "    Args:\n",
    "        df: Full dataset\n",
    "        test_size_weeks: Number of weeks to use for test set\n",
    "        \n",
    "    Returns:\n",
    "        Tuple of (train_df, test_df)\n",
    "    \"\"\"\n",
    "    n_total = df.shape[0]\n",
    "    n_train = n_total - test_size_weeks\n",
    "    \n",
    "    # Sort by date to ensure chronological order\n",
    "    df_sorted = df.sort(\"date\")\n",
    "    \n",
    "    train_df = df_sorted[:n_train]\n",
    "    test_df = df_sorted[n_train:]\n",
    "    \n",
    "    return train_df, test_df\n",
    "\n",
    "\n",
    "# Split data\n",
    "df_train, df_test = split_train_test(df, TEST_SIZE_WEEKS)\n",
    "\n",
    "rprint(\"\\n[bold blue]Train/Test Split:[/bold blue]\")\n",
    "rprint(f\"Train set: {df_train.shape[0]} weeks ({df_train['date'].min()} to {df_train['date'].max()})\")\n",
    "rprint(f\"Test set:  {df_test.shape[0]} weeks ({df_test['date'].min()} to {df_test['date'].max()})\")\n",
    "\n",
    "# Convert to pandas for PyMC-Marketing\n",
    "df_train_pandas = df_train.to_pandas()\n",
    "df_test_pandas = df_test.to_pandas()\n",
    "\n",
    "# Define model inputs\n",
    "channel_columns = [\n",
    "    \"x1_Search-Ads\",\n",
    "    \"x2_Social-Media\",\n",
    "    \"x3_Local-Ads\",\n",
    "    \"x4_Email\"\n",
    "]\n",
    "\n",
    "control_columns = [\"c1\", \"c2\"]\n",
    "\n",
    "# Prepare train/test splits\n",
    "X_train = df_train_pandas.drop(columns=[\"y\"])\n",
    "y_train = df_train_pandas[\"y\"]\n",
    "\n",
    "X_test = df_test_pandas.drop(columns=[\"y\"])\n",
    "y_test = df_test_pandas[\"y\"]\n",
    "\n",
    "rprint(\"\\n[bold blue]Model Configuration:[/bold blue]\")\n",
    "rprint(f\"Target column: [yellow]y[/yellow]\")\n",
    "rprint(f\"Date column: [yellow]date[/yellow]\")\n",
    "rprint(f\"Channel columns: [yellow]{channel_columns}[/yellow]\")\n",
    "rprint(f\"Control columns: [yellow]{control_columns}[/yellow]\")"
   ]
  },
  {
   "cell_type": "markdown",
   "metadata": {},
   "source": [
    "## Convergence Diagnostics\n",
    "\n",
    "Helper function to check MCMC convergence quality."
   ]
  },
  {
   "cell_type": "code",
   "execution_count": 22,
   "metadata": {},
   "outputs": [
    {
     "data": {
      "text/html": [
       "<pre style=\"white-space:pre;overflow-x:auto;line-height:normal;font-family:Menlo,'DejaVu Sans Mono',consolas,'Courier New',monospace\"><span style=\"color: #008000; text-decoration-color: #008000; font-weight: bold\">Convergence check function defined</span>\n",
       "</pre>\n"
      ],
      "text/plain": [
       "\u001b[1;32mConvergence check function defined\u001b[0m\n"
      ]
     },
     "metadata": {},
     "output_type": "display_data"
    }
   ],
   "source": [
    "import arviz as az\n",
    "import numpy as np\n",
    "import warnings\n",
    "\n",
    "\n",
    "def check_convergence(\n",
    "    mmm: MMM,\n",
    "    divergence_threshold: float,\n",
    "    rhat_threshold: float,\n",
    "    ess_threshold: float,\n",
    "    trial_number: int | None = None\n",
    ") -> tuple[bool, dict[str, float]]:\n",
    "    \"\"\"Check MCMC convergence diagnostics.\n",
    "    \n",
    "    Args:\n",
    "        mmm: Fitted MMM model\n",
    "        divergence_threshold: Maximum allowed divergence rate (0-1)\n",
    "        rhat_threshold: Maximum allowed R-hat value\n",
    "        ess_threshold: Minimum required effective sample size\n",
    "        trial_number: Optional trial number for logging\n",
    "        \n",
    "    Returns:\n",
    "        Tuple of (converged: bool, diagnostics: dict)\n",
    "    \"\"\"\n",
    "    # 1. Check divergences\n",
    "    n_divergences = int(mmm.idata.sample_stats.diverging.sum().item())\n",
    "    n_draws = mmm.idata.posterior.sizes[\"draw\"]\n",
    "    n_chains = mmm.idata.posterior.sizes[\"chain\"]\n",
    "    total_samples = n_draws * n_chains\n",
    "    divergence_rate = n_divergences / total_samples\n",
    "    \n",
    "    # 2. Check R-hat\n",
    "    with warnings.catch_warnings():\n",
    "        warnings.filterwarnings(\"ignore\", category=RuntimeWarning, message=\".*invalid value encountered.*\")\n",
    "        rhat = az.rhat(mmm.idata)\n",
    "        max_rhat = float(rhat.to_array().max())\n",
    "    \n",
    "    # 3. Check ESS\n",
    "    with warnings.catch_warnings():\n",
    "        warnings.filterwarnings(\"ignore\", category=RuntimeWarning, message=\".*invalid value encountered.*\")\n",
    "        ess = az.ess(mmm.idata)\n",
    "        min_ess = float(ess.to_array().min())\n",
    "    \n",
    "    # Convergence checks\n",
    "    divergence_ok = divergence_rate <= divergence_threshold\n",
    "    rhat_ok = max_rhat <= rhat_threshold\n",
    "    ess_ok = min_ess >= ess_threshold\n",
    "    \n",
    "    converged = divergence_ok and rhat_ok and ess_ok\n",
    "    \n",
    "    # Diagnostics dictionary\n",
    "    diagnostics = {\n",
    "        \"n_divergences\": n_divergences,\n",
    "        \"divergence_rate\": divergence_rate,\n",
    "        \"max_rhat\": max_rhat,\n",
    "        \"min_ess\": min_ess,\n",
    "    }\n",
    "    \n",
    "    # Logging\n",
    "    trial_str = f\"Trial {trial_number}\" if trial_number is not None else \"Model\"\n",
    "    \n",
    "    if converged:\n",
    "        rprint(\n",
    "            f\"[green]✓ {trial_str} CONVERGED:[/green] \"\n",
    "            f\"divergences={divergence_rate*100:.1f}%, \"\n",
    "            f\"max_rhat={max_rhat:.3f}, \"\n",
    "            f\"min_ess={min_ess:.0f}\"\n",
    "        )\n",
    "    else:\n",
    "        reasons = []\n",
    "        if not divergence_ok:\n",
    "            reasons.append(f\"divergences={divergence_rate*100:.1f}% (>{divergence_threshold*100:.0f}%)\")\n",
    "        if not rhat_ok:\n",
    "            reasons.append(f\"max_rhat={max_rhat:.3f} (>{rhat_threshold})\")\n",
    "        if not ess_ok:\n",
    "            reasons.append(f\"min_ess={min_ess:.0f} (<{ess_threshold})\")\n",
    "        \n",
    "        rprint(\n",
    "            f\"[red]✗ {trial_str} FAILED:[/red] \"\n",
    "            f\"{', '.join(reasons)}\"\n",
    "        )\n",
    "    \n",
    "    return converged, diagnostics\n",
    "\n",
    "\n",
    "rprint(\"[bold green]Convergence check function defined[/bold green]\")"
   ]
  },
  {
   "cell_type": "markdown",
   "metadata": {},
   "source": [
    "## CRPS Evaluation Function\n",
    "\n",
    "Compute CRPS on test set using posterior predictive samples."
   ]
  },
  {
   "cell_type": "code",
   "execution_count": 23,
   "metadata": {},
   "outputs": [
    {
     "data": {
      "text/html": [
       "<pre style=\"white-space:pre;overflow-x:auto;line-height:normal;font-family:Menlo,'DejaVu Sans Mono',consolas,'Courier New',monospace\"><span style=\"color: #008000; text-decoration-color: #008000; font-weight: bold\">CRPS evaluation function defined</span>\n",
       "</pre>\n"
      ],
      "text/plain": [
       "\u001b[1;32mCRPS evaluation function defined\u001b[0m\n"
      ]
     },
     "metadata": {},
     "output_type": "display_data"
    }
   ],
   "source": [
    "def compute_test_crps(\n",
    "    mmm: MMM,\n",
    "    X_test: pd.DataFrame,\n",
    "    y_test: pd.Series\n",
    ") -> float:\n",
    "    \"\"\"Compute CRPS on test set using posterior predictive.\n",
    "    \n",
    "    Args:\n",
    "        mmm: Fitted MMM model\n",
    "        X_test: Test features\n",
    "        y_test: Test target values\n",
    "        \n",
    "    Returns:\n",
    "        CRPS score (lower is better)\n",
    "    \"\"\"\n",
    "    # Sample posterior predictive for test set\n",
    "    # Note: original_scale=True doesn't rescale posterior_predictive samples\n",
    "    mmm.sample_posterior_predictive(\n",
    "        X_test,\n",
    "        original_scale=True,\n",
    "        extend_idata=True\n",
    "    )\n",
    "    \n",
    "    # Extract posterior predictive samples (in normalized scale)\n",
    "    # Shape: (n_chains, n_draws, n_observations)\n",
    "    y_pred_samples = mmm.idata.posterior_predictive[\"y\"].values\n",
    "    \n",
    "    # Manually rescale to original scale\n",
    "    target_scale = float(mmm.idata.constant_data[\"target_scale\"].values)\n",
    "    y_pred_rescaled = y_pred_samples * target_scale\n",
    "    \n",
    "    # Reshape to (n_samples, n_observations) as expected by crps()\n",
    "    # n_samples = n_chains * n_draws\n",
    "    n_chains, n_draws, n_obs = y_pred_rescaled.shape\n",
    "    y_pred_reshaped = y_pred_rescaled.reshape(n_chains * n_draws, n_obs)\n",
    "    \n",
    "    # Compute CRPS\n",
    "    y_test_array = y_test.values\n",
    "    crps_score = crps(y_test_array, y_pred_reshaped)\n",
    "    \n",
    "    return float(crps_score)\n",
    "\n",
    "\n",
    "rprint(\"[bold green]CRPS evaluation function defined[/bold green]\")"
   ]
  },
  {
   "cell_type": "markdown",
   "metadata": {},
   "source": [
    "## Define Optuna Objective Function\n",
    "\n",
    "The objective function:\n",
    "1. Suggests hyperparameters from search space\n",
    "2. Creates and fits MMM model on **train set**\n",
    "3. Checks convergence on train set\n",
    "4. Computes CRPS on **test set** (lower is better)\n",
    "5. Returns CRPS for Optuna to minimize"
   ]
  },
  {
   "cell_type": "code",
   "execution_count": 24,
   "metadata": {},
   "outputs": [
    {
     "data": {
      "text/html": [
       "<pre style=\"white-space:pre;overflow-x:auto;line-height:normal;font-family:Menlo,'DejaVu Sans Mono',consolas,'Courier New',monospace\"><span style=\"color: #008000; text-decoration-color: #008000; font-weight: bold\">Objective function created with CRPS evaluation</span>\n",
       "</pre>\n"
      ],
      "text/plain": [
       "\u001b[1;32mObjective function created with CRPS evaluation\u001b[0m\n"
      ]
     },
     "metadata": {},
     "output_type": "display_data"
    }
   ],
   "source": [
    "def create_objective(\n",
    "    X_train: pd.DataFrame,\n",
    "    y_train: pd.Series,\n",
    "    X_test: pd.DataFrame,\n",
    "    y_test: pd.Series,\n",
    "    channel_columns: list[str],\n",
    "    control_columns: list[str],\n",
    "    draws: int,\n",
    "    tune: int,\n",
    "    chains: int,\n",
    "    divergence_threshold: float,\n",
    "    rhat_threshold: float,\n",
    "    ess_threshold: float,\n",
    "    nuts_sampler: str = \"pymc\"\n",
    ") -> callable:\n",
    "    \"\"\"Create Optuna objective function using CRPS on test set.\n",
    "    \n",
    "    Args:\n",
    "        X_train: Training features\n",
    "        y_train: Training target\n",
    "        X_test: Test features\n",
    "        y_test: Test target\n",
    "        channel_columns: List of channel column names\n",
    "        control_columns: List of control column names\n",
    "        draws: Number of MCMC draws\n",
    "        tune: Number of tuning steps\n",
    "        chains: Number of MCMC chains\n",
    "        divergence_threshold: Maximum allowed divergence rate\n",
    "        rhat_threshold: Maximum allowed R-hat value\n",
    "        ess_threshold: Minimum required effective sample size\n",
    "        nuts_sampler: NUTS sampler to use\n",
    "        \n",
    "    Returns:\n",
    "        Objective function that takes Optuna trial and returns test CRPS\n",
    "    \"\"\"\n",
    "    def objective(trial: optuna.Trial) -> float:\n",
    "        \"\"\"Optuna objective function using CRPS on test set.\n",
    "        \n",
    "        Args:\n",
    "            trial: Optuna trial object\n",
    "            \n",
    "        Returns:\n",
    "            Test CRPS value (lower is better)\n",
    "            \n",
    "        Raises:\n",
    "            optuna.TrialPruned: If model fails to converge\n",
    "        \"\"\"\n",
    "        # Suggest hyperparameters\n",
    "        yearly_seasonality = trial.suggest_int(\"yearly_seasonality\", 1, 10)\n",
    "        adstock_max_lag = trial.suggest_int(\"adstock_max_lag\", 4, 12)\n",
    "        \n",
    "        rprint(\n",
    "            f\"\\n[bold cyan]Trial {trial.number}:[/bold cyan] \"\n",
    "            f\"yearly_seasonality={yearly_seasonality}, \"\n",
    "            f\"adstock_max_lag={adstock_max_lag}\"\n",
    "        )\n",
    "        \n",
    "        # Create MMM model\n",
    "        mmm = MMM(\n",
    "            date_column=\"date\",\n",
    "            channel_columns=channel_columns,\n",
    "            control_columns=control_columns,\n",
    "            adstock=GeometricAdstock(l_max=adstock_max_lag),\n",
    "            saturation=LogisticSaturation(),\n",
    "            yearly_seasonality=yearly_seasonality\n",
    "        )\n",
    "        \n",
    "        # Fit model on TRAINING set\n",
    "        mmm.fit(\n",
    "            X=X_train,\n",
    "            y=y_train,\n",
    "            draws=draws,\n",
    "            tune=tune,\n",
    "            chains=chains,\n",
    "            nuts_sampler=nuts_sampler,\n",
    "            random_seed=RANDOM_SEED + trial.number,\n",
    "            progressbar=False\n",
    "        )\n",
    "        \n",
    "        # Check convergence\n",
    "        converged, diagnostics = check_convergence(\n",
    "            mmm=mmm,\n",
    "            divergence_threshold=divergence_threshold,\n",
    "            rhat_threshold=rhat_threshold,\n",
    "            ess_threshold=ess_threshold,\n",
    "            trial_number=trial.number\n",
    "        )\n",
    "        \n",
    "        # Store diagnostics\n",
    "        trial.set_user_attr(\"n_divergences\", diagnostics[\"n_divergences\"])\n",
    "        trial.set_user_attr(\"divergence_rate\", diagnostics[\"divergence_rate\"])\n",
    "        trial.set_user_attr(\"max_rhat\", diagnostics[\"max_rhat\"])\n",
    "        trial.set_user_attr(\"min_ess\", diagnostics[\"min_ess\"])\n",
    "        trial.set_user_attr(\"converged\", converged)\n",
    "        \n",
    "        # Prune if not converged\n",
    "        if not converged:\n",
    "            rprint(f\"[red]Trial {trial.number} pruned due to convergence failure[/red]\")\n",
    "            raise optuna.TrialPruned()\n",
    "        \n",
    "        # Compute CRPS on TEST set\n",
    "        test_crps = compute_test_crps(mmm, X_test, y_test)\n",
    "        \n",
    "        rprint(f\"[yellow]Test CRPS: {test_crps:.2f}[/yellow]\")\n",
    "        \n",
    "        # Store CRPS\n",
    "        trial.set_user_attr(\"test_crps\", test_crps)\n",
    "        \n",
    "        return test_crps\n",
    "    \n",
    "    return objective\n",
    "\n",
    "\n",
    "# Create objective function\n",
    "objective = create_objective(\n",
    "    X_train=X_train,\n",
    "    y_train=y_train,\n",
    "    X_test=X_test,\n",
    "    y_test=y_test,\n",
    "    channel_columns=channel_columns,\n",
    "    control_columns=control_columns,\n",
    "    draws=OPTUNA_DRAWS,\n",
    "    tune=OPTUNA_TUNE,\n",
    "    chains=OPTUNA_CHAINS,\n",
    "    divergence_threshold=OPTUNA_DIVERGENCE_THRESHOLD,\n",
    "    rhat_threshold=OPTUNA_RHAT_THRESHOLD,\n",
    "    ess_threshold=OPTUNA_ESS_THRESHOLD,\n",
    "    nuts_sampler=NUTS_SAMPLER\n",
    ")\n",
    "\n",
    "rprint(\"[bold green]Objective function created with CRPS evaluation[/bold green]\")"
   ]
  },
  {
   "cell_type": "markdown",
   "metadata": {},
   "source": [
    "## Run Optuna Optimization\n",
    "\n",
    "This will run multiple trials to find hyperparameters that minimize test CRPS.\n",
    "\n",
    "**Note**: This may take 15-30 minutes depending on `N_TRIALS` and hardware."
   ]
  },
  {
   "cell_type": "code",
   "execution_count": 25,
   "metadata": {},
   "outputs": [
    {
     "data": {
      "text/html": [
       "<pre style=\"white-space:pre;overflow-x:auto;line-height:normal;font-family:Menlo,'DejaVu Sans Mono',consolas,'Courier New',monospace\">\n",
       "<span style=\"color: #800080; text-decoration-color: #800080; font-weight: bold\">Starting CRPS-based optimization with </span><span style=\"color: #800080; text-decoration-color: #800080; font-weight: bold\">20</span><span style=\"color: #800080; text-decoration-color: #800080; font-weight: bold\"> trials...</span>\n",
       "\n",
       "</pre>\n"
      ],
      "text/plain": [
       "\n",
       "\u001b[1;35mStarting CRPS-based optimization with \u001b[0m\u001b[1;35m20\u001b[0m\u001b[1;35m trials\u001b[0m\u001b[1;35m...\u001b[0m\n",
       "\n"
      ]
     },
     "metadata": {},
     "output_type": "display_data"
    },
    {
     "name": "stderr",
     "output_type": "stream",
     "text": [
      "[I 2025-10-19 22:11:48,845] A new study created in memory with name: mmm_crps_optimization\n"
     ]
    },
    {
     "data": {
      "application/vnd.jupyter.widget-view+json": {
       "model_id": "d4e336f05528448ca88fc3a38de6d80c",
       "version_major": 2,
       "version_minor": 0
      },
      "text/plain": [
       "  0%|          | 0/20 [00:00<?, ?it/s]"
      ]
     },
     "metadata": {},
     "output_type": "display_data"
    },
    {
     "data": {
      "text/html": [
       "<pre style=\"white-space:pre;overflow-x:auto;line-height:normal;font-family:Menlo,'DejaVu Sans Mono',consolas,'Courier New',monospace\">\n",
       "<span style=\"color: #008080; text-decoration-color: #008080; font-weight: bold\">Trial </span><span style=\"color: #008080; text-decoration-color: #008080; font-weight: bold\">0</span><span style=\"color: #008080; text-decoration-color: #008080; font-weight: bold\">:</span> <span style=\"color: #808000; text-decoration-color: #808000\">yearly_seasonality</span>=<span style=\"color: #008080; text-decoration-color: #008080; font-weight: bold\">4</span>, <span style=\"color: #808000; text-decoration-color: #808000\">adstock_max_lag</span>=<span style=\"color: #008080; text-decoration-color: #008080; font-weight: bold\">12</span>\n",
       "</pre>\n"
      ],
      "text/plain": [
       "\n",
       "\u001b[1;36mTrial \u001b[0m\u001b[1;36m0\u001b[0m\u001b[1;36m:\u001b[0m \u001b[33myearly_seasonality\u001b[0m=\u001b[1;36m4\u001b[0m, \u001b[33madstock_max_lag\u001b[0m=\u001b[1;36m12\u001b[0m\n"
      ]
     },
     "metadata": {},
     "output_type": "display_data"
    },
    {
     "name": "stderr",
     "output_type": "stream",
     "text": [
      "We recommend running at least 4 chains for robust computation of convergence diagnostics\n",
      "The rhat statistic is larger than 1.01 for some parameters. This indicates problems during sampling. See https://arxiv.org/abs/1903.08008 for details\n"
     ]
    },
    {
     "data": {
      "application/vnd.jupyter.widget-view+json": {
       "model_id": "0222a52432f04b3c8db2c0ca765f9d0f",
       "version_major": 2,
       "version_minor": 0
      },
      "text/plain": [
       "Output()"
      ]
     },
     "metadata": {},
     "output_type": "display_data"
    },
    {
     "data": {
      "text/html": [
       "<pre style=\"white-space:pre;overflow-x:auto;line-height:normal;font-family:Menlo,'DejaVu Sans Mono',consolas,'Courier New',monospace\"></pre>\n"
      ],
      "text/plain": []
     },
     "metadata": {},
     "output_type": "display_data"
    },
    {
     "data": {
      "text/html": [
       "<pre style=\"white-space:pre;overflow-x:auto;line-height:normal;font-family:Menlo,'DejaVu Sans Mono',consolas,'Courier New',monospace\"><span style=\"color: #008000; text-decoration-color: #008000\">✓ Trial </span><span style=\"color: #008000; text-decoration-color: #008000; font-weight: bold\">0</span><span style=\"color: #008000; text-decoration-color: #008000\"> CONVERGED:</span> <span style=\"color: #808000; text-decoration-color: #808000\">divergences</span>=<span style=\"color: #008080; text-decoration-color: #008080; font-weight: bold\">0.0</span>%, <span style=\"color: #808000; text-decoration-color: #808000\">max_rhat</span>=<span style=\"color: #008080; text-decoration-color: #008080; font-weight: bold\">1.023</span>, <span style=\"color: #808000; text-decoration-color: #808000\">min_ess</span>=<span style=\"color: #008080; text-decoration-color: #008080; font-weight: bold\">189</span>\n",
       "</pre>\n"
      ],
      "text/plain": [
       "\u001b[32m✓ Trial \u001b[0m\u001b[1;32m0\u001b[0m\u001b[32m CONVERGED:\u001b[0m \u001b[33mdivergences\u001b[0m=\u001b[1;36m0\u001b[0m\u001b[1;36m.0\u001b[0m%, \u001b[33mmax_rhat\u001b[0m=\u001b[1;36m1\u001b[0m\u001b[1;36m.023\u001b[0m, \u001b[33mmin_ess\u001b[0m=\u001b[1;36m189\u001b[0m\n"
      ]
     },
     "metadata": {},
     "output_type": "display_data"
    },
    {
     "name": "stderr",
     "output_type": "stream",
     "text": [
      "Sampling: [y]\n"
     ]
    },
    {
     "data": {
      "application/vnd.jupyter.widget-view+json": {
       "model_id": "ef8d3a2cae0e4e95a62545dc343d8f23",
       "version_major": 2,
       "version_minor": 0
      },
      "text/plain": [
       "Output()"
      ]
     },
     "metadata": {},
     "output_type": "display_data"
    },
    {
     "data": {
      "text/html": [
       "<pre style=\"white-space:pre;overflow-x:auto;line-height:normal;font-family:Menlo,'DejaVu Sans Mono',consolas,'Courier New',monospace\"></pre>\n"
      ],
      "text/plain": []
     },
     "metadata": {},
     "output_type": "display_data"
    },
    {
     "data": {
      "text/html": [
       "<pre style=\"white-space:pre;overflow-x:auto;line-height:normal;font-family:Menlo,'DejaVu Sans Mono',consolas,'Courier New',monospace\"><span style=\"color: #808000; text-decoration-color: #808000\">Test CRPS: </span><span style=\"color: #808000; text-decoration-color: #808000; font-weight: bold\">302.02</span>\n",
       "</pre>\n"
      ],
      "text/plain": [
       "\u001b[33mTest CRPS: \u001b[0m\u001b[1;33m302.02\u001b[0m\n"
      ]
     },
     "metadata": {},
     "output_type": "display_data"
    },
    {
     "name": "stdout",
     "output_type": "stream",
     "text": [
      "[I 2025-10-19 22:12:09,028] Trial 0 finished with value: 302.0187490319047 and parameters: {'yearly_seasonality': 4, 'adstock_max_lag': 12}. Best is trial 0 with value: 302.0187490319047.\n"
     ]
    },
    {
     "data": {
      "text/html": [
       "<pre style=\"white-space:pre;overflow-x:auto;line-height:normal;font-family:Menlo,'DejaVu Sans Mono',consolas,'Courier New',monospace\">\n",
       "<span style=\"color: #008080; text-decoration-color: #008080; font-weight: bold\">Trial </span><span style=\"color: #008080; text-decoration-color: #008080; font-weight: bold\">1</span><span style=\"color: #008080; text-decoration-color: #008080; font-weight: bold\">:</span> <span style=\"color: #808000; text-decoration-color: #808000\">yearly_seasonality</span>=<span style=\"color: #008080; text-decoration-color: #008080; font-weight: bold\">8</span>, <span style=\"color: #808000; text-decoration-color: #808000\">adstock_max_lag</span>=<span style=\"color: #008080; text-decoration-color: #008080; font-weight: bold\">9</span>\n",
       "</pre>\n"
      ],
      "text/plain": [
       "\n",
       "\u001b[1;36mTrial \u001b[0m\u001b[1;36m1\u001b[0m\u001b[1;36m:\u001b[0m \u001b[33myearly_seasonality\u001b[0m=\u001b[1;36m8\u001b[0m, \u001b[33madstock_max_lag\u001b[0m=\u001b[1;36m9\u001b[0m\n"
      ]
     },
     "metadata": {},
     "output_type": "display_data"
    },
    {
     "name": "stderr",
     "output_type": "stream",
     "text": [
      "We recommend running at least 4 chains for robust computation of convergence diagnostics\n"
     ]
    },
    {
     "data": {
      "application/vnd.jupyter.widget-view+json": {
       "model_id": "a5a90a2545654c8b97f4b301a772d833",
       "version_major": 2,
       "version_minor": 0
      },
      "text/plain": [
       "Output()"
      ]
     },
     "metadata": {},
     "output_type": "display_data"
    },
    {
     "data": {
      "text/html": [
       "<pre style=\"white-space:pre;overflow-x:auto;line-height:normal;font-family:Menlo,'DejaVu Sans Mono',consolas,'Courier New',monospace\"></pre>\n"
      ],
      "text/plain": []
     },
     "metadata": {},
     "output_type": "display_data"
    },
    {
     "data": {
      "text/html": [
       "<pre style=\"white-space:pre;overflow-x:auto;line-height:normal;font-family:Menlo,'DejaVu Sans Mono',consolas,'Courier New',monospace\"><span style=\"color: #008000; text-decoration-color: #008000\">✓ Trial </span><span style=\"color: #008000; text-decoration-color: #008000; font-weight: bold\">1</span><span style=\"color: #008000; text-decoration-color: #008000\"> CONVERGED:</span> <span style=\"color: #808000; text-decoration-color: #808000\">divergences</span>=<span style=\"color: #008080; text-decoration-color: #008080; font-weight: bold\">0.0</span>%, <span style=\"color: #808000; text-decoration-color: #808000\">max_rhat</span>=<span style=\"color: #008080; text-decoration-color: #008080; font-weight: bold\">1.017</span>, <span style=\"color: #808000; text-decoration-color: #808000\">min_ess</span>=<span style=\"color: #008080; text-decoration-color: #008080; font-weight: bold\">316</span>\n",
       "</pre>\n"
      ],
      "text/plain": [
       "\u001b[32m✓ Trial \u001b[0m\u001b[1;32m1\u001b[0m\u001b[32m CONVERGED:\u001b[0m \u001b[33mdivergences\u001b[0m=\u001b[1;36m0\u001b[0m\u001b[1;36m.0\u001b[0m%, \u001b[33mmax_rhat\u001b[0m=\u001b[1;36m1\u001b[0m\u001b[1;36m.017\u001b[0m, \u001b[33mmin_ess\u001b[0m=\u001b[1;36m316\u001b[0m\n"
      ]
     },
     "metadata": {},
     "output_type": "display_data"
    },
    {
     "name": "stderr",
     "output_type": "stream",
     "text": [
      "Sampling: [y]\n"
     ]
    },
    {
     "data": {
      "application/vnd.jupyter.widget-view+json": {
       "model_id": "f60684b939fb42c280691cc09e9b027c",
       "version_major": 2,
       "version_minor": 0
      },
      "text/plain": [
       "Output()"
      ]
     },
     "metadata": {},
     "output_type": "display_data"
    },
    {
     "data": {
      "text/html": [
       "<pre style=\"white-space:pre;overflow-x:auto;line-height:normal;font-family:Menlo,'DejaVu Sans Mono',consolas,'Courier New',monospace\"></pre>\n"
      ],
      "text/plain": []
     },
     "metadata": {},
     "output_type": "display_data"
    },
    {
     "data": {
      "text/html": [
       "<pre style=\"white-space:pre;overflow-x:auto;line-height:normal;font-family:Menlo,'DejaVu Sans Mono',consolas,'Courier New',monospace\"><span style=\"color: #808000; text-decoration-color: #808000\">Test CRPS: </span><span style=\"color: #808000; text-decoration-color: #808000; font-weight: bold\">316.97</span>\n",
       "</pre>\n"
      ],
      "text/plain": [
       "\u001b[33mTest CRPS: \u001b[0m\u001b[1;33m316.97\u001b[0m\n"
      ]
     },
     "metadata": {},
     "output_type": "display_data"
    },
    {
     "name": "stdout",
     "output_type": "stream",
     "text": [
      "[I 2025-10-19 22:12:18,837] Trial 1 finished with value: 316.96967178887326 and parameters: {'yearly_seasonality': 8, 'adstock_max_lag': 9}. Best is trial 0 with value: 302.0187490319047.\n"
     ]
    },
    {
     "data": {
      "text/html": [
       "<pre style=\"white-space:pre;overflow-x:auto;line-height:normal;font-family:Menlo,'DejaVu Sans Mono',consolas,'Courier New',monospace\">\n",
       "<span style=\"color: #008080; text-decoration-color: #008080; font-weight: bold\">Trial </span><span style=\"color: #008080; text-decoration-color: #008080; font-weight: bold\">2</span><span style=\"color: #008080; text-decoration-color: #008080; font-weight: bold\">:</span> <span style=\"color: #808000; text-decoration-color: #808000\">yearly_seasonality</span>=<span style=\"color: #008080; text-decoration-color: #008080; font-weight: bold\">2</span>, <span style=\"color: #808000; text-decoration-color: #808000\">adstock_max_lag</span>=<span style=\"color: #008080; text-decoration-color: #008080; font-weight: bold\">5</span>\n",
       "</pre>\n"
      ],
      "text/plain": [
       "\n",
       "\u001b[1;36mTrial \u001b[0m\u001b[1;36m2\u001b[0m\u001b[1;36m:\u001b[0m \u001b[33myearly_seasonality\u001b[0m=\u001b[1;36m2\u001b[0m, \u001b[33madstock_max_lag\u001b[0m=\u001b[1;36m5\u001b[0m\n"
      ]
     },
     "metadata": {},
     "output_type": "display_data"
    },
    {
     "name": "stderr",
     "output_type": "stream",
     "text": [
      "We recommend running at least 4 chains for robust computation of convergence diagnostics\n",
      "The rhat statistic is larger than 1.01 for some parameters. This indicates problems during sampling. See https://arxiv.org/abs/1903.08008 for details\n"
     ]
    },
    {
     "data": {
      "application/vnd.jupyter.widget-view+json": {
       "model_id": "53d8321a77d64456b56a39776b4887d6",
       "version_major": 2,
       "version_minor": 0
      },
      "text/plain": [
       "Output()"
      ]
     },
     "metadata": {},
     "output_type": "display_data"
    },
    {
     "data": {
      "text/html": [
       "<pre style=\"white-space:pre;overflow-x:auto;line-height:normal;font-family:Menlo,'DejaVu Sans Mono',consolas,'Courier New',monospace\"></pre>\n"
      ],
      "text/plain": []
     },
     "metadata": {},
     "output_type": "display_data"
    },
    {
     "data": {
      "text/html": [
       "<pre style=\"white-space:pre;overflow-x:auto;line-height:normal;font-family:Menlo,'DejaVu Sans Mono',consolas,'Courier New',monospace\"><span style=\"color: #008000; text-decoration-color: #008000\">✓ Trial </span><span style=\"color: #008000; text-decoration-color: #008000; font-weight: bold\">2</span><span style=\"color: #008000; text-decoration-color: #008000\"> CONVERGED:</span> <span style=\"color: #808000; text-decoration-color: #808000\">divergences</span>=<span style=\"color: #008080; text-decoration-color: #008080; font-weight: bold\">0.0</span>%, <span style=\"color: #808000; text-decoration-color: #808000\">max_rhat</span>=<span style=\"color: #008080; text-decoration-color: #008080; font-weight: bold\">1.025</span>, <span style=\"color: #808000; text-decoration-color: #808000\">min_ess</span>=<span style=\"color: #008080; text-decoration-color: #008080; font-weight: bold\">215</span>\n",
       "</pre>\n"
      ],
      "text/plain": [
       "\u001b[32m✓ Trial \u001b[0m\u001b[1;32m2\u001b[0m\u001b[32m CONVERGED:\u001b[0m \u001b[33mdivergences\u001b[0m=\u001b[1;36m0\u001b[0m\u001b[1;36m.0\u001b[0m%, \u001b[33mmax_rhat\u001b[0m=\u001b[1;36m1\u001b[0m\u001b[1;36m.025\u001b[0m, \u001b[33mmin_ess\u001b[0m=\u001b[1;36m215\u001b[0m\n"
      ]
     },
     "metadata": {},
     "output_type": "display_data"
    },
    {
     "name": "stderr",
     "output_type": "stream",
     "text": [
      "Sampling: [y]\n"
     ]
    },
    {
     "data": {
      "application/vnd.jupyter.widget-view+json": {
       "model_id": "ffdf6684f6cc45ee9382255006f5b52f",
       "version_major": 2,
       "version_minor": 0
      },
      "text/plain": [
       "Output()"
      ]
     },
     "metadata": {},
     "output_type": "display_data"
    },
    {
     "data": {
      "text/html": [
       "<pre style=\"white-space:pre;overflow-x:auto;line-height:normal;font-family:Menlo,'DejaVu Sans Mono',consolas,'Courier New',monospace\"></pre>\n"
      ],
      "text/plain": []
     },
     "metadata": {},
     "output_type": "display_data"
    },
    {
     "data": {
      "text/html": [
       "<pre style=\"white-space:pre;overflow-x:auto;line-height:normal;font-family:Menlo,'DejaVu Sans Mono',consolas,'Courier New',monospace\"><span style=\"color: #808000; text-decoration-color: #808000\">Test CRPS: </span><span style=\"color: #808000; text-decoration-color: #808000; font-weight: bold\">307.19</span>\n",
       "</pre>\n"
      ],
      "text/plain": [
       "\u001b[33mTest CRPS: \u001b[0m\u001b[1;33m307.19\u001b[0m\n"
      ]
     },
     "metadata": {},
     "output_type": "display_data"
    },
    {
     "name": "stdout",
     "output_type": "stream",
     "text": [
      "[I 2025-10-19 22:12:31,692] Trial 2 finished with value: 307.19145657442226 and parameters: {'yearly_seasonality': 2, 'adstock_max_lag': 5}. Best is trial 0 with value: 302.0187490319047.\n"
     ]
    },
    {
     "data": {
      "text/html": [
       "<pre style=\"white-space:pre;overflow-x:auto;line-height:normal;font-family:Menlo,'DejaVu Sans Mono',consolas,'Courier New',monospace\">\n",
       "<span style=\"color: #008080; text-decoration-color: #008080; font-weight: bold\">Trial </span><span style=\"color: #008080; text-decoration-color: #008080; font-weight: bold\">3</span><span style=\"color: #008080; text-decoration-color: #008080; font-weight: bold\">:</span> <span style=\"color: #808000; text-decoration-color: #808000\">yearly_seasonality</span>=<span style=\"color: #008080; text-decoration-color: #008080; font-weight: bold\">1</span>, <span style=\"color: #808000; text-decoration-color: #808000\">adstock_max_lag</span>=<span style=\"color: #008080; text-decoration-color: #008080; font-weight: bold\">11</span>\n",
       "</pre>\n"
      ],
      "text/plain": [
       "\n",
       "\u001b[1;36mTrial \u001b[0m\u001b[1;36m3\u001b[0m\u001b[1;36m:\u001b[0m \u001b[33myearly_seasonality\u001b[0m=\u001b[1;36m1\u001b[0m, \u001b[33madstock_max_lag\u001b[0m=\u001b[1;36m11\u001b[0m\n"
      ]
     },
     "metadata": {},
     "output_type": "display_data"
    },
    {
     "name": "stderr",
     "output_type": "stream",
     "text": [
      "We recommend running at least 4 chains for robust computation of convergence diagnostics\n"
     ]
    },
    {
     "data": {
      "application/vnd.jupyter.widget-view+json": {
       "model_id": "58c85c3789474c33a6dcc5ab1f9e21b8",
       "version_major": 2,
       "version_minor": 0
      },
      "text/plain": [
       "Output()"
      ]
     },
     "metadata": {},
     "output_type": "display_data"
    },
    {
     "data": {
      "text/html": [
       "<pre style=\"white-space:pre;overflow-x:auto;line-height:normal;font-family:Menlo,'DejaVu Sans Mono',consolas,'Courier New',monospace\"></pre>\n"
      ],
      "text/plain": []
     },
     "metadata": {},
     "output_type": "display_data"
    },
    {
     "data": {
      "text/html": [
       "<pre style=\"white-space:pre;overflow-x:auto;line-height:normal;font-family:Menlo,'DejaVu Sans Mono',consolas,'Courier New',monospace\"><span style=\"color: #008000; text-decoration-color: #008000\">✓ Trial </span><span style=\"color: #008000; text-decoration-color: #008000; font-weight: bold\">3</span><span style=\"color: #008000; text-decoration-color: #008000\"> CONVERGED:</span> <span style=\"color: #808000; text-decoration-color: #808000\">divergences</span>=<span style=\"color: #008080; text-decoration-color: #008080; font-weight: bold\">0.0</span>%, <span style=\"color: #808000; text-decoration-color: #808000\">max_rhat</span>=<span style=\"color: #008080; text-decoration-color: #008080; font-weight: bold\">1.008</span>, <span style=\"color: #808000; text-decoration-color: #808000\">min_ess</span>=<span style=\"color: #008080; text-decoration-color: #008080; font-weight: bold\">244</span>\n",
       "</pre>\n"
      ],
      "text/plain": [
       "\u001b[32m✓ Trial \u001b[0m\u001b[1;32m3\u001b[0m\u001b[32m CONVERGED:\u001b[0m \u001b[33mdivergences\u001b[0m=\u001b[1;36m0\u001b[0m\u001b[1;36m.0\u001b[0m%, \u001b[33mmax_rhat\u001b[0m=\u001b[1;36m1\u001b[0m\u001b[1;36m.008\u001b[0m, \u001b[33mmin_ess\u001b[0m=\u001b[1;36m244\u001b[0m\n"
      ]
     },
     "metadata": {},
     "output_type": "display_data"
    },
    {
     "name": "stderr",
     "output_type": "stream",
     "text": [
      "Sampling: [y]\n"
     ]
    },
    {
     "data": {
      "application/vnd.jupyter.widget-view+json": {
       "model_id": "29611c217ef94d44acb0c2f88b437505",
       "version_major": 2,
       "version_minor": 0
      },
      "text/plain": [
       "Output()"
      ]
     },
     "metadata": {},
     "output_type": "display_data"
    },
    {
     "data": {
      "text/html": [
       "<pre style=\"white-space:pre;overflow-x:auto;line-height:normal;font-family:Menlo,'DejaVu Sans Mono',consolas,'Courier New',monospace\"></pre>\n"
      ],
      "text/plain": []
     },
     "metadata": {},
     "output_type": "display_data"
    },
    {
     "data": {
      "text/html": [
       "<pre style=\"white-space:pre;overflow-x:auto;line-height:normal;font-family:Menlo,'DejaVu Sans Mono',consolas,'Courier New',monospace\"><span style=\"color: #808000; text-decoration-color: #808000\">Test CRPS: </span><span style=\"color: #808000; text-decoration-color: #808000; font-weight: bold\">307.42</span>\n",
       "</pre>\n"
      ],
      "text/plain": [
       "\u001b[33mTest CRPS: \u001b[0m\u001b[1;33m307.42\u001b[0m\n"
      ]
     },
     "metadata": {},
     "output_type": "display_data"
    },
    {
     "name": "stdout",
     "output_type": "stream",
     "text": [
      "[I 2025-10-19 22:12:44,659] Trial 3 finished with value: 307.42073931232034 and parameters: {'yearly_seasonality': 1, 'adstock_max_lag': 11}. Best is trial 0 with value: 302.0187490319047.\n"
     ]
    },
    {
     "data": {
      "text/html": [
       "<pre style=\"white-space:pre;overflow-x:auto;line-height:normal;font-family:Menlo,'DejaVu Sans Mono',consolas,'Courier New',monospace\">\n",
       "<span style=\"color: #008080; text-decoration-color: #008080; font-weight: bold\">Trial </span><span style=\"color: #008080; text-decoration-color: #008080; font-weight: bold\">4</span><span style=\"color: #008080; text-decoration-color: #008080; font-weight: bold\">:</span> <span style=\"color: #808000; text-decoration-color: #808000\">yearly_seasonality</span>=<span style=\"color: #008080; text-decoration-color: #008080; font-weight: bold\">7</span>, <span style=\"color: #808000; text-decoration-color: #808000\">adstock_max_lag</span>=<span style=\"color: #008080; text-decoration-color: #008080; font-weight: bold\">10</span>\n",
       "</pre>\n"
      ],
      "text/plain": [
       "\n",
       "\u001b[1;36mTrial \u001b[0m\u001b[1;36m4\u001b[0m\u001b[1;36m:\u001b[0m \u001b[33myearly_seasonality\u001b[0m=\u001b[1;36m7\u001b[0m, \u001b[33madstock_max_lag\u001b[0m=\u001b[1;36m10\u001b[0m\n"
      ]
     },
     "metadata": {},
     "output_type": "display_data"
    },
    {
     "name": "stderr",
     "output_type": "stream",
     "text": [
      "We recommend running at least 4 chains for robust computation of convergence diagnostics\n",
      "The rhat statistic is larger than 1.01 for some parameters. This indicates problems during sampling. See https://arxiv.org/abs/1903.08008 for details\n"
     ]
    },
    {
     "data": {
      "application/vnd.jupyter.widget-view+json": {
       "model_id": "c8446f5ac7bd464bb8d4217f86a99f44",
       "version_major": 2,
       "version_minor": 0
      },
      "text/plain": [
       "Output()"
      ]
     },
     "metadata": {},
     "output_type": "display_data"
    },
    {
     "data": {
      "text/html": [
       "<pre style=\"white-space:pre;overflow-x:auto;line-height:normal;font-family:Menlo,'DejaVu Sans Mono',consolas,'Courier New',monospace\"></pre>\n"
      ],
      "text/plain": []
     },
     "metadata": {},
     "output_type": "display_data"
    },
    {
     "data": {
      "text/html": [
       "<pre style=\"white-space:pre;overflow-x:auto;line-height:normal;font-family:Menlo,'DejaVu Sans Mono',consolas,'Courier New',monospace\"><span style=\"color: #008000; text-decoration-color: #008000\">✓ Trial </span><span style=\"color: #008000; text-decoration-color: #008000; font-weight: bold\">4</span><span style=\"color: #008000; text-decoration-color: #008000\"> CONVERGED:</span> <span style=\"color: #808000; text-decoration-color: #808000\">divergences</span>=<span style=\"color: #008080; text-decoration-color: #008080; font-weight: bold\">0.0</span>%, <span style=\"color: #808000; text-decoration-color: #808000\">max_rhat</span>=<span style=\"color: #008080; text-decoration-color: #008080; font-weight: bold\">1.015</span>, <span style=\"color: #808000; text-decoration-color: #808000\">min_ess</span>=<span style=\"color: #008080; text-decoration-color: #008080; font-weight: bold\">224</span>\n",
       "</pre>\n"
      ],
      "text/plain": [
       "\u001b[32m✓ Trial \u001b[0m\u001b[1;32m4\u001b[0m\u001b[32m CONVERGED:\u001b[0m \u001b[33mdivergences\u001b[0m=\u001b[1;36m0\u001b[0m\u001b[1;36m.0\u001b[0m%, \u001b[33mmax_rhat\u001b[0m=\u001b[1;36m1\u001b[0m\u001b[1;36m.015\u001b[0m, \u001b[33mmin_ess\u001b[0m=\u001b[1;36m224\u001b[0m\n"
      ]
     },
     "metadata": {},
     "output_type": "display_data"
    },
    {
     "name": "stderr",
     "output_type": "stream",
     "text": [
      "Sampling: [y]\n"
     ]
    },
    {
     "data": {
      "application/vnd.jupyter.widget-view+json": {
       "model_id": "3eb43f9dbe934818ac111ae4ed3310ba",
       "version_major": 2,
       "version_minor": 0
      },
      "text/plain": [
       "Output()"
      ]
     },
     "metadata": {},
     "output_type": "display_data"
    },
    {
     "data": {
      "text/html": [
       "<pre style=\"white-space:pre;overflow-x:auto;line-height:normal;font-family:Menlo,'DejaVu Sans Mono',consolas,'Courier New',monospace\"></pre>\n"
      ],
      "text/plain": []
     },
     "metadata": {},
     "output_type": "display_data"
    },
    {
     "data": {
      "text/html": [
       "<pre style=\"white-space:pre;overflow-x:auto;line-height:normal;font-family:Menlo,'DejaVu Sans Mono',consolas,'Courier New',monospace\"><span style=\"color: #808000; text-decoration-color: #808000\">Test CRPS: </span><span style=\"color: #808000; text-decoration-color: #808000; font-weight: bold\">312.57</span>\n",
       "</pre>\n"
      ],
      "text/plain": [
       "\u001b[33mTest CRPS: \u001b[0m\u001b[1;33m312.57\u001b[0m\n"
      ]
     },
     "metadata": {},
     "output_type": "display_data"
    },
    {
     "name": "stdout",
     "output_type": "stream",
     "text": [
      "[I 2025-10-19 22:13:02,891] Trial 4 finished with value: 312.56612368858083 and parameters: {'yearly_seasonality': 7, 'adstock_max_lag': 10}. Best is trial 0 with value: 302.0187490319047.\n"
     ]
    },
    {
     "data": {
      "text/html": [
       "<pre style=\"white-space:pre;overflow-x:auto;line-height:normal;font-family:Menlo,'DejaVu Sans Mono',consolas,'Courier New',monospace\">\n",
       "<span style=\"color: #008080; text-decoration-color: #008080; font-weight: bold\">Trial </span><span style=\"color: #008080; text-decoration-color: #008080; font-weight: bold\">5</span><span style=\"color: #008080; text-decoration-color: #008080; font-weight: bold\">:</span> <span style=\"color: #808000; text-decoration-color: #808000\">yearly_seasonality</span>=<span style=\"color: #008080; text-decoration-color: #008080; font-weight: bold\">1</span>, <span style=\"color: #808000; text-decoration-color: #808000\">adstock_max_lag</span>=<span style=\"color: #008080; text-decoration-color: #008080; font-weight: bold\">12</span>\n",
       "</pre>\n"
      ],
      "text/plain": [
       "\n",
       "\u001b[1;36mTrial \u001b[0m\u001b[1;36m5\u001b[0m\u001b[1;36m:\u001b[0m \u001b[33myearly_seasonality\u001b[0m=\u001b[1;36m1\u001b[0m, \u001b[33madstock_max_lag\u001b[0m=\u001b[1;36m12\u001b[0m\n"
      ]
     },
     "metadata": {},
     "output_type": "display_data"
    },
    {
     "name": "stderr",
     "output_type": "stream",
     "text": [
      "We recommend running at least 4 chains for robust computation of convergence diagnostics\n"
     ]
    },
    {
     "data": {
      "application/vnd.jupyter.widget-view+json": {
       "model_id": "02801f4c859c49288c22affad8672d2e",
       "version_major": 2,
       "version_minor": 0
      },
      "text/plain": [
       "Output()"
      ]
     },
     "metadata": {},
     "output_type": "display_data"
    },
    {
     "data": {
      "text/html": [
       "<pre style=\"white-space:pre;overflow-x:auto;line-height:normal;font-family:Menlo,'DejaVu Sans Mono',consolas,'Courier New',monospace\"></pre>\n"
      ],
      "text/plain": []
     },
     "metadata": {},
     "output_type": "display_data"
    },
    {
     "data": {
      "text/html": [
       "<pre style=\"white-space:pre;overflow-x:auto;line-height:normal;font-family:Menlo,'DejaVu Sans Mono',consolas,'Courier New',monospace\"><span style=\"color: #008000; text-decoration-color: #008000\">✓ Trial </span><span style=\"color: #008000; text-decoration-color: #008000; font-weight: bold\">5</span><span style=\"color: #008000; text-decoration-color: #008000\"> CONVERGED:</span> <span style=\"color: #808000; text-decoration-color: #808000\">divergences</span>=<span style=\"color: #008080; text-decoration-color: #008080; font-weight: bold\">0.0</span>%, <span style=\"color: #808000; text-decoration-color: #808000\">max_rhat</span>=<span style=\"color: #008080; text-decoration-color: #008080; font-weight: bold\">1.012</span>, <span style=\"color: #808000; text-decoration-color: #808000\">min_ess</span>=<span style=\"color: #008080; text-decoration-color: #008080; font-weight: bold\">293</span>\n",
       "</pre>\n"
      ],
      "text/plain": [
       "\u001b[32m✓ Trial \u001b[0m\u001b[1;32m5\u001b[0m\u001b[32m CONVERGED:\u001b[0m \u001b[33mdivergences\u001b[0m=\u001b[1;36m0\u001b[0m\u001b[1;36m.0\u001b[0m%, \u001b[33mmax_rhat\u001b[0m=\u001b[1;36m1\u001b[0m\u001b[1;36m.012\u001b[0m, \u001b[33mmin_ess\u001b[0m=\u001b[1;36m293\u001b[0m\n"
      ]
     },
     "metadata": {},
     "output_type": "display_data"
    },
    {
     "name": "stderr",
     "output_type": "stream",
     "text": [
      "Sampling: [y]\n"
     ]
    },
    {
     "data": {
      "application/vnd.jupyter.widget-view+json": {
       "model_id": "0e2bbf512d0f41dbb517584b3a153936",
       "version_major": 2,
       "version_minor": 0
      },
      "text/plain": [
       "Output()"
      ]
     },
     "metadata": {},
     "output_type": "display_data"
    },
    {
     "data": {
      "text/html": [
       "<pre style=\"white-space:pre;overflow-x:auto;line-height:normal;font-family:Menlo,'DejaVu Sans Mono',consolas,'Courier New',monospace\"></pre>\n"
      ],
      "text/plain": []
     },
     "metadata": {},
     "output_type": "display_data"
    },
    {
     "data": {
      "text/html": [
       "<pre style=\"white-space:pre;overflow-x:auto;line-height:normal;font-family:Menlo,'DejaVu Sans Mono',consolas,'Courier New',monospace\"><span style=\"color: #808000; text-decoration-color: #808000\">Test CRPS: </span><span style=\"color: #808000; text-decoration-color: #808000; font-weight: bold\">312.61</span>\n",
       "</pre>\n"
      ],
      "text/plain": [
       "\u001b[33mTest CRPS: \u001b[0m\u001b[1;33m312.61\u001b[0m\n"
      ]
     },
     "metadata": {},
     "output_type": "display_data"
    },
    {
     "name": "stdout",
     "output_type": "stream",
     "text": [
      "[I 2025-10-19 22:13:15,561] Trial 5 finished with value: 312.60564160075813 and parameters: {'yearly_seasonality': 1, 'adstock_max_lag': 12}. Best is trial 0 with value: 302.0187490319047.\n"
     ]
    },
    {
     "data": {
      "text/html": [
       "<pre style=\"white-space:pre;overflow-x:auto;line-height:normal;font-family:Menlo,'DejaVu Sans Mono',consolas,'Courier New',monospace\">\n",
       "<span style=\"color: #008080; text-decoration-color: #008080; font-weight: bold\">Trial </span><span style=\"color: #008080; text-decoration-color: #008080; font-weight: bold\">6</span><span style=\"color: #008080; text-decoration-color: #008080; font-weight: bold\">:</span> <span style=\"color: #808000; text-decoration-color: #808000\">yearly_seasonality</span>=<span style=\"color: #008080; text-decoration-color: #008080; font-weight: bold\">9</span>, <span style=\"color: #808000; text-decoration-color: #808000\">adstock_max_lag</span>=<span style=\"color: #008080; text-decoration-color: #008080; font-weight: bold\">5</span>\n",
       "</pre>\n"
      ],
      "text/plain": [
       "\n",
       "\u001b[1;36mTrial \u001b[0m\u001b[1;36m6\u001b[0m\u001b[1;36m:\u001b[0m \u001b[33myearly_seasonality\u001b[0m=\u001b[1;36m9\u001b[0m, \u001b[33madstock_max_lag\u001b[0m=\u001b[1;36m5\u001b[0m\n"
      ]
     },
     "metadata": {},
     "output_type": "display_data"
    },
    {
     "name": "stderr",
     "output_type": "stream",
     "text": [
      "We recommend running at least 4 chains for robust computation of convergence diagnostics\n",
      "The rhat statistic is larger than 1.01 for some parameters. This indicates problems during sampling. See https://arxiv.org/abs/1903.08008 for details\n"
     ]
    },
    {
     "data": {
      "application/vnd.jupyter.widget-view+json": {
       "model_id": "55ffabbaf49a4d99a7c3f70d05f473e7",
       "version_major": 2,
       "version_minor": 0
      },
      "text/plain": [
       "Output()"
      ]
     },
     "metadata": {},
     "output_type": "display_data"
    },
    {
     "data": {
      "text/html": [
       "<pre style=\"white-space:pre;overflow-x:auto;line-height:normal;font-family:Menlo,'DejaVu Sans Mono',consolas,'Courier New',monospace\"></pre>\n"
      ],
      "text/plain": []
     },
     "metadata": {},
     "output_type": "display_data"
    },
    {
     "data": {
      "text/html": [
       "<pre style=\"white-space:pre;overflow-x:auto;line-height:normal;font-family:Menlo,'DejaVu Sans Mono',consolas,'Courier New',monospace\"><span style=\"color: #008000; text-decoration-color: #008000\">✓ Trial </span><span style=\"color: #008000; text-decoration-color: #008000; font-weight: bold\">6</span><span style=\"color: #008000; text-decoration-color: #008000\"> CONVERGED:</span> <span style=\"color: #808000; text-decoration-color: #808000\">divergences</span>=<span style=\"color: #008080; text-decoration-color: #008080; font-weight: bold\">0.0</span>%, <span style=\"color: #808000; text-decoration-color: #808000\">max_rhat</span>=<span style=\"color: #008080; text-decoration-color: #008080; font-weight: bold\">1.012</span>, <span style=\"color: #808000; text-decoration-color: #808000\">min_ess</span>=<span style=\"color: #008080; text-decoration-color: #008080; font-weight: bold\">375</span>\n",
       "</pre>\n"
      ],
      "text/plain": [
       "\u001b[32m✓ Trial \u001b[0m\u001b[1;32m6\u001b[0m\u001b[32m CONVERGED:\u001b[0m \u001b[33mdivergences\u001b[0m=\u001b[1;36m0\u001b[0m\u001b[1;36m.0\u001b[0m%, \u001b[33mmax_rhat\u001b[0m=\u001b[1;36m1\u001b[0m\u001b[1;36m.012\u001b[0m, \u001b[33mmin_ess\u001b[0m=\u001b[1;36m375\u001b[0m\n"
      ]
     },
     "metadata": {},
     "output_type": "display_data"
    },
    {
     "name": "stderr",
     "output_type": "stream",
     "text": [
      "Sampling: [y]\n"
     ]
    },
    {
     "data": {
      "application/vnd.jupyter.widget-view+json": {
       "model_id": "dd9582b59b3146ff8042d245381e4333",
       "version_major": 2,
       "version_minor": 0
      },
      "text/plain": [
       "Output()"
      ]
     },
     "metadata": {},
     "output_type": "display_data"
    },
    {
     "data": {
      "text/html": [
       "<pre style=\"white-space:pre;overflow-x:auto;line-height:normal;font-family:Menlo,'DejaVu Sans Mono',consolas,'Courier New',monospace\"></pre>\n"
      ],
      "text/plain": []
     },
     "metadata": {},
     "output_type": "display_data"
    },
    {
     "data": {
      "text/html": [
       "<pre style=\"white-space:pre;overflow-x:auto;line-height:normal;font-family:Menlo,'DejaVu Sans Mono',consolas,'Courier New',monospace\"><span style=\"color: #808000; text-decoration-color: #808000\">Test CRPS: </span><span style=\"color: #808000; text-decoration-color: #808000; font-weight: bold\">350.53</span>\n",
       "</pre>\n"
      ],
      "text/plain": [
       "\u001b[33mTest CRPS: \u001b[0m\u001b[1;33m350.53\u001b[0m\n"
      ]
     },
     "metadata": {},
     "output_type": "display_data"
    },
    {
     "name": "stdout",
     "output_type": "stream",
     "text": [
      "[I 2025-10-19 22:13:33,525] Trial 6 finished with value: 350.53062597115076 and parameters: {'yearly_seasonality': 9, 'adstock_max_lag': 5}. Best is trial 0 with value: 302.0187490319047.\n"
     ]
    },
    {
     "data": {
      "text/html": [
       "<pre style=\"white-space:pre;overflow-x:auto;line-height:normal;font-family:Menlo,'DejaVu Sans Mono',consolas,'Courier New',monospace\">\n",
       "<span style=\"color: #008080; text-decoration-color: #008080; font-weight: bold\">Trial </span><span style=\"color: #008080; text-decoration-color: #008080; font-weight: bold\">7</span><span style=\"color: #008080; text-decoration-color: #008080; font-weight: bold\">:</span> <span style=\"color: #808000; text-decoration-color: #808000\">yearly_seasonality</span>=<span style=\"color: #008080; text-decoration-color: #008080; font-weight: bold\">2</span>, <span style=\"color: #808000; text-decoration-color: #808000\">adstock_max_lag</span>=<span style=\"color: #008080; text-decoration-color: #008080; font-weight: bold\">5</span>\n",
       "</pre>\n"
      ],
      "text/plain": [
       "\n",
       "\u001b[1;36mTrial \u001b[0m\u001b[1;36m7\u001b[0m\u001b[1;36m:\u001b[0m \u001b[33myearly_seasonality\u001b[0m=\u001b[1;36m2\u001b[0m, \u001b[33madstock_max_lag\u001b[0m=\u001b[1;36m5\u001b[0m\n"
      ]
     },
     "metadata": {},
     "output_type": "display_data"
    },
    {
     "name": "stderr",
     "output_type": "stream",
     "text": [
      "We recommend running at least 4 chains for robust computation of convergence diagnostics\n",
      "The rhat statistic is larger than 1.01 for some parameters. This indicates problems during sampling. See https://arxiv.org/abs/1903.08008 for details\n"
     ]
    },
    {
     "data": {
      "application/vnd.jupyter.widget-view+json": {
       "model_id": "6b4d4d8f5db543138e03d4de4f3c62ee",
       "version_major": 2,
       "version_minor": 0
      },
      "text/plain": [
       "Output()"
      ]
     },
     "metadata": {},
     "output_type": "display_data"
    },
    {
     "data": {
      "text/html": [
       "<pre style=\"white-space:pre;overflow-x:auto;line-height:normal;font-family:Menlo,'DejaVu Sans Mono',consolas,'Courier New',monospace\"></pre>\n"
      ],
      "text/plain": []
     },
     "metadata": {},
     "output_type": "display_data"
    },
    {
     "data": {
      "text/html": [
       "<pre style=\"white-space:pre;overflow-x:auto;line-height:normal;font-family:Menlo,'DejaVu Sans Mono',consolas,'Courier New',monospace\"><span style=\"color: #008000; text-decoration-color: #008000\">✓ Trial </span><span style=\"color: #008000; text-decoration-color: #008000; font-weight: bold\">7</span><span style=\"color: #008000; text-decoration-color: #008000\"> CONVERGED:</span> <span style=\"color: #808000; text-decoration-color: #808000\">divergences</span>=<span style=\"color: #008080; text-decoration-color: #008080; font-weight: bold\">0.0</span>%, <span style=\"color: #808000; text-decoration-color: #808000\">max_rhat</span>=<span style=\"color: #008080; text-decoration-color: #008080; font-weight: bold\">1.013</span>, <span style=\"color: #808000; text-decoration-color: #808000\">min_ess</span>=<span style=\"color: #008080; text-decoration-color: #008080; font-weight: bold\">285</span>\n",
       "</pre>\n"
      ],
      "text/plain": [
       "\u001b[32m✓ Trial \u001b[0m\u001b[1;32m7\u001b[0m\u001b[32m CONVERGED:\u001b[0m \u001b[33mdivergences\u001b[0m=\u001b[1;36m0\u001b[0m\u001b[1;36m.0\u001b[0m%, \u001b[33mmax_rhat\u001b[0m=\u001b[1;36m1\u001b[0m\u001b[1;36m.013\u001b[0m, \u001b[33mmin_ess\u001b[0m=\u001b[1;36m285\u001b[0m\n"
      ]
     },
     "metadata": {},
     "output_type": "display_data"
    },
    {
     "name": "stderr",
     "output_type": "stream",
     "text": [
      "Sampling: [y]\n"
     ]
    },
    {
     "data": {
      "application/vnd.jupyter.widget-view+json": {
       "model_id": "91f5ac723cb94f5d847bd87554526bce",
       "version_major": 2,
       "version_minor": 0
      },
      "text/plain": [
       "Output()"
      ]
     },
     "metadata": {},
     "output_type": "display_data"
    },
    {
     "data": {
      "text/html": [
       "<pre style=\"white-space:pre;overflow-x:auto;line-height:normal;font-family:Menlo,'DejaVu Sans Mono',consolas,'Courier New',monospace\"></pre>\n"
      ],
      "text/plain": []
     },
     "metadata": {},
     "output_type": "display_data"
    },
    {
     "data": {
      "text/html": [
       "<pre style=\"white-space:pre;overflow-x:auto;line-height:normal;font-family:Menlo,'DejaVu Sans Mono',consolas,'Courier New',monospace\"><span style=\"color: #808000; text-decoration-color: #808000\">Test CRPS: </span><span style=\"color: #808000; text-decoration-color: #808000; font-weight: bold\">306.88</span>\n",
       "</pre>\n"
      ],
      "text/plain": [
       "\u001b[33mTest CRPS: \u001b[0m\u001b[1;33m306.88\u001b[0m\n"
      ]
     },
     "metadata": {},
     "output_type": "display_data"
    },
    {
     "name": "stdout",
     "output_type": "stream",
     "text": [
      "[I 2025-10-19 22:13:45,988] Trial 7 finished with value: 306.87572155405974 and parameters: {'yearly_seasonality': 2, 'adstock_max_lag': 5}. Best is trial 0 with value: 302.0187490319047.\n"
     ]
    },
    {
     "data": {
      "text/html": [
       "<pre style=\"white-space:pre;overflow-x:auto;line-height:normal;font-family:Menlo,'DejaVu Sans Mono',consolas,'Courier New',monospace\">\n",
       "<span style=\"color: #008080; text-decoration-color: #008080; font-weight: bold\">Trial </span><span style=\"color: #008080; text-decoration-color: #008080; font-weight: bold\">8</span><span style=\"color: #008080; text-decoration-color: #008080; font-weight: bold\">:</span> <span style=\"color: #808000; text-decoration-color: #808000\">yearly_seasonality</span>=<span style=\"color: #008080; text-decoration-color: #008080; font-weight: bold\">4</span>, <span style=\"color: #808000; text-decoration-color: #808000\">adstock_max_lag</span>=<span style=\"color: #008080; text-decoration-color: #008080; font-weight: bold\">8</span>\n",
       "</pre>\n"
      ],
      "text/plain": [
       "\n",
       "\u001b[1;36mTrial \u001b[0m\u001b[1;36m8\u001b[0m\u001b[1;36m:\u001b[0m \u001b[33myearly_seasonality\u001b[0m=\u001b[1;36m4\u001b[0m, \u001b[33madstock_max_lag\u001b[0m=\u001b[1;36m8\u001b[0m\n"
      ]
     },
     "metadata": {},
     "output_type": "display_data"
    },
    {
     "name": "stderr",
     "output_type": "stream",
     "text": [
      "We recommend running at least 4 chains for robust computation of convergence diagnostics\n"
     ]
    },
    {
     "data": {
      "application/vnd.jupyter.widget-view+json": {
       "model_id": "82dc245c034b4a49933583a7c7a8f875",
       "version_major": 2,
       "version_minor": 0
      },
      "text/plain": [
       "Output()"
      ]
     },
     "metadata": {},
     "output_type": "display_data"
    },
    {
     "data": {
      "text/html": [
       "<pre style=\"white-space:pre;overflow-x:auto;line-height:normal;font-family:Menlo,'DejaVu Sans Mono',consolas,'Courier New',monospace\"></pre>\n"
      ],
      "text/plain": []
     },
     "metadata": {},
     "output_type": "display_data"
    },
    {
     "data": {
      "text/html": [
       "<pre style=\"white-space:pre;overflow-x:auto;line-height:normal;font-family:Menlo,'DejaVu Sans Mono',consolas,'Courier New',monospace\"><span style=\"color: #008000; text-decoration-color: #008000\">✓ Trial </span><span style=\"color: #008000; text-decoration-color: #008000; font-weight: bold\">8</span><span style=\"color: #008000; text-decoration-color: #008000\"> CONVERGED:</span> <span style=\"color: #808000; text-decoration-color: #808000\">divergences</span>=<span style=\"color: #008080; text-decoration-color: #008080; font-weight: bold\">0.0</span>%, <span style=\"color: #808000; text-decoration-color: #808000\">max_rhat</span>=<span style=\"color: #008080; text-decoration-color: #008080; font-weight: bold\">1.009</span>, <span style=\"color: #808000; text-decoration-color: #808000\">min_ess</span>=<span style=\"color: #008080; text-decoration-color: #008080; font-weight: bold\">300</span>\n",
       "</pre>\n"
      ],
      "text/plain": [
       "\u001b[32m✓ Trial \u001b[0m\u001b[1;32m8\u001b[0m\u001b[32m CONVERGED:\u001b[0m \u001b[33mdivergences\u001b[0m=\u001b[1;36m0\u001b[0m\u001b[1;36m.0\u001b[0m%, \u001b[33mmax_rhat\u001b[0m=\u001b[1;36m1\u001b[0m\u001b[1;36m.009\u001b[0m, \u001b[33mmin_ess\u001b[0m=\u001b[1;36m300\u001b[0m\n"
      ]
     },
     "metadata": {},
     "output_type": "display_data"
    },
    {
     "name": "stderr",
     "output_type": "stream",
     "text": [
      "Sampling: [y]\n"
     ]
    },
    {
     "data": {
      "application/vnd.jupyter.widget-view+json": {
       "model_id": "10207fb5e6d24568bb56d26266a5a9be",
       "version_major": 2,
       "version_minor": 0
      },
      "text/plain": [
       "Output()"
      ]
     },
     "metadata": {},
     "output_type": "display_data"
    },
    {
     "data": {
      "text/html": [
       "<pre style=\"white-space:pre;overflow-x:auto;line-height:normal;font-family:Menlo,'DejaVu Sans Mono',consolas,'Courier New',monospace\"></pre>\n"
      ],
      "text/plain": []
     },
     "metadata": {},
     "output_type": "display_data"
    },
    {
     "data": {
      "text/html": [
       "<pre style=\"white-space:pre;overflow-x:auto;line-height:normal;font-family:Menlo,'DejaVu Sans Mono',consolas,'Courier New',monospace\"><span style=\"color: #808000; text-decoration-color: #808000\">Test CRPS: </span><span style=\"color: #808000; text-decoration-color: #808000; font-weight: bold\">306.39</span>\n",
       "</pre>\n"
      ],
      "text/plain": [
       "\u001b[33mTest CRPS: \u001b[0m\u001b[1;33m306.39\u001b[0m\n"
      ]
     },
     "metadata": {},
     "output_type": "display_data"
    },
    {
     "name": "stdout",
     "output_type": "stream",
     "text": [
      "[I 2025-10-19 22:13:58,828] Trial 8 finished with value: 306.3895098110311 and parameters: {'yearly_seasonality': 4, 'adstock_max_lag': 8}. Best is trial 0 with value: 302.0187490319047.\n"
     ]
    },
    {
     "data": {
      "text/html": [
       "<pre style=\"white-space:pre;overflow-x:auto;line-height:normal;font-family:Menlo,'DejaVu Sans Mono',consolas,'Courier New',monospace\">\n",
       "<span style=\"color: #008080; text-decoration-color: #008080; font-weight: bold\">Trial </span><span style=\"color: #008080; text-decoration-color: #008080; font-weight: bold\">9</span><span style=\"color: #008080; text-decoration-color: #008080; font-weight: bold\">:</span> <span style=\"color: #808000; text-decoration-color: #808000\">yearly_seasonality</span>=<span style=\"color: #008080; text-decoration-color: #008080; font-weight: bold\">5</span>, <span style=\"color: #808000; text-decoration-color: #808000\">adstock_max_lag</span>=<span style=\"color: #008080; text-decoration-color: #008080; font-weight: bold\">6</span>\n",
       "</pre>\n"
      ],
      "text/plain": [
       "\n",
       "\u001b[1;36mTrial \u001b[0m\u001b[1;36m9\u001b[0m\u001b[1;36m:\u001b[0m \u001b[33myearly_seasonality\u001b[0m=\u001b[1;36m5\u001b[0m, \u001b[33madstock_max_lag\u001b[0m=\u001b[1;36m6\u001b[0m\n"
      ]
     },
     "metadata": {},
     "output_type": "display_data"
    },
    {
     "name": "stderr",
     "output_type": "stream",
     "text": [
      "We recommend running at least 4 chains for robust computation of convergence diagnostics\n"
     ]
    },
    {
     "data": {
      "application/vnd.jupyter.widget-view+json": {
       "model_id": "42f134d41e504a309b379e3476b61646",
       "version_major": 2,
       "version_minor": 0
      },
      "text/plain": [
       "Output()"
      ]
     },
     "metadata": {},
     "output_type": "display_data"
    },
    {
     "data": {
      "text/html": [
       "<pre style=\"white-space:pre;overflow-x:auto;line-height:normal;font-family:Menlo,'DejaVu Sans Mono',consolas,'Courier New',monospace\"></pre>\n"
      ],
      "text/plain": []
     },
     "metadata": {},
     "output_type": "display_data"
    },
    {
     "data": {
      "text/html": [
       "<pre style=\"white-space:pre;overflow-x:auto;line-height:normal;font-family:Menlo,'DejaVu Sans Mono',consolas,'Courier New',monospace\"><span style=\"color: #008000; text-decoration-color: #008000\">✓ Trial </span><span style=\"color: #008000; text-decoration-color: #008000; font-weight: bold\">9</span><span style=\"color: #008000; text-decoration-color: #008000\"> CONVERGED:</span> <span style=\"color: #808000; text-decoration-color: #808000\">divergences</span>=<span style=\"color: #008080; text-decoration-color: #008080; font-weight: bold\">0.0</span>%, <span style=\"color: #808000; text-decoration-color: #808000\">max_rhat</span>=<span style=\"color: #008080; text-decoration-color: #008080; font-weight: bold\">1.010</span>, <span style=\"color: #808000; text-decoration-color: #808000\">min_ess</span>=<span style=\"color: #008080; text-decoration-color: #008080; font-weight: bold\">228</span>\n",
       "</pre>\n"
      ],
      "text/plain": [
       "\u001b[32m✓ Trial \u001b[0m\u001b[1;32m9\u001b[0m\u001b[32m CONVERGED:\u001b[0m \u001b[33mdivergences\u001b[0m=\u001b[1;36m0\u001b[0m\u001b[1;36m.0\u001b[0m%, \u001b[33mmax_rhat\u001b[0m=\u001b[1;36m1\u001b[0m\u001b[1;36m.010\u001b[0m, \u001b[33mmin_ess\u001b[0m=\u001b[1;36m228\u001b[0m\n"
      ]
     },
     "metadata": {},
     "output_type": "display_data"
    },
    {
     "name": "stderr",
     "output_type": "stream",
     "text": [
      "Sampling: [y]\n"
     ]
    },
    {
     "data": {
      "application/vnd.jupyter.widget-view+json": {
       "model_id": "b052b9af103649a4ba2d9e4a861518c0",
       "version_major": 2,
       "version_minor": 0
      },
      "text/plain": [
       "Output()"
      ]
     },
     "metadata": {},
     "output_type": "display_data"
    },
    {
     "data": {
      "text/html": [
       "<pre style=\"white-space:pre;overflow-x:auto;line-height:normal;font-family:Menlo,'DejaVu Sans Mono',consolas,'Courier New',monospace\"></pre>\n"
      ],
      "text/plain": []
     },
     "metadata": {},
     "output_type": "display_data"
    },
    {
     "data": {
      "text/html": [
       "<pre style=\"white-space:pre;overflow-x:auto;line-height:normal;font-family:Menlo,'DejaVu Sans Mono',consolas,'Courier New',monospace\"><span style=\"color: #808000; text-decoration-color: #808000\">Test CRPS: </span><span style=\"color: #808000; text-decoration-color: #808000; font-weight: bold\">324.57</span>\n",
       "</pre>\n"
      ],
      "text/plain": [
       "\u001b[33mTest CRPS: \u001b[0m\u001b[1;33m324.57\u001b[0m\n"
      ]
     },
     "metadata": {},
     "output_type": "display_data"
    },
    {
     "name": "stdout",
     "output_type": "stream",
     "text": [
      "[I 2025-10-19 22:14:13,124] Trial 9 finished with value: 324.56684863873335 and parameters: {'yearly_seasonality': 5, 'adstock_max_lag': 6}. Best is trial 0 with value: 302.0187490319047.\n"
     ]
    },
    {
     "data": {
      "text/html": [
       "<pre style=\"white-space:pre;overflow-x:auto;line-height:normal;font-family:Menlo,'DejaVu Sans Mono',consolas,'Courier New',monospace\">\n",
       "<span style=\"color: #008080; text-decoration-color: #008080; font-weight: bold\">Trial </span><span style=\"color: #008080; text-decoration-color: #008080; font-weight: bold\">10</span><span style=\"color: #008080; text-decoration-color: #008080; font-weight: bold\">:</span> <span style=\"color: #808000; text-decoration-color: #808000\">yearly_seasonality</span>=<span style=\"color: #008080; text-decoration-color: #008080; font-weight: bold\">4</span>, <span style=\"color: #808000; text-decoration-color: #808000\">adstock_max_lag</span>=<span style=\"color: #008080; text-decoration-color: #008080; font-weight: bold\">8</span>\n",
       "</pre>\n"
      ],
      "text/plain": [
       "\n",
       "\u001b[1;36mTrial \u001b[0m\u001b[1;36m10\u001b[0m\u001b[1;36m:\u001b[0m \u001b[33myearly_seasonality\u001b[0m=\u001b[1;36m4\u001b[0m, \u001b[33madstock_max_lag\u001b[0m=\u001b[1;36m8\u001b[0m\n"
      ]
     },
     "metadata": {},
     "output_type": "display_data"
    },
    {
     "name": "stderr",
     "output_type": "stream",
     "text": [
      "We recommend running at least 4 chains for robust computation of convergence diagnostics\n",
      "The rhat statistic is larger than 1.01 for some parameters. This indicates problems during sampling. See https://arxiv.org/abs/1903.08008 for details\n"
     ]
    },
    {
     "data": {
      "application/vnd.jupyter.widget-view+json": {
       "model_id": "49d831ca727241c28f9fe81e0aca20f8",
       "version_major": 2,
       "version_minor": 0
      },
      "text/plain": [
       "Output()"
      ]
     },
     "metadata": {},
     "output_type": "display_data"
    },
    {
     "data": {
      "text/html": [
       "<pre style=\"white-space:pre;overflow-x:auto;line-height:normal;font-family:Menlo,'DejaVu Sans Mono',consolas,'Courier New',monospace\"></pre>\n"
      ],
      "text/plain": []
     },
     "metadata": {},
     "output_type": "display_data"
    },
    {
     "data": {
      "text/html": [
       "<pre style=\"white-space:pre;overflow-x:auto;line-height:normal;font-family:Menlo,'DejaVu Sans Mono',consolas,'Courier New',monospace\"><span style=\"color: #008000; text-decoration-color: #008000\">✓ Trial </span><span style=\"color: #008000; text-decoration-color: #008000; font-weight: bold\">10</span><span style=\"color: #008000; text-decoration-color: #008000\"> CONVERGED:</span> <span style=\"color: #808000; text-decoration-color: #808000\">divergences</span>=<span style=\"color: #008080; text-decoration-color: #008080; font-weight: bold\">0.0</span>%, <span style=\"color: #808000; text-decoration-color: #808000\">max_rhat</span>=<span style=\"color: #008080; text-decoration-color: #008080; font-weight: bold\">1.014</span>, <span style=\"color: #808000; text-decoration-color: #808000\">min_ess</span>=<span style=\"color: #008080; text-decoration-color: #008080; font-weight: bold\">305</span>\n",
       "</pre>\n"
      ],
      "text/plain": [
       "\u001b[32m✓ Trial \u001b[0m\u001b[1;32m10\u001b[0m\u001b[32m CONVERGED:\u001b[0m \u001b[33mdivergences\u001b[0m=\u001b[1;36m0\u001b[0m\u001b[1;36m.0\u001b[0m%, \u001b[33mmax_rhat\u001b[0m=\u001b[1;36m1\u001b[0m\u001b[1;36m.014\u001b[0m, \u001b[33mmin_ess\u001b[0m=\u001b[1;36m305\u001b[0m\n"
      ]
     },
     "metadata": {},
     "output_type": "display_data"
    },
    {
     "name": "stderr",
     "output_type": "stream",
     "text": [
      "Sampling: [y]\n"
     ]
    },
    {
     "data": {
      "application/vnd.jupyter.widget-view+json": {
       "model_id": "b0709cfd05e3444fa23523088612451b",
       "version_major": 2,
       "version_minor": 0
      },
      "text/plain": [
       "Output()"
      ]
     },
     "metadata": {},
     "output_type": "display_data"
    },
    {
     "data": {
      "text/html": [
       "<pre style=\"white-space:pre;overflow-x:auto;line-height:normal;font-family:Menlo,'DejaVu Sans Mono',consolas,'Courier New',monospace\"></pre>\n"
      ],
      "text/plain": []
     },
     "metadata": {},
     "output_type": "display_data"
    },
    {
     "data": {
      "text/html": [
       "<pre style=\"white-space:pre;overflow-x:auto;line-height:normal;font-family:Menlo,'DejaVu Sans Mono',consolas,'Courier New',monospace\"><span style=\"color: #808000; text-decoration-color: #808000\">Test CRPS: </span><span style=\"color: #808000; text-decoration-color: #808000; font-weight: bold\">308.12</span>\n",
       "</pre>\n"
      ],
      "text/plain": [
       "\u001b[33mTest CRPS: \u001b[0m\u001b[1;33m308.12\u001b[0m\n"
      ]
     },
     "metadata": {},
     "output_type": "display_data"
    },
    {
     "name": "stdout",
     "output_type": "stream",
     "text": [
      "[I 2025-10-19 22:14:24,240] Trial 10 finished with value: 308.116561154193 and parameters: {'yearly_seasonality': 4, 'adstock_max_lag': 8}. Best is trial 0 with value: 302.0187490319047.\n"
     ]
    },
    {
     "data": {
      "text/html": [
       "<pre style=\"white-space:pre;overflow-x:auto;line-height:normal;font-family:Menlo,'DejaVu Sans Mono',consolas,'Courier New',monospace\">\n",
       "<span style=\"color: #008080; text-decoration-color: #008080; font-weight: bold\">Trial </span><span style=\"color: #008080; text-decoration-color: #008080; font-weight: bold\">11</span><span style=\"color: #008080; text-decoration-color: #008080; font-weight: bold\">:</span> <span style=\"color: #808000; text-decoration-color: #808000\">yearly_seasonality</span>=<span style=\"color: #008080; text-decoration-color: #008080; font-weight: bold\">4</span>, <span style=\"color: #808000; text-decoration-color: #808000\">adstock_max_lag</span>=<span style=\"color: #008080; text-decoration-color: #008080; font-weight: bold\">8</span>\n",
       "</pre>\n"
      ],
      "text/plain": [
       "\n",
       "\u001b[1;36mTrial \u001b[0m\u001b[1;36m11\u001b[0m\u001b[1;36m:\u001b[0m \u001b[33myearly_seasonality\u001b[0m=\u001b[1;36m4\u001b[0m, \u001b[33madstock_max_lag\u001b[0m=\u001b[1;36m8\u001b[0m\n"
      ]
     },
     "metadata": {},
     "output_type": "display_data"
    },
    {
     "name": "stderr",
     "output_type": "stream",
     "text": [
      "We recommend running at least 4 chains for robust computation of convergence diagnostics\n",
      "The rhat statistic is larger than 1.01 for some parameters. This indicates problems during sampling. See https://arxiv.org/abs/1903.08008 for details\n"
     ]
    },
    {
     "data": {
      "application/vnd.jupyter.widget-view+json": {
       "model_id": "d644321d6e6e4a2eb3c604cd6814a0bd",
       "version_major": 2,
       "version_minor": 0
      },
      "text/plain": [
       "Output()"
      ]
     },
     "metadata": {},
     "output_type": "display_data"
    },
    {
     "data": {
      "text/html": [
       "<pre style=\"white-space:pre;overflow-x:auto;line-height:normal;font-family:Menlo,'DejaVu Sans Mono',consolas,'Courier New',monospace\"></pre>\n"
      ],
      "text/plain": []
     },
     "metadata": {},
     "output_type": "display_data"
    },
    {
     "data": {
      "text/html": [
       "<pre style=\"white-space:pre;overflow-x:auto;line-height:normal;font-family:Menlo,'DejaVu Sans Mono',consolas,'Courier New',monospace\"><span style=\"color: #008000; text-decoration-color: #008000\">✓ Trial </span><span style=\"color: #008000; text-decoration-color: #008000; font-weight: bold\">11</span><span style=\"color: #008000; text-decoration-color: #008000\"> CONVERGED:</span> <span style=\"color: #808000; text-decoration-color: #808000\">divergences</span>=<span style=\"color: #008080; text-decoration-color: #008080; font-weight: bold\">0.0</span>%, <span style=\"color: #808000; text-decoration-color: #808000\">max_rhat</span>=<span style=\"color: #008080; text-decoration-color: #008080; font-weight: bold\">1.033</span>, <span style=\"color: #808000; text-decoration-color: #808000\">min_ess</span>=<span style=\"color: #008080; text-decoration-color: #008080; font-weight: bold\">276</span>\n",
       "</pre>\n"
      ],
      "text/plain": [
       "\u001b[32m✓ Trial \u001b[0m\u001b[1;32m11\u001b[0m\u001b[32m CONVERGED:\u001b[0m \u001b[33mdivergences\u001b[0m=\u001b[1;36m0\u001b[0m\u001b[1;36m.0\u001b[0m%, \u001b[33mmax_rhat\u001b[0m=\u001b[1;36m1\u001b[0m\u001b[1;36m.033\u001b[0m, \u001b[33mmin_ess\u001b[0m=\u001b[1;36m276\u001b[0m\n"
      ]
     },
     "metadata": {},
     "output_type": "display_data"
    },
    {
     "name": "stderr",
     "output_type": "stream",
     "text": [
      "Sampling: [y]\n"
     ]
    },
    {
     "data": {
      "application/vnd.jupyter.widget-view+json": {
       "model_id": "2650d39b727e450daab8c31c2622621a",
       "version_major": 2,
       "version_minor": 0
      },
      "text/plain": [
       "Output()"
      ]
     },
     "metadata": {},
     "output_type": "display_data"
    },
    {
     "data": {
      "text/html": [
       "<pre style=\"white-space:pre;overflow-x:auto;line-height:normal;font-family:Menlo,'DejaVu Sans Mono',consolas,'Courier New',monospace\"></pre>\n"
      ],
      "text/plain": []
     },
     "metadata": {},
     "output_type": "display_data"
    },
    {
     "data": {
      "text/html": [
       "<pre style=\"white-space:pre;overflow-x:auto;line-height:normal;font-family:Menlo,'DejaVu Sans Mono',consolas,'Courier New',monospace\"><span style=\"color: #808000; text-decoration-color: #808000\">Test CRPS: </span><span style=\"color: #808000; text-decoration-color: #808000; font-weight: bold\">304.68</span>\n",
       "</pre>\n"
      ],
      "text/plain": [
       "\u001b[33mTest CRPS: \u001b[0m\u001b[1;33m304.68\u001b[0m\n"
      ]
     },
     "metadata": {},
     "output_type": "display_data"
    },
    {
     "name": "stdout",
     "output_type": "stream",
     "text": [
      "[I 2025-10-19 22:14:37,147] Trial 11 finished with value: 304.684734924399 and parameters: {'yearly_seasonality': 4, 'adstock_max_lag': 8}. Best is trial 0 with value: 302.0187490319047.\n"
     ]
    },
    {
     "data": {
      "text/html": [
       "<pre style=\"white-space:pre;overflow-x:auto;line-height:normal;font-family:Menlo,'DejaVu Sans Mono',consolas,'Courier New',monospace\">\n",
       "<span style=\"color: #008080; text-decoration-color: #008080; font-weight: bold\">Trial </span><span style=\"color: #008080; text-decoration-color: #008080; font-weight: bold\">12</span><span style=\"color: #008080; text-decoration-color: #008080; font-weight: bold\">:</span> <span style=\"color: #808000; text-decoration-color: #808000\">yearly_seasonality</span>=<span style=\"color: #008080; text-decoration-color: #008080; font-weight: bold\">6</span>, <span style=\"color: #808000; text-decoration-color: #808000\">adstock_max_lag</span>=<span style=\"color: #008080; text-decoration-color: #008080; font-weight: bold\">7</span>\n",
       "</pre>\n"
      ],
      "text/plain": [
       "\n",
       "\u001b[1;36mTrial \u001b[0m\u001b[1;36m12\u001b[0m\u001b[1;36m:\u001b[0m \u001b[33myearly_seasonality\u001b[0m=\u001b[1;36m6\u001b[0m, \u001b[33madstock_max_lag\u001b[0m=\u001b[1;36m7\u001b[0m\n"
      ]
     },
     "metadata": {},
     "output_type": "display_data"
    },
    {
     "name": "stderr",
     "output_type": "stream",
     "text": [
      "We recommend running at least 4 chains for robust computation of convergence diagnostics\n",
      "The rhat statistic is larger than 1.01 for some parameters. This indicates problems during sampling. See https://arxiv.org/abs/1903.08008 for details\n"
     ]
    },
    {
     "data": {
      "application/vnd.jupyter.widget-view+json": {
       "model_id": "7745a06631554367bb9fd65d599045be",
       "version_major": 2,
       "version_minor": 0
      },
      "text/plain": [
       "Output()"
      ]
     },
     "metadata": {},
     "output_type": "display_data"
    },
    {
     "data": {
      "text/html": [
       "<pre style=\"white-space:pre;overflow-x:auto;line-height:normal;font-family:Menlo,'DejaVu Sans Mono',consolas,'Courier New',monospace\"></pre>\n"
      ],
      "text/plain": []
     },
     "metadata": {},
     "output_type": "display_data"
    },
    {
     "data": {
      "text/html": [
       "<pre style=\"white-space:pre;overflow-x:auto;line-height:normal;font-family:Menlo,'DejaVu Sans Mono',consolas,'Courier New',monospace\"><span style=\"color: #008000; text-decoration-color: #008000\">✓ Trial </span><span style=\"color: #008000; text-decoration-color: #008000; font-weight: bold\">12</span><span style=\"color: #008000; text-decoration-color: #008000\"> CONVERGED:</span> <span style=\"color: #808000; text-decoration-color: #808000\">divergences</span>=<span style=\"color: #008080; text-decoration-color: #008080; font-weight: bold\">0.0</span>%, <span style=\"color: #808000; text-decoration-color: #808000\">max_rhat</span>=<span style=\"color: #008080; text-decoration-color: #008080; font-weight: bold\">1.022</span>, <span style=\"color: #808000; text-decoration-color: #808000\">min_ess</span>=<span style=\"color: #008080; text-decoration-color: #008080; font-weight: bold\">201</span>\n",
       "</pre>\n"
      ],
      "text/plain": [
       "\u001b[32m✓ Trial \u001b[0m\u001b[1;32m12\u001b[0m\u001b[32m CONVERGED:\u001b[0m \u001b[33mdivergences\u001b[0m=\u001b[1;36m0\u001b[0m\u001b[1;36m.0\u001b[0m%, \u001b[33mmax_rhat\u001b[0m=\u001b[1;36m1\u001b[0m\u001b[1;36m.022\u001b[0m, \u001b[33mmin_ess\u001b[0m=\u001b[1;36m201\u001b[0m\n"
      ]
     },
     "metadata": {},
     "output_type": "display_data"
    },
    {
     "name": "stderr",
     "output_type": "stream",
     "text": [
      "Sampling: [y]\n"
     ]
    },
    {
     "data": {
      "application/vnd.jupyter.widget-view+json": {
       "model_id": "ce1d72082a424cbb99f8f2a800153eea",
       "version_major": 2,
       "version_minor": 0
      },
      "text/plain": [
       "Output()"
      ]
     },
     "metadata": {},
     "output_type": "display_data"
    },
    {
     "data": {
      "text/html": [
       "<pre style=\"white-space:pre;overflow-x:auto;line-height:normal;font-family:Menlo,'DejaVu Sans Mono',consolas,'Courier New',monospace\"></pre>\n"
      ],
      "text/plain": []
     },
     "metadata": {},
     "output_type": "display_data"
    },
    {
     "data": {
      "text/html": [
       "<pre style=\"white-space:pre;overflow-x:auto;line-height:normal;font-family:Menlo,'DejaVu Sans Mono',consolas,'Courier New',monospace\"><span style=\"color: #808000; text-decoration-color: #808000\">Test CRPS: </span><span style=\"color: #808000; text-decoration-color: #808000; font-weight: bold\">312.71</span>\n",
       "</pre>\n"
      ],
      "text/plain": [
       "\u001b[33mTest CRPS: \u001b[0m\u001b[1;33m312.71\u001b[0m\n"
      ]
     },
     "metadata": {},
     "output_type": "display_data"
    },
    {
     "name": "stdout",
     "output_type": "stream",
     "text": [
      "[I 2025-10-19 22:14:49,603] Trial 12 finished with value: 312.7114175970824 and parameters: {'yearly_seasonality': 6, 'adstock_max_lag': 7}. Best is trial 0 with value: 302.0187490319047.\n"
     ]
    },
    {
     "data": {
      "text/html": [
       "<pre style=\"white-space:pre;overflow-x:auto;line-height:normal;font-family:Menlo,'DejaVu Sans Mono',consolas,'Courier New',monospace\">\n",
       "<span style=\"color: #008080; text-decoration-color: #008080; font-weight: bold\">Trial </span><span style=\"color: #008080; text-decoration-color: #008080; font-weight: bold\">13</span><span style=\"color: #008080; text-decoration-color: #008080; font-weight: bold\">:</span> <span style=\"color: #808000; text-decoration-color: #808000\">yearly_seasonality</span>=<span style=\"color: #008080; text-decoration-color: #008080; font-weight: bold\">3</span>, <span style=\"color: #808000; text-decoration-color: #808000\">adstock_max_lag</span>=<span style=\"color: #008080; text-decoration-color: #008080; font-weight: bold\">10</span>\n",
       "</pre>\n"
      ],
      "text/plain": [
       "\n",
       "\u001b[1;36mTrial \u001b[0m\u001b[1;36m13\u001b[0m\u001b[1;36m:\u001b[0m \u001b[33myearly_seasonality\u001b[0m=\u001b[1;36m3\u001b[0m, \u001b[33madstock_max_lag\u001b[0m=\u001b[1;36m10\u001b[0m\n"
      ]
     },
     "metadata": {},
     "output_type": "display_data"
    },
    {
     "name": "stderr",
     "output_type": "stream",
     "text": [
      "We recommend running at least 4 chains for robust computation of convergence diagnostics\n",
      "The rhat statistic is larger than 1.01 for some parameters. This indicates problems during sampling. See https://arxiv.org/abs/1903.08008 for details\n"
     ]
    },
    {
     "data": {
      "application/vnd.jupyter.widget-view+json": {
       "model_id": "f85d73aee3a2457a80e0d5317ff51249",
       "version_major": 2,
       "version_minor": 0
      },
      "text/plain": [
       "Output()"
      ]
     },
     "metadata": {},
     "output_type": "display_data"
    },
    {
     "data": {
      "text/html": [
       "<pre style=\"white-space:pre;overflow-x:auto;line-height:normal;font-family:Menlo,'DejaVu Sans Mono',consolas,'Courier New',monospace\"></pre>\n"
      ],
      "text/plain": []
     },
     "metadata": {},
     "output_type": "display_data"
    },
    {
     "data": {
      "text/html": [
       "<pre style=\"white-space:pre;overflow-x:auto;line-height:normal;font-family:Menlo,'DejaVu Sans Mono',consolas,'Courier New',monospace\"><span style=\"color: #008000; text-decoration-color: #008000\">✓ Trial </span><span style=\"color: #008000; text-decoration-color: #008000; font-weight: bold\">13</span><span style=\"color: #008000; text-decoration-color: #008000\"> CONVERGED:</span> <span style=\"color: #808000; text-decoration-color: #808000\">divergences</span>=<span style=\"color: #008080; text-decoration-color: #008080; font-weight: bold\">0.0</span>%, <span style=\"color: #808000; text-decoration-color: #808000\">max_rhat</span>=<span style=\"color: #008080; text-decoration-color: #008080; font-weight: bold\">1.023</span>, <span style=\"color: #808000; text-decoration-color: #808000\">min_ess</span>=<span style=\"color: #008080; text-decoration-color: #008080; font-weight: bold\">368</span>\n",
       "</pre>\n"
      ],
      "text/plain": [
       "\u001b[32m✓ Trial \u001b[0m\u001b[1;32m13\u001b[0m\u001b[32m CONVERGED:\u001b[0m \u001b[33mdivergences\u001b[0m=\u001b[1;36m0\u001b[0m\u001b[1;36m.0\u001b[0m%, \u001b[33mmax_rhat\u001b[0m=\u001b[1;36m1\u001b[0m\u001b[1;36m.023\u001b[0m, \u001b[33mmin_ess\u001b[0m=\u001b[1;36m368\u001b[0m\n"
      ]
     },
     "metadata": {},
     "output_type": "display_data"
    },
    {
     "name": "stderr",
     "output_type": "stream",
     "text": [
      "Sampling: [y]\n"
     ]
    },
    {
     "data": {
      "application/vnd.jupyter.widget-view+json": {
       "model_id": "d8996387eec740dcb21b0805cc5d6c33",
       "version_major": 2,
       "version_minor": 0
      },
      "text/plain": [
       "Output()"
      ]
     },
     "metadata": {},
     "output_type": "display_data"
    },
    {
     "data": {
      "text/html": [
       "<pre style=\"white-space:pre;overflow-x:auto;line-height:normal;font-family:Menlo,'DejaVu Sans Mono',consolas,'Courier New',monospace\"></pre>\n"
      ],
      "text/plain": []
     },
     "metadata": {},
     "output_type": "display_data"
    },
    {
     "data": {
      "text/html": [
       "<pre style=\"white-space:pre;overflow-x:auto;line-height:normal;font-family:Menlo,'DejaVu Sans Mono',consolas,'Courier New',monospace\"><span style=\"color: #808000; text-decoration-color: #808000\">Test CRPS: </span><span style=\"color: #808000; text-decoration-color: #808000; font-weight: bold\">294.71</span>\n",
       "</pre>\n"
      ],
      "text/plain": [
       "\u001b[33mTest CRPS: \u001b[0m\u001b[1;33m294.71\u001b[0m\n"
      ]
     },
     "metadata": {},
     "output_type": "display_data"
    },
    {
     "name": "stdout",
     "output_type": "stream",
     "text": [
      "[I 2025-10-19 22:15:02,920] Trial 13 finished with value: 294.7078719113994 and parameters: {'yearly_seasonality': 3, 'adstock_max_lag': 10}. Best is trial 13 with value: 294.7078719113994.\n"
     ]
    },
    {
     "data": {
      "text/html": [
       "<pre style=\"white-space:pre;overflow-x:auto;line-height:normal;font-family:Menlo,'DejaVu Sans Mono',consolas,'Courier New',monospace\">\n",
       "<span style=\"color: #008080; text-decoration-color: #008080; font-weight: bold\">Trial </span><span style=\"color: #008080; text-decoration-color: #008080; font-weight: bold\">14</span><span style=\"color: #008080; text-decoration-color: #008080; font-weight: bold\">:</span> <span style=\"color: #808000; text-decoration-color: #808000\">yearly_seasonality</span>=<span style=\"color: #008080; text-decoration-color: #008080; font-weight: bold\">3</span>, <span style=\"color: #808000; text-decoration-color: #808000\">adstock_max_lag</span>=<span style=\"color: #008080; text-decoration-color: #008080; font-weight: bold\">12</span>\n",
       "</pre>\n"
      ],
      "text/plain": [
       "\n",
       "\u001b[1;36mTrial \u001b[0m\u001b[1;36m14\u001b[0m\u001b[1;36m:\u001b[0m \u001b[33myearly_seasonality\u001b[0m=\u001b[1;36m3\u001b[0m, \u001b[33madstock_max_lag\u001b[0m=\u001b[1;36m12\u001b[0m\n"
      ]
     },
     "metadata": {},
     "output_type": "display_data"
    },
    {
     "name": "stderr",
     "output_type": "stream",
     "text": [
      "We recommend running at least 4 chains for robust computation of convergence diagnostics\n"
     ]
    },
    {
     "data": {
      "application/vnd.jupyter.widget-view+json": {
       "model_id": "03af3435d87a431ab6edcd001d19a647",
       "version_major": 2,
       "version_minor": 0
      },
      "text/plain": [
       "Output()"
      ]
     },
     "metadata": {},
     "output_type": "display_data"
    },
    {
     "data": {
      "text/html": [
       "<pre style=\"white-space:pre;overflow-x:auto;line-height:normal;font-family:Menlo,'DejaVu Sans Mono',consolas,'Courier New',monospace\"></pre>\n"
      ],
      "text/plain": []
     },
     "metadata": {},
     "output_type": "display_data"
    },
    {
     "data": {
      "text/html": [
       "<pre style=\"white-space:pre;overflow-x:auto;line-height:normal;font-family:Menlo,'DejaVu Sans Mono',consolas,'Courier New',monospace\"><span style=\"color: #008000; text-decoration-color: #008000\">✓ Trial </span><span style=\"color: #008000; text-decoration-color: #008000; font-weight: bold\">14</span><span style=\"color: #008000; text-decoration-color: #008000\"> CONVERGED:</span> <span style=\"color: #808000; text-decoration-color: #808000\">divergences</span>=<span style=\"color: #008080; text-decoration-color: #008080; font-weight: bold\">0.0</span>%, <span style=\"color: #808000; text-decoration-color: #808000\">max_rhat</span>=<span style=\"color: #008080; text-decoration-color: #008080; font-weight: bold\">1.008</span>, <span style=\"color: #808000; text-decoration-color: #808000\">min_ess</span>=<span style=\"color: #008080; text-decoration-color: #008080; font-weight: bold\">365</span>\n",
       "</pre>\n"
      ],
      "text/plain": [
       "\u001b[32m✓ Trial \u001b[0m\u001b[1;32m14\u001b[0m\u001b[32m CONVERGED:\u001b[0m \u001b[33mdivergences\u001b[0m=\u001b[1;36m0\u001b[0m\u001b[1;36m.0\u001b[0m%, \u001b[33mmax_rhat\u001b[0m=\u001b[1;36m1\u001b[0m\u001b[1;36m.008\u001b[0m, \u001b[33mmin_ess\u001b[0m=\u001b[1;36m365\u001b[0m\n"
      ]
     },
     "metadata": {},
     "output_type": "display_data"
    },
    {
     "name": "stderr",
     "output_type": "stream",
     "text": [
      "Sampling: [y]\n"
     ]
    },
    {
     "data": {
      "application/vnd.jupyter.widget-view+json": {
       "model_id": "0aa9db8345944cf384890cb8ce76b712",
       "version_major": 2,
       "version_minor": 0
      },
      "text/plain": [
       "Output()"
      ]
     },
     "metadata": {},
     "output_type": "display_data"
    },
    {
     "data": {
      "text/html": [
       "<pre style=\"white-space:pre;overflow-x:auto;line-height:normal;font-family:Menlo,'DejaVu Sans Mono',consolas,'Courier New',monospace\"></pre>\n"
      ],
      "text/plain": []
     },
     "metadata": {},
     "output_type": "display_data"
    },
    {
     "data": {
      "text/html": [
       "<pre style=\"white-space:pre;overflow-x:auto;line-height:normal;font-family:Menlo,'DejaVu Sans Mono',consolas,'Courier New',monospace\"><span style=\"color: #808000; text-decoration-color: #808000\">Test CRPS: </span><span style=\"color: #808000; text-decoration-color: #808000; font-weight: bold\">299.80</span>\n",
       "</pre>\n"
      ],
      "text/plain": [
       "\u001b[33mTest CRPS: \u001b[0m\u001b[1;33m299.80\u001b[0m\n"
      ]
     },
     "metadata": {},
     "output_type": "display_data"
    },
    {
     "name": "stdout",
     "output_type": "stream",
     "text": [
      "[I 2025-10-19 22:15:16,343] Trial 14 finished with value: 299.79668627860553 and parameters: {'yearly_seasonality': 3, 'adstock_max_lag': 12}. Best is trial 13 with value: 294.7078719113994.\n"
     ]
    },
    {
     "data": {
      "text/html": [
       "<pre style=\"white-space:pre;overflow-x:auto;line-height:normal;font-family:Menlo,'DejaVu Sans Mono',consolas,'Courier New',monospace\">\n",
       "<span style=\"color: #008080; text-decoration-color: #008080; font-weight: bold\">Trial </span><span style=\"color: #008080; text-decoration-color: #008080; font-weight: bold\">15</span><span style=\"color: #008080; text-decoration-color: #008080; font-weight: bold\">:</span> <span style=\"color: #808000; text-decoration-color: #808000\">yearly_seasonality</span>=<span style=\"color: #008080; text-decoration-color: #008080; font-weight: bold\">3</span>, <span style=\"color: #808000; text-decoration-color: #808000\">adstock_max_lag</span>=<span style=\"color: #008080; text-decoration-color: #008080; font-weight: bold\">10</span>\n",
       "</pre>\n"
      ],
      "text/plain": [
       "\n",
       "\u001b[1;36mTrial \u001b[0m\u001b[1;36m15\u001b[0m\u001b[1;36m:\u001b[0m \u001b[33myearly_seasonality\u001b[0m=\u001b[1;36m3\u001b[0m, \u001b[33madstock_max_lag\u001b[0m=\u001b[1;36m10\u001b[0m\n"
      ]
     },
     "metadata": {},
     "output_type": "display_data"
    },
    {
     "name": "stderr",
     "output_type": "stream",
     "text": [
      "We recommend running at least 4 chains for robust computation of convergence diagnostics\n",
      "The rhat statistic is larger than 1.01 for some parameters. This indicates problems during sampling. See https://arxiv.org/abs/1903.08008 for details\n"
     ]
    },
    {
     "data": {
      "application/vnd.jupyter.widget-view+json": {
       "model_id": "8a022dfac1cf460ea1d8991d3a60c00d",
       "version_major": 2,
       "version_minor": 0
      },
      "text/plain": [
       "Output()"
      ]
     },
     "metadata": {},
     "output_type": "display_data"
    },
    {
     "data": {
      "text/html": [
       "<pre style=\"white-space:pre;overflow-x:auto;line-height:normal;font-family:Menlo,'DejaVu Sans Mono',consolas,'Courier New',monospace\"></pre>\n"
      ],
      "text/plain": []
     },
     "metadata": {},
     "output_type": "display_data"
    },
    {
     "data": {
      "text/html": [
       "<pre style=\"white-space:pre;overflow-x:auto;line-height:normal;font-family:Menlo,'DejaVu Sans Mono',consolas,'Courier New',monospace\"><span style=\"color: #008000; text-decoration-color: #008000\">✓ Trial </span><span style=\"color: #008000; text-decoration-color: #008000; font-weight: bold\">15</span><span style=\"color: #008000; text-decoration-color: #008000\"> CONVERGED:</span> <span style=\"color: #808000; text-decoration-color: #808000\">divergences</span>=<span style=\"color: #008080; text-decoration-color: #008080; font-weight: bold\">0.0</span>%, <span style=\"color: #808000; text-decoration-color: #808000\">max_rhat</span>=<span style=\"color: #008080; text-decoration-color: #008080; font-weight: bold\">1.013</span>, <span style=\"color: #808000; text-decoration-color: #808000\">min_ess</span>=<span style=\"color: #008080; text-decoration-color: #008080; font-weight: bold\">348</span>\n",
       "</pre>\n"
      ],
      "text/plain": [
       "\u001b[32m✓ Trial \u001b[0m\u001b[1;32m15\u001b[0m\u001b[32m CONVERGED:\u001b[0m \u001b[33mdivergences\u001b[0m=\u001b[1;36m0\u001b[0m\u001b[1;36m.0\u001b[0m%, \u001b[33mmax_rhat\u001b[0m=\u001b[1;36m1\u001b[0m\u001b[1;36m.013\u001b[0m, \u001b[33mmin_ess\u001b[0m=\u001b[1;36m348\u001b[0m\n"
      ]
     },
     "metadata": {},
     "output_type": "display_data"
    },
    {
     "name": "stderr",
     "output_type": "stream",
     "text": [
      "Sampling: [y]\n"
     ]
    },
    {
     "data": {
      "application/vnd.jupyter.widget-view+json": {
       "model_id": "54eef9843a7a47b5a8916d49c5b6ede4",
       "version_major": 2,
       "version_minor": 0
      },
      "text/plain": [
       "Output()"
      ]
     },
     "metadata": {},
     "output_type": "display_data"
    },
    {
     "data": {
      "text/html": [
       "<pre style=\"white-space:pre;overflow-x:auto;line-height:normal;font-family:Menlo,'DejaVu Sans Mono',consolas,'Courier New',monospace\"></pre>\n"
      ],
      "text/plain": []
     },
     "metadata": {},
     "output_type": "display_data"
    },
    {
     "data": {
      "text/html": [
       "<pre style=\"white-space:pre;overflow-x:auto;line-height:normal;font-family:Menlo,'DejaVu Sans Mono',consolas,'Courier New',monospace\"><span style=\"color: #808000; text-decoration-color: #808000\">Test CRPS: </span><span style=\"color: #808000; text-decoration-color: #808000; font-weight: bold\">304.75</span>\n",
       "</pre>\n"
      ],
      "text/plain": [
       "\u001b[33mTest CRPS: \u001b[0m\u001b[1;33m304.75\u001b[0m\n"
      ]
     },
     "metadata": {},
     "output_type": "display_data"
    },
    {
     "name": "stdout",
     "output_type": "stream",
     "text": [
      "[I 2025-10-19 22:15:28,702] Trial 15 finished with value: 304.7467904918494 and parameters: {'yearly_seasonality': 3, 'adstock_max_lag': 10}. Best is trial 13 with value: 294.7078719113994.\n"
     ]
    },
    {
     "data": {
      "text/html": [
       "<pre style=\"white-space:pre;overflow-x:auto;line-height:normal;font-family:Menlo,'DejaVu Sans Mono',consolas,'Courier New',monospace\">\n",
       "<span style=\"color: #008080; text-decoration-color: #008080; font-weight: bold\">Trial </span><span style=\"color: #008080; text-decoration-color: #008080; font-weight: bold\">16</span><span style=\"color: #008080; text-decoration-color: #008080; font-weight: bold\">:</span> <span style=\"color: #808000; text-decoration-color: #808000\">yearly_seasonality</span>=<span style=\"color: #008080; text-decoration-color: #008080; font-weight: bold\">6</span>, <span style=\"color: #808000; text-decoration-color: #808000\">adstock_max_lag</span>=<span style=\"color: #008080; text-decoration-color: #008080; font-weight: bold\">11</span>\n",
       "</pre>\n"
      ],
      "text/plain": [
       "\n",
       "\u001b[1;36mTrial \u001b[0m\u001b[1;36m16\u001b[0m\u001b[1;36m:\u001b[0m \u001b[33myearly_seasonality\u001b[0m=\u001b[1;36m6\u001b[0m, \u001b[33madstock_max_lag\u001b[0m=\u001b[1;36m11\u001b[0m\n"
      ]
     },
     "metadata": {},
     "output_type": "display_data"
    },
    {
     "name": "stderr",
     "output_type": "stream",
     "text": [
      "We recommend running at least 4 chains for robust computation of convergence diagnostics\n"
     ]
    },
    {
     "data": {
      "application/vnd.jupyter.widget-view+json": {
       "model_id": "176a19bcd98a4dff8f2b96af27d1bc39",
       "version_major": 2,
       "version_minor": 0
      },
      "text/plain": [
       "Output()"
      ]
     },
     "metadata": {},
     "output_type": "display_data"
    },
    {
     "data": {
      "text/html": [
       "<pre style=\"white-space:pre;overflow-x:auto;line-height:normal;font-family:Menlo,'DejaVu Sans Mono',consolas,'Courier New',monospace\"></pre>\n"
      ],
      "text/plain": []
     },
     "metadata": {},
     "output_type": "display_data"
    },
    {
     "data": {
      "text/html": [
       "<pre style=\"white-space:pre;overflow-x:auto;line-height:normal;font-family:Menlo,'DejaVu Sans Mono',consolas,'Courier New',monospace\"><span style=\"color: #008000; text-decoration-color: #008000\">✓ Trial </span><span style=\"color: #008000; text-decoration-color: #008000; font-weight: bold\">16</span><span style=\"color: #008000; text-decoration-color: #008000\"> CONVERGED:</span> <span style=\"color: #808000; text-decoration-color: #808000\">divergences</span>=<span style=\"color: #008080; text-decoration-color: #008080; font-weight: bold\">0.0</span>%, <span style=\"color: #808000; text-decoration-color: #808000\">max_rhat</span>=<span style=\"color: #008080; text-decoration-color: #008080; font-weight: bold\">1.014</span>, <span style=\"color: #808000; text-decoration-color: #808000\">min_ess</span>=<span style=\"color: #008080; text-decoration-color: #008080; font-weight: bold\">275</span>\n",
       "</pre>\n"
      ],
      "text/plain": [
       "\u001b[32m✓ Trial \u001b[0m\u001b[1;32m16\u001b[0m\u001b[32m CONVERGED:\u001b[0m \u001b[33mdivergences\u001b[0m=\u001b[1;36m0\u001b[0m\u001b[1;36m.0\u001b[0m%, \u001b[33mmax_rhat\u001b[0m=\u001b[1;36m1\u001b[0m\u001b[1;36m.014\u001b[0m, \u001b[33mmin_ess\u001b[0m=\u001b[1;36m275\u001b[0m\n"
      ]
     },
     "metadata": {},
     "output_type": "display_data"
    },
    {
     "name": "stderr",
     "output_type": "stream",
     "text": [
      "Sampling: [y]\n"
     ]
    },
    {
     "data": {
      "application/vnd.jupyter.widget-view+json": {
       "model_id": "55daeb4a26f44b22b0008ea4019d0286",
       "version_major": 2,
       "version_minor": 0
      },
      "text/plain": [
       "Output()"
      ]
     },
     "metadata": {},
     "output_type": "display_data"
    },
    {
     "data": {
      "text/html": [
       "<pre style=\"white-space:pre;overflow-x:auto;line-height:normal;font-family:Menlo,'DejaVu Sans Mono',consolas,'Courier New',monospace\"></pre>\n"
      ],
      "text/plain": []
     },
     "metadata": {},
     "output_type": "display_data"
    },
    {
     "data": {
      "text/html": [
       "<pre style=\"white-space:pre;overflow-x:auto;line-height:normal;font-family:Menlo,'DejaVu Sans Mono',consolas,'Courier New',monospace\"><span style=\"color: #808000; text-decoration-color: #808000\">Test CRPS: </span><span style=\"color: #808000; text-decoration-color: #808000; font-weight: bold\">308.59</span>\n",
       "</pre>\n"
      ],
      "text/plain": [
       "\u001b[33mTest CRPS: \u001b[0m\u001b[1;33m308.59\u001b[0m\n"
      ]
     },
     "metadata": {},
     "output_type": "display_data"
    },
    {
     "name": "stdout",
     "output_type": "stream",
     "text": [
      "[I 2025-10-19 22:15:42,441] Trial 16 finished with value: 308.5894833925392 and parameters: {'yearly_seasonality': 6, 'adstock_max_lag': 11}. Best is trial 13 with value: 294.7078719113994.\n"
     ]
    },
    {
     "data": {
      "text/html": [
       "<pre style=\"white-space:pre;overflow-x:auto;line-height:normal;font-family:Menlo,'DejaVu Sans Mono',consolas,'Courier New',monospace\">\n",
       "<span style=\"color: #008080; text-decoration-color: #008080; font-weight: bold\">Trial </span><span style=\"color: #008080; text-decoration-color: #008080; font-weight: bold\">17</span><span style=\"color: #008080; text-decoration-color: #008080; font-weight: bold\">:</span> <span style=\"color: #808000; text-decoration-color: #808000\">yearly_seasonality</span>=<span style=\"color: #008080; text-decoration-color: #008080; font-weight: bold\">2</span>, <span style=\"color: #808000; text-decoration-color: #808000\">adstock_max_lag</span>=<span style=\"color: #008080; text-decoration-color: #008080; font-weight: bold\">10</span>\n",
       "</pre>\n"
      ],
      "text/plain": [
       "\n",
       "\u001b[1;36mTrial \u001b[0m\u001b[1;36m17\u001b[0m\u001b[1;36m:\u001b[0m \u001b[33myearly_seasonality\u001b[0m=\u001b[1;36m2\u001b[0m, \u001b[33madstock_max_lag\u001b[0m=\u001b[1;36m10\u001b[0m\n"
      ]
     },
     "metadata": {},
     "output_type": "display_data"
    },
    {
     "name": "stderr",
     "output_type": "stream",
     "text": [
      "We recommend running at least 4 chains for robust computation of convergence diagnostics\n",
      "The rhat statistic is larger than 1.01 for some parameters. This indicates problems during sampling. See https://arxiv.org/abs/1903.08008 for details\n"
     ]
    },
    {
     "data": {
      "application/vnd.jupyter.widget-view+json": {
       "model_id": "e3d9d2b895ef467797cfef5b481689bc",
       "version_major": 2,
       "version_minor": 0
      },
      "text/plain": [
       "Output()"
      ]
     },
     "metadata": {},
     "output_type": "display_data"
    },
    {
     "data": {
      "text/html": [
       "<pre style=\"white-space:pre;overflow-x:auto;line-height:normal;font-family:Menlo,'DejaVu Sans Mono',consolas,'Courier New',monospace\"></pre>\n"
      ],
      "text/plain": []
     },
     "metadata": {},
     "output_type": "display_data"
    },
    {
     "data": {
      "text/html": [
       "<pre style=\"white-space:pre;overflow-x:auto;line-height:normal;font-family:Menlo,'DejaVu Sans Mono',consolas,'Courier New',monospace\"><span style=\"color: #008000; text-decoration-color: #008000\">✓ Trial </span><span style=\"color: #008000; text-decoration-color: #008000; font-weight: bold\">17</span><span style=\"color: #008000; text-decoration-color: #008000\"> CONVERGED:</span> <span style=\"color: #808000; text-decoration-color: #808000\">divergences</span>=<span style=\"color: #008080; text-decoration-color: #008080; font-weight: bold\">0.0</span>%, <span style=\"color: #808000; text-decoration-color: #808000\">max_rhat</span>=<span style=\"color: #008080; text-decoration-color: #008080; font-weight: bold\">1.016</span>, <span style=\"color: #808000; text-decoration-color: #808000\">min_ess</span>=<span style=\"color: #008080; text-decoration-color: #008080; font-weight: bold\">401</span>\n",
       "</pre>\n"
      ],
      "text/plain": [
       "\u001b[32m✓ Trial \u001b[0m\u001b[1;32m17\u001b[0m\u001b[32m CONVERGED:\u001b[0m \u001b[33mdivergences\u001b[0m=\u001b[1;36m0\u001b[0m\u001b[1;36m.0\u001b[0m%, \u001b[33mmax_rhat\u001b[0m=\u001b[1;36m1\u001b[0m\u001b[1;36m.016\u001b[0m, \u001b[33mmin_ess\u001b[0m=\u001b[1;36m401\u001b[0m\n"
      ]
     },
     "metadata": {},
     "output_type": "display_data"
    },
    {
     "name": "stderr",
     "output_type": "stream",
     "text": [
      "Sampling: [y]\n"
     ]
    },
    {
     "data": {
      "application/vnd.jupyter.widget-view+json": {
       "model_id": "83b16188f80648e2883f2d36d62be10d",
       "version_major": 2,
       "version_minor": 0
      },
      "text/plain": [
       "Output()"
      ]
     },
     "metadata": {},
     "output_type": "display_data"
    },
    {
     "data": {
      "text/html": [
       "<pre style=\"white-space:pre;overflow-x:auto;line-height:normal;font-family:Menlo,'DejaVu Sans Mono',consolas,'Courier New',monospace\"></pre>\n"
      ],
      "text/plain": []
     },
     "metadata": {},
     "output_type": "display_data"
    },
    {
     "data": {
      "text/html": [
       "<pre style=\"white-space:pre;overflow-x:auto;line-height:normal;font-family:Menlo,'DejaVu Sans Mono',consolas,'Courier New',monospace\"><span style=\"color: #808000; text-decoration-color: #808000\">Test CRPS: </span><span style=\"color: #808000; text-decoration-color: #808000; font-weight: bold\">308.21</span>\n",
       "</pre>\n"
      ],
      "text/plain": [
       "\u001b[33mTest CRPS: \u001b[0m\u001b[1;33m308.21\u001b[0m\n"
      ]
     },
     "metadata": {},
     "output_type": "display_data"
    },
    {
     "name": "stdout",
     "output_type": "stream",
     "text": [
      "[I 2025-10-19 22:15:56,185] Trial 17 finished with value: 308.2065406864887 and parameters: {'yearly_seasonality': 2, 'adstock_max_lag': 10}. Best is trial 13 with value: 294.7078719113994.\n"
     ]
    },
    {
     "data": {
      "text/html": [
       "<pre style=\"white-space:pre;overflow-x:auto;line-height:normal;font-family:Menlo,'DejaVu Sans Mono',consolas,'Courier New',monospace\">\n",
       "<span style=\"color: #008080; text-decoration-color: #008080; font-weight: bold\">Trial </span><span style=\"color: #008080; text-decoration-color: #008080; font-weight: bold\">18</span><span style=\"color: #008080; text-decoration-color: #008080; font-weight: bold\">:</span> <span style=\"color: #808000; text-decoration-color: #808000\">yearly_seasonality</span>=<span style=\"color: #008080; text-decoration-color: #008080; font-weight: bold\">10</span>, <span style=\"color: #808000; text-decoration-color: #808000\">adstock_max_lag</span>=<span style=\"color: #008080; text-decoration-color: #008080; font-weight: bold\">11</span>\n",
       "</pre>\n"
      ],
      "text/plain": [
       "\n",
       "\u001b[1;36mTrial \u001b[0m\u001b[1;36m18\u001b[0m\u001b[1;36m:\u001b[0m \u001b[33myearly_seasonality\u001b[0m=\u001b[1;36m10\u001b[0m, \u001b[33madstock_max_lag\u001b[0m=\u001b[1;36m11\u001b[0m\n"
      ]
     },
     "metadata": {},
     "output_type": "display_data"
    },
    {
     "name": "stderr",
     "output_type": "stream",
     "text": [
      "We recommend running at least 4 chains for robust computation of convergence diagnostics\n",
      "The rhat statistic is larger than 1.01 for some parameters. This indicates problems during sampling. See https://arxiv.org/abs/1903.08008 for details\n"
     ]
    },
    {
     "data": {
      "application/vnd.jupyter.widget-view+json": {
       "model_id": "b3474ffe5ecf40b59a9ad65ef91c668e",
       "version_major": 2,
       "version_minor": 0
      },
      "text/plain": [
       "Output()"
      ]
     },
     "metadata": {},
     "output_type": "display_data"
    },
    {
     "data": {
      "text/html": [
       "<pre style=\"white-space:pre;overflow-x:auto;line-height:normal;font-family:Menlo,'DejaVu Sans Mono',consolas,'Courier New',monospace\"></pre>\n"
      ],
      "text/plain": []
     },
     "metadata": {},
     "output_type": "display_data"
    },
    {
     "data": {
      "text/html": [
       "<pre style=\"white-space:pre;overflow-x:auto;line-height:normal;font-family:Menlo,'DejaVu Sans Mono',consolas,'Courier New',monospace\"><span style=\"color: #008000; text-decoration-color: #008000\">✓ Trial </span><span style=\"color: #008000; text-decoration-color: #008000; font-weight: bold\">18</span><span style=\"color: #008000; text-decoration-color: #008000\"> CONVERGED:</span> <span style=\"color: #808000; text-decoration-color: #808000\">divergences</span>=<span style=\"color: #008080; text-decoration-color: #008080; font-weight: bold\">0.0</span>%, <span style=\"color: #808000; text-decoration-color: #808000\">max_rhat</span>=<span style=\"color: #008080; text-decoration-color: #008080; font-weight: bold\">1.024</span>, <span style=\"color: #808000; text-decoration-color: #808000\">min_ess</span>=<span style=\"color: #008080; text-decoration-color: #008080; font-weight: bold\">284</span>\n",
       "</pre>\n"
      ],
      "text/plain": [
       "\u001b[32m✓ Trial \u001b[0m\u001b[1;32m18\u001b[0m\u001b[32m CONVERGED:\u001b[0m \u001b[33mdivergences\u001b[0m=\u001b[1;36m0\u001b[0m\u001b[1;36m.0\u001b[0m%, \u001b[33mmax_rhat\u001b[0m=\u001b[1;36m1\u001b[0m\u001b[1;36m.024\u001b[0m, \u001b[33mmin_ess\u001b[0m=\u001b[1;36m284\u001b[0m\n"
      ]
     },
     "metadata": {},
     "output_type": "display_data"
    },
    {
     "name": "stderr",
     "output_type": "stream",
     "text": [
      "Sampling: [y]\n"
     ]
    },
    {
     "data": {
      "application/vnd.jupyter.widget-view+json": {
       "model_id": "34982de1c50648ee9c900c53c8c74343",
       "version_major": 2,
       "version_minor": 0
      },
      "text/plain": [
       "Output()"
      ]
     },
     "metadata": {},
     "output_type": "display_data"
    },
    {
     "data": {
      "text/html": [
       "<pre style=\"white-space:pre;overflow-x:auto;line-height:normal;font-family:Menlo,'DejaVu Sans Mono',consolas,'Courier New',monospace\"></pre>\n"
      ],
      "text/plain": []
     },
     "metadata": {},
     "output_type": "display_data"
    },
    {
     "data": {
      "text/html": [
       "<pre style=\"white-space:pre;overflow-x:auto;line-height:normal;font-family:Menlo,'DejaVu Sans Mono',consolas,'Courier New',monospace\"><span style=\"color: #808000; text-decoration-color: #808000\">Test CRPS: </span><span style=\"color: #808000; text-decoration-color: #808000; font-weight: bold\">348.04</span>\n",
       "</pre>\n"
      ],
      "text/plain": [
       "\u001b[33mTest CRPS: \u001b[0m\u001b[1;33m348.04\u001b[0m\n"
      ]
     },
     "metadata": {},
     "output_type": "display_data"
    },
    {
     "name": "stdout",
     "output_type": "stream",
     "text": [
      "[I 2025-10-19 22:16:08,941] Trial 18 finished with value: 348.04178969844725 and parameters: {'yearly_seasonality': 10, 'adstock_max_lag': 11}. Best is trial 13 with value: 294.7078719113994.\n"
     ]
    },
    {
     "data": {
      "text/html": [
       "<pre style=\"white-space:pre;overflow-x:auto;line-height:normal;font-family:Menlo,'DejaVu Sans Mono',consolas,'Courier New',monospace\">\n",
       "<span style=\"color: #008080; text-decoration-color: #008080; font-weight: bold\">Trial </span><span style=\"color: #008080; text-decoration-color: #008080; font-weight: bold\">19</span><span style=\"color: #008080; text-decoration-color: #008080; font-weight: bold\">:</span> <span style=\"color: #808000; text-decoration-color: #808000\">yearly_seasonality</span>=<span style=\"color: #008080; text-decoration-color: #008080; font-weight: bold\">3</span>, <span style=\"color: #808000; text-decoration-color: #808000\">adstock_max_lag</span>=<span style=\"color: #008080; text-decoration-color: #008080; font-weight: bold\">12</span>\n",
       "</pre>\n"
      ],
      "text/plain": [
       "\n",
       "\u001b[1;36mTrial \u001b[0m\u001b[1;36m19\u001b[0m\u001b[1;36m:\u001b[0m \u001b[33myearly_seasonality\u001b[0m=\u001b[1;36m3\u001b[0m, \u001b[33madstock_max_lag\u001b[0m=\u001b[1;36m12\u001b[0m\n"
      ]
     },
     "metadata": {},
     "output_type": "display_data"
    },
    {
     "name": "stderr",
     "output_type": "stream",
     "text": [
      "We recommend running at least 4 chains for robust computation of convergence diagnostics\n",
      "The rhat statistic is larger than 1.01 for some parameters. This indicates problems during sampling. See https://arxiv.org/abs/1903.08008 for details\n"
     ]
    },
    {
     "data": {
      "application/vnd.jupyter.widget-view+json": {
       "model_id": "dbd830db12d942db9297fceaedceeca0",
       "version_major": 2,
       "version_minor": 0
      },
      "text/plain": [
       "Output()"
      ]
     },
     "metadata": {},
     "output_type": "display_data"
    },
    {
     "data": {
      "text/html": [
       "<pre style=\"white-space:pre;overflow-x:auto;line-height:normal;font-family:Menlo,'DejaVu Sans Mono',consolas,'Courier New',monospace\"></pre>\n"
      ],
      "text/plain": []
     },
     "metadata": {},
     "output_type": "display_data"
    },
    {
     "data": {
      "text/html": [
       "<pre style=\"white-space:pre;overflow-x:auto;line-height:normal;font-family:Menlo,'DejaVu Sans Mono',consolas,'Courier New',monospace\"><span style=\"color: #008000; text-decoration-color: #008000\">✓ Trial </span><span style=\"color: #008000; text-decoration-color: #008000; font-weight: bold\">19</span><span style=\"color: #008000; text-decoration-color: #008000\"> CONVERGED:</span> <span style=\"color: #808000; text-decoration-color: #808000\">divergences</span>=<span style=\"color: #008080; text-decoration-color: #008080; font-weight: bold\">0.0</span>%, <span style=\"color: #808000; text-decoration-color: #808000\">max_rhat</span>=<span style=\"color: #008080; text-decoration-color: #008080; font-weight: bold\">1.017</span>, <span style=\"color: #808000; text-decoration-color: #808000\">min_ess</span>=<span style=\"color: #008080; text-decoration-color: #008080; font-weight: bold\">308</span>\n",
       "</pre>\n"
      ],
      "text/plain": [
       "\u001b[32m✓ Trial \u001b[0m\u001b[1;32m19\u001b[0m\u001b[32m CONVERGED:\u001b[0m \u001b[33mdivergences\u001b[0m=\u001b[1;36m0\u001b[0m\u001b[1;36m.0\u001b[0m%, \u001b[33mmax_rhat\u001b[0m=\u001b[1;36m1\u001b[0m\u001b[1;36m.017\u001b[0m, \u001b[33mmin_ess\u001b[0m=\u001b[1;36m308\u001b[0m\n"
      ]
     },
     "metadata": {},
     "output_type": "display_data"
    },
    {
     "name": "stderr",
     "output_type": "stream",
     "text": [
      "Sampling: [y]\n"
     ]
    },
    {
     "data": {
      "application/vnd.jupyter.widget-view+json": {
       "model_id": "26db7d66500e40cc84c5529eea245a5f",
       "version_major": 2,
       "version_minor": 0
      },
      "text/plain": [
       "Output()"
      ]
     },
     "metadata": {},
     "output_type": "display_data"
    },
    {
     "data": {
      "text/html": [
       "<pre style=\"white-space:pre;overflow-x:auto;line-height:normal;font-family:Menlo,'DejaVu Sans Mono',consolas,'Courier New',monospace\"></pre>\n"
      ],
      "text/plain": []
     },
     "metadata": {},
     "output_type": "display_data"
    },
    {
     "data": {
      "text/html": [
       "<pre style=\"white-space:pre;overflow-x:auto;line-height:normal;font-family:Menlo,'DejaVu Sans Mono',consolas,'Courier New',monospace\"><span style=\"color: #808000; text-decoration-color: #808000\">Test CRPS: </span><span style=\"color: #808000; text-decoration-color: #808000; font-weight: bold\">301.46</span>\n",
       "</pre>\n"
      ],
      "text/plain": [
       "\u001b[33mTest CRPS: \u001b[0m\u001b[1;33m301.46\u001b[0m\n"
      ]
     },
     "metadata": {},
     "output_type": "display_data"
    },
    {
     "name": "stdout",
     "output_type": "stream",
     "text": [
      "[I 2025-10-19 22:16:21,827] Trial 19 finished with value: 301.4649398580174 and parameters: {'yearly_seasonality': 3, 'adstock_max_lag': 12}. Best is trial 13 with value: 294.7078719113994.\n"
     ]
    },
    {
     "data": {
      "text/html": [
       "<pre style=\"white-space:pre;overflow-x:auto;line-height:normal;font-family:Menlo,'DejaVu Sans Mono',consolas,'Courier New',monospace\">\n",
       "<span style=\"color: #008000; text-decoration-color: #008000; font-weight: bold\">Optimization completed!</span>\n",
       "</pre>\n"
      ],
      "text/plain": [
       "\n",
       "\u001b[1;32mOptimization completed!\u001b[0m\n"
      ]
     },
     "metadata": {},
     "output_type": "display_data"
    }
   ],
   "source": [
    "def run_optimization(\n",
    "    objective: callable,\n",
    "    n_trials: int,\n",
    "    study_name: str = \"mmm_crps_optimization\"\n",
    ") -> optuna.Study:\n",
    "    \"\"\"Run Optuna hyperparameter optimization.\n",
    "    \n",
    "    Args:\n",
    "        objective: Objective function to minimize\n",
    "        n_trials: Number of optimization trials\n",
    "        study_name: Name for the Optuna study\n",
    "        \n",
    "    Returns:\n",
    "        Completed Optuna study object\n",
    "    \"\"\"\n",
    "    rprint(f\"\\n[bold magenta]Starting CRPS-based optimization with {n_trials} trials...[/bold magenta]\\n\")\n",
    "    \n",
    "    # Create study\n",
    "    study = optuna.create_study(\n",
    "        study_name=study_name,\n",
    "        direction=\"minimize\",  # Minimize test CRPS\n",
    "        sampler=optuna.samplers.TPESampler(seed=RANDOM_SEED),\n",
    "        pruner=optuna.pruners.MedianPruner(\n",
    "            n_startup_trials=5,\n",
    "            n_warmup_steps=0\n",
    "        )\n",
    "    )\n",
    "    \n",
    "    # Run optimization\n",
    "    study.optimize(\n",
    "        objective,\n",
    "        n_trials=n_trials,\n",
    "        show_progress_bar=True\n",
    "    )\n",
    "    \n",
    "    rprint(\"\\n[bold green]Optimization completed![/bold green]\")\n",
    "    \n",
    "    return study\n",
    "\n",
    "\n",
    "# Run optimization\n",
    "study = run_optimization(\n",
    "    objective=objective,\n",
    "    n_trials=N_TRIALS\n",
    ")"
   ]
  },
  {
   "cell_type": "markdown",
   "metadata": {},
   "source": [
    "## Optimization Results"
   ]
  },
  {
   "cell_type": "code",
   "execution_count": 26,
   "metadata": {},
   "outputs": [
    {
     "data": {
      "text/html": [
       "<pre style=\"white-space:pre;overflow-x:auto;line-height:normal;font-family:Menlo,'DejaVu Sans Mono',consolas,'Courier New',monospace\">\n",
       "<span style=\"color: #800080; text-decoration-color: #800080; font-weight: bold\">Best Trial:</span>\n",
       "</pre>\n"
      ],
      "text/plain": [
       "\n",
       "\u001b[1;35mBest Trial:\u001b[0m\n"
      ]
     },
     "metadata": {},
     "output_type": "display_data"
    },
    {
     "data": {
      "text/html": [
       "<pre style=\"white-space:pre;overflow-x:auto;line-height:normal;font-family:Menlo,'DejaVu Sans Mono',consolas,'Courier New',monospace\">Trial number: <span style=\"color: #008080; text-decoration-color: #008080; font-weight: bold\">13</span>\n",
       "</pre>\n"
      ],
      "text/plain": [
       "Trial number: \u001b[1;36m13\u001b[0m\n"
      ]
     },
     "metadata": {},
     "output_type": "display_data"
    },
    {
     "data": {
      "text/html": [
       "<pre style=\"white-space:pre;overflow-x:auto;line-height:normal;font-family:Menlo,'DejaVu Sans Mono',consolas,'Courier New',monospace\">Test CRPS: <span style=\"color: #808000; text-decoration-color: #808000; font-weight: bold\">294.71</span>\n",
       "</pre>\n"
      ],
      "text/plain": [
       "Test CRPS: \u001b[1;33m294.71\u001b[0m\n"
      ]
     },
     "metadata": {},
     "output_type": "display_data"
    },
    {
     "data": {
      "text/html": [
       "<pre style=\"white-space:pre;overflow-x:auto;line-height:normal;font-family:Menlo,'DejaVu Sans Mono',consolas,'Courier New',monospace\">Parameters:\n",
       "</pre>\n"
      ],
      "text/plain": [
       "Parameters:\n"
      ]
     },
     "metadata": {},
     "output_type": "display_data"
    },
    {
     "data": {
      "text/html": [
       "<pre style=\"white-space:pre;overflow-x:auto;line-height:normal;font-family:Menlo,'DejaVu Sans Mono',consolas,'Courier New',monospace\">  - yearly_seasonality: <span style=\"color: #008000; text-decoration-color: #008000; font-weight: bold\">3</span>\n",
       "</pre>\n"
      ],
      "text/plain": [
       "  - yearly_seasonality: \u001b[1;32m3\u001b[0m\n"
      ]
     },
     "metadata": {},
     "output_type": "display_data"
    },
    {
     "data": {
      "text/html": [
       "<pre style=\"white-space:pre;overflow-x:auto;line-height:normal;font-family:Menlo,'DejaVu Sans Mono',consolas,'Courier New',monospace\">  - adstock_max_lag: <span style=\"color: #008000; text-decoration-color: #008000; font-weight: bold\">10</span>\n",
       "</pre>\n"
      ],
      "text/plain": [
       "  - adstock_max_lag: \u001b[1;32m10\u001b[0m\n"
      ]
     },
     "metadata": {},
     "output_type": "display_data"
    },
    {
     "data": {
      "text/html": [
       "<pre style=\"white-space:pre;overflow-x:auto;line-height:normal;font-family:Menlo,'DejaVu Sans Mono',consolas,'Courier New',monospace\">\n",
       "<span style=\"color: #000080; text-decoration-color: #000080; font-weight: bold\">All Trials:</span>\n",
       "</pre>\n"
      ],
      "text/plain": [
       "\n",
       "\u001b[1;34mAll Trials:\u001b[0m\n"
      ]
     },
     "metadata": {},
     "output_type": "display_data"
    },
    {
     "data": {
      "text/html": [
       "<pre style=\"white-space:pre;overflow-x:auto;line-height:normal;font-family:Menlo,'DejaVu Sans Mono',consolas,'Courier New',monospace\"><span style=\"font-style: italic\">                   Optimization Trials (CRPS-based)                    </span>\n",
       "┏━━━━━━━┳━━━━━━━━━━━━━━━━━━━━┳━━━━━━━━━━━━━━━━━┳━━━━━━━━━━━┳━━━━━━━━━━┓\n",
       "┃<span style=\"color: #008080; text-decoration-color: #008080; font-weight: bold\"> Trial </span>┃<span style=\"color: #008080; text-decoration-color: #008080; font-weight: bold\"> Yearly Seasonality </span>┃<span style=\"color: #008080; text-decoration-color: #008080; font-weight: bold\"> Adstock Max Lag </span>┃<span style=\"color: #008080; text-decoration-color: #008080; font-weight: bold\"> Test CRPS </span>┃<span style=\"color: #008080; text-decoration-color: #008080; font-weight: bold\"> Status   </span>┃\n",
       "┡━━━━━━━╇━━━━━━━━━━━━━━━━━━━━╇━━━━━━━━━━━━━━━━━╇━━━━━━━━━━━╇━━━━━━━━━━┩\n",
       "│     0 │                  4 │              12 │    302.02 │ <span style=\"color: #008000; text-decoration-color: #008000\">COMPLETE</span> │\n",
       "│     1 │                  8 │               9 │    316.97 │ <span style=\"color: #008000; text-decoration-color: #008000\">COMPLETE</span> │\n",
       "│     2 │                  2 │               5 │    307.19 │ <span style=\"color: #008000; text-decoration-color: #008000\">COMPLETE</span> │\n",
       "│     3 │                  1 │              11 │    307.42 │ <span style=\"color: #008000; text-decoration-color: #008000\">COMPLETE</span> │\n",
       "│     4 │                  7 │              10 │    312.57 │ <span style=\"color: #008000; text-decoration-color: #008000\">COMPLETE</span> │\n",
       "│     5 │                  1 │              12 │    312.61 │ <span style=\"color: #008000; text-decoration-color: #008000\">COMPLETE</span> │\n",
       "│     6 │                  9 │               5 │    350.53 │ <span style=\"color: #008000; text-decoration-color: #008000\">COMPLETE</span> │\n",
       "│     7 │                  2 │               5 │    306.88 │ <span style=\"color: #008000; text-decoration-color: #008000\">COMPLETE</span> │\n",
       "│     8 │                  4 │               8 │    306.39 │ <span style=\"color: #008000; text-decoration-color: #008000\">COMPLETE</span> │\n",
       "│     9 │                  5 │               6 │    324.57 │ <span style=\"color: #008000; text-decoration-color: #008000\">COMPLETE</span> │\n",
       "│    10 │                  4 │               8 │    308.12 │ <span style=\"color: #008000; text-decoration-color: #008000\">COMPLETE</span> │\n",
       "│    11 │                  4 │               8 │    304.68 │ <span style=\"color: #008000; text-decoration-color: #008000\">COMPLETE</span> │\n",
       "│    12 │                  6 │               7 │    312.71 │ <span style=\"color: #008000; text-decoration-color: #008000\">COMPLETE</span> │\n",
       "│    13 │                  3 │              10 │    294.71 │ <span style=\"color: #008000; text-decoration-color: #008000\">COMPLETE</span> │\n",
       "│    14 │                  3 │              12 │    299.80 │ <span style=\"color: #008000; text-decoration-color: #008000\">COMPLETE</span> │\n",
       "│    15 │                  3 │              10 │    304.75 │ <span style=\"color: #008000; text-decoration-color: #008000\">COMPLETE</span> │\n",
       "│    16 │                  6 │              11 │    308.59 │ <span style=\"color: #008000; text-decoration-color: #008000\">COMPLETE</span> │\n",
       "│    17 │                  2 │              10 │    308.21 │ <span style=\"color: #008000; text-decoration-color: #008000\">COMPLETE</span> │\n",
       "│    18 │                 10 │              11 │    348.04 │ <span style=\"color: #008000; text-decoration-color: #008000\">COMPLETE</span> │\n",
       "│    19 │                  3 │              12 │    301.46 │ <span style=\"color: #008000; text-decoration-color: #008000\">COMPLETE</span> │\n",
       "└───────┴────────────────────┴─────────────────┴───────────┴──────────┘\n",
       "</pre>\n"
      ],
      "text/plain": [
       "\u001b[3m                   Optimization Trials (CRPS-based)                    \u001b[0m\n",
       "┏━━━━━━━┳━━━━━━━━━━━━━━━━━━━━┳━━━━━━━━━━━━━━━━━┳━━━━━━━━━━━┳━━━━━━━━━━┓\n",
       "┃\u001b[1;36m \u001b[0m\u001b[1;36mTrial\u001b[0m\u001b[1;36m \u001b[0m┃\u001b[1;36m \u001b[0m\u001b[1;36mYearly Seasonality\u001b[0m\u001b[1;36m \u001b[0m┃\u001b[1;36m \u001b[0m\u001b[1;36mAdstock Max Lag\u001b[0m\u001b[1;36m \u001b[0m┃\u001b[1;36m \u001b[0m\u001b[1;36mTest CRPS\u001b[0m\u001b[1;36m \u001b[0m┃\u001b[1;36m \u001b[0m\u001b[1;36mStatus  \u001b[0m\u001b[1;36m \u001b[0m┃\n",
       "┡━━━━━━━╇━━━━━━━━━━━━━━━━━━━━╇━━━━━━━━━━━━━━━━━╇━━━━━━━━━━━╇━━━━━━━━━━┩\n",
       "│     0 │                  4 │              12 │    302.02 │ \u001b[32mCOMPLETE\u001b[0m │\n",
       "│     1 │                  8 │               9 │    316.97 │ \u001b[32mCOMPLETE\u001b[0m │\n",
       "│     2 │                  2 │               5 │    307.19 │ \u001b[32mCOMPLETE\u001b[0m │\n",
       "│     3 │                  1 │              11 │    307.42 │ \u001b[32mCOMPLETE\u001b[0m │\n",
       "│     4 │                  7 │              10 │    312.57 │ \u001b[32mCOMPLETE\u001b[0m │\n",
       "│     5 │                  1 │              12 │    312.61 │ \u001b[32mCOMPLETE\u001b[0m │\n",
       "│     6 │                  9 │               5 │    350.53 │ \u001b[32mCOMPLETE\u001b[0m │\n",
       "│     7 │                  2 │               5 │    306.88 │ \u001b[32mCOMPLETE\u001b[0m │\n",
       "│     8 │                  4 │               8 │    306.39 │ \u001b[32mCOMPLETE\u001b[0m │\n",
       "│     9 │                  5 │               6 │    324.57 │ \u001b[32mCOMPLETE\u001b[0m │\n",
       "│    10 │                  4 │               8 │    308.12 │ \u001b[32mCOMPLETE\u001b[0m │\n",
       "│    11 │                  4 │               8 │    304.68 │ \u001b[32mCOMPLETE\u001b[0m │\n",
       "│    12 │                  6 │               7 │    312.71 │ \u001b[32mCOMPLETE\u001b[0m │\n",
       "│    13 │                  3 │              10 │    294.71 │ \u001b[32mCOMPLETE\u001b[0m │\n",
       "│    14 │                  3 │              12 │    299.80 │ \u001b[32mCOMPLETE\u001b[0m │\n",
       "│    15 │                  3 │              10 │    304.75 │ \u001b[32mCOMPLETE\u001b[0m │\n",
       "│    16 │                  6 │              11 │    308.59 │ \u001b[32mCOMPLETE\u001b[0m │\n",
       "│    17 │                  2 │              10 │    308.21 │ \u001b[32mCOMPLETE\u001b[0m │\n",
       "│    18 │                 10 │              11 │    348.04 │ \u001b[32mCOMPLETE\u001b[0m │\n",
       "│    19 │                  3 │              12 │    301.46 │ \u001b[32mCOMPLETE\u001b[0m │\n",
       "└───────┴────────────────────┴─────────────────┴───────────┴──────────┘\n"
      ]
     },
     "metadata": {},
     "output_type": "display_data"
    }
   ],
   "source": [
    "def display_optimization_results(study: optuna.Study) -> None:\n",
    "    \"\"\"Display optimization results in a Rich table.\n",
    "    \n",
    "    Args:\n",
    "        study: Completed Optuna study\n",
    "    \"\"\"\n",
    "    console = Console()\n",
    "    \n",
    "    # Best trial summary\n",
    "    rprint(\"\\n[bold magenta]Best Trial:[/bold magenta]\")\n",
    "    rprint(f\"Trial number: [cyan]{study.best_trial.number}[/cyan]\")\n",
    "    rprint(f\"Test CRPS: [yellow]{study.best_value:.2f}[/yellow]\")\n",
    "    rprint(f\"Parameters:\")\n",
    "    for key, value in study.best_params.items():\n",
    "        rprint(f\"  - {key}: [green]{value}[/green]\")\n",
    "    \n",
    "    # All trials table\n",
    "    rprint(\"\\n[bold blue]All Trials:[/bold blue]\")\n",
    "    table = Table(\n",
    "        title=\"Optimization Trials (CRPS-based)\",\n",
    "        show_header=True,\n",
    "        header_style=\"bold cyan\"\n",
    "    )\n",
    "    \n",
    "    table.add_column(\"Trial\", justify=\"right\")\n",
    "    table.add_column(\"Yearly Seasonality\", justify=\"right\")\n",
    "    table.add_column(\"Adstock Max Lag\", justify=\"right\")\n",
    "    table.add_column(\"Test CRPS\", justify=\"right\")\n",
    "    table.add_column(\"Status\")\n",
    "    \n",
    "    for trial in study.trials:\n",
    "        status_color = \"green\" if trial.state == optuna.trial.TrialState.COMPLETE else \"red\"\n",
    "        crps_str = f\"{trial.value:.2f}\" if trial.value is not None else \"N/A\"\n",
    "        \n",
    "        table.add_row(\n",
    "            str(trial.number),\n",
    "            str(trial.params.get(\"yearly_seasonality\", \"N/A\")),\n",
    "            str(trial.params.get(\"adstock_max_lag\", \"N/A\")),\n",
    "            crps_str,\n",
    "            f\"[{status_color}]{trial.state.name}[/{status_color}]\"\n",
    "        )\n",
    "    \n",
    "    console.print(table)\n",
    "\n",
    "\n",
    "display_optimization_results(study)"
   ]
  },
  {
   "cell_type": "markdown",
   "metadata": {},
   "source": [
    "## Optimization History Visualization"
   ]
  },
  {
   "cell_type": "code",
   "execution_count": 27,
   "metadata": {},
   "outputs": [
    {
     "name": "stderr",
     "output_type": "stream",
     "text": [
      "/var/folders/90/l3_2bhf525jc3pk0d2dkc5_r0000gn/T/ipykernel_34154/1708015603.py:19: ExperimentalWarning: optuna.visualization.matplotlib._optimization_history.plot_optimization_history is experimental (supported from v2.2.0). The interface can change in the future.\n",
      "  plot_optimization_history(study)\n",
      "/var/folders/90/l3_2bhf525jc3pk0d2dkc5_r0000gn/T/ipykernel_34154/1708015603.py:24: ExperimentalWarning: optuna.visualization.matplotlib._param_importances.plot_param_importances is experimental (supported from v2.2.0). The interface can change in the future.\n",
      "  plot_param_importances(study)\n",
      "/var/folders/90/l3_2bhf525jc3pk0d2dkc5_r0000gn/T/ipykernel_34154/1708015603.py:29: ExperimentalWarning: optuna.visualization.matplotlib._contour.plot_contour is experimental (supported from v2.2.0). The interface can change in the future.\n",
      "  plot_contour(study, params=[\"yearly_seasonality\", \"adstock_max_lag\"])\n"
     ]
    },
    {
     "data": {
      "image/png": "[encoded data removed]",
      "text/plain": [
       "<Figure size 640x480 with 1 Axes>"
      ]
     },
     "metadata": {},
     "output_type": "display_data"
    },
    {
     "data": {
      "image/png": "[encoded data removed]",
      "text/plain": [
       "<Figure size 640x480 with 1 Axes>"
      ]
     },
     "metadata": {},
     "output_type": "display_data"
    },
    {
     "data": {
      "image/png": "[encoded data removed]",
      "text/plain": [
       "<Figure size 1400x1000 with 4 Axes>"
      ]
     },
     "metadata": {},
     "output_type": "display_data"
    },
    {
     "data": {
      "image/png": "[encoded data removed]",
      "text/plain": [
       "<Figure size 640x480 with 2 Axes>"
      ]
     },
     "metadata": {},
     "output_type": "display_data"
    }
   ],
   "source": [
    "import matplotlib.pyplot as plt\n",
    "from optuna.visualization.matplotlib import (\n",
    "    plot_optimization_history,\n",
    "    plot_param_importances,\n",
    "    plot_contour\n",
    ")\n",
    "\n",
    "\n",
    "def plot_optimization_results(study: optuna.Study) -> None:\n",
    "    \"\"\"Plot optimization results.\n",
    "    \n",
    "    Args:\n",
    "        study: Completed Optuna study\n",
    "    \"\"\"\n",
    "    fig, axes = plt.subplots(2, 2, figsize=(14, 10))\n",
    "    \n",
    "    # Optimization history\n",
    "    plt.sca(axes[0, 0])\n",
    "    plot_optimization_history(study)\n",
    "    axes[0, 0].set_title(\"Optimization History (Test CRPS)\")\n",
    "    \n",
    "    # Parameter importances\n",
    "    plt.sca(axes[0, 1])\n",
    "    plot_param_importances(study)\n",
    "    axes[0, 1].set_title(\"Parameter Importances\")\n",
    "    \n",
    "    # Contour plot\n",
    "    plt.sca(axes[1, 0])\n",
    "    plot_contour(study, params=[\"yearly_seasonality\", \"adstock_max_lag\"])\n",
    "    axes[1, 0].set_title(\"Parameter Relationship\")\n",
    "    \n",
    "    # CRPS distribution\n",
    "    crps_values = [t.value for t in study.trials if t.value is not None]\n",
    "    axes[1, 1].hist(crps_values, bins=20, edgecolor='black', alpha=0.7)\n",
    "    axes[1, 1].axvline(study.best_value, color='red', linestyle='--', label='Best Test CRPS')\n",
    "    axes[1, 1].set_xlabel('Test CRPS')\n",
    "    axes[1, 1].set_ylabel('Frequency')\n",
    "    axes[1, 1].set_title('Test CRPS Distribution')\n",
    "    axes[1, 1].legend()\n",
    "    \n",
    "    plt.tight_layout()\n",
    "    plt.show()\n",
    "\n",
    "\n",
    "plot_optimization_results(study)"
   ]
  },
  {
   "cell_type": "markdown",
   "metadata": {},
   "source": [
    "## Fit Final Model on Full Dataset\n",
    "\n",
    "Now refit the model with optimal parameters on the **full dataset** (all 104 weeks) using production-quality MCMC settings.\n",
    "\n",
    "**Note**: Progress bar disabled for NumPyro to avoid Jupyter kernel issues."
   ]
  },
  {
   "cell_type": "code",
   "execution_count": 28,
   "metadata": {},
   "outputs": [
    {
     "data": {
      "text/html": [
       "<pre style=\"white-space:pre;overflow-x:auto;line-height:normal;font-family:Menlo,'DejaVu Sans Mono',consolas,'Courier New',monospace\">\n",
       "<span style=\"color: #800080; text-decoration-color: #800080; font-weight: bold\">Fitting final model on FULL dataset with optimal hyperparameters...</span>\n",
       "</pre>\n"
      ],
      "text/plain": [
       "\n",
       "\u001b[1;35mFitting final model on FULL dataset with optimal hyperparameters\u001b[0m\u001b[1;35m...\u001b[0m\n"
      ]
     },
     "metadata": {},
     "output_type": "display_data"
    },
    {
     "data": {
      "text/html": [
       "<pre style=\"white-space:pre;overflow-x:auto;line-height:normal;font-family:Menlo,'DejaVu Sans Mono',consolas,'Courier New',monospace\">yearly_seasonality: <span style=\"color: #008000; text-decoration-color: #008000; font-weight: bold\">3</span>\n",
       "</pre>\n"
      ],
      "text/plain": [
       "yearly_seasonality: \u001b[1;32m3\u001b[0m\n"
      ]
     },
     "metadata": {},
     "output_type": "display_data"
    },
    {
     "data": {
      "text/html": [
       "<pre style=\"white-space:pre;overflow-x:auto;line-height:normal;font-family:Menlo,'DejaVu Sans Mono',consolas,'Courier New',monospace\">adstock_max_lag: <span style=\"color: #008000; text-decoration-color: #008000; font-weight: bold\">10</span>\n",
       "</pre>\n"
      ],
      "text/plain": [
       "adstock_max_lag: \u001b[1;32m10\u001b[0m\n"
      ]
     },
     "metadata": {},
     "output_type": "display_data"
    },
    {
     "data": {
      "text/html": [
       "<pre style=\"white-space:pre;overflow-x:auto;line-height:normal;font-family:Menlo,'DejaVu Sans Mono',consolas,'Courier New',monospace\">MCMC settings: <span style=\"color: #008080; text-decoration-color: #008080; font-weight: bold\">2000</span> draws, <span style=\"color: #008080; text-decoration-color: #008080; font-weight: bold\">2000</span> tune, <span style=\"color: #008080; text-decoration-color: #008080; font-weight: bold\">4</span> chains\n",
       "</pre>\n"
      ],
      "text/plain": [
       "MCMC settings: \u001b[1;36m2000\u001b[0m draws, \u001b[1;36m2000\u001b[0m tune, \u001b[1;36m4\u001b[0m chains\n"
      ]
     },
     "metadata": {},
     "output_type": "display_data"
    },
    {
     "data": {
      "text/html": [
       "<pre style=\"white-space:pre;overflow-x:auto;line-height:normal;font-family:Menlo,'DejaVu Sans Mono',consolas,'Courier New',monospace\">\n",
       "<span style=\"color: #808000; text-decoration-color: #808000; font-weight: bold\">Convergence requirements (strict):</span>\n",
       "</pre>\n"
      ],
      "text/plain": [
       "\n",
       "\u001b[1;33mConvergence requirements \u001b[0m\u001b[1;33m(\u001b[0m\u001b[1;33mstrict\u001b[0m\u001b[1;33m)\u001b[0m\u001b[1;33m:\u001b[0m\n"
      ]
     },
     "metadata": {},
     "output_type": "display_data"
    },
    {
     "data": {
      "text/html": [
       "<pre style=\"white-space:pre;overflow-x:auto;line-height:normal;font-family:Menlo,'DejaVu Sans Mono',consolas,'Courier New',monospace\">Divergences: <span style=\"font-weight: bold\">&lt;</span><span style=\"color: #008080; text-decoration-color: #008080; font-weight: bold\">1</span><span style=\"color: #000000; text-decoration-color: #000000\">%, R-hat: &lt;</span><span style=\"color: #008080; text-decoration-color: #008080; font-weight: bold\">1.01</span><span style=\"color: #000000; text-decoration-color: #000000\">, ESS: </span><span style=\"font-weight: bold\">&gt;</span><span style=\"color: #008080; text-decoration-color: #008080; font-weight: bold\">400</span>\n",
       "\n",
       "</pre>\n"
      ],
      "text/plain": [
       "Divergences: \u001b[1m<\u001b[0m\u001b[1;36m1\u001b[0m\u001b[39m%, R-hat: <\u001b[0m\u001b[1;36m1.01\u001b[0m\u001b[39m, ESS: \u001b[0m\u001b[1m>\u001b[0m\u001b[1;36m400\u001b[0m\n",
       "\n"
      ]
     },
     "metadata": {},
     "output_type": "display_data"
    },
    {
     "data": {
      "application/vnd.jupyter.widget-view+json": {
       "model_id": "9abf618a512a4fc997c7a6600397d402",
       "version_major": 2,
       "version_minor": 0
      },
      "text/plain": [
       "Output()"
      ]
     },
     "metadata": {},
     "output_type": "display_data"
    },
    {
     "data": {
      "text/html": [
       "<pre style=\"white-space:pre;overflow-x:auto;line-height:normal;font-family:Menlo,'DejaVu Sans Mono',consolas,'Courier New',monospace\"></pre>\n"
      ],
      "text/plain": []
     },
     "metadata": {},
     "output_type": "display_data"
    },
    {
     "data": {
      "text/html": [
       "<pre style=\"white-space:pre;overflow-x:auto;line-height:normal;font-family:Menlo,'DejaVu Sans Mono',consolas,'Courier New',monospace\"><span style=\"color: #008000; text-decoration-color: #008000\">✓ Model CONVERGED:</span> <span style=\"color: #808000; text-decoration-color: #808000\">divergences</span>=<span style=\"color: #008080; text-decoration-color: #008080; font-weight: bold\">0.0</span>%, <span style=\"color: #808000; text-decoration-color: #808000\">max_rhat</span>=<span style=\"color: #008080; text-decoration-color: #008080; font-weight: bold\">1.003</span>, <span style=\"color: #808000; text-decoration-color: #808000\">min_ess</span>=<span style=\"color: #008080; text-decoration-color: #008080; font-weight: bold\">2563</span>\n",
       "</pre>\n"
      ],
      "text/plain": [
       "\u001b[32m✓ Model CONVERGED:\u001b[0m \u001b[33mdivergences\u001b[0m=\u001b[1;36m0\u001b[0m\u001b[1;36m.0\u001b[0m%, \u001b[33mmax_rhat\u001b[0m=\u001b[1;36m1\u001b[0m\u001b[1;36m.003\u001b[0m, \u001b[33mmin_ess\u001b[0m=\u001b[1;36m2563\u001b[0m\n"
      ]
     },
     "metadata": {},
     "output_type": "display_data"
    },
    {
     "data": {
      "text/html": [
       "<pre style=\"white-space:pre;overflow-x:auto;line-height:normal;font-family:Menlo,'DejaVu Sans Mono',consolas,'Courier New',monospace\"><span style=\"color: #008000; text-decoration-color: #008000; font-weight: bold\">Final model fitted and converged successfully!</span>\n",
       "</pre>\n"
      ],
      "text/plain": [
       "\u001b[1;32mFinal model fitted and converged successfully!\u001b[0m\n"
      ]
     },
     "metadata": {},
     "output_type": "display_data"
    }
   ],
   "source": [
    "def fit_final_model(\n",
    "    X: pd.DataFrame,\n",
    "    y: pd.Series,\n",
    "    channel_columns: list[str],\n",
    "    control_columns: list[str],\n",
    "    best_params: dict[str, Any],\n",
    "    draws: int,\n",
    "    tune: int,\n",
    "    chains: int,\n",
    "    random_seed: int,\n",
    "    divergence_threshold: float,\n",
    "    rhat_threshold: float,\n",
    "    ess_threshold: float,\n",
    "    nuts_sampler: str = \"pymc\"\n",
    ") -> MMM:\n",
    "    \"\"\"Fit final MMM model on full dataset with optimal hyperparameters.\n",
    "    \n",
    "    Args:\n",
    "        X: Full dataset features\n",
    "        y: Full dataset target\n",
    "        channel_columns: List of channel column names\n",
    "        control_columns: List of control column names\n",
    "        best_params: Dictionary of optimal hyperparameters\n",
    "        draws: Number of MCMC draws\n",
    "        tune: Number of tuning steps\n",
    "        chains: Number of MCMC chains\n",
    "        random_seed: Random seed for reproducibility\n",
    "        divergence_threshold: Maximum allowed divergence rate\n",
    "        rhat_threshold: Maximum allowed R-hat value\n",
    "        ess_threshold: Minimum required effective sample size\n",
    "        nuts_sampler: NUTS sampler to use\n",
    "        \n",
    "    Returns:\n",
    "        Fitted MMM model\n",
    "        \n",
    "    Raises:\n",
    "        RuntimeError: If final model fails to converge\n",
    "    \"\"\"\n",
    "    rprint(\"\\n[bold magenta]Fitting final model on FULL dataset with optimal hyperparameters...[/bold magenta]\")\n",
    "    rprint(f\"yearly_seasonality: [green]{best_params['yearly_seasonality']}[/green]\")\n",
    "    rprint(f\"adstock_max_lag: [green]{best_params['adstock_max_lag']}[/green]\")\n",
    "    rprint(f\"MCMC settings: {draws} draws, {tune} tune, {chains} chains\")\n",
    "    rprint(f\"\\n[bold yellow]Convergence requirements (strict):[/bold yellow]\")\n",
    "    rprint(f\"Divergences: <{divergence_threshold*100:.0f}%, R-hat: <{rhat_threshold}, ESS: >{ess_threshold}\\n\")\n",
    "    \n",
    "    # Create model\n",
    "    mmm = MMM(\n",
    "        date_column=\"date\",\n",
    "        channel_columns=channel_columns,\n",
    "        control_columns=control_columns,\n",
    "        adstock=GeometricAdstock(l_max=best_params[\"adstock_max_lag\"]),\n",
    "        saturation=LogisticSaturation(),\n",
    "        yearly_seasonality=best_params[\"yearly_seasonality\"]\n",
    "    )\n",
    "    \n",
    "    # Fit model on FULL dataset\n",
    "    mmm.fit(\n",
    "        X=X,\n",
    "        y=y,\n",
    "        draws=draws,\n",
    "        tune=tune,\n",
    "        chains=chains,\n",
    "        nuts_sampler=nuts_sampler,\n",
    "        random_seed=random_seed,\n",
    "        progressbar=False if nuts_sampler == \"numpyro\" else True\n",
    "    )\n",
    "    \n",
    "    # Check convergence\n",
    "    converged, diagnostics = check_convergence(\n",
    "        mmm=mmm,\n",
    "        divergence_threshold=divergence_threshold,\n",
    "        rhat_threshold=rhat_threshold,\n",
    "        ess_threshold=ess_threshold\n",
    "    )\n",
    "    \n",
    "    if not converged:\n",
    "        error_msg = (\n",
    "            f\"Final model failed to converge:\\n\"\n",
    "            f\"  Divergences: {diagnostics['divergence_rate']*100:.1f}% (threshold: <{divergence_threshold*100:.0f}%)\\n\"\n",
    "            f\"  Max R-hat: {diagnostics['max_rhat']:.3f} (threshold: <{rhat_threshold})\\n\"\n",
    "            f\"  Min ESS: {diagnostics['min_ess']:.0f} (threshold: >{ess_threshold})\\n\"\n",
    "        )\n",
    "        rprint(f\"[bold red]{error_msg}[/bold red]\")\n",
    "        raise RuntimeError(error_msg)\n",
    "    \n",
    "    rprint(\"[bold green]Final model fitted and converged successfully![/bold green]\")\n",
    "    \n",
    "    return mmm\n",
    "\n",
    "\n",
    "# Prepare full dataset\n",
    "df_full_pandas = df.to_pandas()\n",
    "X_full = df_full_pandas.drop(columns=[\"y\"])\n",
    "y_full = df_full_pandas[\"y\"]\n",
    "\n",
    "# Fit final model\n",
    "final_mmm = fit_final_model(\n",
    "    X=X_full,\n",
    "    y=y_full,\n",
    "    channel_columns=channel_columns,\n",
    "    control_columns=control_columns,\n",
    "    best_params=study.best_params,\n",
    "    draws=FINAL_DRAWS,\n",
    "    tune=FINAL_TUNE,\n",
    "    chains=FINAL_CHAINS,\n",
    "    random_seed=RANDOM_SEED,\n",
    "    divergence_threshold=FINAL_DIVERGENCE_THRESHOLD,\n",
    "    rhat_threshold=FINAL_RHAT_THRESHOLD,\n",
    "    ess_threshold=FINAL_ESS_THRESHOLD,\n",
    "    nuts_sampler=NUTS_SAMPLER\n",
    ")"
   ]
  },
  {
   "cell_type": "markdown",
   "metadata": {},
   "source": [
    "## Final Model Summary"
   ]
  },
  {
   "cell_type": "code",
   "execution_count": 29,
   "metadata": {},
   "outputs": [
    {
     "data": {
      "text/html": [
       "<pre style=\"white-space:pre;overflow-x:auto;line-height:normal;font-family:Menlo,'DejaVu Sans Mono',consolas,'Courier New',monospace\"><span style=\"color: #800080; text-decoration-color: #800080; font-weight: bold\">Final Model Fit Summary:</span>\n",
       "</pre>\n"
      ],
      "text/plain": [
       "\u001b[1;35mFinal Model Fit Summary:\u001b[0m\n"
      ]
     },
     "metadata": {},
     "output_type": "display_data"
    },
    {
     "data": {
      "text/html": [
       "<div>\n",
       "<style scoped>\n",
       "    .dataframe tbody tr th:only-of-type {\n",
       "        vertical-align: middle;\n",
       "    }\n",
       "\n",
       "    .dataframe tbody tr th {\n",
       "        vertical-align: top;\n",
       "    }\n",
       "\n",
       "    .dataframe thead th {\n",
       "        text-align: right;\n",
       "    }\n",
       "</style>\n",
       "<table border=\"1\" class=\"dataframe\">\n",
       "  <thead>\n",
       "    <tr style=\"text-align: right;\">\n",
       "      <th></th>\n",
       "      <th>mean</th>\n",
       "      <th>sd</th>\n",
       "      <th>hdi_3%</th>\n",
       "      <th>hdi_97%</th>\n",
       "      <th>mcse_mean</th>\n",
       "      <th>mcse_sd</th>\n",
       "      <th>ess_bulk</th>\n",
       "      <th>ess_tail</th>\n",
       "      <th>r_hat</th>\n",
       "    </tr>\n",
       "  </thead>\n",
       "  <tbody>\n",
       "    <tr>\n",
       "      <th>intercept</th>\n",
       "      <td>0.404</td>\n",
       "      <td>0.015</td>\n",
       "      <td>0.377</td>\n",
       "      <td>0.431</td>\n",
       "      <td>0.000</td>\n",
       "      <td>0.000</td>\n",
       "      <td>4125.0</td>\n",
       "      <td>5363.0</td>\n",
       "      <td>1.0</td>\n",
       "    </tr>\n",
       "    <tr>\n",
       "      <th>gamma_control[c1]</th>\n",
       "      <td>-0.000</td>\n",
       "      <td>0.000</td>\n",
       "      <td>-0.000</td>\n",
       "      <td>0.000</td>\n",
       "      <td>0.000</td>\n",
       "      <td>0.000</td>\n",
       "      <td>6519.0</td>\n",
       "      <td>6906.0</td>\n",
       "      <td>1.0</td>\n",
       "    </tr>\n",
       "    <tr>\n",
       "      <th>gamma_control[c2]</th>\n",
       "      <td>-0.000</td>\n",
       "      <td>0.000</td>\n",
       "      <td>-0.001</td>\n",
       "      <td>0.000</td>\n",
       "      <td>0.000</td>\n",
       "      <td>0.000</td>\n",
       "      <td>7189.0</td>\n",
       "      <td>5690.0</td>\n",
       "      <td>1.0</td>\n",
       "    </tr>\n",
       "    <tr>\n",
       "      <th>gamma_fourier[sin_1]</th>\n",
       "      <td>0.083</td>\n",
       "      <td>0.006</td>\n",
       "      <td>0.072</td>\n",
       "      <td>0.094</td>\n",
       "      <td>0.000</td>\n",
       "      <td>0.000</td>\n",
       "      <td>6657.0</td>\n",
       "      <td>5711.0</td>\n",
       "      <td>1.0</td>\n",
       "    </tr>\n",
       "    <tr>\n",
       "      <th>gamma_fourier[sin_2]</th>\n",
       "      <td>-0.001</td>\n",
       "      <td>0.006</td>\n",
       "      <td>-0.012</td>\n",
       "      <td>0.010</td>\n",
       "      <td>0.000</td>\n",
       "      <td>0.000</td>\n",
       "      <td>7899.0</td>\n",
       "      <td>6043.0</td>\n",
       "      <td>1.0</td>\n",
       "    </tr>\n",
       "    <tr>\n",
       "      <th>...</th>\n",
       "      <td>...</td>\n",
       "      <td>...</td>\n",
       "      <td>...</td>\n",
       "      <td>...</td>\n",
       "      <td>...</td>\n",
       "      <td>...</td>\n",
       "      <td>...</td>\n",
       "      <td>...</td>\n",
       "      <td>...</td>\n",
       "    </tr>\n",
       "    <tr>\n",
       "      <th>y_original_scale[2021-11-28T00:00:00.000000000]</th>\n",
       "      <td>6444.404</td>\n",
       "      <td>234.856</td>\n",
       "      <td>5968.184</td>\n",
       "      <td>6855.832</td>\n",
       "      <td>3.243</td>\n",
       "      <td>2.363</td>\n",
       "      <td>5247.0</td>\n",
       "      <td>5601.0</td>\n",
       "      <td>1.0</td>\n",
       "    </tr>\n",
       "    <tr>\n",
       "      <th>y_original_scale[2021-12-05T00:00:00.000000000]</th>\n",
       "      <td>10224.711</td>\n",
       "      <td>218.787</td>\n",
       "      <td>9818.985</td>\n",
       "      <td>10643.265</td>\n",
       "      <td>2.586</td>\n",
       "      <td>1.988</td>\n",
       "      <td>7170.0</td>\n",
       "      <td>6839.0</td>\n",
       "      <td>1.0</td>\n",
       "    </tr>\n",
       "    <tr>\n",
       "      <th>y_original_scale[2021-12-12T00:00:00.000000000]</th>\n",
       "      <td>7996.087</td>\n",
       "      <td>213.479</td>\n",
       "      <td>7603.339</td>\n",
       "      <td>8397.947</td>\n",
       "      <td>2.733</td>\n",
       "      <td>2.118</td>\n",
       "      <td>6101.0</td>\n",
       "      <td>5988.0</td>\n",
       "      <td>1.0</td>\n",
       "    </tr>\n",
       "    <tr>\n",
       "      <th>y_original_scale[2021-12-19T00:00:00.000000000]</th>\n",
       "      <td>10556.071</td>\n",
       "      <td>223.452</td>\n",
       "      <td>10149.545</td>\n",
       "      <td>10982.518</td>\n",
       "      <td>2.810</td>\n",
       "      <td>1.957</td>\n",
       "      <td>6314.0</td>\n",
       "      <td>6866.0</td>\n",
       "      <td>1.0</td>\n",
       "    </tr>\n",
       "    <tr>\n",
       "      <th>y_original_scale[2021-12-26T00:00:00.000000000]</th>\n",
       "      <td>10294.684</td>\n",
       "      <td>217.493</td>\n",
       "      <td>9889.482</td>\n",
       "      <td>10712.578</td>\n",
       "      <td>2.880</td>\n",
       "      <td>2.005</td>\n",
       "      <td>5717.0</td>\n",
       "      <td>6604.0</td>\n",
       "      <td>1.0</td>\n",
       "    </tr>\n",
       "  </tbody>\n",
       "</table>\n",
       "<p>2415 rows × 9 columns</p>\n",
       "</div>"
      ],
      "text/plain": [
       "                                                      mean       sd  \\\n",
       "intercept                                            0.404    0.015   \n",
       "gamma_control[c1]                                   -0.000    0.000   \n",
       "gamma_control[c2]                                   -0.000    0.000   \n",
       "gamma_fourier[sin_1]                                 0.083    0.006   \n",
       "gamma_fourier[sin_2]                                -0.001    0.006   \n",
       "...                                                    ...      ...   \n",
       "y_original_scale[2021-11-28T00:00:00.000000000]   6444.404  234.856   \n",
       "y_original_scale[2021-12-05T00:00:00.000000000]  10224.711  218.787   \n",
       "y_original_scale[2021-12-12T00:00:00.000000000]   7996.087  213.479   \n",
       "y_original_scale[2021-12-19T00:00:00.000000000]  10556.071  223.452   \n",
       "y_original_scale[2021-12-26T00:00:00.000000000]  10294.684  217.493   \n",
       "\n",
       "                                                    hdi_3%    hdi_97%  \\\n",
       "intercept                                            0.377      0.431   \n",
       "gamma_control[c1]                                   -0.000      0.000   \n",
       "gamma_control[c2]                                   -0.001      0.000   \n",
       "gamma_fourier[sin_1]                                 0.072      0.094   \n",
       "gamma_fourier[sin_2]                                -0.012      0.010   \n",
       "...                                                    ...        ...   \n",
       "y_original_scale[2021-11-28T00:00:00.000000000]   5968.184   6855.832   \n",
       "y_original_scale[2021-12-05T00:00:00.000000000]   9818.985  10643.265   \n",
       "y_original_scale[2021-12-12T00:00:00.000000000]   7603.339   8397.947   \n",
       "y_original_scale[2021-12-19T00:00:00.000000000]  10149.545  10982.518   \n",
       "y_original_scale[2021-12-26T00:00:00.000000000]   9889.482  10712.578   \n",
       "\n",
       "                                                 mcse_mean  mcse_sd  ess_bulk  \\\n",
       "intercept                                            0.000    0.000    4125.0   \n",
       "gamma_control[c1]                                    0.000    0.000    6519.0   \n",
       "gamma_control[c2]                                    0.000    0.000    7189.0   \n",
       "gamma_fourier[sin_1]                                 0.000    0.000    6657.0   \n",
       "gamma_fourier[sin_2]                                 0.000    0.000    7899.0   \n",
       "...                                                    ...      ...       ...   \n",
       "y_original_scale[2021-11-28T00:00:00.000000000]      3.243    2.363    5247.0   \n",
       "y_original_scale[2021-12-05T00:00:00.000000000]      2.586    1.988    7170.0   \n",
       "y_original_scale[2021-12-12T00:00:00.000000000]      2.733    2.118    6101.0   \n",
       "y_original_scale[2021-12-19T00:00:00.000000000]      2.810    1.957    6314.0   \n",
       "y_original_scale[2021-12-26T00:00:00.000000000]      2.880    2.005    5717.0   \n",
       "\n",
       "                                                 ess_tail  r_hat  \n",
       "intercept                                          5363.0    1.0  \n",
       "gamma_control[c1]                                  6906.0    1.0  \n",
       "gamma_control[c2]                                  5690.0    1.0  \n",
       "gamma_fourier[sin_1]                               5711.0    1.0  \n",
       "gamma_fourier[sin_2]                               6043.0    1.0  \n",
       "...                                                   ...    ...  \n",
       "y_original_scale[2021-11-28T00:00:00.000000000]    5601.0    1.0  \n",
       "y_original_scale[2021-12-05T00:00:00.000000000]    6839.0    1.0  \n",
       "y_original_scale[2021-12-12T00:00:00.000000000]    5988.0    1.0  \n",
       "y_original_scale[2021-12-19T00:00:00.000000000]    6866.0    1.0  \n",
       "y_original_scale[2021-12-26T00:00:00.000000000]    6604.0    1.0  \n",
       "\n",
       "[2415 rows x 9 columns]"
      ]
     },
     "execution_count": 29,
     "metadata": {},
     "output_type": "execute_result"
    }
   ],
   "source": [
    "# Display fit summary\n",
    "with warnings.catch_warnings():\n",
    "    warnings.filterwarnings(\"ignore\", message=\"invalid value encountered in scalar divide\")\n",
    "    summary = az.summary(final_mmm.idata)\n",
    "\n",
    "rprint(\"[bold magenta]Final Model Fit Summary:[/bold magenta]\")\n",
    "summary"
   ]
  },
  {
   "cell_type": "markdown",
   "metadata": {},
   "source": [
    "## Evaluate Final Model on Train and Test Sets\n",
    "\n",
    "Compute CRPS on both train and test sets to assess model performance."
   ]
  },
  {
   "cell_type": "code",
   "execution_count": 30,
   "metadata": {},
   "outputs": [
    {
     "data": {
      "text/html": [
       "<pre style=\"white-space:pre;overflow-x:auto;line-height:normal;font-family:Menlo,'DejaVu Sans Mono',consolas,'Courier New',monospace\">\n",
       "<span style=\"color: #000080; text-decoration-color: #000080; font-weight: bold\">Evaluating final model on train and test sets...</span>\n",
       "</pre>\n"
      ],
      "text/plain": [
       "\n",
       "\u001b[1;34mEvaluating final model on train and test sets\u001b[0m\u001b[1;34m...\u001b[0m\n"
      ]
     },
     "metadata": {},
     "output_type": "display_data"
    },
    {
     "data": {
      "text/html": [
       "<pre style=\"white-space:pre;overflow-x:auto;line-height:normal;font-family:Menlo,'DejaVu Sans Mono',consolas,'Courier New',monospace\">Computing train CRPS<span style=\"color: #808000; text-decoration-color: #808000\">...</span>\n",
       "</pre>\n"
      ],
      "text/plain": [
       "Computing train CRPS\u001b[33m...\u001b[0m\n"
      ]
     },
     "metadata": {},
     "output_type": "display_data"
    },
    {
     "name": "stderr",
     "output_type": "stream",
     "text": [
      "Sampling: [y]\n"
     ]
    },
    {
     "data": {
      "application/vnd.jupyter.widget-view+json": {
       "model_id": "9c7b506792254219900211274d5ef162",
       "version_major": 2,
       "version_minor": 0
      },
      "text/plain": [
       "Output()"
      ]
     },
     "metadata": {},
     "output_type": "display_data"
    },
    {
     "data": {
      "text/html": [
       "<pre style=\"white-space:pre;overflow-x:auto;line-height:normal;font-family:Menlo,'DejaVu Sans Mono',consolas,'Courier New',monospace\"></pre>\n"
      ],
      "text/plain": []
     },
     "metadata": {},
     "output_type": "display_data"
    },
    {
     "data": {
      "text/html": [
       "<pre style=\"white-space:pre;overflow-x:auto;line-height:normal;font-family:Menlo,'DejaVu Sans Mono',consolas,'Courier New',monospace\">Computing test CRPS<span style=\"color: #808000; text-decoration-color: #808000\">...</span>\n",
       "</pre>\n"
      ],
      "text/plain": [
       "Computing test CRPS\u001b[33m...\u001b[0m\n"
      ]
     },
     "metadata": {},
     "output_type": "display_data"
    },
    {
     "name": "stderr",
     "output_type": "stream",
     "text": [
      "Sampling: [y]\n"
     ]
    },
    {
     "data": {
      "application/vnd.jupyter.widget-view+json": {
       "model_id": "e1dbc5ff116f4b52b4948de7a3805daf",
       "version_major": 2,
       "version_minor": 0
      },
      "text/plain": [
       "Output()"
      ]
     },
     "metadata": {},
     "output_type": "display_data"
    },
    {
     "data": {
      "text/html": [
       "<pre style=\"white-space:pre;overflow-x:auto;line-height:normal;font-family:Menlo,'DejaVu Sans Mono',consolas,'Courier New',monospace\"></pre>\n"
      ],
      "text/plain": []
     },
     "metadata": {},
     "output_type": "display_data"
    },
    {
     "data": {
      "text/html": [
       "<pre style=\"white-space:pre;overflow-x:auto;line-height:normal;font-family:Menlo,'DejaVu Sans Mono',consolas,'Courier New',monospace\">\n",
       "\n",
       "</pre>\n"
      ],
      "text/plain": [
       "\n",
       "\n"
      ]
     },
     "metadata": {},
     "output_type": "display_data"
    },
    {
     "data": {
      "text/html": [
       "<pre style=\"white-space:pre;overflow-x:auto;line-height:normal;font-family:Menlo,'DejaVu Sans Mono',consolas,'Courier New',monospace\"><span style=\"font-style: italic\">                   Final Model CRPS Evaluation                   </span>\n",
       "┏━━━━━━━━━┳━━━━━━━━┳━━━━━━━━━━━━━━━━━━━━━━━━━━━━━━━━━━━━━━━━━━━━┓\n",
       "┃<span style=\"color: #008000; text-decoration-color: #008000; font-weight: bold\"> Dataset </span>┃<span style=\"color: #008000; text-decoration-color: #008000; font-weight: bold\">   CRPS </span>┃<span style=\"color: #008000; text-decoration-color: #008000; font-weight: bold\"> Note                                       </span>┃\n",
       "┡━━━━━━━━━╇━━━━━━━━╇━━━━━━━━━━━━━━━━━━━━━━━━━━━━━━━━━━━━━━━━━━━━┩\n",
       "│<span style=\"color: #008080; text-decoration-color: #008080\"> Train   </span>│ 265.93 │ Expected to be lower (fitted on this data) │\n",
       "│<span style=\"color: #008080; text-decoration-color: #008080\"> Test    </span>│ 260.06 │ Generalization performance                 │\n",
       "└─────────┴────────┴────────────────────────────────────────────┘\n",
       "</pre>\n"
      ],
      "text/plain": [
       "\u001b[3m                   Final Model CRPS Evaluation                   \u001b[0m\n",
       "┏━━━━━━━━━┳━━━━━━━━┳━━━━━━━━━━━━━━━━━━━━━━━━━━━━━━━━━━━━━━━━━━━━┓\n",
       "┃\u001b[1;32m \u001b[0m\u001b[1;32mDataset\u001b[0m\u001b[1;32m \u001b[0m┃\u001b[1;32m \u001b[0m\u001b[1;32m  CRPS\u001b[0m\u001b[1;32m \u001b[0m┃\u001b[1;32m \u001b[0m\u001b[1;32mNote                                      \u001b[0m\u001b[1;32m \u001b[0m┃\n",
       "┡━━━━━━━━━╇━━━━━━━━╇━━━━━━━━━━━━━━━━━━━━━━━━━━━━━━━━━━━━━━━━━━━━┩\n",
       "│\u001b[36m \u001b[0m\u001b[36mTrain  \u001b[0m\u001b[36m \u001b[0m│ 265.93 │ Expected to be lower (fitted on this data) │\n",
       "│\u001b[36m \u001b[0m\u001b[36mTest   \u001b[0m\u001b[36m \u001b[0m│ 260.06 │ Generalization performance                 │\n",
       "└─────────┴────────┴────────────────────────────────────────────┘\n"
      ]
     },
     "metadata": {},
     "output_type": "display_data"
    }
   ],
   "source": [
    "def evaluate_final_model(\n",
    "    mmm: MMM,\n",
    "    X_train: pd.DataFrame,\n",
    "    y_train: pd.Series,\n",
    "    X_test: pd.DataFrame,\n",
    "    y_test: pd.Series\n",
    ") -> dict[str, float]:\n",
    "    \"\"\"Evaluate final model on train and test sets.\n",
    "    \n",
    "    Args:\n",
    "        mmm: Fitted MMM model on full dataset\n",
    "        X_train: Training features\n",
    "        y_train: Training target\n",
    "        X_test: Test features\n",
    "        y_test: Test target\n",
    "        \n",
    "    Returns:\n",
    "        Dictionary with train and test CRPS scores\n",
    "    \"\"\"\n",
    "    rprint(\"\\n[bold blue]Evaluating final model on train and test sets...[/bold blue]\")\n",
    "    \n",
    "    # Evaluate on train set\n",
    "    rprint(\"Computing train CRPS...\")\n",
    "    train_crps = compute_test_crps(mmm, X_train, y_train)\n",
    "    \n",
    "    # Evaluate on test set\n",
    "    rprint(\"Computing test CRPS...\")\n",
    "    test_crps = compute_test_crps(mmm, X_test, y_test)\n",
    "    \n",
    "    # Display results\n",
    "    console = Console()\n",
    "    table = Table(\n",
    "        title=\"Final Model CRPS Evaluation\",\n",
    "        show_header=True,\n",
    "        header_style=\"bold green\"\n",
    "    )\n",
    "    \n",
    "    table.add_column(\"Dataset\", style=\"cyan\")\n",
    "    table.add_column(\"CRPS\", justify=\"right\")\n",
    "    table.add_column(\"Note\")\n",
    "    \n",
    "    table.add_row(\"Train\", f\"{train_crps:.2f}\", \"Expected to be lower (fitted on this data)\")\n",
    "    table.add_row(\"Test\", f\"{test_crps:.2f}\", \"Generalization performance\")\n",
    "    \n",
    "    console.print(\"\\n\")\n",
    "    console.print(table)\n",
    "    \n",
    "    return {\"train_crps\": train_crps, \"test_crps\": test_crps}\n",
    "\n",
    "\n",
    "# Evaluate final model\n",
    "evaluation_results = evaluate_final_model(\n",
    "    mmm=final_mmm,\n",
    "    X_train=X_train,\n",
    "    y_train=y_train,\n",
    "    X_test=X_test,\n",
    "    y_test=y_test\n",
    ")"
   ]
  },
  {
   "cell_type": "markdown",
   "metadata": {},
   "source": [
    "## Visualize Predictions\n",
    "\n",
    "Plot posterior predictive samples vs actual values for train and test sets."
   ]
  },
  {
   "cell_type": "code",
   "execution_count": 31,
   "metadata": {},
   "outputs": [
    {
     "data": {
      "text/html": [
       "<pre style=\"white-space:pre;overflow-x:auto;line-height:normal;font-family:Menlo,'DejaVu Sans Mono',consolas,'Courier New',monospace\">\n",
       "<span style=\"color: #000080; text-decoration-color: #000080; font-weight: bold\">Generating prediction plots...</span>\n",
       "</pre>\n"
      ],
      "text/plain": [
       "\n",
       "\u001b[1;34mGenerating prediction plots\u001b[0m\u001b[1;34m...\u001b[0m\n"
      ]
     },
     "metadata": {},
     "output_type": "display_data"
    },
    {
     "name": "stderr",
     "output_type": "stream",
     "text": [
      "Sampling: [y]\n"
     ]
    },
    {
     "data": {
      "application/vnd.jupyter.widget-view+json": {
       "model_id": "6e6a91d91021466caa5dea1e8c571f87",
       "version_major": 2,
       "version_minor": 0
      },
      "text/plain": [
       "Output()"
      ]
     },
     "metadata": {},
     "output_type": "display_data"
    },
    {
     "data": {
      "text/html": [
       "<pre style=\"white-space:pre;overflow-x:auto;line-height:normal;font-family:Menlo,'DejaVu Sans Mono',consolas,'Courier New',monospace\"></pre>\n"
      ],
      "text/plain": []
     },
     "metadata": {},
     "output_type": "display_data"
    },
    {
     "data": {
      "image/png": "[encoded data removed]",
      "text/plain": [
       "<Figure size 1500x600 with 1 Axes>"
      ]
     },
     "metadata": {},
     "output_type": "display_data"
    },
    {
     "data": {
      "text/html": [
       "<pre style=\"white-space:pre;overflow-x:auto;line-height:normal;font-family:Menlo,'DejaVu Sans Mono',consolas,'Courier New',monospace\"><span style=\"color: #008000; text-decoration-color: #008000; font-weight: bold\">Prediction plot generated successfully!</span>\n",
       "</pre>\n"
      ],
      "text/plain": [
       "\u001b[1;32mPrediction plot generated successfully!\u001b[0m\n"
      ]
     },
     "metadata": {},
     "output_type": "display_data"
    }
   ],
   "source": [
    "import matplotlib.pyplot as plt\n",
    "\n",
    "\n",
    "def plot_predictions(\n",
    "    mmm: MMM,\n",
    "    df_full: pl.DataFrame,\n",
    "    df_train: pl.DataFrame,\n",
    "    df_test: pl.DataFrame,\n",
    "    X_full: pd.DataFrame\n",
    ") -> None:\n",
    "    \"\"\"Plot model predictions vs actual values.\n",
    "\n",
    "    The model was fitted on the full dataset, so we sample posterior predictive\n",
    "    on the full dataset and then split it into train/test for visualization.\n",
    "\n",
    "    Args:\n",
    "        mmm: Fitted MMM model (trained on full dataset)\n",
    "        df_full: Full dataframe with dates and actuals\n",
    "        df_train: Training dataframe with dates and actuals\n",
    "        df_test: Test dataframe with dates and actuals\n",
    "        X_full: Full dataset features\n",
    "    \"\"\"\n",
    "    rprint(\"\\n[bold blue]Generating prediction plots...[/bold blue]\")\n",
    "\n",
    "    # Get target scale for manual rescaling\n",
    "    target_scale = float(mmm.idata.constant_data[\"target_scale\"].values)\n",
    "\n",
    "    # Sample posterior predictive on FULL dataset (model was fitted on full data)\n",
    "    mmm.sample_posterior_predictive(X_full, original_scale=True, extend_idata=True)\n",
    "    full_pred = mmm.idata.posterior_predictive[\"y\"].values * target_scale\n",
    "\n",
    "    # Split predictions into train and test sets\n",
    "    n_train = df_train.shape[0]\n",
    "    train_pred = full_pred[:, :, :n_train]\n",
    "    test_pred = full_pred[:, :, n_train:]\n",
    "\n",
    "    # Compute mean and credible intervals\n",
    "    train_pred_mean = train_pred.mean(axis=(0, 1))\n",
    "    train_pred_lower = np.percentile(train_pred, 2.5, axis=(0, 1))\n",
    "    train_pred_upper = np.percentile(train_pred, 97.5, axis=(0, 1))\n",
    "\n",
    "    test_pred_mean = test_pred.mean(axis=(0, 1))\n",
    "    test_pred_lower = np.percentile(test_pred, 2.5, axis=(0, 1))\n",
    "    test_pred_upper = np.percentile(test_pred, 97.5, axis=(0, 1))\n",
    "\n",
    "    # Get dates and actuals\n",
    "    train_dates = df_train[\"date\"].to_numpy()\n",
    "    train_actuals = df_train[\"y\"].to_numpy()\n",
    "    test_dates = df_test[\"date\"].to_numpy()\n",
    "    test_actuals = df_test[\"y\"].to_numpy()\n",
    "\n",
    "    # Plot\n",
    "    fig, ax = plt.subplots(figsize=(15, 6))\n",
    "\n",
    "    # Train set\n",
    "    ax.plot(train_dates, train_actuals, 'o-', color='black', alpha=0.6, label='Train Actual', markersize=4)\n",
    "    ax.plot(train_dates, train_pred_mean, '-', color='blue', label='Train Prediction', linewidth=2)\n",
    "    ax.fill_between(train_dates, train_pred_lower, train_pred_upper, color='blue', alpha=0.2, label='Train 95% CI')\n",
    "\n",
    "    # Test set\n",
    "    ax.plot(test_dates, test_actuals, 's-', color='darkred', alpha=0.8, label='Test Actual', markersize=5)\n",
    "    ax.plot(test_dates, test_pred_mean, '-', color='red', label='Test Prediction', linewidth=2)\n",
    "    ax.fill_between(test_dates, test_pred_lower, test_pred_upper, color='red', alpha=0.2, label='Test 95% CI')\n",
    "\n",
    "    # Vertical line separating train/test\n",
    "    ax.axvline(train_dates[-1], color='gray', linestyle='--', linewidth=2, alpha=0.5, label='Train/Test Split')\n",
    "\n",
    "    ax.set_xlabel('Date', fontsize=12)\n",
    "    ax.set_ylabel('Sales', fontsize=12)\n",
    "    ax.set_title('MMM Predictions: Train vs Test Set (Full Model)', fontsize=14, fontweight='bold')\n",
    "    ax.legend(loc='upper left', fontsize=10)\n",
    "    ax.grid(True, alpha=0.3)\n",
    "\n",
    "    plt.tight_layout()\n",
    "    plt.show()\n",
    "\n",
    "    rprint(\"[bold green]Prediction plot generated successfully![/bold green]\")\n",
    "\n",
    "\n",
    "# Plot predictions (using full dataset since model was fitted on full data)\n",
    "plot_predictions(\n",
    "    mmm=final_mmm,\n",
    "    df_full=df,\n",
    "    df_train=df_train,\n",
    "    df_test=df_test,\n",
    "    X_full=X_full\n",
    ")"
   ]
  },
  {
   "cell_type": "markdown",
   "metadata": {},
   "source": [
    "## Compute ROAS and Compare with Ground Truth"
   ]
  },
  {
   "cell_type": "code",
   "execution_count": null,
   "metadata": {},
   "outputs": [],
   "source": "import json\n\n\ndef compute_and_compare_roas(\n    model: MMM,\n    channel_spend: pd.DataFrame,\n    channel_columns: list[str],\n    ground_truth_path: str | Path\n) -> None:\n    \"\"\"Compute ROAS and compare with ground truth.\n    \n    Args:\n        model: Fitted MMM model\n        channel_spend: DataFrame with channel spend data\n        channel_columns: List of channel column names\n        ground_truth_path: Path to ground truth parameters JSON\n    \"\"\"\n    # Compute channel contributions in ORIGINAL SCALE\n    contributions = model.compute_mean_contributions_over_time(original_scale=True)\n    \n    # Compute ROAS: total contribution / total spend\n    total_contributions = contributions[channel_columns].sum()\n    total_spend = channel_spend[channel_columns].sum()\n    roas = total_contributions / total_spend\n    \n    # Load ground truth\n    with open(ground_truth_path) as f:\n        ground_truth = json.load(f)\n    \n    true_roas = ground_truth[\"roas_values\"][\"Local\"]\n    \n    # Create comparison table\n    console = Console()\n    table = Table(\n        title=\"ROAS Comparison: Estimated vs Ground Truth\",\n        show_header=True,\n        header_style=\"bold green\"\n    )\n    \n    table.add_column(\"Channel\", style=\"cyan\")\n    table.add_column(\"Estimated ROAS\", justify=\"right\")\n    table.add_column(\"True ROAS\", justify=\"right\")\n    table.add_column(\"Error %\", justify=\"right\")\n    \n    for channel in channel_columns:\n        # Extract base channel name\n        channel_name = channel.split('_', 1)[1] if '_' in channel else channel\n        \n        est_val = roas[channel]\n        true_val = true_roas.get(channel_name, 0.0)\n        error_pct = ((est_val - true_val) / true_val * 100) if true_val != 0 else 0.0\n        \n        table.add_row(\n            channel_name,\n            f\"{est_val:.2f}\",\n            f\"{true_val:.2f}\",\n            f\"{error_pct:+.1f}%\"\n        )\n    \n    console.print(\"\\n\")\n    console.print(table)\n\n\n# Compute and compare ROAS\nground_truth_path = Path(\"../data/mmm-simple/ground_truth_parameters.json\")\ncompute_and_compare_roas(\n    model=final_mmm,\n    channel_spend=df_full_pandas,\n    channel_columns=channel_columns,\n    ground_truth_path=ground_truth_path\n)"
  },
  {
   "cell_type": "markdown",
   "metadata": {},
   "source": [
    "## Save Results"
   ]
  },
  {
   "cell_type": "code",
   "execution_count": 33,
   "metadata": {},
   "outputs": [
    {
     "data": {
      "text/html": [
       "<pre style=\"white-space:pre;overflow-x:auto;line-height:normal;font-family:Menlo,'DejaVu Sans Mono',consolas,'Courier New',monospace\">\n",
       "<span style=\"color: #008000; text-decoration-color: #008000; font-weight: bold\">Results saved to ../models/optimization_results</span>\n",
       "</pre>\n"
      ],
      "text/plain": [
       "\n",
       "\u001b[1;32mResults saved to ..\u001b[0m\u001b[1;32m/models/\u001b[0m\u001b[1;32moptimization_results\u001b[0m\n"
      ]
     },
     "metadata": {},
     "output_type": "display_data"
    },
    {
     "data": {
      "text/html": [
       "<pre style=\"white-space:pre;overflow-x:auto;line-height:normal;font-family:Menlo,'DejaVu Sans Mono',consolas,'Courier New',monospace\">  - Best parameters: ..<span style=\"color: #800080; text-decoration-color: #800080\">/models/optimization_results/</span><span style=\"color: #ff00ff; text-decoration-color: #ff00ff\">best_hyperparameters_crps.json</span>\n",
       "</pre>\n"
      ],
      "text/plain": [
       "  - Best parameters: ..\u001b[35m/models/optimization_results/\u001b[0m\u001b[95mbest_hyperparameters_crps.json\u001b[0m\n"
      ]
     },
     "metadata": {},
     "output_type": "display_data"
    },
    {
     "data": {
      "text/html": [
       "<pre style=\"white-space:pre;overflow-x:auto;line-height:normal;font-family:Menlo,'DejaVu Sans Mono',consolas,'Courier New',monospace\">  - Trial history: ..<span style=\"color: #800080; text-decoration-color: #800080\">/models/optimization_results/</span><span style=\"color: #ff00ff; text-decoration-color: #ff00ff\">optimization_trials_crps.csv</span>\n",
       "</pre>\n"
      ],
      "text/plain": [
       "  - Trial history: ..\u001b[35m/models/optimization_results/\u001b[0m\u001b[95moptimization_trials_crps.csv\u001b[0m\n"
      ]
     },
     "metadata": {},
     "output_type": "display_data"
    },
    {
     "data": {
      "text/html": [
       "<pre style=\"white-space:pre;overflow-x:auto;line-height:normal;font-family:Menlo,'DejaVu Sans Mono',consolas,'Courier New',monospace\">  - Final evaluation: ..<span style=\"color: #800080; text-decoration-color: #800080\">/models/optimization_results/</span><span style=\"color: #ff00ff; text-decoration-color: #ff00ff\">final_evaluation_crps.json</span>\n",
       "</pre>\n"
      ],
      "text/plain": [
       "  - Final evaluation: ..\u001b[35m/models/optimization_results/\u001b[0m\u001b[95mfinal_evaluation_crps.json\u001b[0m\n"
      ]
     },
     "metadata": {},
     "output_type": "display_data"
    },
    {
     "data": {
      "text/html": [
       "<pre style=\"white-space:pre;overflow-x:auto;line-height:normal;font-family:Menlo,'DejaVu Sans Mono',consolas,'Courier New',monospace\"><span style=\"color: #008000; text-decoration-color: #008000; font-weight: bold\">Final model saved to ../models/mmm_optimized_crps.nc</span>\n",
       "</pre>\n"
      ],
      "text/plain": [
       "\u001b[1;32mFinal model saved to ..\u001b[0m\u001b[1;32m/models/\u001b[0m\u001b[1;32mmmm_optimized_crps.nc\u001b[0m\n"
      ]
     },
     "metadata": {},
     "output_type": "display_data"
    }
   ],
   "source": [
    "import json\n",
    "\n",
    "\n",
    "def save_optimization_results(\n",
    "    study: optuna.Study,\n",
    "    evaluation_results: dict[str, float],\n",
    "    output_dir: str | Path\n",
    ") -> None:\n",
    "    \"\"\"Save optimization results to disk.\n",
    "    \n",
    "    Args:\n",
    "        study: Completed Optuna study\n",
    "        evaluation_results: Dictionary with train/test CRPS\n",
    "        output_dir: Directory to save results\n",
    "    \"\"\"\n",
    "    output_dir = Path(output_dir)\n",
    "    output_dir.mkdir(parents=True, exist_ok=True)\n",
    "    \n",
    "    # Save best parameters\n",
    "    best_params_path = output_dir / \"best_hyperparameters_crps.json\"\n",
    "    with open(best_params_path, \"w\") as f:\n",
    "        json.dump(study.best_params, f, indent=2)\n",
    "    \n",
    "    # Save trials dataframe\n",
    "    trials_df = study.trials_dataframe()\n",
    "    trials_path = output_dir / \"optimization_trials_crps.csv\"\n",
    "    trials_df.to_csv(trials_path, index=False)\n",
    "    \n",
    "    # Save evaluation results\n",
    "    eval_path = output_dir / \"final_evaluation_crps.json\"\n",
    "    with open(eval_path, \"w\") as f:\n",
    "        json.dump(evaluation_results, f, indent=2)\n",
    "    \n",
    "    rprint(f\"\\n[bold green]Results saved to {output_dir}[/bold green]\")\n",
    "    rprint(f\"  - Best parameters: {best_params_path}\")\n",
    "    rprint(f\"  - Trial history: {trials_path}\")\n",
    "    rprint(f\"  - Final evaluation: {eval_path}\")\n",
    "\n",
    "\n",
    "def save_final_model(model: MMM, output_path: str | Path) -> None:\n",
    "    \"\"\"Save final fitted model to disk.\n",
    "    \n",
    "    Args:\n",
    "        model: Fitted MMM model\n",
    "        output_path: Path to save model\n",
    "    \"\"\"\n",
    "    output_path = Path(output_path)\n",
    "    output_path.parent.mkdir(parents=True, exist_ok=True)\n",
    "    \n",
    "    model.save(str(output_path))\n",
    "    rprint(f\"[bold green]Final model saved to {output_path}[/bold green]\")\n",
    "\n",
    "\n",
    "# Save results\n",
    "save_optimization_results(\n",
    "    study=study,\n",
    "    evaluation_results=evaluation_results,\n",
    "    output_dir=Path(\"../models/optimization_results\")\n",
    ")\n",
    "save_final_model(final_mmm, output_path=Path(\"../models/mmm_optimized_crps.nc\"))"
   ]
  },
  {
   "cell_type": "markdown",
   "metadata": {},
   "source": [
    "## Summary\n",
    "\n",
    "This notebook demonstrated:\n",
    "\n",
    "1. **Train/test split**: Chronological split with last 24 weeks as test set\n",
    "2. **CRPS-based optimization**: Using test set performance instead of WAIC\n",
    "3. **Hyperparameter search**: Optimizing `yearly_seasonality` and `adstock_max_lag`\n",
    "4. **Convergence monitoring**: Strict checks on MCMC diagnostics\n",
    "5. **Final model**: Refit on full dataset with optimal parameters\n",
    "6. **Evaluation**: Train and test CRPS comparison\n",
    "7. **Visualization**: Predictions vs actuals for both sets\n",
    "8. **ROAS validation**: Comparison with known ground truth\n",
    "\n",
    "### Key Differences from WAIC Approach\n",
    "\n",
    "| Aspect | WAIC (Notebook 02) | CRPS (This Notebook) |\n",
    "|--------|-------------------|----------------------|\n",
    "| **Objective** | In-sample fit (penalized) | Out-of-sample prediction |\n",
    "| **Data used** | Full training set | Held-out test set |\n",
    "| **Evaluation** | Log predictive density | Proper scoring rule |\n",
    "| **Advantage** | No data loss | Direct generalization metric |\n",
    "| **Disadvantage** | Indirect measure | Less training data |\n",
    "\n",
    "### Next Steps\n",
    "\n",
    "- Compare optimal hyperparameters from WAIC vs CRPS approaches\n",
    "- Implement k-fold time-series cross-validation\n",
    "- Extend to optimize saturation function hyperparameters\n",
    "- Add budget allocation optimization with optimal model"
   ]
  },
  {
   "cell_type": "code",
   "execution_count": null,
   "metadata": {},
   "outputs": [],
   "source": []
  },
  {
   "cell_type": "code",
   "execution_count": null,
   "metadata": {},
   "outputs": [],
   "source": []
  }
 ],
 "metadata": {
  "kernelspec": {
   "display_name": "Python 3 (ipykernel)",
   "language": "python",
   "name": "python3"
  },
  "language_info": {
   "codemirror_mode": {
    "name": "ipython",
    "version": 3
   },
   "file_extension": ".py",
   "mimetype": "text/x-python",
   "name": "python",
   "nbconvert_exporter": "python",
   "pygments_lexer": "ipython3",
   "version": "3.12.9"
  }
 },
 "nbformat": 4,
 "nbformat_minor": 4
}
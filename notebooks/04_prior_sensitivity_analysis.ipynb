{
 "cells": [
  {
   "cell_type": "markdown",
   "metadata": {},
   "source": [
    "# Prior Sensitivity Analysis for Media Mix Models\n",
    "\n",
    "This notebook demonstrates **prior sensitivity analysis** for Bayesian MMM models\u2014a critical step in causal inference.\n",
    "\n",
    "## Why Prior Sensitivity Analysis?\n",
    "\n",
    "Unlike hyperparameters (model structure), **priors encode causal assumptions** about how marketing affects sales:\n",
    "- Direction of effects (ads \u2192 sales)\n",
    "- Plausible magnitude ranges (ROAS bounds)\n",
    "- Saturation behavior (diminishing returns)\n",
    "- Carryover patterns (adstock decay)\n",
    "\n",
    "**Key principle**: We should NOT optimize priors using cross-validation (as discussed in the causal inference analysis). Instead, we:\n",
    "1. Define multiple **reasonable prior specifications** based on domain knowledge\n",
    "2. Fit separate models with each specification\n",
    "3. Compare results to understand **prior influence** on posteriors\n",
    "4. Assess **robustness** of causal conclusions\n",
    "\n",
    "## What Priors Should We Analyze?\n",
    "\n",
    "Based on PyMC-Marketing's MMM implementation, key priors to examine:\n",
    "\n",
    "### 1. **saturation_beta** (Channel Effect Magnitude)\n",
    "- Controls scale of media effects\n",
    "- Directly impacts ROAS estimates\n",
    "- Most important for causal interpretation\n",
    "\n",
    "### 2. **saturation_lam** (Saturation Half-Point)\n",
    "- Where diminishing returns kick in\n",
    "- Affects optimal budget allocation\n",
    "\n",
    "### 3. **adstock_alpha** (Carryover Rate)\n",
    "- How long effects persist\n",
    "- Critical for dynamic optimization\n",
    "\n",
    "### 4. **likelihood_sigma** (Observation Noise)\n",
    "- Measurement uncertainty\n",
    "- Affects credible interval width\n",
    "\n",
    "### 5. **intercept** (Baseline Sales)\n",
    "- Sales level without marketing\n",
    "- Affects attribution percentages\n",
    "\n",
    "## Analysis Strategy\n",
    "\n",
    "We'll use the **optimal model structure** from notebook 03 (CRPS-optimized):\n",
    "- `yearly_seasonality = 3`\n",
    "- `adstock_max_lag = 10`\n",
    "\n",
    "Then vary priors to see how causal estimates (ROAS) change while keeping model structure fixed.\n",
    "\n",
    "## Runtime Considerations\n",
    "\n",
    "- Each model fit: ~2-3 minutes with NumPyro (1000 draws/tune, 2 chains)\n",
    "- 3 prior specs \u00d7 2-3 key parameters = ~6-9 model fits\n",
    "- Total runtime: ~15-25 minutes\n",
    "\n",
    "Let's begin!"
   ]
  },
  {
   "cell_type": "markdown",
   "metadata": {},
   "source": [
    "## Setup"
   ]
  },
  {
   "cell_type": "code",
   "execution_count": 1,
   "metadata": {},
   "outputs": [],
   "source": [
    "from pathlib import Path\n",
    "from typing import Any\n",
    "import warnings\n",
    "\n",
    "import arviz as az\n",
    "import json\n",
    "import matplotlib.pyplot as plt\n",
    "import numpy as np\n",
    "import pandas as pd\n",
    "import polars as pl\n",
    "from pymc_marketing.mmm import MMM, GeometricAdstock, LogisticSaturation\n",
    "from pymc_extras.prior import Prior\n",
    "from rich import print as rprint\n",
    "from rich.console import Console\n",
    "from rich.table import Table"
   ]
  },
  {
   "cell_type": "markdown",
   "metadata": {},
   "source": [
    "## Configuration"
   ]
  },
  {
   "cell_type": "code",
   "execution_count": 2,
   "metadata": {},
   "outputs": [
    {
     "data": {
      "text/html": [
       "<pre style=\"white-space:pre;overflow-x:auto;line-height:normal;font-family:Menlo,'DejaVu Sans Mono',consolas,'Courier New',monospace\"><span style=\"color: #000080; text-decoration-color: #000080; font-weight: bold\">Configuration:</span>\n",
       "</pre>\n"
      ],
      "text/plain": [
       "\u001b[1;34mConfiguration:\u001b[0m\n"
      ]
     },
     "metadata": {},
     "output_type": "display_data"
    },
    {
     "data": {
      "text/html": [
       "<pre style=\"white-space:pre;overflow-x:auto;line-height:normal;font-family:Menlo,'DejaVu Sans Mono',consolas,'Courier New',monospace\">Model structure: <span style=\"color: #808000; text-decoration-color: #808000\">yearly_seasonality</span>=<span style=\"color: #008080; text-decoration-color: #008080; font-weight: bold\">3</span>, <span style=\"color: #808000; text-decoration-color: #808000\">adstock_max_lag</span>=<span style=\"color: #008080; text-decoration-color: #008080; font-weight: bold\">10</span>\n",
       "</pre>\n"
      ],
      "text/plain": [
       "Model structure: \u001b[33myearly_seasonality\u001b[0m=\u001b[1;36m3\u001b[0m, \u001b[33madstock_max_lag\u001b[0m=\u001b[1;36m10\u001b[0m\n"
      ]
     },
     "metadata": {},
     "output_type": "display_data"
    },
    {
     "data": {
      "text/html": [
       "<pre style=\"white-space:pre;overflow-x:auto;line-height:normal;font-family:Menlo,'DejaVu Sans Mono',consolas,'Courier New',monospace\">MCMC: <span style=\"color: #008080; text-decoration-color: #008080; font-weight: bold\">1000</span> draws, <span style=\"color: #008080; text-decoration-color: #008080; font-weight: bold\">1000</span> tune, <span style=\"color: #008080; text-decoration-color: #008080; font-weight: bold\">2</span> chains\n",
       "</pre>\n"
      ],
      "text/plain": [
       "MCMC: \u001b[1;36m1000\u001b[0m draws, \u001b[1;36m1000\u001b[0m tune, \u001b[1;36m2\u001b[0m chains\n"
      ]
     },
     "metadata": {},
     "output_type": "display_data"
    },
    {
     "data": {
      "text/html": [
       "<pre style=\"white-space:pre;overflow-x:auto;line-height:normal;font-family:Menlo,'DejaVu Sans Mono',consolas,'Courier New',monospace\">Sampler: <span style=\"color: #808000; text-decoration-color: #808000\">numpyro</span>\n",
       "</pre>\n"
      ],
      "text/plain": [
       "Sampler: \u001b[33mnumpyro\u001b[0m\n"
      ]
     },
     "metadata": {},
     "output_type": "display_data"
    }
   ],
   "source": [
    "# Use optimal model structure from notebook 03 (CRPS optimization)\n",
    "YEARLY_SEASONALITY = 3\n",
    "ADSTOCK_MAX_LAG = 10\n",
    "\n",
    "# MCMC settings (moderate for speed)\n",
    "DRAWS = 1000\n",
    "TUNE = 1000\n",
    "CHAINS = 2\n",
    "\n",
    "# Use NumPyro for speed\n",
    "USE_NUMPYRO = True\n",
    "NUTS_SAMPLER = \"numpyro\" if USE_NUMPYRO else \"pymc\"\n",
    "\n",
    "# Random seed\n",
    "RANDOM_SEED = 42\n",
    "\n",
    "rprint(\"[bold blue]Configuration:[/bold blue]\")\n",
    "rprint(f\"Model structure: yearly_seasonality={YEARLY_SEASONALITY}, adstock_max_lag={ADSTOCK_MAX_LAG}\")\n",
    "rprint(f\"MCMC: {DRAWS} draws, {TUNE} tune, {CHAINS} chains\")\n",
    "rprint(f\"Sampler: [yellow]{NUTS_SAMPLER}[/yellow]\")"
   ]
  },
  {
   "cell_type": "markdown",
   "metadata": {},
   "source": [
    "## Load Data"
   ]
  },
  {
   "cell_type": "code",
   "execution_count": 3,
   "metadata": {},
   "outputs": [
    {
     "data": {
      "text/html": [
       "<pre style=\"white-space:pre;overflow-x:auto;line-height:normal;font-family:Menlo,'DejaVu Sans Mono',consolas,'Courier New',monospace\">\n",
       "<span style=\"color: #008000; text-decoration-color: #008000; font-weight: bold\">Data loaded successfully</span>\n",
       "</pre>\n"
      ],
      "text/plain": [
       "\n",
       "\u001b[1;32mData loaded successfully\u001b[0m\n"
      ]
     },
     "metadata": {},
     "output_type": "display_data"
    },
    {
     "data": {
      "text/html": [
       "<pre style=\"white-space:pre;overflow-x:auto;line-height:normal;font-family:Menlo,'DejaVu Sans Mono',consolas,'Courier New',monospace\">Shape: <span style=\"color: #008080; text-decoration-color: #008080; font-weight: bold\">104</span> rows \u00d7 <span style=\"color: #008080; text-decoration-color: #008080; font-weight: bold\">11</span> columns\n",
       "</pre>\n"
      ],
      "text/plain": [
       "Shape: \u001b[1;36m104\u001b[0m rows \u00d7 \u001b[1;36m11\u001b[0m columns\n"
      ]
     },
     "metadata": {},
     "output_type": "display_data"
    },
    {
     "data": {
      "text/html": [
       "<pre style=\"white-space:pre;overflow-x:auto;line-height:normal;font-family:Menlo,'DejaVu Sans Mono',consolas,'Courier New',monospace\">Channels: <span style=\"color: #808000; text-decoration-color: #808000; font-weight: bold\">[</span><span style=\"color: #808000; text-decoration-color: #808000\">'x1_Search-Ads'</span><span style=\"color: #808000; text-decoration-color: #808000\">, </span><span style=\"color: #808000; text-decoration-color: #808000\">'x2_Social-Media'</span><span style=\"color: #808000; text-decoration-color: #808000\">, </span><span style=\"color: #808000; text-decoration-color: #808000\">'x3_Local-Ads'</span><span style=\"color: #808000; text-decoration-color: #808000\">, </span><span style=\"color: #808000; text-decoration-color: #808000\">'x4_Email'</span><span style=\"color: #808000; text-decoration-color: #808000; font-weight: bold\">]</span>\n",
       "</pre>\n"
      ],
      "text/plain": [
       "Channels: \u001b[1;33m[\u001b[0m\u001b[33m'x1_Search-Ads'\u001b[0m\u001b[33m, \u001b[0m\u001b[33m'x2_Social-Media'\u001b[0m\u001b[33m, \u001b[0m\u001b[33m'x3_Local-Ads'\u001b[0m\u001b[33m, \u001b[0m\u001b[33m'x4_Email'\u001b[0m\u001b[1;33m]\u001b[0m\n"
      ]
     },
     "metadata": {},
     "output_type": "display_data"
    },
    {
     "data": {
      "text/html": [
       "<pre style=\"white-space:pre;overflow-x:auto;line-height:normal;font-family:Menlo,'DejaVu Sans Mono',consolas,'Courier New',monospace\">Controls: <span style=\"color: #808000; text-decoration-color: #808000; font-weight: bold\">[</span><span style=\"color: #808000; text-decoration-color: #808000\">'c1'</span><span style=\"color: #808000; text-decoration-color: #808000\">, </span><span style=\"color: #808000; text-decoration-color: #808000\">'c2'</span><span style=\"color: #808000; text-decoration-color: #808000; font-weight: bold\">]</span>\n",
       "</pre>\n"
      ],
      "text/plain": [
       "Controls: \u001b[1;33m[\u001b[0m\u001b[33m'c1'\u001b[0m\u001b[33m, \u001b[0m\u001b[33m'c2'\u001b[0m\u001b[1;33m]\u001b[0m\n"
      ]
     },
     "metadata": {},
     "output_type": "display_data"
    }
   ],
   "source": [
    "def load_mmm_data(data_path: str | Path) -> pl.DataFrame:\n",
    "    \"\"\"Load MMM data from CSV file.\n",
    "    \n",
    "    Args:\n",
    "        data_path: Path to the mmm_data.csv file\n",
    "        \n",
    "    Returns:\n",
    "        Polars DataFrame with parsed date column\n",
    "    \"\"\"\n",
    "    return pl.read_csv(data_path).with_columns(\n",
    "        pl.col(\"date\").str.to_date()\n",
    "    )\n",
    "\n",
    "\n",
    "# Load the data\n",
    "data_path = Path(\"../data/mmm-simple/mmm_data.csv\")\n",
    "df = load_mmm_data(data_path)\n",
    "\n",
    "# Convert to pandas for PyMC-Marketing\n",
    "df_pandas = df.to_pandas()\n",
    "\n",
    "# Define model inputs\n",
    "channel_columns = [\n",
    "    \"x1_Search-Ads\",\n",
    "    \"x2_Social-Media\",\n",
    "    \"x3_Local-Ads\",\n",
    "    \"x4_Email\"\n",
    "]\n",
    "\n",
    "control_columns = [\"c1\", \"c2\"]\n",
    "\n",
    "# Prepare X and y\n",
    "X = df_pandas.drop(columns=[\"y\"])\n",
    "y = df_pandas[\"y\"]\n",
    "\n",
    "rprint(f\"\\n[bold green]Data loaded successfully[/bold green]\")\n",
    "rprint(f\"Shape: {df.shape[0]} rows \u00d7 {df.shape[1]} columns\")\n",
    "rprint(f\"Channels: [yellow]{channel_columns}[/yellow]\")\n",
    "rprint(f\"Controls: [yellow]{control_columns}[/yellow]\")"
   ]
  },
  {
   "cell_type": "markdown",
   "metadata": {},
   "source": [
    "## Load Ground Truth\n",
    "\n",
    "We'll use ground truth ROAS to evaluate which prior specification yields more accurate causal estimates."
   ]
  },
  {
   "cell_type": "code",
   "execution_count": 4,
   "metadata": {},
   "outputs": [
    {
     "data": {
      "text/html": [
       "<pre style=\"white-space:pre;overflow-x:auto;line-height:normal;font-family:Menlo,'DejaVu Sans Mono',consolas,'Courier New',monospace\">\n",
       "<span style=\"color: #800080; text-decoration-color: #800080; font-weight: bold\">Ground Truth ROAS:</span>\n",
       "</pre>\n"
      ],
      "text/plain": [
       "\n",
       "\u001b[1;35mGround Truth ROAS:\u001b[0m\n"
      ]
     },
     "metadata": {},
     "output_type": "display_data"
    },
    {
     "data": {
      "text/html": [
       "<pre style=\"white-space:pre;overflow-x:auto;line-height:normal;font-family:Menlo,'DejaVu Sans Mono',consolas,'Courier New',monospace\">  Search-Ads: <span style=\"color: #008000; text-decoration-color: #008000; font-weight: bold\">8.19</span>\n",
       "</pre>\n"
      ],
      "text/plain": [
       "  Search-Ads: \u001b[1;32m8.19\u001b[0m\n"
      ]
     },
     "metadata": {},
     "output_type": "display_data"
    },
    {
     "data": {
      "text/html": [
       "<pre style=\"white-space:pre;overflow-x:auto;line-height:normal;font-family:Menlo,'DejaVu Sans Mono',consolas,'Courier New',monospace\">  Social-Media: <span style=\"color: #008000; text-decoration-color: #008000; font-weight: bold\">21.95</span>\n",
       "</pre>\n"
      ],
      "text/plain": [
       "  Social-Media: \u001b[1;32m21.95\u001b[0m\n"
      ]
     },
     "metadata": {},
     "output_type": "display_data"
    },
    {
     "data": {
      "text/html": [
       "<pre style=\"white-space:pre;overflow-x:auto;line-height:normal;font-family:Menlo,'DejaVu Sans Mono',consolas,'Courier New',monospace\">  Local-Ads: <span style=\"color: #008000; text-decoration-color: #008000; font-weight: bold\">3.32</span>\n",
       "</pre>\n"
      ],
      "text/plain": [
       "  Local-Ads: \u001b[1;32m3.32\u001b[0m\n"
      ]
     },
     "metadata": {},
     "output_type": "display_data"
    },
    {
     "data": {
      "text/html": [
       "<pre style=\"white-space:pre;overflow-x:auto;line-height:normal;font-family:Menlo,'DejaVu Sans Mono',consolas,'Courier New',monospace\">  Email: <span style=\"color: #008000; text-decoration-color: #008000; font-weight: bold\">32.13</span>\n",
       "</pre>\n"
      ],
      "text/plain": [
       "  Email: \u001b[1;32m32.13\u001b[0m\n"
      ]
     },
     "metadata": {},
     "output_type": "display_data"
    }
   ],
   "source": [
    "def load_ground_truth(ground_truth_path: str | Path) -> dict[str, Any]:\n",
    "    \"\"\"Load ground truth parameters.\n",
    "    \n",
    "    Args:\n",
    "        ground_truth_path: Path to ground truth JSON\n",
    "        \n",
    "    Returns:\n",
    "        Dictionary with ground truth parameters\n",
    "    \"\"\"\n",
    "    with open(ground_truth_path) as f:\n",
    "        return json.load(f)\n",
    "\n",
    "\n",
    "ground_truth_path = Path(\"../data/mmm-simple/ground_truth_parameters.json\")\n",
    "ground_truth = load_ground_truth(ground_truth_path)\n",
    "\n",
    "# Extract true ROAS\n",
    "true_roas = ground_truth[\"roas_values\"][\"Local\"]\n",
    "\n",
    "rprint(\"\\n[bold magenta]Ground Truth ROAS:[/bold magenta]\")\n",
    "for channel, roas in true_roas.items():\n",
    "    rprint(f\"  {channel}: [green]{roas:.2f}[/green]\")"
   ]
  },
  {
   "cell_type": "markdown",
   "metadata": {},
   "source": [
    "## Define Prior Specifications\n",
    "\n",
    "We'll test three prior specifications for each key parameter:\n",
    "1. **Tight priors**: Strong beliefs (small variance)\n",
    "2. **Default priors**: PyMC-Marketing defaults (weakly informative)\n",
    "3. **Loose priors**: Very weak beliefs (large variance)\n",
    "\n",
    "### PyMC-Marketing Default Priors\n",
    "\n",
    "```python\n",
    "intercept: Normal(mu=0, sigma=2)\n",
    "saturation_beta: HalfNormal(sigma=2)  # Channel effect magnitude\n",
    "saturation_lam: Gamma(alpha=3, beta=1)  # Saturation half-point\n",
    "adstock_alpha: Beta(alpha=1, beta=3)  # Carryover rate\n",
    "likelihood_sigma: HalfNormal(sigma=2)  # Observation noise\n",
    "gamma_control: Normal(mu=0, sigma=2)  # Control variable effects\n",
    "```\n",
    "\n",
    "### Our Sensitivity Analysis\n",
    "\n",
    "We'll focus on the **two most important priors** for causal inference:\n",
    "1. **saturation_beta** - Controls channel effect magnitude (ROAS)\n",
    "2. **likelihood_sigma** - Controls noise vs signal attribution"
   ]
  },
  {
   "cell_type": "code",
   "execution_count": 5,
   "metadata": {},
   "outputs": [
    {
     "data": {
      "text/html": [
       "<pre style=\"white-space:pre;overflow-x:auto;line-height:normal;font-family:Menlo,'DejaVu Sans Mono',consolas,'Courier New',monospace\"><span style=\"font-style: italic\">                                   Prior Specifications for Sensitivity Analysis                                   </span>\n",
       "\u250f\u2501\u2501\u2501\u2501\u2501\u2501\u2501\u2501\u2501\u2501\u2501\u2501\u2501\u2501\u2501\u2501\u2501\u2501\u2501\u2501\u2501\u2501\u2501\u2533\u2501\u2501\u2501\u2501\u2501\u2501\u2501\u2501\u2501\u2501\u2501\u2501\u2501\u2501\u2501\u2501\u2501\u2501\u2501\u2501\u2501\u2501\u2501\u2501\u2533\u2501\u2501\u2501\u2501\u2501\u2501\u2501\u2501\u2501\u2501\u2501\u2501\u2501\u2501\u2501\u2501\u2501\u2501\u2501\u2501\u2501\u2501\u2501\u2501\u2501\u2501\u2501\u2501\u2501\u2501\u2501\u2533\u2501\u2501\u2501\u2501\u2501\u2501\u2501\u2501\u2501\u2501\u2501\u2501\u2501\u2501\u2501\u2501\u2501\u2501\u2501\u2501\u2501\u2501\u2501\u2501\u2501\u2501\u2501\u2501\u2501\u2501\u2501\u2501\u2513\n",
       "\u2503<span style=\"color: #008080; text-decoration-color: #008080; font-weight: bold\"> Spec ID               </span>\u2503<span style=\"color: #008080; text-decoration-color: #008080; font-weight: bold\"> Name                   </span>\u2503<span style=\"color: #008080; text-decoration-color: #008080; font-weight: bold\"> Description                   </span>\u2503<span style=\"color: #008080; text-decoration-color: #008080; font-weight: bold\"> Rationale                      </span>\u2503\n",
       "\u2521\u2501\u2501\u2501\u2501\u2501\u2501\u2501\u2501\u2501\u2501\u2501\u2501\u2501\u2501\u2501\u2501\u2501\u2501\u2501\u2501\u2501\u2501\u2501\u2547\u2501\u2501\u2501\u2501\u2501\u2501\u2501\u2501\u2501\u2501\u2501\u2501\u2501\u2501\u2501\u2501\u2501\u2501\u2501\u2501\u2501\u2501\u2501\u2501\u2547\u2501\u2501\u2501\u2501\u2501\u2501\u2501\u2501\u2501\u2501\u2501\u2501\u2501\u2501\u2501\u2501\u2501\u2501\u2501\u2501\u2501\u2501\u2501\u2501\u2501\u2501\u2501\u2501\u2501\u2501\u2501\u2547\u2501\u2501\u2501\u2501\u2501\u2501\u2501\u2501\u2501\u2501\u2501\u2501\u2501\u2501\u2501\u2501\u2501\u2501\u2501\u2501\u2501\u2501\u2501\u2501\u2501\u2501\u2501\u2501\u2501\u2501\u2501\u2501\u2529\n",
       "\u2502<span style=\"color: #808000; text-decoration-color: #808000\"> tight_saturation_beta </span>\u2502 Tight saturation_beta  \u2502 Strong belief: effects are    \u2502 Conservative: assumes          \u2502\n",
       "\u2502<span style=\"color: #808000; text-decoration-color: #808000\">                       </span>\u2502                        \u2502 small (sigma=0.5)             \u2502 marketing has modest effects   \u2502\n",
       "\u2502<span style=\"color: #808000; text-decoration-color: #808000\"> default               </span>\u2502 Default priors         \u2502 PyMC-Marketing defaults       \u2502 Standard practice: let data    \u2502\n",
       "\u2502<span style=\"color: #808000; text-decoration-color: #808000\">                       </span>\u2502                        \u2502 (weakly informative)          \u2502 dominate                       \u2502\n",
       "\u2502<span style=\"color: #808000; text-decoration-color: #808000\"> loose_saturation_beta </span>\u2502 Loose saturation_beta  \u2502 Weak belief: effects could be \u2502 Agnostic: allow for strong     \u2502\n",
       "\u2502<span style=\"color: #808000; text-decoration-color: #808000\">                       </span>\u2502                        \u2502 large (sigma=5)               \u2502 marketing effects              \u2502\n",
       "\u2502<span style=\"color: #808000; text-decoration-color: #808000\"> tight_likelihood      </span>\u2502 Tight likelihood_sigma \u2502 Low noise: data is very       \u2502 Assumes measurement is         \u2502\n",
       "\u2502<span style=\"color: #808000; text-decoration-color: #808000\">                       </span>\u2502                        \u2502 precise (sigma=0.5)           \u2502 accurate, more credit to model \u2502\n",
       "\u2502<span style=\"color: #808000; text-decoration-color: #808000\"> loose_likelihood      </span>\u2502 Loose likelihood_sigma \u2502 High noise: data is noisy     \u2502 Assumes measurement has        \u2502\n",
       "\u2502<span style=\"color: #808000; text-decoration-color: #808000\">                       </span>\u2502                        \u2502 (sigma=5)                     \u2502 errors, wider credible         \u2502\n",
       "\u2502<span style=\"color: #808000; text-decoration-color: #808000\">                       </span>\u2502                        \u2502                               \u2502 intervals                      \u2502\n",
       "\u2514\u2500\u2500\u2500\u2500\u2500\u2500\u2500\u2500\u2500\u2500\u2500\u2500\u2500\u2500\u2500\u2500\u2500\u2500\u2500\u2500\u2500\u2500\u2500\u2534\u2500\u2500\u2500\u2500\u2500\u2500\u2500\u2500\u2500\u2500\u2500\u2500\u2500\u2500\u2500\u2500\u2500\u2500\u2500\u2500\u2500\u2500\u2500\u2500\u2534\u2500\u2500\u2500\u2500\u2500\u2500\u2500\u2500\u2500\u2500\u2500\u2500\u2500\u2500\u2500\u2500\u2500\u2500\u2500\u2500\u2500\u2500\u2500\u2500\u2500\u2500\u2500\u2500\u2500\u2500\u2500\u2534\u2500\u2500\u2500\u2500\u2500\u2500\u2500\u2500\u2500\u2500\u2500\u2500\u2500\u2500\u2500\u2500\u2500\u2500\u2500\u2500\u2500\u2500\u2500\u2500\u2500\u2500\u2500\u2500\u2500\u2500\u2500\u2500\u2518\n",
       "</pre>\n"
      ],
      "text/plain": [
       "\u001b[3m                                   Prior Specifications for Sensitivity Analysis                                   \u001b[0m\n",
       "\u250f\u2501\u2501\u2501\u2501\u2501\u2501\u2501\u2501\u2501\u2501\u2501\u2501\u2501\u2501\u2501\u2501\u2501\u2501\u2501\u2501\u2501\u2501\u2501\u2533\u2501\u2501\u2501\u2501\u2501\u2501\u2501\u2501\u2501\u2501\u2501\u2501\u2501\u2501\u2501\u2501\u2501\u2501\u2501\u2501\u2501\u2501\u2501\u2501\u2533\u2501\u2501\u2501\u2501\u2501\u2501\u2501\u2501\u2501\u2501\u2501\u2501\u2501\u2501\u2501\u2501\u2501\u2501\u2501\u2501\u2501\u2501\u2501\u2501\u2501\u2501\u2501\u2501\u2501\u2501\u2501\u2533\u2501\u2501\u2501\u2501\u2501\u2501\u2501\u2501\u2501\u2501\u2501\u2501\u2501\u2501\u2501\u2501\u2501\u2501\u2501\u2501\u2501\u2501\u2501\u2501\u2501\u2501\u2501\u2501\u2501\u2501\u2501\u2501\u2513\n",
       "\u2503\u001b[1;36m \u001b[0m\u001b[1;36mSpec ID              \u001b[0m\u001b[1;36m \u001b[0m\u2503\u001b[1;36m \u001b[0m\u001b[1;36mName                  \u001b[0m\u001b[1;36m \u001b[0m\u2503\u001b[1;36m \u001b[0m\u001b[1;36mDescription                  \u001b[0m\u001b[1;36m \u001b[0m\u2503\u001b[1;36m \u001b[0m\u001b[1;36mRationale                     \u001b[0m\u001b[1;36m \u001b[0m\u2503\n",
       "\u2521\u2501\u2501\u2501\u2501\u2501\u2501\u2501\u2501\u2501\u2501\u2501\u2501\u2501\u2501\u2501\u2501\u2501\u2501\u2501\u2501\u2501\u2501\u2501\u2547\u2501\u2501\u2501\u2501\u2501\u2501\u2501\u2501\u2501\u2501\u2501\u2501\u2501\u2501\u2501\u2501\u2501\u2501\u2501\u2501\u2501\u2501\u2501\u2501\u2547\u2501\u2501\u2501\u2501\u2501\u2501\u2501\u2501\u2501\u2501\u2501\u2501\u2501\u2501\u2501\u2501\u2501\u2501\u2501\u2501\u2501\u2501\u2501\u2501\u2501\u2501\u2501\u2501\u2501\u2501\u2501\u2547\u2501\u2501\u2501\u2501\u2501\u2501\u2501\u2501\u2501\u2501\u2501\u2501\u2501\u2501\u2501\u2501\u2501\u2501\u2501\u2501\u2501\u2501\u2501\u2501\u2501\u2501\u2501\u2501\u2501\u2501\u2501\u2501\u2529\n",
       "\u2502\u001b[33m \u001b[0m\u001b[33mtight_saturation_beta\u001b[0m\u001b[33m \u001b[0m\u2502 Tight saturation_beta  \u2502 Strong belief: effects are    \u2502 Conservative: assumes          \u2502\n",
       "\u2502\u001b[33m                       \u001b[0m\u2502                        \u2502 small (sigma=0.5)             \u2502 marketing has modest effects   \u2502\n",
       "\u2502\u001b[33m \u001b[0m\u001b[33mdefault              \u001b[0m\u001b[33m \u001b[0m\u2502 Default priors         \u2502 PyMC-Marketing defaults       \u2502 Standard practice: let data    \u2502\n",
       "\u2502\u001b[33m                       \u001b[0m\u2502                        \u2502 (weakly informative)          \u2502 dominate                       \u2502\n",
       "\u2502\u001b[33m \u001b[0m\u001b[33mloose_saturation_beta\u001b[0m\u001b[33m \u001b[0m\u2502 Loose saturation_beta  \u2502 Weak belief: effects could be \u2502 Agnostic: allow for strong     \u2502\n",
       "\u2502\u001b[33m                       \u001b[0m\u2502                        \u2502 large (sigma=5)               \u2502 marketing effects              \u2502\n",
       "\u2502\u001b[33m \u001b[0m\u001b[33mtight_likelihood     \u001b[0m\u001b[33m \u001b[0m\u2502 Tight likelihood_sigma \u2502 Low noise: data is very       \u2502 Assumes measurement is         \u2502\n",
       "\u2502\u001b[33m                       \u001b[0m\u2502                        \u2502 precise (sigma=0.5)           \u2502 accurate, more credit to model \u2502\n",
       "\u2502\u001b[33m \u001b[0m\u001b[33mloose_likelihood     \u001b[0m\u001b[33m \u001b[0m\u2502 Loose likelihood_sigma \u2502 High noise: data is noisy     \u2502 Assumes measurement has        \u2502\n",
       "\u2502\u001b[33m                       \u001b[0m\u2502                        \u2502 (sigma=5)                     \u2502 errors, wider credible         \u2502\n",
       "\u2502\u001b[33m                       \u001b[0m\u2502                        \u2502                               \u2502 intervals                      \u2502\n",
       "\u2514\u2500\u2500\u2500\u2500\u2500\u2500\u2500\u2500\u2500\u2500\u2500\u2500\u2500\u2500\u2500\u2500\u2500\u2500\u2500\u2500\u2500\u2500\u2500\u2534\u2500\u2500\u2500\u2500\u2500\u2500\u2500\u2500\u2500\u2500\u2500\u2500\u2500\u2500\u2500\u2500\u2500\u2500\u2500\u2500\u2500\u2500\u2500\u2500\u2534\u2500\u2500\u2500\u2500\u2500\u2500\u2500\u2500\u2500\u2500\u2500\u2500\u2500\u2500\u2500\u2500\u2500\u2500\u2500\u2500\u2500\u2500\u2500\u2500\u2500\u2500\u2500\u2500\u2500\u2500\u2500\u2534\u2500\u2500\u2500\u2500\u2500\u2500\u2500\u2500\u2500\u2500\u2500\u2500\u2500\u2500\u2500\u2500\u2500\u2500\u2500\u2500\u2500\u2500\u2500\u2500\u2500\u2500\u2500\u2500\u2500\u2500\u2500\u2500\u2518\n"
      ]
     },
     "metadata": {},
     "output_type": "display_data"
    }
   ],
   "source": [
    "# Define prior specifications\n",
    "prior_specs = {\n",
    "    \"tight_saturation_beta\": {\n",
    "        \"name\": \"Tight saturation_beta\",\n",
    "        \"description\": \"Strong belief: effects are small (sigma=0.5)\",\n",
    "        \"config\": {\n",
    "            \"saturation_beta\": Prior(\"HalfNormal\", sigma=0.5)\n",
    "        },\n",
    "        \"rationale\": \"Conservative: assumes marketing has modest effects\"\n",
    "    },\n",
    "    \"default\": {\n",
    "        \"name\": \"Default priors\",\n",
    "        \"description\": \"PyMC-Marketing defaults (weakly informative)\",\n",
    "        \"config\": None,  # Use defaults\n",
    "        \"rationale\": \"Standard practice: let data dominate\"\n",
    "    },\n",
    "    \"loose_saturation_beta\": {\n",
    "        \"name\": \"Loose saturation_beta\",\n",
    "        \"description\": \"Weak belief: effects could be large (sigma=5)\",\n",
    "        \"config\": {\n",
    "            \"saturation_beta\": Prior(\"HalfNormal\", sigma=5)\n",
    "        },\n",
    "        \"rationale\": \"Agnostic: allow for strong marketing effects\"\n",
    "    },\n",
    "    \"tight_likelihood\": {\n",
    "        \"name\": \"Tight likelihood_sigma\",\n",
    "        \"description\": \"Low noise: data is very precise (sigma=0.5)\",\n",
    "        \"config\": {\n",
    "            \"likelihood\": Prior(\"Normal\", sigma=Prior(\"HalfNormal\", sigma=0.5))\n",
    "        },\n",
    "        \"rationale\": \"Assumes measurement is accurate, more credit to model\"\n",
    "    },\n",
    "    \"loose_likelihood\": {\n",
    "        \"name\": \"Loose likelihood_sigma\",\n",
    "        \"description\": \"High noise: data is noisy (sigma=5)\",\n",
    "        \"config\": {\n",
    "            \"likelihood\": Prior(\"Normal\", sigma=Prior(\"HalfNormal\", sigma=5))\n",
    "        },\n",
    "        \"rationale\": \"Assumes measurement has errors, wider credible intervals\"\n",
    "    },\n",
    "}\n",
    "\n",
    "# Display prior specifications\n",
    "console = Console()\n",
    "table = Table(\n",
    "    title=\"Prior Specifications for Sensitivity Analysis\",\n",
    "    show_header=True,\n",
    "    header_style=\"bold cyan\"\n",
    ")\n",
    "\n",
    "table.add_column(\"Spec ID\", style=\"yellow\")\n",
    "table.add_column(\"Name\")\n",
    "table.add_column(\"Description\")\n",
    "table.add_column(\"Rationale\")\n",
    "\n",
    "for spec_id, spec in prior_specs.items():\n",
    "    table.add_row(\n",
    "        spec_id,\n",
    "        spec[\"name\"],\n",
    "        spec[\"description\"],\n",
    "        spec[\"rationale\"]\n",
    "    )\n",
    "\n",
    "console.print(table)"
   ]
  },
  {
   "cell_type": "markdown",
   "metadata": {},
   "source": [
    "## Helper Functions"
   ]
  },
  {
   "cell_type": "code",
   "execution_count": 6,
   "metadata": {},
   "outputs": [
    {
     "data": {
      "text/html": [
       "<pre style=\"white-space:pre;overflow-x:auto;line-height:normal;font-family:Menlo,'DejaVu Sans Mono',consolas,'Courier New',monospace\"><span style=\"color: #008000; text-decoration-color: #008000; font-weight: bold\">Helper functions defined</span>\n",
       "</pre>\n"
      ],
      "text/plain": [
       "\u001b[1;32mHelper functions defined\u001b[0m\n"
      ]
     },
     "metadata": {},
     "output_type": "display_data"
    }
   ],
   "source": [
    "def fit_mmm_with_priors(\n",
    "    X: pd.DataFrame,\n",
    "    y: pd.Series,\n",
    "    channel_columns: list[str],\n",
    "    control_columns: list[str],\n",
    "    yearly_seasonality: int,\n",
    "    adstock_max_lag: int,\n",
    "    model_config: dict[str, Any] | None,\n",
    "    draws: int,\n",
    "    tune: int,\n",
    "    chains: int,\n",
    "    nuts_sampler: str,\n",
    "    random_seed: int,\n",
    "    spec_name: str\n",
    ") -> MMM:\n",
    "    \"\"\"Fit MMM model with specified prior configuration.\n",
    "    \n",
    "    Args:\n",
    "        X: Input features\n",
    "        y: Target variable\n",
    "        channel_columns: List of channel column names\n",
    "        control_columns: List of control column names\n",
    "        yearly_seasonality: Number of Fourier modes\n",
    "        adstock_max_lag: Maximum adstock lag\n",
    "        model_config: Prior configuration (None for defaults)\n",
    "        draws: Number of MCMC draws\n",
    "        tune: Number of tuning steps\n",
    "        chains: Number of MCMC chains\n",
    "        nuts_sampler: NUTS sampler to use\n",
    "        random_seed: Random seed\n",
    "        spec_name: Name of prior specification (for logging)\n",
    "        \n",
    "    Returns:\n",
    "        Fitted MMM model\n",
    "    \"\"\"\n",
    "    rprint(f\"\\n[bold cyan]Fitting model with: {spec_name}[/bold cyan]\")\n",
    "    \n",
    "    # Create model\n",
    "    mmm = MMM(\n",
    "        date_column=\"date\",\n",
    "        channel_columns=channel_columns,\n",
    "        control_columns=control_columns,\n",
    "        adstock=GeometricAdstock(l_max=adstock_max_lag),\n",
    "        saturation=LogisticSaturation(),\n",
    "        yearly_seasonality=yearly_seasonality,\n",
    "        model_config=model_config\n",
    "    )\n",
    "    \n",
    "    # Fit model\n",
    "    mmm.fit(\n",
    "        X=X,\n",
    "        y=y,\n",
    "        draws=draws,\n",
    "        tune=tune,\n",
    "        chains=chains,\n",
    "        nuts_sampler=nuts_sampler,\n",
    "        random_seed=random_seed,\n",
    "        progressbar=False if nuts_sampler == \"numpyro\" else True\n",
    "    )\n",
    "    \n",
    "    rprint(f\"[green]\u2713 Fitting completed for {spec_name}[/green]\")\n",
    "    \n",
    "    return mmm\n",
    "\n",
    "\n",
    "def compute_roas(\n",
    "    mmm: MMM,\n",
    "    X: pd.DataFrame,\n",
    "    channel_columns: list[str]\n",
    ") -> pd.Series:\n",
    "    \"\"\"Compute ROAS for each channel.\n",
    "    \n",
    "    Args:\n",
    "        mmm: Fitted MMM model\n",
    "        X: Input features (for spend data)\n",
    "        channel_columns: List of channel column names\n",
    "        \n",
    "    Returns:\n",
    "        Series with ROAS values per channel\n",
    "    \"\"\"\n",
    "    # Compute contributions in original scale\n",
    "    contributions = mmm.compute_mean_contributions_over_time(original_scale=True)\n",
    "    \n",
    "    # Compute ROAS: total contribution / total spend\n",
    "    total_contributions = contributions[channel_columns].sum()\n",
    "    total_spend = X[channel_columns].sum()\n",
    "    roas = total_contributions / total_spend\n",
    "    \n",
    "    return roas\n",
    "\n",
    "\n",
    "def compute_roas_error(\n",
    "    estimated_roas: pd.Series,\n",
    "    true_roas: dict[str, float],\n",
    "    channel_columns: list[str]\n",
    ") -> float:\n",
    "    \"\"\"Compute mean absolute percentage error for ROAS.\n",
    "    \n",
    "    Args:\n",
    "        estimated_roas: Estimated ROAS values\n",
    "        true_roas: Ground truth ROAS values\n",
    "        channel_columns: List of channel column names\n",
    "        \n",
    "    Returns:\n",
    "        Mean absolute percentage error\n",
    "    \"\"\"\n",
    "    errors = []\n",
    "    for channel in channel_columns:\n",
    "        # Extract channel name (remove x1_, x2_ prefix)\n",
    "        channel_name = channel.split('_', 1)[1] if '_' in channel else channel\n",
    "        \n",
    "        est = estimated_roas[channel]\n",
    "        true = true_roas.get(channel_name, 0.0)\n",
    "        \n",
    "        if true != 0:\n",
    "            error = abs((est - true) / true) * 100\n",
    "            errors.append(error)\n",
    "    \n",
    "    return np.mean(errors)\n",
    "\n",
    "\n",
    "def check_basic_convergence(mmm: MMM) -> dict[str, float]:\n",
    "    \"\"\"Check basic convergence diagnostics.\n",
    "    \n",
    "    Args:\n",
    "        mmm: Fitted MMM model\n",
    "        \n",
    "    Returns:\n",
    "        Dictionary with convergence metrics\n",
    "    \"\"\"\n",
    "    # Check divergences\n",
    "    n_divergences = int(mmm.idata.sample_stats.diverging.sum().item())\n",
    "    n_draws = mmm.idata.posterior.sizes[\"draw\"]\n",
    "    n_chains = mmm.idata.posterior.sizes[\"chain\"]\n",
    "    total_samples = n_draws * n_chains\n",
    "    divergence_rate = n_divergences / total_samples\n",
    "    \n",
    "    # Check R-hat\n",
    "    with warnings.catch_warnings():\n",
    "        warnings.filterwarnings(\"ignore\", category=RuntimeWarning)\n",
    "        rhat = az.rhat(mmm.idata)\n",
    "        max_rhat = float(rhat.to_array().max())\n",
    "    \n",
    "    return {\n",
    "        \"divergence_rate\": divergence_rate,\n",
    "        \"max_rhat\": max_rhat\n",
    "    }\n",
    "\n",
    "\n",
    "rprint(\"[bold green]Helper functions defined[/bold green]\")"
   ]
  },
  {
   "cell_type": "markdown",
   "metadata": {},
   "source": [
    "## Fit Models with Different Prior Specifications\n",
    "\n",
    "We'll fit a model for each prior specification and store the results.\n",
    "\n",
    "**Note**: This will take ~10-15 minutes (5 models \u00d7 2-3 min each with NumPyro)."
   ]
  },
  {
   "cell_type": "code",
   "execution_count": 7,
   "metadata": {},
   "outputs": [
    {
     "data": {
      "text/html": [
       "<pre style=\"white-space:pre;overflow-x:auto;line-height:normal;font-family:Menlo,'DejaVu Sans Mono',consolas,'Courier New',monospace\">\n",
       "<span style=\"color: #800080; text-decoration-color: #800080; font-weight: bold\">Starting prior sensitivity analysis...</span>\n",
       "</pre>\n"
      ],
      "text/plain": [
       "\n",
       "\u001b[1;35mStarting prior sensitivity analysis\u001b[0m\u001b[1;35m...\u001b[0m\n"
      ]
     },
     "metadata": {},
     "output_type": "display_data"
    },
    {
     "data": {
      "text/html": [
       "<pre style=\"white-space:pre;overflow-x:auto;line-height:normal;font-family:Menlo,'DejaVu Sans Mono',consolas,'Courier New',monospace\">Fitting <span style=\"color: #008080; text-decoration-color: #008080; font-weight: bold\">5</span> models<span style=\"color: #808000; text-decoration-color: #808000\">...</span>\n",
       "\n",
       "</pre>\n"
      ],
      "text/plain": [
       "Fitting \u001b[1;36m5\u001b[0m models\u001b[33m...\u001b[0m\n",
       "\n"
      ]
     },
     "metadata": {},
     "output_type": "display_data"
    },
    {
     "data": {
      "text/html": [
       "<pre style=\"white-space:pre;overflow-x:auto;line-height:normal;font-family:Menlo,'DejaVu Sans Mono',consolas,'Courier New',monospace\">\n",
       "<span style=\"color: #008080; text-decoration-color: #008080; font-weight: bold\">Fitting model with: Tight saturation_beta</span>\n",
       "</pre>\n"
      ],
      "text/plain": [
       "\n",
       "\u001b[1;36mFitting model with: Tight saturation_beta\u001b[0m\n"
      ]
     },
     "metadata": {},
     "output_type": "display_data"
    },
    {
     "name": "stderr",
     "output_type": "stream",
     "text": [
      "We recommend running at least 4 chains for robust computation of convergence diagnostics\n"
     ]
    },
    {
     "data": {
      "application/vnd.jupyter.widget-view+json": {
       "model_id": "893990c111d34725a7be97f66b1137dc",
       "version_major": 2,
       "version_minor": 0
      },
      "text/plain": [
       "Output()"
      ]
     },
     "metadata": {},
     "output_type": "display_data"
    },
    {
     "data": {
      "text/html": [
       "<pre style=\"white-space:pre;overflow-x:auto;line-height:normal;font-family:Menlo,'DejaVu Sans Mono',consolas,'Courier New',monospace\"></pre>\n"
      ],
      "text/plain": []
     },
     "metadata": {},
     "output_type": "display_data"
    },
    {
     "data": {
      "text/html": [
       "<pre style=\"white-space:pre;overflow-x:auto;line-height:normal;font-family:Menlo,'DejaVu Sans Mono',consolas,'Courier New',monospace\"><span style=\"color: #008000; text-decoration-color: #008000\">\u2713 Fitting completed for Tight saturation_beta</span>\n",
       "</pre>\n"
      ],
      "text/plain": [
       "\u001b[32m\u2713 Fitting completed for Tight saturation_beta\u001b[0m\n"
      ]
     },
     "metadata": {},
     "output_type": "display_data"
    },
    {
     "data": {
      "text/html": [
       "<pre style=\"white-space:pre;overflow-x:auto;line-height:normal;font-family:Menlo,'DejaVu Sans Mono',consolas,'Courier New',monospace\"><span style=\"color: #808000; text-decoration-color: #808000\">Tight saturation_beta:</span> ROAS MAPE = <span style=\"color: #008080; text-decoration-color: #008080; font-weight: bold\">20.8</span>%, divergences = <span style=\"color: #008080; text-decoration-color: #008080; font-weight: bold\">0.0</span>%, max_rhat = <span style=\"color: #008080; text-decoration-color: #008080; font-weight: bold\">1.005</span>\n",
       "\n",
       "</pre>\n"
      ],
      "text/plain": [
       "\u001b[33mTight saturation_beta:\u001b[0m ROAS MAPE = \u001b[1;36m20.8\u001b[0m%, divergences = \u001b[1;36m0.0\u001b[0m%, max_rhat = \u001b[1;36m1.005\u001b[0m\n",
       "\n"
      ]
     },
     "metadata": {},
     "output_type": "display_data"
    },
    {
     "data": {
      "text/html": [
       "<pre style=\"white-space:pre;overflow-x:auto;line-height:normal;font-family:Menlo,'DejaVu Sans Mono',consolas,'Courier New',monospace\">\n",
       "<span style=\"color: #008080; text-decoration-color: #008080; font-weight: bold\">Fitting model with: Default priors</span>\n",
       "</pre>\n"
      ],
      "text/plain": [
       "\n",
       "\u001b[1;36mFitting model with: Default priors\u001b[0m\n"
      ]
     },
     "metadata": {},
     "output_type": "display_data"
    },
    {
     "name": "stderr",
     "output_type": "stream",
     "text": [
      "We recommend running at least 4 chains for robust computation of convergence diagnostics\n"
     ]
    },
    {
     "data": {
      "application/vnd.jupyter.widget-view+json": {
       "model_id": "890fabb178f4462ebf9ef09190fbd93b",
       "version_major": 2,
       "version_minor": 0
      },
      "text/plain": [
       "Output()"
      ]
     },
     "metadata": {},
     "output_type": "display_data"
    },
    {
     "data": {
      "text/html": [
       "<pre style=\"white-space:pre;overflow-x:auto;line-height:normal;font-family:Menlo,'DejaVu Sans Mono',consolas,'Courier New',monospace\"></pre>\n"
      ],
      "text/plain": []
     },
     "metadata": {},
     "output_type": "display_data"
    },
    {
     "data": {
      "text/html": [
       "<pre style=\"white-space:pre;overflow-x:auto;line-height:normal;font-family:Menlo,'DejaVu Sans Mono',consolas,'Courier New',monospace\"><span style=\"color: #008000; text-decoration-color: #008000\">\u2713 Fitting completed for Default priors</span>\n",
       "</pre>\n"
      ],
      "text/plain": [
       "\u001b[32m\u2713 Fitting completed for Default priors\u001b[0m\n"
      ]
     },
     "metadata": {},
     "output_type": "display_data"
    },
    {
     "data": {
      "text/html": [
       "<pre style=\"white-space:pre;overflow-x:auto;line-height:normal;font-family:Menlo,'DejaVu Sans Mono',consolas,'Courier New',monospace\"><span style=\"color: #808000; text-decoration-color: #808000\">Default priors:</span> ROAS MAPE = <span style=\"color: #008080; text-decoration-color: #008080; font-weight: bold\">21.0</span>%, divergences = <span style=\"color: #008080; text-decoration-color: #008080; font-weight: bold\">0.0</span>%, max_rhat = <span style=\"color: #008080; text-decoration-color: #008080; font-weight: bold\">1.007</span>\n",
       "\n",
       "</pre>\n"
      ],
      "text/plain": [
       "\u001b[33mDefault priors:\u001b[0m ROAS MAPE = \u001b[1;36m21.0\u001b[0m%, divergences = \u001b[1;36m0.0\u001b[0m%, max_rhat = \u001b[1;36m1.007\u001b[0m\n",
       "\n"
      ]
     },
     "metadata": {},
     "output_type": "display_data"
    },
    {
     "data": {
      "text/html": [
       "<pre style=\"white-space:pre;overflow-x:auto;line-height:normal;font-family:Menlo,'DejaVu Sans Mono',consolas,'Courier New',monospace\">\n",
       "<span style=\"color: #008080; text-decoration-color: #008080; font-weight: bold\">Fitting model with: Loose saturation_beta</span>\n",
       "</pre>\n"
      ],
      "text/plain": [
       "\n",
       "\u001b[1;36mFitting model with: Loose saturation_beta\u001b[0m\n"
      ]
     },
     "metadata": {},
     "output_type": "display_data"
    },
    {
     "name": "stderr",
     "output_type": "stream",
     "text": [
      "We recommend running at least 4 chains for robust computation of convergence diagnostics\n"
     ]
    },
    {
     "data": {
      "application/vnd.jupyter.widget-view+json": {
       "model_id": "f762fbb813d2460ba1a38f7f219149d5",
       "version_major": 2,
       "version_minor": 0
      },
      "text/plain": [
       "Output()"
      ]
     },
     "metadata": {},
     "output_type": "display_data"
    },
    {
     "data": {
      "text/html": [
       "<pre style=\"white-space:pre;overflow-x:auto;line-height:normal;font-family:Menlo,'DejaVu Sans Mono',consolas,'Courier New',monospace\"></pre>\n"
      ],
      "text/plain": []
     },
     "metadata": {},
     "output_type": "display_data"
    },
    {
     "data": {
      "text/html": [
       "<pre style=\"white-space:pre;overflow-x:auto;line-height:normal;font-family:Menlo,'DejaVu Sans Mono',consolas,'Courier New',monospace\"><span style=\"color: #008000; text-decoration-color: #008000\">\u2713 Fitting completed for Loose saturation_beta</span>\n",
       "</pre>\n"
      ],
      "text/plain": [
       "\u001b[32m\u2713 Fitting completed for Loose saturation_beta\u001b[0m\n"
      ]
     },
     "metadata": {},
     "output_type": "display_data"
    },
    {
     "data": {
      "text/html": [
       "<pre style=\"white-space:pre;overflow-x:auto;line-height:normal;font-family:Menlo,'DejaVu Sans Mono',consolas,'Courier New',monospace\"><span style=\"color: #808000; text-decoration-color: #808000\">Loose saturation_beta:</span> ROAS MAPE = <span style=\"color: #008080; text-decoration-color: #008080; font-weight: bold\">21.0</span>%, divergences = <span style=\"color: #008080; text-decoration-color: #008080; font-weight: bold\">0.0</span>%, max_rhat = <span style=\"color: #008080; text-decoration-color: #008080; font-weight: bold\">1.008</span>\n",
       "\n",
       "</pre>\n"
      ],
      "text/plain": [
       "\u001b[33mLoose saturation_beta:\u001b[0m ROAS MAPE = \u001b[1;36m21.0\u001b[0m%, divergences = \u001b[1;36m0.0\u001b[0m%, max_rhat = \u001b[1;36m1.008\u001b[0m\n",
       "\n"
      ]
     },
     "metadata": {},
     "output_type": "display_data"
    },
    {
     "data": {
      "text/html": [
       "<pre style=\"white-space:pre;overflow-x:auto;line-height:normal;font-family:Menlo,'DejaVu Sans Mono',consolas,'Courier New',monospace\">\n",
       "<span style=\"color: #008080; text-decoration-color: #008080; font-weight: bold\">Fitting model with: Tight likelihood_sigma</span>\n",
       "</pre>\n"
      ],
      "text/plain": [
       "\n",
       "\u001b[1;36mFitting model with: Tight likelihood_sigma\u001b[0m\n"
      ]
     },
     "metadata": {},
     "output_type": "display_data"
    },
    {
     "name": "stderr",
     "output_type": "stream",
     "text": [
      "We recommend running at least 4 chains for robust computation of convergence diagnostics\n"
     ]
    },
    {
     "data": {
      "application/vnd.jupyter.widget-view+json": {
       "model_id": "13fccc170b6e4f33bf522f28bacd2eca",
       "version_major": 2,
       "version_minor": 0
      },
      "text/plain": [
       "Output()"
      ]
     },
     "metadata": {},
     "output_type": "display_data"
    },
    {
     "data": {
      "text/html": [
       "<pre style=\"white-space:pre;overflow-x:auto;line-height:normal;font-family:Menlo,'DejaVu Sans Mono',consolas,'Courier New',monospace\"></pre>\n"
      ],
      "text/plain": []
     },
     "metadata": {},
     "output_type": "display_data"
    },
    {
     "data": {
      "text/html": [
       "<pre style=\"white-space:pre;overflow-x:auto;line-height:normal;font-family:Menlo,'DejaVu Sans Mono',consolas,'Courier New',monospace\"><span style=\"color: #008000; text-decoration-color: #008000\">\u2713 Fitting completed for Tight likelihood_sigma</span>\n",
       "</pre>\n"
      ],
      "text/plain": [
       "\u001b[32m\u2713 Fitting completed for Tight likelihood_sigma\u001b[0m\n"
      ]
     },
     "metadata": {},
     "output_type": "display_data"
    },
    {
     "data": {
      "text/html": [
       "<pre style=\"white-space:pre;overflow-x:auto;line-height:normal;font-family:Menlo,'DejaVu Sans Mono',consolas,'Courier New',monospace\"><span style=\"color: #808000; text-decoration-color: #808000\">Tight likelihood_sigma:</span> ROAS MAPE = <span style=\"color: #008080; text-decoration-color: #008080; font-weight: bold\">20.7</span>%, divergences = <span style=\"color: #008080; text-decoration-color: #008080; font-weight: bold\">0.0</span>%, max_rhat = <span style=\"color: #008080; text-decoration-color: #008080; font-weight: bold\">1.009</span>\n",
       "\n",
       "</pre>\n"
      ],
      "text/plain": [
       "\u001b[33mTight likelihood_sigma:\u001b[0m ROAS MAPE = \u001b[1;36m20.7\u001b[0m%, divergences = \u001b[1;36m0.0\u001b[0m%, max_rhat = \u001b[1;36m1.009\u001b[0m\n",
       "\n"
      ]
     },
     "metadata": {},
     "output_type": "display_data"
    },
    {
     "data": {
      "text/html": [
       "<pre style=\"white-space:pre;overflow-x:auto;line-height:normal;font-family:Menlo,'DejaVu Sans Mono',consolas,'Courier New',monospace\">\n",
       "<span style=\"color: #008080; text-decoration-color: #008080; font-weight: bold\">Fitting model with: Loose likelihood_sigma</span>\n",
       "</pre>\n"
      ],
      "text/plain": [
       "\n",
       "\u001b[1;36mFitting model with: Loose likelihood_sigma\u001b[0m\n"
      ]
     },
     "metadata": {},
     "output_type": "display_data"
    },
    {
     "name": "stderr",
     "output_type": "stream",
     "text": [
      "We recommend running at least 4 chains for robust computation of convergence diagnostics\n"
     ]
    },
    {
     "data": {
      "application/vnd.jupyter.widget-view+json": {
       "model_id": "7f83ab87b92d481c915ef95cfcc9612c",
       "version_major": 2,
       "version_minor": 0
      },
      "text/plain": [
       "Output()"
      ]
     },
     "metadata": {},
     "output_type": "display_data"
    },
    {
     "data": {
      "text/html": [
       "<pre style=\"white-space:pre;overflow-x:auto;line-height:normal;font-family:Menlo,'DejaVu Sans Mono',consolas,'Courier New',monospace\"></pre>\n"
      ],
      "text/plain": []
     },
     "metadata": {},
     "output_type": "display_data"
    },
    {
     "data": {
      "text/html": [
       "<pre style=\"white-space:pre;overflow-x:auto;line-height:normal;font-family:Menlo,'DejaVu Sans Mono',consolas,'Courier New',monospace\"><span style=\"color: #008000; text-decoration-color: #008000\">\u2713 Fitting completed for Loose likelihood_sigma</span>\n",
       "</pre>\n"
      ],
      "text/plain": [
       "\u001b[32m\u2713 Fitting completed for Loose likelihood_sigma\u001b[0m\n"
      ]
     },
     "metadata": {},
     "output_type": "display_data"
    },
    {
     "data": {
      "text/html": [
       "<pre style=\"white-space:pre;overflow-x:auto;line-height:normal;font-family:Menlo,'DejaVu Sans Mono',consolas,'Courier New',monospace\"><span style=\"color: #808000; text-decoration-color: #808000\">Loose likelihood_sigma:</span> ROAS MAPE = <span style=\"color: #008080; text-decoration-color: #008080; font-weight: bold\">20.8</span>%, divergences = <span style=\"color: #008080; text-decoration-color: #008080; font-weight: bold\">0.0</span>%, max_rhat = <span style=\"color: #008080; text-decoration-color: #008080; font-weight: bold\">1.007</span>\n",
       "\n",
       "</pre>\n"
      ],
      "text/plain": [
       "\u001b[33mLoose likelihood_sigma:\u001b[0m ROAS MAPE = \u001b[1;36m20.8\u001b[0m%, divergences = \u001b[1;36m0.0\u001b[0m%, max_rhat = \u001b[1;36m1.007\u001b[0m\n",
       "\n"
      ]
     },
     "metadata": {},
     "output_type": "display_data"
    },
    {
     "data": {
      "text/html": [
       "<pre style=\"white-space:pre;overflow-x:auto;line-height:normal;font-family:Menlo,'DejaVu Sans Mono',consolas,'Courier New',monospace\"><span style=\"color: #008000; text-decoration-color: #008000; font-weight: bold\">All models fitted successfully!</span>\n",
       "</pre>\n"
      ],
      "text/plain": [
       "\u001b[1;32mAll models fitted successfully!\u001b[0m\n"
      ]
     },
     "metadata": {},
     "output_type": "display_data"
    }
   ],
   "source": [
    "# Store results\n",
    "results = {}\n",
    "\n",
    "rprint(\"\\n[bold magenta]Starting prior sensitivity analysis...[/bold magenta]\")\n",
    "rprint(f\"Fitting {len(prior_specs)} models...\\n\")\n",
    "\n",
    "for spec_id, spec in prior_specs.items():\n",
    "    # Fit model\n",
    "    mmm = fit_mmm_with_priors(\n",
    "        X=X,\n",
    "        y=y,\n",
    "        channel_columns=channel_columns,\n",
    "        control_columns=control_columns,\n",
    "        yearly_seasonality=YEARLY_SEASONALITY,\n",
    "        adstock_max_lag=ADSTOCK_MAX_LAG,\n",
    "        model_config=spec[\"config\"],\n",
    "        draws=DRAWS,\n",
    "        tune=TUNE,\n",
    "        chains=CHAINS,\n",
    "        nuts_sampler=NUTS_SAMPLER,\n",
    "        random_seed=RANDOM_SEED,\n",
    "        spec_name=spec[\"name\"]\n",
    "    )\n",
    "    \n",
    "    # Compute ROAS\n",
    "    roas = compute_roas(mmm, X, channel_columns)\n",
    "    \n",
    "    # Compute ROAS error\n",
    "    roas_error = compute_roas_error(roas, true_roas, channel_columns)\n",
    "    \n",
    "    # Check convergence\n",
    "    convergence = check_basic_convergence(mmm)\n",
    "    \n",
    "    # Store results\n",
    "    results[spec_id] = {\n",
    "        \"name\": spec[\"name\"],\n",
    "        \"description\": spec[\"description\"],\n",
    "        \"mmm\": mmm,\n",
    "        \"roas\": roas,\n",
    "        \"roas_error\": roas_error,\n",
    "        \"convergence\": convergence\n",
    "    }\n",
    "    \n",
    "    rprint(\n",
    "        f\"[yellow]{spec['name']}:[/yellow] \"\n",
    "        f\"ROAS MAPE = {roas_error:.1f}%, \"\n",
    "        f\"divergences = {convergence['divergence_rate']*100:.1f}%, \"\n",
    "        f\"max_rhat = {convergence['max_rhat']:.3f}\\n\"\n",
    "    )\n",
    "\n",
    "rprint(\"[bold green]All models fitted successfully![/bold green]\")"
   ]
  },
  {
   "cell_type": "markdown",
   "metadata": {},
   "source": [
    "## Compare ROAS Estimates Across Prior Specifications\n",
    "\n",
    "This is the key output: how do different priors affect our causal estimates (ROAS)?"
   ]
  },
  {
   "cell_type": "code",
   "execution_count": 8,
   "metadata": {},
   "outputs": [
    {
     "data": {
      "text/html": [
       "<pre style=\"white-space:pre;overflow-x:auto;line-height:normal;font-family:Menlo,'DejaVu Sans Mono',consolas,'Courier New',monospace\">\n",
       "\n",
       "</pre>\n"
      ],
      "text/plain": [
       "\n",
       "\n"
      ]
     },
     "metadata": {},
     "output_type": "display_data"
    },
    {
     "data": {
      "text/html": [
       "<pre style=\"white-space:pre;overflow-x:auto;line-height:normal;font-family:Menlo,'DejaVu Sans Mono',consolas,'Courier New',monospace\"><span style=\"font-style: italic\">            ROAS Estimates for Search-Ads (True: 8.19)             </span>\n",
       "\u250f\u2501\u2501\u2501\u2501\u2501\u2501\u2501\u2501\u2501\u2501\u2501\u2501\u2501\u2501\u2501\u2501\u2501\u2501\u2501\u2501\u2501\u2501\u2501\u2501\u2533\u2501\u2501\u2501\u2501\u2501\u2501\u2501\u2501\u2501\u2501\u2501\u2501\u2501\u2501\u2501\u2501\u2533\u2501\u2501\u2501\u2501\u2501\u2501\u2501\u2501\u2501\u2533\u2501\u2501\u2501\u2501\u2501\u2501\u2501\u2501\u2501\u2501\u2501\u2501\u2501\u2513\n",
       "\u2503<span style=\"color: #008000; text-decoration-color: #008000; font-weight: bold\"> Prior Specification    </span>\u2503<span style=\"color: #008000; text-decoration-color: #008000; font-weight: bold\"> Estimated ROAS </span>\u2503<span style=\"color: #008000; text-decoration-color: #008000; font-weight: bold\"> Error % </span>\u2503<span style=\"color: #008000; text-decoration-color: #008000; font-weight: bold\"> Convergence </span>\u2503\n",
       "\u2521\u2501\u2501\u2501\u2501\u2501\u2501\u2501\u2501\u2501\u2501\u2501\u2501\u2501\u2501\u2501\u2501\u2501\u2501\u2501\u2501\u2501\u2501\u2501\u2501\u2547\u2501\u2501\u2501\u2501\u2501\u2501\u2501\u2501\u2501\u2501\u2501\u2501\u2501\u2501\u2501\u2501\u2547\u2501\u2501\u2501\u2501\u2501\u2501\u2501\u2501\u2501\u2547\u2501\u2501\u2501\u2501\u2501\u2501\u2501\u2501\u2501\u2501\u2501\u2501\u2501\u2529\n",
       "\u2502<span style=\"color: #008080; text-decoration-color: #008080\"> Tight saturation_beta  </span>\u2502           8.09 \u2502   <span style=\"color: #008000; text-decoration-color: #008000\">-1.3%</span> \u2502      <span style=\"color: #008000; text-decoration-color: #008000\">\u2713</span>      \u2502\n",
       "\u2502<span style=\"color: #008080; text-decoration-color: #008080\"> Default priors         </span>\u2502           8.05 \u2502   <span style=\"color: #008000; text-decoration-color: #008000\">-1.7%</span> \u2502      <span style=\"color: #008000; text-decoration-color: #008000\">\u2713</span>      \u2502\n",
       "\u2502<span style=\"color: #008080; text-decoration-color: #008080\"> Loose saturation_beta  </span>\u2502           8.04 \u2502   <span style=\"color: #008000; text-decoration-color: #008000\">-1.9%</span> \u2502      <span style=\"color: #008000; text-decoration-color: #008000\">\u2713</span>      \u2502\n",
       "\u2502<span style=\"color: #008080; text-decoration-color: #008080\"> Tight likelihood_sigma </span>\u2502           8.06 \u2502   <span style=\"color: #008000; text-decoration-color: #008000\">-1.5%</span> \u2502      <span style=\"color: #008000; text-decoration-color: #008000\">\u2713</span>      \u2502\n",
       "\u2502<span style=\"color: #008080; text-decoration-color: #008080\"> Loose likelihood_sigma </span>\u2502           8.08 \u2502   <span style=\"color: #008000; text-decoration-color: #008000\">-1.4%</span> \u2502      <span style=\"color: #008000; text-decoration-color: #008000\">\u2713</span>      \u2502\n",
       "\u2514\u2500\u2500\u2500\u2500\u2500\u2500\u2500\u2500\u2500\u2500\u2500\u2500\u2500\u2500\u2500\u2500\u2500\u2500\u2500\u2500\u2500\u2500\u2500\u2500\u2534\u2500\u2500\u2500\u2500\u2500\u2500\u2500\u2500\u2500\u2500\u2500\u2500\u2500\u2500\u2500\u2500\u2534\u2500\u2500\u2500\u2500\u2500\u2500\u2500\u2500\u2500\u2534\u2500\u2500\u2500\u2500\u2500\u2500\u2500\u2500\u2500\u2500\u2500\u2500\u2500\u2518\n",
       "</pre>\n"
      ],
      "text/plain": [
       "\u001b[3m            ROAS Estimates for Search-Ads (True: 8.19)             \u001b[0m\n",
       "\u250f\u2501\u2501\u2501\u2501\u2501\u2501\u2501\u2501\u2501\u2501\u2501\u2501\u2501\u2501\u2501\u2501\u2501\u2501\u2501\u2501\u2501\u2501\u2501\u2501\u2533\u2501\u2501\u2501\u2501\u2501\u2501\u2501\u2501\u2501\u2501\u2501\u2501\u2501\u2501\u2501\u2501\u2533\u2501\u2501\u2501\u2501\u2501\u2501\u2501\u2501\u2501\u2533\u2501\u2501\u2501\u2501\u2501\u2501\u2501\u2501\u2501\u2501\u2501\u2501\u2501\u2513\n",
       "\u2503\u001b[1;32m \u001b[0m\u001b[1;32mPrior Specification   \u001b[0m\u001b[1;32m \u001b[0m\u2503\u001b[1;32m \u001b[0m\u001b[1;32mEstimated ROAS\u001b[0m\u001b[1;32m \u001b[0m\u2503\u001b[1;32m \u001b[0m\u001b[1;32mError %\u001b[0m\u001b[1;32m \u001b[0m\u2503\u001b[1;32m \u001b[0m\u001b[1;32mConvergence\u001b[0m\u001b[1;32m \u001b[0m\u2503\n",
       "\u2521\u2501\u2501\u2501\u2501\u2501\u2501\u2501\u2501\u2501\u2501\u2501\u2501\u2501\u2501\u2501\u2501\u2501\u2501\u2501\u2501\u2501\u2501\u2501\u2501\u2547\u2501\u2501\u2501\u2501\u2501\u2501\u2501\u2501\u2501\u2501\u2501\u2501\u2501\u2501\u2501\u2501\u2547\u2501\u2501\u2501\u2501\u2501\u2501\u2501\u2501\u2501\u2547\u2501\u2501\u2501\u2501\u2501\u2501\u2501\u2501\u2501\u2501\u2501\u2501\u2501\u2529\n",
       "\u2502\u001b[36m \u001b[0m\u001b[36mTight saturation_beta \u001b[0m\u001b[36m \u001b[0m\u2502           8.09 \u2502   \u001b[32m-1.3%\u001b[0m \u2502      \u001b[32m\u2713\u001b[0m      \u2502\n",
       "\u2502\u001b[36m \u001b[0m\u001b[36mDefault priors        \u001b[0m\u001b[36m \u001b[0m\u2502           8.05 \u2502   \u001b[32m-1.7%\u001b[0m \u2502      \u001b[32m\u2713\u001b[0m      \u2502\n",
       "\u2502\u001b[36m \u001b[0m\u001b[36mLoose saturation_beta \u001b[0m\u001b[36m \u001b[0m\u2502           8.04 \u2502   \u001b[32m-1.9%\u001b[0m \u2502      \u001b[32m\u2713\u001b[0m      \u2502\n",
       "\u2502\u001b[36m \u001b[0m\u001b[36mTight likelihood_sigma\u001b[0m\u001b[36m \u001b[0m\u2502           8.06 \u2502   \u001b[32m-1.5%\u001b[0m \u2502      \u001b[32m\u2713\u001b[0m      \u2502\n",
       "\u2502\u001b[36m \u001b[0m\u001b[36mLoose likelihood_sigma\u001b[0m\u001b[36m \u001b[0m\u2502           8.08 \u2502   \u001b[32m-1.4%\u001b[0m \u2502      \u001b[32m\u2713\u001b[0m      \u2502\n",
       "\u2514\u2500\u2500\u2500\u2500\u2500\u2500\u2500\u2500\u2500\u2500\u2500\u2500\u2500\u2500\u2500\u2500\u2500\u2500\u2500\u2500\u2500\u2500\u2500\u2500\u2534\u2500\u2500\u2500\u2500\u2500\u2500\u2500\u2500\u2500\u2500\u2500\u2500\u2500\u2500\u2500\u2500\u2534\u2500\u2500\u2500\u2500\u2500\u2500\u2500\u2500\u2500\u2534\u2500\u2500\u2500\u2500\u2500\u2500\u2500\u2500\u2500\u2500\u2500\u2500\u2500\u2518\n"
      ]
     },
     "metadata": {},
     "output_type": "display_data"
    },
    {
     "data": {
      "text/html": [
       "<pre style=\"white-space:pre;overflow-x:auto;line-height:normal;font-family:Menlo,'DejaVu Sans Mono',consolas,'Courier New',monospace\">\n",
       "\n",
       "</pre>\n"
      ],
      "text/plain": [
       "\n",
       "\n"
      ]
     },
     "metadata": {},
     "output_type": "display_data"
    },
    {
     "data": {
      "text/html": [
       "<pre style=\"white-space:pre;overflow-x:auto;line-height:normal;font-family:Menlo,'DejaVu Sans Mono',consolas,'Courier New',monospace\"><span style=\"font-style: italic\">           ROAS Estimates for Social-Media (True: 21.95)           </span>\n",
       "\u250f\u2501\u2501\u2501\u2501\u2501\u2501\u2501\u2501\u2501\u2501\u2501\u2501\u2501\u2501\u2501\u2501\u2501\u2501\u2501\u2501\u2501\u2501\u2501\u2501\u2533\u2501\u2501\u2501\u2501\u2501\u2501\u2501\u2501\u2501\u2501\u2501\u2501\u2501\u2501\u2501\u2501\u2533\u2501\u2501\u2501\u2501\u2501\u2501\u2501\u2501\u2501\u2533\u2501\u2501\u2501\u2501\u2501\u2501\u2501\u2501\u2501\u2501\u2501\u2501\u2501\u2513\n",
       "\u2503<span style=\"color: #008000; text-decoration-color: #008000; font-weight: bold\"> Prior Specification    </span>\u2503<span style=\"color: #008000; text-decoration-color: #008000; font-weight: bold\"> Estimated ROAS </span>\u2503<span style=\"color: #008000; text-decoration-color: #008000; font-weight: bold\"> Error % </span>\u2503<span style=\"color: #008000; text-decoration-color: #008000; font-weight: bold\"> Convergence </span>\u2503\n",
       "\u2521\u2501\u2501\u2501\u2501\u2501\u2501\u2501\u2501\u2501\u2501\u2501\u2501\u2501\u2501\u2501\u2501\u2501\u2501\u2501\u2501\u2501\u2501\u2501\u2501\u2547\u2501\u2501\u2501\u2501\u2501\u2501\u2501\u2501\u2501\u2501\u2501\u2501\u2501\u2501\u2501\u2501\u2547\u2501\u2501\u2501\u2501\u2501\u2501\u2501\u2501\u2501\u2547\u2501\u2501\u2501\u2501\u2501\u2501\u2501\u2501\u2501\u2501\u2501\u2501\u2501\u2529\n",
       "\u2502<span style=\"color: #008080; text-decoration-color: #008080\"> Tight saturation_beta  </span>\u2502          28.99 \u2502  <span style=\"color: #800000; text-decoration-color: #800000\">+32.1%</span> \u2502      <span style=\"color: #008000; text-decoration-color: #008000\">\u2713</span>      \u2502\n",
       "\u2502<span style=\"color: #008080; text-decoration-color: #008080\"> Default priors         </span>\u2502          28.96 \u2502  <span style=\"color: #800000; text-decoration-color: #800000\">+31.9%</span> \u2502      <span style=\"color: #008000; text-decoration-color: #008000\">\u2713</span>      \u2502\n",
       "\u2502<span style=\"color: #008080; text-decoration-color: #008080\"> Loose saturation_beta  </span>\u2502          29.00 \u2502  <span style=\"color: #800000; text-decoration-color: #800000\">+32.1%</span> \u2502      <span style=\"color: #008000; text-decoration-color: #008000\">\u2713</span>      \u2502\n",
       "\u2502<span style=\"color: #008080; text-decoration-color: #008080\"> Tight likelihood_sigma </span>\u2502          28.84 \u2502  <span style=\"color: #800000; text-decoration-color: #800000\">+31.4%</span> \u2502      <span style=\"color: #008000; text-decoration-color: #008000\">\u2713</span>      \u2502\n",
       "\u2502<span style=\"color: #008080; text-decoration-color: #008080\"> Loose likelihood_sigma </span>\u2502          28.89 \u2502  <span style=\"color: #800000; text-decoration-color: #800000\">+31.6%</span> \u2502      <span style=\"color: #008000; text-decoration-color: #008000\">\u2713</span>      \u2502\n",
       "\u2514\u2500\u2500\u2500\u2500\u2500\u2500\u2500\u2500\u2500\u2500\u2500\u2500\u2500\u2500\u2500\u2500\u2500\u2500\u2500\u2500\u2500\u2500\u2500\u2500\u2534\u2500\u2500\u2500\u2500\u2500\u2500\u2500\u2500\u2500\u2500\u2500\u2500\u2500\u2500\u2500\u2500\u2534\u2500\u2500\u2500\u2500\u2500\u2500\u2500\u2500\u2500\u2534\u2500\u2500\u2500\u2500\u2500\u2500\u2500\u2500\u2500\u2500\u2500\u2500\u2500\u2518\n",
       "</pre>\n"
      ],
      "text/plain": [
       "\u001b[3m           ROAS Estimates for Social-Media (True: 21.95)           \u001b[0m\n",
       "\u250f\u2501\u2501\u2501\u2501\u2501\u2501\u2501\u2501\u2501\u2501\u2501\u2501\u2501\u2501\u2501\u2501\u2501\u2501\u2501\u2501\u2501\u2501\u2501\u2501\u2533\u2501\u2501\u2501\u2501\u2501\u2501\u2501\u2501\u2501\u2501\u2501\u2501\u2501\u2501\u2501\u2501\u2533\u2501\u2501\u2501\u2501\u2501\u2501\u2501\u2501\u2501\u2533\u2501\u2501\u2501\u2501\u2501\u2501\u2501\u2501\u2501\u2501\u2501\u2501\u2501\u2513\n",
       "\u2503\u001b[1;32m \u001b[0m\u001b[1;32mPrior Specification   \u001b[0m\u001b[1;32m \u001b[0m\u2503\u001b[1;32m \u001b[0m\u001b[1;32mEstimated ROAS\u001b[0m\u001b[1;32m \u001b[0m\u2503\u001b[1;32m \u001b[0m\u001b[1;32mError %\u001b[0m\u001b[1;32m \u001b[0m\u2503\u001b[1;32m \u001b[0m\u001b[1;32mConvergence\u001b[0m\u001b[1;32m \u001b[0m\u2503\n",
       "\u2521\u2501\u2501\u2501\u2501\u2501\u2501\u2501\u2501\u2501\u2501\u2501\u2501\u2501\u2501\u2501\u2501\u2501\u2501\u2501\u2501\u2501\u2501\u2501\u2501\u2547\u2501\u2501\u2501\u2501\u2501\u2501\u2501\u2501\u2501\u2501\u2501\u2501\u2501\u2501\u2501\u2501\u2547\u2501\u2501\u2501\u2501\u2501\u2501\u2501\u2501\u2501\u2547\u2501\u2501\u2501\u2501\u2501\u2501\u2501\u2501\u2501\u2501\u2501\u2501\u2501\u2529\n",
       "\u2502\u001b[36m \u001b[0m\u001b[36mTight saturation_beta \u001b[0m\u001b[36m \u001b[0m\u2502          28.99 \u2502  \u001b[31m+32.1%\u001b[0m \u2502      \u001b[32m\u2713\u001b[0m      \u2502\n",
       "\u2502\u001b[36m \u001b[0m\u001b[36mDefault priors        \u001b[0m\u001b[36m \u001b[0m\u2502          28.96 \u2502  \u001b[31m+31.9%\u001b[0m \u2502      \u001b[32m\u2713\u001b[0m      \u2502\n",
       "\u2502\u001b[36m \u001b[0m\u001b[36mLoose saturation_beta \u001b[0m\u001b[36m \u001b[0m\u2502          29.00 \u2502  \u001b[31m+32.1%\u001b[0m \u2502      \u001b[32m\u2713\u001b[0m      \u2502\n",
       "\u2502\u001b[36m \u001b[0m\u001b[36mTight likelihood_sigma\u001b[0m\u001b[36m \u001b[0m\u2502          28.84 \u2502  \u001b[31m+31.4%\u001b[0m \u2502      \u001b[32m\u2713\u001b[0m      \u2502\n",
       "\u2502\u001b[36m \u001b[0m\u001b[36mLoose likelihood_sigma\u001b[0m\u001b[36m \u001b[0m\u2502          28.89 \u2502  \u001b[31m+31.6%\u001b[0m \u2502      \u001b[32m\u2713\u001b[0m      \u2502\n",
       "\u2514\u2500\u2500\u2500\u2500\u2500\u2500\u2500\u2500\u2500\u2500\u2500\u2500\u2500\u2500\u2500\u2500\u2500\u2500\u2500\u2500\u2500\u2500\u2500\u2500\u2534\u2500\u2500\u2500\u2500\u2500\u2500\u2500\u2500\u2500\u2500\u2500\u2500\u2500\u2500\u2500\u2500\u2534\u2500\u2500\u2500\u2500\u2500\u2500\u2500\u2500\u2500\u2534\u2500\u2500\u2500\u2500\u2500\u2500\u2500\u2500\u2500\u2500\u2500\u2500\u2500\u2518\n"
      ]
     },
     "metadata": {},
     "output_type": "display_data"
    },
    {
     "data": {
      "text/html": [
       "<pre style=\"white-space:pre;overflow-x:auto;line-height:normal;font-family:Menlo,'DejaVu Sans Mono',consolas,'Courier New',monospace\">\n",
       "\n",
       "</pre>\n"
      ],
      "text/plain": [
       "\n",
       "\n"
      ]
     },
     "metadata": {},
     "output_type": "display_data"
    },
    {
     "data": {
      "text/html": [
       "<pre style=\"white-space:pre;overflow-x:auto;line-height:normal;font-family:Menlo,'DejaVu Sans Mono',consolas,'Courier New',monospace\"><span style=\"font-style: italic\">             ROAS Estimates for Local-Ads (True: 3.32)             </span>\n",
       "\u250f\u2501\u2501\u2501\u2501\u2501\u2501\u2501\u2501\u2501\u2501\u2501\u2501\u2501\u2501\u2501\u2501\u2501\u2501\u2501\u2501\u2501\u2501\u2501\u2501\u2533\u2501\u2501\u2501\u2501\u2501\u2501\u2501\u2501\u2501\u2501\u2501\u2501\u2501\u2501\u2501\u2501\u2533\u2501\u2501\u2501\u2501\u2501\u2501\u2501\u2501\u2501\u2533\u2501\u2501\u2501\u2501\u2501\u2501\u2501\u2501\u2501\u2501\u2501\u2501\u2501\u2513\n",
       "\u2503<span style=\"color: #008000; text-decoration-color: #008000; font-weight: bold\"> Prior Specification    </span>\u2503<span style=\"color: #008000; text-decoration-color: #008000; font-weight: bold\"> Estimated ROAS </span>\u2503<span style=\"color: #008000; text-decoration-color: #008000; font-weight: bold\"> Error % </span>\u2503<span style=\"color: #008000; text-decoration-color: #008000; font-weight: bold\"> Convergence </span>\u2503\n",
       "\u2521\u2501\u2501\u2501\u2501\u2501\u2501\u2501\u2501\u2501\u2501\u2501\u2501\u2501\u2501\u2501\u2501\u2501\u2501\u2501\u2501\u2501\u2501\u2501\u2501\u2547\u2501\u2501\u2501\u2501\u2501\u2501\u2501\u2501\u2501\u2501\u2501\u2501\u2501\u2501\u2501\u2501\u2547\u2501\u2501\u2501\u2501\u2501\u2501\u2501\u2501\u2501\u2547\u2501\u2501\u2501\u2501\u2501\u2501\u2501\u2501\u2501\u2501\u2501\u2501\u2501\u2529\n",
       "\u2502<span style=\"color: #008080; text-decoration-color: #008080\"> Tight saturation_beta  </span>\u2502           2.24 \u2502  <span style=\"color: #800000; text-decoration-color: #800000\">-32.5%</span> \u2502      <span style=\"color: #008000; text-decoration-color: #008000\">\u2713</span>      \u2502\n",
       "\u2502<span style=\"color: #008080; text-decoration-color: #008080\"> Default priors         </span>\u2502           2.22 \u2502  <span style=\"color: #800000; text-decoration-color: #800000\">-33.2%</span> \u2502      <span style=\"color: #008000; text-decoration-color: #008000\">\u2713</span>      \u2502\n",
       "\u2502<span style=\"color: #008080; text-decoration-color: #008080\"> Loose saturation_beta  </span>\u2502           2.22 \u2502  <span style=\"color: #800000; text-decoration-color: #800000\">-33.2%</span> \u2502      <span style=\"color: #008000; text-decoration-color: #008000\">\u2713</span>      \u2502\n",
       "\u2502<span style=\"color: #008080; text-decoration-color: #008080\"> Tight likelihood_sigma </span>\u2502           2.23 \u2502  <span style=\"color: #800000; text-decoration-color: #800000\">-32.8%</span> \u2502      <span style=\"color: #008000; text-decoration-color: #008000\">\u2713</span>      \u2502\n",
       "\u2502<span style=\"color: #008080; text-decoration-color: #008080\"> Loose likelihood_sigma </span>\u2502           2.23 \u2502  <span style=\"color: #800000; text-decoration-color: #800000\">-32.9%</span> \u2502      <span style=\"color: #008000; text-decoration-color: #008000\">\u2713</span>      \u2502\n",
       "\u2514\u2500\u2500\u2500\u2500\u2500\u2500\u2500\u2500\u2500\u2500\u2500\u2500\u2500\u2500\u2500\u2500\u2500\u2500\u2500\u2500\u2500\u2500\u2500\u2500\u2534\u2500\u2500\u2500\u2500\u2500\u2500\u2500\u2500\u2500\u2500\u2500\u2500\u2500\u2500\u2500\u2500\u2534\u2500\u2500\u2500\u2500\u2500\u2500\u2500\u2500\u2500\u2534\u2500\u2500\u2500\u2500\u2500\u2500\u2500\u2500\u2500\u2500\u2500\u2500\u2500\u2518\n",
       "</pre>\n"
      ],
      "text/plain": [
       "\u001b[3m             ROAS Estimates for Local-Ads (True: 3.32)             \u001b[0m\n",
       "\u250f\u2501\u2501\u2501\u2501\u2501\u2501\u2501\u2501\u2501\u2501\u2501\u2501\u2501\u2501\u2501\u2501\u2501\u2501\u2501\u2501\u2501\u2501\u2501\u2501\u2533\u2501\u2501\u2501\u2501\u2501\u2501\u2501\u2501\u2501\u2501\u2501\u2501\u2501\u2501\u2501\u2501\u2533\u2501\u2501\u2501\u2501\u2501\u2501\u2501\u2501\u2501\u2533\u2501\u2501\u2501\u2501\u2501\u2501\u2501\u2501\u2501\u2501\u2501\u2501\u2501\u2513\n",
       "\u2503\u001b[1;32m \u001b[0m\u001b[1;32mPrior Specification   \u001b[0m\u001b[1;32m \u001b[0m\u2503\u001b[1;32m \u001b[0m\u001b[1;32mEstimated ROAS\u001b[0m\u001b[1;32m \u001b[0m\u2503\u001b[1;32m \u001b[0m\u001b[1;32mError %\u001b[0m\u001b[1;32m \u001b[0m\u2503\u001b[1;32m \u001b[0m\u001b[1;32mConvergence\u001b[0m\u001b[1;32m \u001b[0m\u2503\n",
       "\u2521\u2501\u2501\u2501\u2501\u2501\u2501\u2501\u2501\u2501\u2501\u2501\u2501\u2501\u2501\u2501\u2501\u2501\u2501\u2501\u2501\u2501\u2501\u2501\u2501\u2547\u2501\u2501\u2501\u2501\u2501\u2501\u2501\u2501\u2501\u2501\u2501\u2501\u2501\u2501\u2501\u2501\u2547\u2501\u2501\u2501\u2501\u2501\u2501\u2501\u2501\u2501\u2547\u2501\u2501\u2501\u2501\u2501\u2501\u2501\u2501\u2501\u2501\u2501\u2501\u2501\u2529\n",
       "\u2502\u001b[36m \u001b[0m\u001b[36mTight saturation_beta \u001b[0m\u001b[36m \u001b[0m\u2502           2.24 \u2502  \u001b[31m-32.5%\u001b[0m \u2502      \u001b[32m\u2713\u001b[0m      \u2502\n",
       "\u2502\u001b[36m \u001b[0m\u001b[36mDefault priors        \u001b[0m\u001b[36m \u001b[0m\u2502           2.22 \u2502  \u001b[31m-33.2%\u001b[0m \u2502      \u001b[32m\u2713\u001b[0m      \u2502\n",
       "\u2502\u001b[36m \u001b[0m\u001b[36mLoose saturation_beta \u001b[0m\u001b[36m \u001b[0m\u2502           2.22 \u2502  \u001b[31m-33.2%\u001b[0m \u2502      \u001b[32m\u2713\u001b[0m      \u2502\n",
       "\u2502\u001b[36m \u001b[0m\u001b[36mTight likelihood_sigma\u001b[0m\u001b[36m \u001b[0m\u2502           2.23 \u2502  \u001b[31m-32.8%\u001b[0m \u2502      \u001b[32m\u2713\u001b[0m      \u2502\n",
       "\u2502\u001b[36m \u001b[0m\u001b[36mLoose likelihood_sigma\u001b[0m\u001b[36m \u001b[0m\u2502           2.23 \u2502  \u001b[31m-32.9%\u001b[0m \u2502      \u001b[32m\u2713\u001b[0m      \u2502\n",
       "\u2514\u2500\u2500\u2500\u2500\u2500\u2500\u2500\u2500\u2500\u2500\u2500\u2500\u2500\u2500\u2500\u2500\u2500\u2500\u2500\u2500\u2500\u2500\u2500\u2500\u2534\u2500\u2500\u2500\u2500\u2500\u2500\u2500\u2500\u2500\u2500\u2500\u2500\u2500\u2500\u2500\u2500\u2534\u2500\u2500\u2500\u2500\u2500\u2500\u2500\u2500\u2500\u2534\u2500\u2500\u2500\u2500\u2500\u2500\u2500\u2500\u2500\u2500\u2500\u2500\u2500\u2518\n"
      ]
     },
     "metadata": {},
     "output_type": "display_data"
    },
    {
     "data": {
      "text/html": [
       "<pre style=\"white-space:pre;overflow-x:auto;line-height:normal;font-family:Menlo,'DejaVu Sans Mono',consolas,'Courier New',monospace\">\n",
       "\n",
       "</pre>\n"
      ],
      "text/plain": [
       "\n",
       "\n"
      ]
     },
     "metadata": {},
     "output_type": "display_data"
    },
    {
     "data": {
      "text/html": [
       "<pre style=\"white-space:pre;overflow-x:auto;line-height:normal;font-family:Menlo,'DejaVu Sans Mono',consolas,'Courier New',monospace\"><span style=\"font-style: italic\">              ROAS Estimates for Email (True: 32.13)               </span>\n",
       "\u250f\u2501\u2501\u2501\u2501\u2501\u2501\u2501\u2501\u2501\u2501\u2501\u2501\u2501\u2501\u2501\u2501\u2501\u2501\u2501\u2501\u2501\u2501\u2501\u2501\u2533\u2501\u2501\u2501\u2501\u2501\u2501\u2501\u2501\u2501\u2501\u2501\u2501\u2501\u2501\u2501\u2501\u2533\u2501\u2501\u2501\u2501\u2501\u2501\u2501\u2501\u2501\u2533\u2501\u2501\u2501\u2501\u2501\u2501\u2501\u2501\u2501\u2501\u2501\u2501\u2501\u2513\n",
       "\u2503<span style=\"color: #008000; text-decoration-color: #008000; font-weight: bold\"> Prior Specification    </span>\u2503<span style=\"color: #008000; text-decoration-color: #008000; font-weight: bold\"> Estimated ROAS </span>\u2503<span style=\"color: #008000; text-decoration-color: #008000; font-weight: bold\"> Error % </span>\u2503<span style=\"color: #008000; text-decoration-color: #008000; font-weight: bold\"> Convergence </span>\u2503\n",
       "\u2521\u2501\u2501\u2501\u2501\u2501\u2501\u2501\u2501\u2501\u2501\u2501\u2501\u2501\u2501\u2501\u2501\u2501\u2501\u2501\u2501\u2501\u2501\u2501\u2501\u2547\u2501\u2501\u2501\u2501\u2501\u2501\u2501\u2501\u2501\u2501\u2501\u2501\u2501\u2501\u2501\u2501\u2547\u2501\u2501\u2501\u2501\u2501\u2501\u2501\u2501\u2501\u2547\u2501\u2501\u2501\u2501\u2501\u2501\u2501\u2501\u2501\u2501\u2501\u2501\u2501\u2529\n",
       "\u2502<span style=\"color: #008080; text-decoration-color: #008080\"> Tight saturation_beta  </span>\u2502          37.67 \u2502  <span style=\"color: #808000; text-decoration-color: #808000\">+17.3%</span> \u2502      <span style=\"color: #008000; text-decoration-color: #008000\">\u2713</span>      \u2502\n",
       "\u2502<span style=\"color: #008080; text-decoration-color: #008080\"> Default priors         </span>\u2502          37.68 \u2502  <span style=\"color: #808000; text-decoration-color: #808000\">+17.3%</span> \u2502      <span style=\"color: #008000; text-decoration-color: #008000\">\u2713</span>      \u2502\n",
       "\u2502<span style=\"color: #008080; text-decoration-color: #008080\"> Loose saturation_beta  </span>\u2502          37.53 \u2502  <span style=\"color: #808000; text-decoration-color: #808000\">+16.8%</span> \u2502      <span style=\"color: #008000; text-decoration-color: #008000\">\u2713</span>      \u2502\n",
       "\u2502<span style=\"color: #008080; text-decoration-color: #008080\"> Tight likelihood_sigma </span>\u2502          37.66 \u2502  <span style=\"color: #808000; text-decoration-color: #808000\">+17.2%</span> \u2502      <span style=\"color: #008000; text-decoration-color: #008000\">\u2713</span>      \u2502\n",
       "\u2502<span style=\"color: #008080; text-decoration-color: #008080\"> Loose likelihood_sigma </span>\u2502          37.64 \u2502  <span style=\"color: #808000; text-decoration-color: #808000\">+17.2%</span> \u2502      <span style=\"color: #008000; text-decoration-color: #008000\">\u2713</span>      \u2502\n",
       "\u2514\u2500\u2500\u2500\u2500\u2500\u2500\u2500\u2500\u2500\u2500\u2500\u2500\u2500\u2500\u2500\u2500\u2500\u2500\u2500\u2500\u2500\u2500\u2500\u2500\u2534\u2500\u2500\u2500\u2500\u2500\u2500\u2500\u2500\u2500\u2500\u2500\u2500\u2500\u2500\u2500\u2500\u2534\u2500\u2500\u2500\u2500\u2500\u2500\u2500\u2500\u2500\u2534\u2500\u2500\u2500\u2500\u2500\u2500\u2500\u2500\u2500\u2500\u2500\u2500\u2500\u2518\n",
       "</pre>\n"
      ],
      "text/plain": [
       "\u001b[3m              ROAS Estimates for Email (True: 32.13)               \u001b[0m\n",
       "\u250f\u2501\u2501\u2501\u2501\u2501\u2501\u2501\u2501\u2501\u2501\u2501\u2501\u2501\u2501\u2501\u2501\u2501\u2501\u2501\u2501\u2501\u2501\u2501\u2501\u2533\u2501\u2501\u2501\u2501\u2501\u2501\u2501\u2501\u2501\u2501\u2501\u2501\u2501\u2501\u2501\u2501\u2533\u2501\u2501\u2501\u2501\u2501\u2501\u2501\u2501\u2501\u2533\u2501\u2501\u2501\u2501\u2501\u2501\u2501\u2501\u2501\u2501\u2501\u2501\u2501\u2513\n",
       "\u2503\u001b[1;32m \u001b[0m\u001b[1;32mPrior Specification   \u001b[0m\u001b[1;32m \u001b[0m\u2503\u001b[1;32m \u001b[0m\u001b[1;32mEstimated ROAS\u001b[0m\u001b[1;32m \u001b[0m\u2503\u001b[1;32m \u001b[0m\u001b[1;32mError %\u001b[0m\u001b[1;32m \u001b[0m\u2503\u001b[1;32m \u001b[0m\u001b[1;32mConvergence\u001b[0m\u001b[1;32m \u001b[0m\u2503\n",
       "\u2521\u2501\u2501\u2501\u2501\u2501\u2501\u2501\u2501\u2501\u2501\u2501\u2501\u2501\u2501\u2501\u2501\u2501\u2501\u2501\u2501\u2501\u2501\u2501\u2501\u2547\u2501\u2501\u2501\u2501\u2501\u2501\u2501\u2501\u2501\u2501\u2501\u2501\u2501\u2501\u2501\u2501\u2547\u2501\u2501\u2501\u2501\u2501\u2501\u2501\u2501\u2501\u2547\u2501\u2501\u2501\u2501\u2501\u2501\u2501\u2501\u2501\u2501\u2501\u2501\u2501\u2529\n",
       "\u2502\u001b[36m \u001b[0m\u001b[36mTight saturation_beta \u001b[0m\u001b[36m \u001b[0m\u2502          37.67 \u2502  \u001b[33m+17.3%\u001b[0m \u2502      \u001b[32m\u2713\u001b[0m      \u2502\n",
       "\u2502\u001b[36m \u001b[0m\u001b[36mDefault priors        \u001b[0m\u001b[36m \u001b[0m\u2502          37.68 \u2502  \u001b[33m+17.3%\u001b[0m \u2502      \u001b[32m\u2713\u001b[0m      \u2502\n",
       "\u2502\u001b[36m \u001b[0m\u001b[36mLoose saturation_beta \u001b[0m\u001b[36m \u001b[0m\u2502          37.53 \u2502  \u001b[33m+16.8%\u001b[0m \u2502      \u001b[32m\u2713\u001b[0m      \u2502\n",
       "\u2502\u001b[36m \u001b[0m\u001b[36mTight likelihood_sigma\u001b[0m\u001b[36m \u001b[0m\u2502          37.66 \u2502  \u001b[33m+17.2%\u001b[0m \u2502      \u001b[32m\u2713\u001b[0m      \u2502\n",
       "\u2502\u001b[36m \u001b[0m\u001b[36mLoose likelihood_sigma\u001b[0m\u001b[36m \u001b[0m\u2502          37.64 \u2502  \u001b[33m+17.2%\u001b[0m \u2502      \u001b[32m\u2713\u001b[0m      \u2502\n",
       "\u2514\u2500\u2500\u2500\u2500\u2500\u2500\u2500\u2500\u2500\u2500\u2500\u2500\u2500\u2500\u2500\u2500\u2500\u2500\u2500\u2500\u2500\u2500\u2500\u2500\u2534\u2500\u2500\u2500\u2500\u2500\u2500\u2500\u2500\u2500\u2500\u2500\u2500\u2500\u2500\u2500\u2500\u2534\u2500\u2500\u2500\u2500\u2500\u2500\u2500\u2500\u2500\u2534\u2500\u2500\u2500\u2500\u2500\u2500\u2500\u2500\u2500\u2500\u2500\u2500\u2500\u2518\n"
      ]
     },
     "metadata": {},
     "output_type": "display_data"
    }
   ],
   "source": [
    "def display_roas_comparison(\n",
    "    results: dict[str, dict],\n",
    "    true_roas: dict[str, float],\n",
    "    channel_columns: list[str]\n",
    ") -> None:\n",
    "    \"\"\"Display ROAS comparison across prior specifications.\n",
    "    \n",
    "    Args:\n",
    "        results: Dictionary with results for each prior specification\n",
    "        true_roas: Ground truth ROAS values\n",
    "        channel_columns: List of channel column names\n",
    "    \"\"\"\n",
    "    console = Console()\n",
    "    \n",
    "    for channel in channel_columns:\n",
    "        # Extract channel name\n",
    "        channel_name = channel.split('_', 1)[1] if '_' in channel else channel\n",
    "        true_val = true_roas.get(channel_name, 0.0)\n",
    "        \n",
    "        table = Table(\n",
    "            title=f\"ROAS Estimates for {channel_name} (True: {true_val:.2f})\",\n",
    "            show_header=True,\n",
    "            header_style=\"bold green\"\n",
    "        )\n",
    "        \n",
    "        table.add_column(\"Prior Specification\", style=\"cyan\")\n",
    "        table.add_column(\"Estimated ROAS\", justify=\"right\")\n",
    "        table.add_column(\"Error %\", justify=\"right\")\n",
    "        table.add_column(\"Convergence\", justify=\"center\")\n",
    "        \n",
    "        for spec_id, result in results.items():\n",
    "            est_roas = result[\"roas\"][channel]\n",
    "            error_pct = ((est_roas - true_val) / true_val * 100) if true_val != 0 else 0\n",
    "            \n",
    "            # Color code based on error magnitude\n",
    "            if abs(error_pct) < 10:\n",
    "                error_color = \"green\"\n",
    "            elif abs(error_pct) < 25:\n",
    "                error_color = \"yellow\"\n",
    "            else:\n",
    "                error_color = \"red\"\n",
    "            \n",
    "            # Convergence status\n",
    "            conv = result[\"convergence\"]\n",
    "            if conv[\"divergence_rate\"] < 0.01 and conv[\"max_rhat\"] < 1.01:\n",
    "                conv_status = \"[green]\u2713[/green]\"\n",
    "            else:\n",
    "                conv_status = \"[yellow]\u26a0[/yellow]\"\n",
    "            \n",
    "            table.add_row(\n",
    "                result[\"name\"],\n",
    "                f\"{est_roas:.2f}\",\n",
    "                f\"[{error_color}]{error_pct:+.1f}%[/{error_color}]\",\n",
    "                conv_status\n",
    "            )\n",
    "        \n",
    "        console.print(\"\\n\")\n",
    "        console.print(table)\n",
    "\n",
    "\n",
    "# Display comparison\n",
    "display_roas_comparison(results, true_roas, channel_columns)"
   ]
  },
  {
   "cell_type": "markdown",
   "metadata": {},
   "source": [
    "## Summary Statistics: Prior Sensitivity\n",
    "\n",
    "Let's quantify how much ROAS estimates vary across prior specifications."
   ]
  },
  {
   "cell_type": "code",
   "execution_count": 9,
   "metadata": {},
   "outputs": [
    {
     "data": {
      "text/html": [
       "<pre style=\"white-space:pre;overflow-x:auto;line-height:normal;font-family:Menlo,'DejaVu Sans Mono',consolas,'Courier New',monospace\">\n",
       "\n",
       "</pre>\n"
      ],
      "text/plain": [
       "\n",
       "\n"
      ]
     },
     "metadata": {},
     "output_type": "display_data"
    },
    {
     "data": {
      "text/html": [
       "<pre style=\"white-space:pre;overflow-x:auto;line-height:normal;font-family:Menlo,'DejaVu Sans Mono',consolas,'Courier New',monospace\"><span style=\"font-style: italic\">    Prior Sensitivity Metrics (ROAS Variability)     </span>\n",
       "\u250f\u2501\u2501\u2501\u2501\u2501\u2501\u2501\u2501\u2501\u2501\u2501\u2501\u2501\u2501\u2533\u2501\u2501\u2501\u2501\u2501\u2501\u2501\u2501\u2501\u2501\u2501\u2533\u2501\u2501\u2501\u2501\u2501\u2501\u2501\u2501\u2501\u2533\u2501\u2501\u2501\u2501\u2501\u2501\u2501\u2533\u2501\u2501\u2501\u2501\u2501\u2501\u2513\n",
       "\u2503<span style=\"color: #800080; text-decoration-color: #800080; font-weight: bold\"> Channel      </span>\u2503<span style=\"color: #800080; text-decoration-color: #800080; font-weight: bold\"> Mean ROAS </span>\u2503<span style=\"color: #800080; text-decoration-color: #800080; font-weight: bold\"> Std Dev </span>\u2503<span style=\"color: #800080; text-decoration-color: #800080; font-weight: bold\"> Range </span>\u2503<span style=\"color: #800080; text-decoration-color: #800080; font-weight: bold\"> CV % </span>\u2503\n",
       "\u2521\u2501\u2501\u2501\u2501\u2501\u2501\u2501\u2501\u2501\u2501\u2501\u2501\u2501\u2501\u2547\u2501\u2501\u2501\u2501\u2501\u2501\u2501\u2501\u2501\u2501\u2501\u2547\u2501\u2501\u2501\u2501\u2501\u2501\u2501\u2501\u2501\u2547\u2501\u2501\u2501\u2501\u2501\u2501\u2501\u2547\u2501\u2501\u2501\u2501\u2501\u2501\u2529\n",
       "\u2502<span style=\"color: #008080; text-decoration-color: #008080\"> Search-Ads   </span>\u2502      8.06 \u2502    0.02 \u2502  0.05 \u2502 <span style=\"color: #008000; text-decoration-color: #008000\">0.2%</span> \u2502\n",
       "\u2502<span style=\"color: #008080; text-decoration-color: #008080\"> Social-Media </span>\u2502     28.93 \u2502    0.06 \u2502  0.16 \u2502 <span style=\"color: #008000; text-decoration-color: #008000\">0.2%</span> \u2502\n",
       "\u2502<span style=\"color: #008080; text-decoration-color: #008080\"> Local-Ads    </span>\u2502      2.23 \u2502    0.01 \u2502  0.02 \u2502 <span style=\"color: #008000; text-decoration-color: #008000\">0.4%</span> \u2502\n",
       "\u2502<span style=\"color: #008080; text-decoration-color: #008080\"> Email        </span>\u2502     37.64 \u2502    0.06 \u2502  0.16 \u2502 <span style=\"color: #008000; text-decoration-color: #008000\">0.2%</span> \u2502\n",
       "\u2514\u2500\u2500\u2500\u2500\u2500\u2500\u2500\u2500\u2500\u2500\u2500\u2500\u2500\u2500\u2534\u2500\u2500\u2500\u2500\u2500\u2500\u2500\u2500\u2500\u2500\u2500\u2534\u2500\u2500\u2500\u2500\u2500\u2500\u2500\u2500\u2500\u2534\u2500\u2500\u2500\u2500\u2500\u2500\u2500\u2534\u2500\u2500\u2500\u2500\u2500\u2500\u2518\n",
       "</pre>\n"
      ],
      "text/plain": [
       "\u001b[3m    Prior Sensitivity Metrics (ROAS Variability)     \u001b[0m\n",
       "\u250f\u2501\u2501\u2501\u2501\u2501\u2501\u2501\u2501\u2501\u2501\u2501\u2501\u2501\u2501\u2533\u2501\u2501\u2501\u2501\u2501\u2501\u2501\u2501\u2501\u2501\u2501\u2533\u2501\u2501\u2501\u2501\u2501\u2501\u2501\u2501\u2501\u2533\u2501\u2501\u2501\u2501\u2501\u2501\u2501\u2533\u2501\u2501\u2501\u2501\u2501\u2501\u2513\n",
       "\u2503\u001b[1;35m \u001b[0m\u001b[1;35mChannel     \u001b[0m\u001b[1;35m \u001b[0m\u2503\u001b[1;35m \u001b[0m\u001b[1;35mMean ROAS\u001b[0m\u001b[1;35m \u001b[0m\u2503\u001b[1;35m \u001b[0m\u001b[1;35mStd Dev\u001b[0m\u001b[1;35m \u001b[0m\u2503\u001b[1;35m \u001b[0m\u001b[1;35mRange\u001b[0m\u001b[1;35m \u001b[0m\u2503\u001b[1;35m \u001b[0m\u001b[1;35mCV %\u001b[0m\u001b[1;35m \u001b[0m\u2503\n",
       "\u2521\u2501\u2501\u2501\u2501\u2501\u2501\u2501\u2501\u2501\u2501\u2501\u2501\u2501\u2501\u2547\u2501\u2501\u2501\u2501\u2501\u2501\u2501\u2501\u2501\u2501\u2501\u2547\u2501\u2501\u2501\u2501\u2501\u2501\u2501\u2501\u2501\u2547\u2501\u2501\u2501\u2501\u2501\u2501\u2501\u2547\u2501\u2501\u2501\u2501\u2501\u2501\u2529\n",
       "\u2502\u001b[36m \u001b[0m\u001b[36mSearch-Ads  \u001b[0m\u001b[36m \u001b[0m\u2502      8.06 \u2502    0.02 \u2502  0.05 \u2502 \u001b[32m0.2%\u001b[0m \u2502\n",
       "\u2502\u001b[36m \u001b[0m\u001b[36mSocial-Media\u001b[0m\u001b[36m \u001b[0m\u2502     28.93 \u2502    0.06 \u2502  0.16 \u2502 \u001b[32m0.2%\u001b[0m \u2502\n",
       "\u2502\u001b[36m \u001b[0m\u001b[36mLocal-Ads   \u001b[0m\u001b[36m \u001b[0m\u2502      2.23 \u2502    0.01 \u2502  0.02 \u2502 \u001b[32m0.4%\u001b[0m \u2502\n",
       "\u2502\u001b[36m \u001b[0m\u001b[36mEmail       \u001b[0m\u001b[36m \u001b[0m\u2502     37.64 \u2502    0.06 \u2502  0.16 \u2502 \u001b[32m0.2%\u001b[0m \u2502\n",
       "\u2514\u2500\u2500\u2500\u2500\u2500\u2500\u2500\u2500\u2500\u2500\u2500\u2500\u2500\u2500\u2534\u2500\u2500\u2500\u2500\u2500\u2500\u2500\u2500\u2500\u2500\u2500\u2534\u2500\u2500\u2500\u2500\u2500\u2500\u2500\u2500\u2500\u2534\u2500\u2500\u2500\u2500\u2500\u2500\u2500\u2534\u2500\u2500\u2500\u2500\u2500\u2500\u2518\n"
      ]
     },
     "metadata": {},
     "output_type": "display_data"
    },
    {
     "data": {
      "text/html": [
       "<pre style=\"white-space:pre;overflow-x:auto;line-height:normal;font-family:Menlo,'DejaVu Sans Mono',consolas,'Courier New',monospace\">\n",
       "<span style=\"color: #000080; text-decoration-color: #000080; font-weight: bold\">Interpretation:</span>\n",
       "</pre>\n"
      ],
      "text/plain": [
       "\n",
       "\u001b[1;34mInterpretation:\u001b[0m\n"
      ]
     },
     "metadata": {},
     "output_type": "display_data"
    },
    {
     "data": {
      "text/html": [
       "<pre style=\"white-space:pre;overflow-x:auto;line-height:normal;font-family:Menlo,'DejaVu Sans Mono',consolas,'Courier New',monospace\">- <span style=\"color: #008000; text-decoration-color: #008000\">CV &lt; </span><span style=\"color: #008000; text-decoration-color: #008000; font-weight: bold\">5</span><span style=\"color: #008000; text-decoration-color: #008000\">%</span>: ROAS estimates are robust to prior choice\n",
       "</pre>\n"
      ],
      "text/plain": [
       "- \u001b[32mCV < \u001b[0m\u001b[1;32m5\u001b[0m\u001b[32m%\u001b[0m: ROAS estimates are robust to prior choice\n"
      ]
     },
     "metadata": {},
     "output_type": "display_data"
    },
    {
     "data": {
      "text/html": [
       "<pre style=\"white-space:pre;overflow-x:auto;line-height:normal;font-family:Menlo,'DejaVu Sans Mono',consolas,'Courier New',monospace\">- <span style=\"color: #808000; text-decoration-color: #808000\">CV </span><span style=\"color: #808000; text-decoration-color: #808000; font-weight: bold\">5</span><span style=\"color: #808000; text-decoration-color: #808000\">-</span><span style=\"color: #808000; text-decoration-color: #808000; font-weight: bold\">15</span><span style=\"color: #808000; text-decoration-color: #808000\">%</span>: Moderate sensitivity to priors\n",
       "</pre>\n"
      ],
      "text/plain": [
       "- \u001b[33mCV \u001b[0m\u001b[1;33m5\u001b[0m\u001b[33m-\u001b[0m\u001b[1;33m15\u001b[0m\u001b[33m%\u001b[0m: Moderate sensitivity to priors\n"
      ]
     },
     "metadata": {},
     "output_type": "display_data"
    },
    {
     "data": {
      "text/html": [
       "<pre style=\"white-space:pre;overflow-x:auto;line-height:normal;font-family:Menlo,'DejaVu Sans Mono',consolas,'Courier New',monospace\">- <span style=\"color: #800000; text-decoration-color: #800000\">CV &gt; </span><span style=\"color: #800000; text-decoration-color: #800000; font-weight: bold\">15</span><span style=\"color: #800000; text-decoration-color: #800000\">%</span>: High sensitivity\u2014causal estimates depend strongly on priors\n",
       "</pre>\n"
      ],
      "text/plain": [
       "- \u001b[31mCV > \u001b[0m\u001b[1;31m15\u001b[0m\u001b[31m%\u001b[0m: High sensitivity\u2014causal estimates depend strongly on priors\n"
      ]
     },
     "metadata": {},
     "output_type": "display_data"
    }
   ],
   "source": [
    "def compute_sensitivity_metrics(\n",
    "    results: dict[str, dict],\n",
    "    channel_columns: list[str]\n",
    ") -> pd.DataFrame:\n",
    "    \"\"\"Compute sensitivity metrics across prior specifications.\n",
    "    \n",
    "    Args:\n",
    "        results: Dictionary with results for each prior specification\n",
    "        channel_columns: List of channel column names\n",
    "        \n",
    "    Returns:\n",
    "        DataFrame with sensitivity metrics per channel\n",
    "    \"\"\"\n",
    "    sensitivity_data = []\n",
    "    \n",
    "    for channel in channel_columns:\n",
    "        channel_name = channel.split('_', 1)[1] if '_' in channel else channel\n",
    "        \n",
    "        # Collect ROAS estimates\n",
    "        roas_estimates = [result[\"roas\"][channel] for result in results.values()]\n",
    "        \n",
    "        # Compute statistics\n",
    "        mean_roas = np.mean(roas_estimates)\n",
    "        std_roas = np.std(roas_estimates)\n",
    "        min_roas = np.min(roas_estimates)\n",
    "        max_roas = np.max(roas_estimates)\n",
    "        range_roas = max_roas - min_roas\n",
    "        cv_roas = (std_roas / mean_roas) * 100  # Coefficient of variation\n",
    "        \n",
    "        sensitivity_data.append({\n",
    "            \"Channel\": channel_name,\n",
    "            \"Mean ROAS\": mean_roas,\n",
    "            \"Std Dev\": std_roas,\n",
    "            \"Min\": min_roas,\n",
    "            \"Max\": max_roas,\n",
    "            \"Range\": range_roas,\n",
    "            \"CV %\": cv_roas\n",
    "        })\n",
    "    \n",
    "    return pd.DataFrame(sensitivity_data)\n",
    "\n",
    "\n",
    "# Compute and display sensitivity metrics\n",
    "sensitivity_df = compute_sensitivity_metrics(results, channel_columns)\n",
    "\n",
    "console = Console()\n",
    "table = Table(\n",
    "    title=\"Prior Sensitivity Metrics (ROAS Variability)\",\n",
    "    show_header=True,\n",
    "    header_style=\"bold magenta\"\n",
    ")\n",
    "\n",
    "table.add_column(\"Channel\", style=\"cyan\")\n",
    "table.add_column(\"Mean ROAS\", justify=\"right\")\n",
    "table.add_column(\"Std Dev\", justify=\"right\")\n",
    "table.add_column(\"Range\", justify=\"right\")\n",
    "table.add_column(\"CV %\", justify=\"right\")\n",
    "\n",
    "for _, row in sensitivity_df.iterrows():\n",
    "    # Color code CV (low = robust, high = sensitive)\n",
    "    cv = row[\"CV %\"]\n",
    "    if cv < 5:\n",
    "        cv_color = \"green\"\n",
    "    elif cv < 15:\n",
    "        cv_color = \"yellow\"\n",
    "    else:\n",
    "        cv_color = \"red\"\n",
    "    \n",
    "    table.add_row(\n",
    "        row[\"Channel\"],\n",
    "        f\"{row['Mean ROAS']:.2f}\",\n",
    "        f\"{row['Std Dev']:.2f}\",\n",
    "        f\"{row['Range']:.2f}\",\n",
    "        f\"[{cv_color}]{row['CV %']:.1f}%[/{cv_color}]\"\n",
    "    )\n",
    "\n",
    "console.print(\"\\n\")\n",
    "console.print(table)\n",
    "\n",
    "rprint(\"\\n[bold blue]Interpretation:[/bold blue]\")\n",
    "rprint(\"- [green]CV < 5%[/green]: ROAS estimates are robust to prior choice\")\n",
    "rprint(\"- [yellow]CV 5-15%[/yellow]: Moderate sensitivity to priors\")\n",
    "rprint(\"- [red]CV > 15%[/red]: High sensitivity\u2014causal estimates depend strongly on priors\")"
   ]
  },
  {
   "cell_type": "markdown",
   "metadata": {},
   "source": [
    "## Visualize Prior vs Posterior Distributions\n",
    "\n",
    "A key diagnostic: how much does the data update our prior beliefs?"
   ]
  },
  {
   "cell_type": "code",
   "execution_count": 10,
   "metadata": {},
   "outputs": [
    {
     "data": {
      "text/html": [
       "<pre style=\"white-space:pre;overflow-x:auto;line-height:normal;font-family:Menlo,'DejaVu Sans Mono',consolas,'Courier New',monospace\">\n",
       "<span style=\"color: #000080; text-decoration-color: #000080; font-weight: bold\">Visualizing saturation_beta posteriors...</span>\n",
       "</pre>\n"
      ],
      "text/plain": [
       "\n",
       "\u001b[1;34mVisualizing saturation_beta posteriors\u001b[0m\u001b[1;34m...\u001b[0m\n"
      ]
     },
     "metadata": {},
     "output_type": "display_data"
    },
    {
     "data": {
      "image/png": "[encoded data removed]",
      "text/plain": [
       "<Figure size 1500x800 with 6 Axes>"
      ]
     },
     "metadata": {},
     "output_type": "display_data"
    }
   ],
   "source": [
    "def plot_prior_posterior_comparison(\n",
    "    results: dict[str, dict],\n",
    "    parameter: str = \"saturation_beta\"\n",
    ") -> None:\n",
    "    \"\"\"Plot prior and posterior distributions for a parameter.\n",
    "    \n",
    "    Args:\n",
    "        results: Dictionary with results for each prior specification\n",
    "        parameter: Parameter name to plot\n",
    "    \"\"\"\n",
    "    fig, axes = plt.subplots(2, 3, figsize=(15, 8))\n",
    "    axes = axes.flatten()\n",
    "    \n",
    "    for idx, (spec_id, result) in enumerate(results.items()):\n",
    "        if idx >= len(axes):\n",
    "            break\n",
    "        \n",
    "        ax = axes[idx]\n",
    "        mmm = result[\"mmm\"]\n",
    "        \n",
    "        # Extract posterior samples for the parameter\n",
    "        if parameter in mmm.idata.posterior:\n",
    "            posterior_samples = mmm.idata.posterior[parameter].values.flatten()\n",
    "            \n",
    "            # Plot posterior\n",
    "            ax.hist(posterior_samples, bins=30, alpha=0.7, density=True, \n",
    "                   color='steelblue', edgecolor='black', label='Posterior')\n",
    "            \n",
    "            # Add vertical lines for mean and credible interval\n",
    "            mean_val = np.mean(posterior_samples)\n",
    "            ci_lower = np.percentile(posterior_samples, 2.5)\n",
    "            ci_upper = np.percentile(posterior_samples, 97.5)\n",
    "            \n",
    "            ax.axvline(mean_val, color='red', linestyle='--', linewidth=2, label='Mean')\n",
    "            ax.axvline(ci_lower, color='gray', linestyle=':', linewidth=1.5)\n",
    "            ax.axvline(ci_upper, color='gray', linestyle=':', linewidth=1.5, label='95% CI')\n",
    "            \n",
    "            ax.set_title(result[\"name\"], fontsize=10, fontweight='bold')\n",
    "            ax.set_xlabel(parameter, fontsize=9)\n",
    "            ax.set_ylabel('Density', fontsize=9)\n",
    "            ax.legend(fontsize=8)\n",
    "            ax.grid(True, alpha=0.3)\n",
    "        else:\n",
    "            ax.text(0.5, 0.5, f\"{parameter}\\nnot available\", \n",
    "                   ha='center', va='center', transform=ax.transAxes)\n",
    "            ax.set_title(result[\"name\"], fontsize=10, fontweight='bold')\n",
    "    \n",
    "    # Hide unused subplots\n",
    "    for idx in range(len(results), len(axes)):\n",
    "        axes[idx].axis('off')\n",
    "    \n",
    "    plt.suptitle(f'Prior Sensitivity Analysis: {parameter} Posteriors', \n",
    "                fontsize=14, fontweight='bold')\n",
    "    plt.tight_layout()\n",
    "    plt.show()\n",
    "\n",
    "\n",
    "# Plot saturation_beta posteriors\n",
    "rprint(\"\\n[bold blue]Visualizing saturation_beta posteriors...[/bold blue]\")\n",
    "plot_prior_posterior_comparison(results, parameter=\"saturation_beta\")"
   ]
  },
  {
   "cell_type": "markdown",
   "metadata": {},
   "source": [
    "## Which Prior Specification is Best?\n",
    "\n",
    "Evaluate based on:\n",
    "1. **Causal accuracy**: ROAS error vs ground truth\n",
    "2. **Convergence**: Clean MCMC diagnostics\n",
    "3. **Interpretability**: Reasonable posterior distributions"
   ]
  },
  {
   "cell_type": "code",
   "execution_count": 11,
   "metadata": {},
   "outputs": [
    {
     "data": {
      "text/html": [
       "<pre style=\"white-space:pre;overflow-x:auto;line-height:normal;font-family:Menlo,'DejaVu Sans Mono',consolas,'Courier New',monospace\">\n",
       "\n",
       "</pre>\n"
      ],
      "text/plain": [
       "\n",
       "\n"
      ]
     },
     "metadata": {},
     "output_type": "display_data"
    },
    {
     "data": {
      "text/html": [
       "<pre style=\"white-space:pre;overflow-x:auto;line-height:normal;font-family:Menlo,'DejaVu Sans Mono',consolas,'Courier New',monospace\"><span style=\"font-style: italic\">                 Prior Specification Comparison: Overall Performance                 </span>\n",
       "\u250f\u2501\u2501\u2501\u2501\u2501\u2501\u2501\u2501\u2501\u2501\u2501\u2501\u2501\u2501\u2501\u2501\u2501\u2501\u2501\u2501\u2501\u2501\u2501\u2501\u2533\u2501\u2501\u2501\u2501\u2501\u2501\u2501\u2501\u2501\u2501\u2501\u2501\u2501\u2533\u2501\u2501\u2501\u2501\u2501\u2501\u2501\u2501\u2501\u2501\u2501\u2501\u2501\u2501\u2501\u2533\u2501\u2501\u2501\u2501\u2501\u2501\u2501\u2501\u2501\u2501\u2501\u2533\u2501\u2501\u2501\u2501\u2501\u2501\u2501\u2501\u2501\u2501\u2501\u2501\u2501\u2501\u2501\u2501\u2513\n",
       "\u2503<span style=\"color: #008000; text-decoration-color: #008000; font-weight: bold\"> Prior Spec             </span>\u2503<span style=\"color: #008000; text-decoration-color: #008000; font-weight: bold\"> ROAS MAPE % </span>\u2503<span style=\"color: #008000; text-decoration-color: #008000; font-weight: bold\"> Divergences % </span>\u2503<span style=\"color: #008000; text-decoration-color: #008000; font-weight: bold\"> Max R-hat </span>\u2503<span style=\"color: #008000; text-decoration-color: #008000; font-weight: bold\"> Recommendation </span>\u2503\n",
       "\u2521\u2501\u2501\u2501\u2501\u2501\u2501\u2501\u2501\u2501\u2501\u2501\u2501\u2501\u2501\u2501\u2501\u2501\u2501\u2501\u2501\u2501\u2501\u2501\u2501\u2547\u2501\u2501\u2501\u2501\u2501\u2501\u2501\u2501\u2501\u2501\u2501\u2501\u2501\u2547\u2501\u2501\u2501\u2501\u2501\u2501\u2501\u2501\u2501\u2501\u2501\u2501\u2501\u2501\u2501\u2547\u2501\u2501\u2501\u2501\u2501\u2501\u2501\u2501\u2501\u2501\u2501\u2547\u2501\u2501\u2501\u2501\u2501\u2501\u2501\u2501\u2501\u2501\u2501\u2501\u2501\u2501\u2501\u2501\u2529\n",
       "\u2502<span style=\"color: #008080; text-decoration-color: #008080\"> Tight saturation_beta  </span>\u2502       20.8% \u2502          0.0% \u2502     1.005 \u2502 <span style=\"color: #808000; text-decoration-color: #808000\">Acceptable</span>     \u2502\n",
       "\u2502<span style=\"color: #008080; text-decoration-color: #008080\"> Default priors         </span>\u2502       21.0% \u2502          0.0% \u2502     1.007 \u2502 <span style=\"color: #808000; text-decoration-color: #808000\">Acceptable</span>     \u2502\n",
       "\u2502<span style=\"color: #008080; text-decoration-color: #008080\"> Loose saturation_beta  </span>\u2502       21.0% \u2502          0.0% \u2502     1.008 \u2502 <span style=\"color: #808000; text-decoration-color: #808000\">Acceptable</span>     \u2502\n",
       "\u2502<span style=\"color: #008080; text-decoration-color: #008080\"> Tight likelihood_sigma </span>\u2502       20.7% \u2502          0.0% \u2502     1.009 \u2502 <span style=\"color: #008000; text-decoration-color: #008000; font-weight: bold\">\u2713 Best</span>         \u2502\n",
       "\u2502<span style=\"color: #008080; text-decoration-color: #008080\"> Loose likelihood_sigma </span>\u2502       20.8% \u2502          0.0% \u2502     1.007 \u2502 <span style=\"color: #808000; text-decoration-color: #808000\">Acceptable</span>     \u2502\n",
       "\u2514\u2500\u2500\u2500\u2500\u2500\u2500\u2500\u2500\u2500\u2500\u2500\u2500\u2500\u2500\u2500\u2500\u2500\u2500\u2500\u2500\u2500\u2500\u2500\u2500\u2534\u2500\u2500\u2500\u2500\u2500\u2500\u2500\u2500\u2500\u2500\u2500\u2500\u2500\u2534\u2500\u2500\u2500\u2500\u2500\u2500\u2500\u2500\u2500\u2500\u2500\u2500\u2500\u2500\u2500\u2534\u2500\u2500\u2500\u2500\u2500\u2500\u2500\u2500\u2500\u2500\u2500\u2534\u2500\u2500\u2500\u2500\u2500\u2500\u2500\u2500\u2500\u2500\u2500\u2500\u2500\u2500\u2500\u2500\u2518\n",
       "</pre>\n"
      ],
      "text/plain": [
       "\u001b[3m                 Prior Specification Comparison: Overall Performance                 \u001b[0m\n",
       "\u250f\u2501\u2501\u2501\u2501\u2501\u2501\u2501\u2501\u2501\u2501\u2501\u2501\u2501\u2501\u2501\u2501\u2501\u2501\u2501\u2501\u2501\u2501\u2501\u2501\u2533\u2501\u2501\u2501\u2501\u2501\u2501\u2501\u2501\u2501\u2501\u2501\u2501\u2501\u2533\u2501\u2501\u2501\u2501\u2501\u2501\u2501\u2501\u2501\u2501\u2501\u2501\u2501\u2501\u2501\u2533\u2501\u2501\u2501\u2501\u2501\u2501\u2501\u2501\u2501\u2501\u2501\u2533\u2501\u2501\u2501\u2501\u2501\u2501\u2501\u2501\u2501\u2501\u2501\u2501\u2501\u2501\u2501\u2501\u2513\n",
       "\u2503\u001b[1;32m \u001b[0m\u001b[1;32mPrior Spec            \u001b[0m\u001b[1;32m \u001b[0m\u2503\u001b[1;32m \u001b[0m\u001b[1;32mROAS MAPE %\u001b[0m\u001b[1;32m \u001b[0m\u2503\u001b[1;32m \u001b[0m\u001b[1;32mDivergences %\u001b[0m\u001b[1;32m \u001b[0m\u2503\u001b[1;32m \u001b[0m\u001b[1;32mMax R-hat\u001b[0m\u001b[1;32m \u001b[0m\u2503\u001b[1;32m \u001b[0m\u001b[1;32mRecommendation\u001b[0m\u001b[1;32m \u001b[0m\u2503\n",
       "\u2521\u2501\u2501\u2501\u2501\u2501\u2501\u2501\u2501\u2501\u2501\u2501\u2501\u2501\u2501\u2501\u2501\u2501\u2501\u2501\u2501\u2501\u2501\u2501\u2501\u2547\u2501\u2501\u2501\u2501\u2501\u2501\u2501\u2501\u2501\u2501\u2501\u2501\u2501\u2547\u2501\u2501\u2501\u2501\u2501\u2501\u2501\u2501\u2501\u2501\u2501\u2501\u2501\u2501\u2501\u2547\u2501\u2501\u2501\u2501\u2501\u2501\u2501\u2501\u2501\u2501\u2501\u2547\u2501\u2501\u2501\u2501\u2501\u2501\u2501\u2501\u2501\u2501\u2501\u2501\u2501\u2501\u2501\u2501\u2529\n",
       "\u2502\u001b[36m \u001b[0m\u001b[36mTight saturation_beta \u001b[0m\u001b[36m \u001b[0m\u2502       20.8% \u2502          0.0% \u2502     1.005 \u2502 \u001b[33mAcceptable\u001b[0m     \u2502\n",
       "\u2502\u001b[36m \u001b[0m\u001b[36mDefault priors        \u001b[0m\u001b[36m \u001b[0m\u2502       21.0% \u2502          0.0% \u2502     1.007 \u2502 \u001b[33mAcceptable\u001b[0m     \u2502\n",
       "\u2502\u001b[36m \u001b[0m\u001b[36mLoose saturation_beta \u001b[0m\u001b[36m \u001b[0m\u2502       21.0% \u2502          0.0% \u2502     1.008 \u2502 \u001b[33mAcceptable\u001b[0m     \u2502\n",
       "\u2502\u001b[36m \u001b[0m\u001b[36mTight likelihood_sigma\u001b[0m\u001b[36m \u001b[0m\u2502       20.7% \u2502          0.0% \u2502     1.009 \u2502 \u001b[1;32m\u2713 Best\u001b[0m         \u2502\n",
       "\u2502\u001b[36m \u001b[0m\u001b[36mLoose likelihood_sigma\u001b[0m\u001b[36m \u001b[0m\u2502       20.8% \u2502          0.0% \u2502     1.007 \u2502 \u001b[33mAcceptable\u001b[0m     \u2502\n",
       "\u2514\u2500\u2500\u2500\u2500\u2500\u2500\u2500\u2500\u2500\u2500\u2500\u2500\u2500\u2500\u2500\u2500\u2500\u2500\u2500\u2500\u2500\u2500\u2500\u2500\u2534\u2500\u2500\u2500\u2500\u2500\u2500\u2500\u2500\u2500\u2500\u2500\u2500\u2500\u2534\u2500\u2500\u2500\u2500\u2500\u2500\u2500\u2500\u2500\u2500\u2500\u2500\u2500\u2500\u2500\u2534\u2500\u2500\u2500\u2500\u2500\u2500\u2500\u2500\u2500\u2500\u2500\u2534\u2500\u2500\u2500\u2500\u2500\u2500\u2500\u2500\u2500\u2500\u2500\u2500\u2500\u2500\u2500\u2500\u2518\n"
      ]
     },
     "metadata": {},
     "output_type": "display_data"
    },
    {
     "data": {
      "text/html": [
       "<pre style=\"white-space:pre;overflow-x:auto;line-height:normal;font-family:Menlo,'DejaVu Sans Mono',consolas,'Courier New',monospace\">\n",
       "<span style=\"color: #800080; text-decoration-color: #800080; font-weight: bold\">Recommendation:</span>\n",
       "</pre>\n"
      ],
      "text/plain": [
       "\n",
       "\u001b[1;35mRecommendation:\u001b[0m\n"
      ]
     },
     "metadata": {},
     "output_type": "display_data"
    },
    {
     "data": {
      "text/html": [
       "<pre style=\"white-space:pre;overflow-x:auto;line-height:normal;font-family:Menlo,'DejaVu Sans Mono',consolas,'Courier New',monospace\">The <span style=\"color: #008000; text-decoration-color: #008000\">Tight likelihood_sigma</span> specification yields:\n",
       "</pre>\n"
      ],
      "text/plain": [
       "The \u001b[32mTight likelihood_sigma\u001b[0m specification yields:\n"
      ]
     },
     "metadata": {},
     "output_type": "display_data"
    },
    {
     "data": {
      "text/html": [
       "<pre style=\"white-space:pre;overflow-x:auto;line-height:normal;font-family:Menlo,'DejaVu Sans Mono',consolas,'Courier New',monospace\">  - Lowest ROAS error: <span style=\"color: #808000; text-decoration-color: #808000; font-weight: bold\">20.7</span><span style=\"color: #808000; text-decoration-color: #808000\">%</span>\n",
       "</pre>\n"
      ],
      "text/plain": [
       "  - Lowest ROAS error: \u001b[1;33m20.7\u001b[0m\u001b[33m%\u001b[0m\n"
      ]
     },
     "metadata": {},
     "output_type": "display_data"
    },
    {
     "data": {
      "text/html": [
       "<pre style=\"white-space:pre;overflow-x:auto;line-height:normal;font-family:Menlo,'DejaVu Sans Mono',consolas,'Courier New',monospace\">  - Convergence: <span style=\"color: #008000; text-decoration-color: #008000; font-weight: bold\">0.0</span><span style=\"color: #008000; text-decoration-color: #008000\">% divergences</span>\n",
       "</pre>\n"
      ],
      "text/plain": [
       "  - Convergence: \u001b[1;32m0.0\u001b[0m\u001b[32m% divergences\u001b[0m\n"
      ]
     },
     "metadata": {},
     "output_type": "display_data"
    },
    {
     "data": {
      "text/html": [
       "<pre style=\"white-space:pre;overflow-x:auto;line-height:normal;font-family:Menlo,'DejaVu Sans Mono',consolas,'Courier New',monospace\">\n",
       "<span style=\"color: #000080; text-decoration-color: #000080; font-weight: bold\">Key Insight:</span>\n",
       "</pre>\n"
      ],
      "text/plain": [
       "\n",
       "\u001b[1;34mKey Insight:\u001b[0m\n"
      ]
     },
     "metadata": {},
     "output_type": "display_data"
    },
    {
     "data": {
      "text/html": [
       "<pre style=\"white-space:pre;overflow-x:auto;line-height:normal;font-family:Menlo,'DejaVu Sans Mono',consolas,'Courier New',monospace\">Prior choice affects causal estimates. Use domain knowledge, not CV, to select priors.\n",
       "</pre>\n"
      ],
      "text/plain": [
       "Prior choice affects causal estimates. Use domain knowledge, not CV, to select priors.\n"
      ]
     },
     "metadata": {},
     "output_type": "display_data"
    }
   ],
   "source": [
    "# Create summary table\n",
    "console = Console()\n",
    "table = Table(\n",
    "    title=\"Prior Specification Comparison: Overall Performance\",\n",
    "    show_header=True,\n",
    "    header_style=\"bold green\"\n",
    ")\n",
    "\n",
    "table.add_column(\"Prior Spec\", style=\"cyan\")\n",
    "table.add_column(\"ROAS MAPE %\", justify=\"right\")\n",
    "table.add_column(\"Divergences %\", justify=\"right\")\n",
    "table.add_column(\"Max R-hat\", justify=\"right\")\n",
    "table.add_column(\"Recommendation\")\n",
    "\n",
    "# Find best specification\n",
    "best_spec_id = min(results.keys(), key=lambda k: results[k][\"roas_error\"])\n",
    "\n",
    "for spec_id, result in results.items():\n",
    "    is_best = (spec_id == best_spec_id)\n",
    "    conv = result[\"convergence\"]\n",
    "    \n",
    "    # Recommendation\n",
    "    if is_best and conv[\"divergence_rate\"] < 0.01:\n",
    "        recommendation = \"[bold green]\u2713 Best[/bold green]\"\n",
    "    elif conv[\"divergence_rate\"] > 0.05 or conv[\"max_rhat\"] > 1.05:\n",
    "        recommendation = \"[red]\u26a0 Poor convergence[/red]\"\n",
    "    else:\n",
    "        recommendation = \"[yellow]Acceptable[/yellow]\"\n",
    "    \n",
    "    table.add_row(\n",
    "        result[\"name\"],\n",
    "        f\"{result['roas_error']:.1f}%\",\n",
    "        f\"{conv['divergence_rate']*100:.1f}%\",\n",
    "        f\"{conv['max_rhat']:.3f}\",\n",
    "        recommendation\n",
    "    )\n",
    "\n",
    "console.print(\"\\n\")\n",
    "console.print(table)\n",
    "\n",
    "# Print recommendation\n",
    "best_result = results[best_spec_id]\n",
    "rprint(f\"\\n[bold magenta]Recommendation:[/bold magenta]\")\n",
    "rprint(f\"The [green]{best_result['name']}[/green] specification yields:\")\n",
    "rprint(f\"  - Lowest ROAS error: [yellow]{best_result['roas_error']:.1f}%[/yellow]\")\n",
    "rprint(f\"  - Convergence: [green]{best_result['convergence']['divergence_rate']*100:.1f}% divergences[/green]\")\n",
    "rprint(f\"\\n[bold blue]Key Insight:[/bold blue]\")\n",
    "rprint(\"Prior choice affects causal estimates. Use domain knowledge, not CV, to select priors.\")"
   ]
  },
  {
   "cell_type": "markdown",
   "metadata": {},
   "source": [
    "## Visualize ROAS Estimates Across All Specifications"
   ]
  },
  {
   "cell_type": "code",
   "execution_count": 12,
   "metadata": {},
   "outputs": [
    {
     "data": {
      "text/html": [
       "<pre style=\"white-space:pre;overflow-x:auto;line-height:normal;font-family:Menlo,'DejaVu Sans Mono',consolas,'Courier New',monospace\">\n",
       "<span style=\"color: #000080; text-decoration-color: #000080; font-weight: bold\">Visualizing ROAS estimates...</span>\n",
       "</pre>\n"
      ],
      "text/plain": [
       "\n",
       "\u001b[1;34mVisualizing ROAS estimates\u001b[0m\u001b[1;34m...\u001b[0m\n"
      ]
     },
     "metadata": {},
     "output_type": "display_data"
    },
    {
     "data": {
      "image/png": "[encoded data removed]",
      "text/plain": [
       "<Figure size 1400x1000 with 4 Axes>"
      ]
     },
     "metadata": {},
     "output_type": "display_data"
    }
   ],
   "source": [
    "def plot_roas_comparison(\n",
    "    results: dict[str, dict],\n",
    "    true_roas: dict[str, float],\n",
    "    channel_columns: list[str]\n",
    ") -> None:\n",
    "    \"\"\"Plot ROAS estimates across prior specifications.\n",
    "    \n",
    "    Args:\n",
    "        results: Dictionary with results for each prior specification\n",
    "        true_roas: Ground truth ROAS values\n",
    "        channel_columns: List of channel column names\n",
    "    \"\"\"\n",
    "    fig, axes = plt.subplots(2, 2, figsize=(14, 10))\n",
    "    axes = axes.flatten()\n",
    "    \n",
    "    for idx, channel in enumerate(channel_columns):\n",
    "        ax = axes[idx]\n",
    "        channel_name = channel.split('_', 1)[1] if '_' in channel else channel\n",
    "        \n",
    "        # Extract ROAS estimates\n",
    "        spec_names = [result[\"name\"] for result in results.values()]\n",
    "        roas_values = [result[\"roas\"][channel] for result in results.values()]\n",
    "        \n",
    "        # Plot\n",
    "        x_pos = np.arange(len(spec_names))\n",
    "        bars = ax.bar(x_pos, roas_values, alpha=0.7, color='steelblue', edgecolor='black')\n",
    "        \n",
    "        # Add ground truth line\n",
    "        true_val = true_roas.get(channel_name, 0.0)\n",
    "        ax.axhline(true_val, color='red', linestyle='--', linewidth=2, label=f'True ROAS: {true_val:.2f}')\n",
    "        \n",
    "        # Color bars based on error\n",
    "        for bar, roas_val in zip(bars, roas_values):\n",
    "            error_pct = abs((roas_val - true_val) / true_val * 100) if true_val != 0 else 0\n",
    "            if error_pct < 10:\n",
    "                bar.set_color('green')\n",
    "            elif error_pct < 25:\n",
    "                bar.set_color('orange')\n",
    "            else:\n",
    "                bar.set_color('red')\n",
    "        \n",
    "        ax.set_xticks(x_pos)\n",
    "        ax.set_xticklabels(spec_names, rotation=45, ha='right', fontsize=8)\n",
    "        ax.set_ylabel('ROAS', fontsize=10)\n",
    "        ax.set_title(f'{channel_name}', fontsize=11, fontweight='bold')\n",
    "        ax.legend(fontsize=8)\n",
    "        ax.grid(True, alpha=0.3, axis='y')\n",
    "    \n",
    "    plt.suptitle('ROAS Estimates Across Prior Specifications', fontsize=14, fontweight='bold')\n",
    "    plt.tight_layout()\n",
    "    plt.show()\n",
    "\n",
    "\n",
    "# Plot comparison\n",
    "rprint(\"\\n[bold blue]Visualizing ROAS estimates...[/bold blue]\")\n",
    "plot_roas_comparison(results, true_roas, channel_columns)"
   ]
  },
  {
   "cell_type": "markdown",
   "metadata": {},
   "source": [
    "## Save Results"
   ]
  },
  {
   "cell_type": "code",
   "execution_count": 13,
   "metadata": {},
   "outputs": [
    {
     "data": {
      "text/html": [
       "<pre style=\"white-space:pre;overflow-x:auto;line-height:normal;font-family:Menlo,'DejaVu Sans Mono',consolas,'Courier New',monospace\">\n",
       "<span style=\"color: #008000; text-decoration-color: #008000; font-weight: bold\">Results saved to ../models/prior_sensitivity_analysis</span>\n",
       "</pre>\n"
      ],
      "text/plain": [
       "\n",
       "\u001b[1;32mResults saved to ..\u001b[0m\u001b[1;32m/models/\u001b[0m\u001b[1;32mprior_sensitivity_analysis\u001b[0m\n"
      ]
     },
     "metadata": {},
     "output_type": "display_data"
    },
    {
     "data": {
      "text/html": [
       "<pre style=\"white-space:pre;overflow-x:auto;line-height:normal;font-family:Menlo,'DejaVu Sans Mono',consolas,'Courier New',monospace\">  - Sensitivity metrics: ..<span style=\"color: #800080; text-decoration-color: #800080\">/models/prior_sensitivity_analysis/</span><span style=\"color: #ff00ff; text-decoration-color: #ff00ff\">prior_sensitivity_metrics.csv</span>\n",
       "</pre>\n"
      ],
      "text/plain": [
       "  - Sensitivity metrics: ..\u001b[35m/models/prior_sensitivity_analysis/\u001b[0m\u001b[95mprior_sensitivity_metrics.csv\u001b[0m\n"
      ]
     },
     "metadata": {},
     "output_type": "display_data"
    },
    {
     "data": {
      "text/html": [
       "<pre style=\"white-space:pre;overflow-x:auto;line-height:normal;font-family:Menlo,'DejaVu Sans Mono',consolas,'Courier New',monospace\">  - ROAS comparison: ..<span style=\"color: #800080; text-decoration-color: #800080\">/models/prior_sensitivity_analysis/</span><span style=\"color: #ff00ff; text-decoration-color: #ff00ff\">prior_sensitivity_roas.csv</span>\n",
       "</pre>\n"
      ],
      "text/plain": [
       "  - ROAS comparison: ..\u001b[35m/models/prior_sensitivity_analysis/\u001b[0m\u001b[95mprior_sensitivity_roas.csv\u001b[0m\n"
      ]
     },
     "metadata": {},
     "output_type": "display_data"
    },
    {
     "data": {
      "text/html": [
       "<pre style=\"white-space:pre;overflow-x:auto;line-height:normal;font-family:Menlo,'DejaVu Sans Mono',consolas,'Courier New',monospace\">  - Summary: ..<span style=\"color: #800080; text-decoration-color: #800080\">/models/prior_sensitivity_analysis/</span><span style=\"color: #ff00ff; text-decoration-color: #ff00ff\">prior_sensitivity_summary.json</span>\n",
       "</pre>\n"
      ],
      "text/plain": [
       "  - Summary: ..\u001b[35m/models/prior_sensitivity_analysis/\u001b[0m\u001b[95mprior_sensitivity_summary.json\u001b[0m\n"
      ]
     },
     "metadata": {},
     "output_type": "display_data"
    }
   ],
   "source": [
    "def save_sensitivity_results(\n",
    "    results: dict[str, dict],\n",
    "    sensitivity_df: pd.DataFrame,\n",
    "    output_dir: str | Path\n",
    ") -> None:\n",
    "    \"\"\"Save prior sensitivity analysis results.\n",
    "    \n",
    "    Args:\n",
    "        results: Dictionary with results for each prior specification\n",
    "        sensitivity_df: DataFrame with sensitivity metrics\n",
    "        output_dir: Directory to save results\n",
    "    \"\"\"\n",
    "    output_dir = Path(output_dir)\n",
    "    output_dir.mkdir(parents=True, exist_ok=True)\n",
    "    \n",
    "    # Save sensitivity metrics\n",
    "    sensitivity_path = output_dir / \"prior_sensitivity_metrics.csv\"\n",
    "    sensitivity_df.to_csv(sensitivity_path, index=False)\n",
    "    \n",
    "    # Save ROAS comparison\n",
    "    roas_data = []\n",
    "    for spec_id, result in results.items():\n",
    "        for channel, roas in result[\"roas\"].items():\n",
    "            roas_data.append({\n",
    "                \"spec_id\": spec_id,\n",
    "                \"spec_name\": result[\"name\"],\n",
    "                \"channel\": channel,\n",
    "                \"roas\": roas\n",
    "            })\n",
    "    \n",
    "    roas_df = pd.DataFrame(roas_data)\n",
    "    roas_path = output_dir / \"prior_sensitivity_roas.csv\"\n",
    "    roas_df.to_csv(roas_path, index=False)\n",
    "    \n",
    "    # Save summary\n",
    "    summary = {\n",
    "        spec_id: {\n",
    "            \"name\": result[\"name\"],\n",
    "            \"description\": result[\"description\"],\n",
    "            \"roas_error_pct\": float(result[\"roas_error\"]),\n",
    "            \"divergence_rate\": float(result[\"convergence\"][\"divergence_rate\"]),\n",
    "            \"max_rhat\": float(result[\"convergence\"][\"max_rhat\"])\n",
    "        }\n",
    "        for spec_id, result in results.items()\n",
    "    }\n",
    "    \n",
    "    summary_path = output_dir / \"prior_sensitivity_summary.json\"\n",
    "    with open(summary_path, \"w\") as f:\n",
    "        json.dump(summary, f, indent=2)\n",
    "    \n",
    "    rprint(f\"\\n[bold green]Results saved to {output_dir}[/bold green]\")\n",
    "    rprint(f\"  - Sensitivity metrics: {sensitivity_path}\")\n",
    "    rprint(f\"  - ROAS comparison: {roas_path}\")\n",
    "    rprint(f\"  - Summary: {summary_path}\")\n",
    "\n",
    "\n",
    "# Save results\n",
    "output_dir = Path(\"../models/prior_sensitivity_analysis\")\n",
    "save_sensitivity_results(results, sensitivity_df, output_dir)"
   ]
  },
  {
   "cell_type": "markdown",
   "metadata": {},
   "source": [
    "## Summary and Key Takeaways\n",
    "\n",
    "### What We Did\n",
    "\n",
    "1. **Defined multiple prior specifications** for key MMM parameters\n",
    "2. **Fitted separate models** with each specification (fixed model structure)\n",
    "3. **Compared ROAS estimates** to ground truth\n",
    "4. **Quantified sensitivity** using coefficient of variation\n",
    "5. **Visualized prior influence** on posteriors\n",
    "\n",
    "### Key Insights\n",
    "\n",
    "**For novice practitioners:**\n",
    "\n",
    "1. **Priors matter**: Different prior specifications can yield different causal estimates\n",
    "2. **Not all priors are equal**: Some parameters are more sensitive than others\n",
    "3. **Data updates beliefs**: Strong data will overwhelm weak priors (large posterior shift)\n",
    "4. **Domain knowledge crucial**: Use expert knowledge, not CV, to select priors\n",
    "5. **Report sensitivity**: Always show how results depend on prior choice\n",
    "\n",
    "### Methodological Distinction\n",
    "\n",
    "| Parameter Type | Optimization Method | Rationale |\n",
    "|---------------|---------------------|------------|\n",
    "| **Model structure** (seasonality, lag) | \u2705 Cross-validation | Structural assumptions about data patterns |\n",
    "| **Priors** (effect sizes, saturation) | \u274c Domain knowledge | Causal assumptions\u2014CV would conflate correlation with causation |\n",
    "\n",
    "### Best Practices\n",
    "\n",
    "1. **Always perform prior sensitivity analysis** before making business decisions\n",
    "2. **Document prior choices** and their justification\n",
    "3. **Use informative priors** when you have domain knowledge (e.g., previous studies)\n",
    "4. **Check posterior robustness**: If ROAS varies \u00b150% across reasonable priors, be cautious\n",
    "5. **Combine with experiments**: Use RCT data to calibrate priors when possible\n",
    "\n",
    "### Next Steps\n",
    "\n",
    "- Incorporate expert elicitation for prior specification\n",
    "- Use historical campaign data to inform priors\n",
    "- Implement prior predictive checks (do priors generate realistic data?)\n",
    "- Consider hierarchical priors for multi-geo models"
   ]
  }
 ],
 "metadata": {
  "kernelspec": {
   "display_name": "Python 3 (ipykernel)",
   "language": "python",
   "name": "python3"
  },
  "language_info": {
   "codemirror_mode": {
    "name": "ipython",
    "version": 3
   },
   "file_extension": ".py",
   "mimetype": "text/x-python",
   "name": "python",
   "nbconvert_exporter": "python",
   "pygments_lexer": "ipython3",
   "version": "3.12.9"
  }
 },
 "nbformat": 4,
 "nbformat_minor": 4
}